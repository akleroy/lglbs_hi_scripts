{
 "cells": [
  {
   "cell_type": "code",
   "execution_count": 1,
   "id": "6792cb5c-9fd0-4c54-aa75-41a6319b4a0c",
   "metadata": {},
   "outputs": [],
   "source": [
    "%matplotlib inline"
   ]
  },
  {
   "cell_type": "code",
   "execution_count": 2,
   "id": "852b61f1-6697-42f6-93c6-f08df4b2d4db",
   "metadata": {},
   "outputs": [],
   "source": [
    "import astropy.units as u\n",
    "from astropy.convolution import Gaussian1DKernel\n",
    "\n",
    "from spectral_cube import SpectralCube\n",
    "from radio_beam import Beam\n",
    "\n",
    "from regions import Regions\n",
    "\n"
   ]
  },
  {
   "cell_type": "code",
   "execution_count": 3,
   "id": "610a3733-7d3e-4f60-8001-1f3711328933",
   "metadata": {},
   "outputs": [],
   "source": [
    "from cube_analysis.feather_cubes import feather_compare_cube\n",
    "\n",
    "from cube_analysis.register_cubes import cube_registration\n"
   ]
  },
  {
   "cell_type": "code",
   "execution_count": 4,
   "id": "8ee6aff1-ffed-45c1-965c-194d6ed80969",
   "metadata": {},
   "outputs": [],
   "source": [
    "from pathlib import Path\n",
    "\n",
    "sd_data_path = Path(\"/Users/ekoch/storage/LGLBS/feathering_tests/\")\n",
    "vla_data_path = Path(\"/Users/ekoch/storage/LGLBS/C+D_HI_2023/\")\n"
   ]
  },
  {
   "cell_type": "code",
   "execution_count": 22,
   "id": "89065e56-0928-41e8-be69-79ab9b41c207",
   "metadata": {},
   "outputs": [],
   "source": [
    "all_offsets = {}"
   ]
  },
  {
   "cell_type": "markdown",
   "id": "0e0c2d2e-c2b9-490e-98b8-50815059ceeb",
   "metadata": {},
   "source": [
    "## NGC6822"
   ]
  },
  {
   "cell_type": "code",
   "execution_count": 5,
   "id": "4e23db26-92b2-4022-bf11-eccbbf97629f",
   "metadata": {},
   "outputs": [],
   "source": [
    "vla_cube = SpectralCube.read(vla_data_path / \"ngc6822_C+D_hilores.fits\")\n",
    "vla_cube.allow_huge_operations = True"
   ]
  },
  {
   "cell_type": "code",
   "execution_count": 6,
   "id": "9106385c-893b-450b-8c11-a7108bd13185",
   "metadata": {},
   "outputs": [],
   "source": [
    "output_filename = \"ngc6822_gbt_matched_to_C+D_hilores.fits\"\n",
    "gbt_reproj = SpectralCube.read(sd_data_path / output_filename)\n",
    "gbt_reproj.allow_huge_operations = True\n",
    "\n",
    "# Multiply by the pb cut-off\n",
    "gbt_reproj = gbt_reproj.with_mask(np.isfinite(vla_cube))"
   ]
  },
  {
   "cell_type": "code",
   "execution_count": 7,
   "id": "805b3382-a388-4c7e-ac1c-1863432c5633",
   "metadata": {},
   "outputs": [
    {
     "name": "stderr",
     "output_type": "stream",
     "text": [
      "/Users/ekoch/ownCloud/code_development/image_registration/image_registration/register_images.py:51: RuntimeWarning: Mean of empty slice.\n",
      "  im2 = im2 - (im2[im2==im2].mean())\n"
     ]
    }
   ],
   "source": [
    "all_offsets['ngc6822'] = cube_registration(gbt_reproj, vla_cube)\n",
    "np.save(sd_data_path / \"ngc6822_gbt_to_vla_spatial_offsets.npy\", all_offsets['ngc6822'])"
   ]
  },
  {
   "cell_type": "code",
   "execution_count": 13,
   "id": "2d11109f-8b5e-4a58-ab94-64e1599a61ae",
   "metadata": {},
   "outputs": [],
   "source": [
    "# np.save(sd_data_path / \"ngc6822_gbt_to_vla_spatial_offsets.npy\", offsets)"
   ]
  },
  {
   "cell_type": "markdown",
   "id": "d1b07b06-1b21-44c2-9b2c-b40589611bbd",
   "metadata": {},
   "source": [
    "## IC1613"
   ]
  },
  {
   "cell_type": "code",
   "execution_count": 31,
   "id": "3e8876a4-c187-4c68-8035-342a0fcca830",
   "metadata": {},
   "outputs": [],
   "source": [
    "this_gal = 'ic1613'"
   ]
  },
  {
   "cell_type": "code",
   "execution_count": 24,
   "id": "46c0ca9d-bc59-4da3-8066-581ea39cead7",
   "metadata": {},
   "outputs": [],
   "source": [
    "vla_cube = SpectralCube.read(vla_data_path / f\"{this_gal}_C+D_hilores.fits\")\n",
    "vla_cube.allow_huge_operations = True"
   ]
  },
  {
   "cell_type": "code",
   "execution_count": 25,
   "id": "0a5bea46-c752-4dd8-9d78-c09d7031c0cc",
   "metadata": {},
   "outputs": [],
   "source": [
    "output_filename = f\"{this_gal}_gbt_matched_to_C+D_hilores.fits\"\n",
    "gbt_reproj = SpectralCube.read(sd_data_path / output_filename)\n",
    "gbt_reproj.allow_huge_operations = True\n",
    "\n",
    "# Multiply by the pb cut-off\n",
    "gbt_reproj = gbt_reproj.with_mask(np.isfinite(vla_cube))"
   ]
  },
  {
   "cell_type": "code",
   "execution_count": 26,
   "id": "627218f9-8259-4109-9c8e-ce3e2391789f",
   "metadata": {},
   "outputs": [
    {
     "name": "stderr",
     "output_type": "stream",
     "text": [
      "/Users/ekoch/ownCloud/code_development/image_registration/image_registration/register_images.py:51: RuntimeWarning: Mean of empty slice.\n",
      "  im2 = im2 - (im2[im2==im2].mean())\n"
     ]
    }
   ],
   "source": [
    "all_offsets[this_gal] = cube_registration(gbt_reproj, vla_cube)\n",
    "np.save(sd_data_path / f\"{this_gal}_gbt_to_vla_spatial_offsets.npy\", all_offsets[this_gal])"
   ]
  },
  {
   "cell_type": "code",
   "execution_count": 43,
   "id": "9bd907ff-288a-4440-b41b-50c593022ecd",
   "metadata": {},
   "outputs": [
    {
     "data": {
      "text/plain": [
       "<matplotlib.collections.PathCollection at 0x7fd128740d00>"
      ]
     },
     "execution_count": 43,
     "metadata": {},
     "output_type": "execute_result"
    },
    {
     "data": {
      "image/png": "[encoded data removed]",
      "text/plain": [
       "<Figure size 640x480 with 1 Axes>"
      ]
     },
     "metadata": {},
     "output_type": "display_data"
    }
   ],
   "source": [
    "# plt.plot(all_offsets[this_gal][:, 0], all_offsets[this_gal][:, 1], '--')\n",
    "\n",
    "plt.scatter(all_offsets[this_gal][21:27, 0], all_offsets[this_gal][21:27, 1], c=np.arange(21,27),\n",
    "            cmap='inferno', linestyle='--', marker='D')"
   ]
  },
  {
   "cell_type": "markdown",
   "id": "244ffc9a-65d9-4733-b1fc-40b6523b3215",
   "metadata": {},
   "source": [
    "## IC10"
   ]
  },
  {
   "cell_type": "code",
   "execution_count": 27,
   "id": "5ae50222-063c-4d93-a51e-52e560dcc15f",
   "metadata": {},
   "outputs": [],
   "source": [
    "this_gal = 'ic10'"
   ]
  },
  {
   "cell_type": "code",
   "execution_count": 28,
   "id": "2503a090-cf7f-4de3-8bab-57fcdc75270a",
   "metadata": {},
   "outputs": [
    {
     "name": "stderr",
     "output_type": "stream",
     "text": [
      "/Users/ekoch/ownCloud/code_development/image_registration/image_registration/register_images.py:51: RuntimeWarning: Mean of empty slice.\n",
      "  im2 = im2 - (im2[im2==im2].mean())\n"
     ]
    }
   ],
   "source": [
    "vla_cube = SpectralCube.read(vla_data_path / f\"{this_gal}_C+D_hilores.fits\")\n",
    "vla_cube.allow_huge_operations = True\n",
    "\n",
    "output_filename = f\"{this_gal}_gbt_matched_to_C+D_hilores.fits\"\n",
    "gbt_reproj = SpectralCube.read(sd_data_path / output_filename)\n",
    "gbt_reproj.allow_huge_operations = True\n",
    "\n",
    "# Multiply by the pb cut-off\n",
    "gbt_reproj = gbt_reproj.with_mask(np.isfinite(vla_cube))\n",
    "\n",
    "all_offsets[this_gal] = cube_registration(gbt_reproj, vla_cube)\n",
    "np.save(sd_data_path / f\"{this_gal}_gbt_to_vla_spatial_offsets.npy\", all_offsets[this_gal])"
   ]
  },
  {
   "cell_type": "markdown",
   "id": "3e6ed0c0-6f44-4999-aebe-bd400b7db2c4",
   "metadata": {},
   "source": [
    "## WLM"
   ]
  },
  {
   "cell_type": "code",
   "execution_count": 29,
   "id": "79b7e63c-531d-47f9-ba17-8fc77e28c1a8",
   "metadata": {},
   "outputs": [],
   "source": [
    "this_gal = 'wlm'"
   ]
  },
  {
   "cell_type": "code",
   "execution_count": 30,
   "id": "ce4f2047-c29d-4e54-9aec-d32a342be20a",
   "metadata": {},
   "outputs": [],
   "source": [
    "vla_cube = SpectralCube.read(vla_data_path / f\"{this_gal}_C+D_hilores.fits\")\n",
    "vla_cube.allow_huge_operations = True\n",
    "\n",
    "output_filename = f\"{this_gal}_gbt_matched_to_C+D_hilores.fits\"\n",
    "gbt_reproj = SpectralCube.read(sd_data_path / output_filename)\n",
    "gbt_reproj.allow_huge_operations = True\n",
    "\n",
    "# Multiply by the pb cut-off\n",
    "gbt_reproj = gbt_reproj.with_mask(np.isfinite(vla_cube))\n",
    "\n",
    "all_offsets[this_gal] = cube_registration(gbt_reproj, vla_cube)\n",
    "np.save(sd_data_path / f\"{this_gal}_gbt_to_vla_spatial_offsets.npy\", all_offsets[this_gal])"
   ]
  },
  {
   "cell_type": "code",
   "execution_count": null,
   "id": "9a2d8dbd-69e2-428e-8d03-f194bd1ca143",
   "metadata": {},
   "outputs": [],
   "source": []
  },
  {
   "cell_type": "code",
   "execution_count": null,
   "id": "3a8c2c2b-148d-4fd9-b229-c7e453be4bcd",
   "metadata": {},
   "outputs": [],
   "source": []
  },
  {
   "cell_type": "code",
   "execution_count": null,
   "id": "91eda1f5-a538-4f7d-bbaf-0ee6550e1593",
   "metadata": {},
   "outputs": [],
   "source": []
  }
 ],
 "metadata": {
  "kernelspec": {
   "display_name": "Python 3 (ipykernel)",
   "language": "python",
   "name": "python3"
  },
  "language_info": {
   "codemirror_mode": {
    "name": "ipython",
    "version": 3
   },
   "file_extension": ".py",
   "mimetype": "text/x-python",
   "name": "python",
   "nbconvert_exporter": "python",
   "pygments_lexer": "ipython3",
   "version": "3.8.10"
  }
 },
 "nbformat": 4,
 "nbformat_minor": 5
}
