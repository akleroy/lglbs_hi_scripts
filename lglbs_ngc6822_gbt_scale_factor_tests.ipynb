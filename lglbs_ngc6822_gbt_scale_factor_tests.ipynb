{
 "cells": [
  {
   "cell_type": "code",
   "execution_count": 1,
   "id": "930617a2-fbd7-40fa-8f9c-ea5ca9634cda",
   "metadata": {},
   "outputs": [],
   "source": [
    "%matplotlib inline"
   ]
  },
  {
   "cell_type": "code",
   "execution_count": 2,
   "id": "0c1e2158-1d9d-482d-9260-8e80327e766d",
   "metadata": {},
   "outputs": [],
   "source": [
    "import astropy.units as u\n",
    "from astropy.convolution import Gaussian1DKernel\n",
    "\n",
    "from spectral_cube import SpectralCube\n",
    "from radio_beam import Beam\n",
    "\n",
    "from regions import Regions\n"
   ]
  },
  {
   "cell_type": "code",
   "execution_count": 3,
   "id": "f57ae4da-995d-4afd-a0e9-750ac52099b6",
   "metadata": {},
   "outputs": [],
   "source": [
    "from pathlib import Path\n",
    "\n",
    "sd_data_path = Path(\"/Users/ekoch/storage/LGLBS/feathering_tests/\")\n",
    "vla_data_path = Path(\"/Users/ekoch/storage/LGLBS/C+D_HI_2023/\")\n"
   ]
  },
  {
   "cell_type": "code",
   "execution_count": 4,
   "id": "54301f54-cdd4-4176-ba86-7ea8d35c188b",
   "metadata": {},
   "outputs": [],
   "source": [
    "from uvcombine.scale_factor import find_scale_factor\n",
    "\n",
    "from cube_analysis.feather_cubes import feather_compare_cube"
   ]
  },
  {
   "cell_type": "code",
   "execution_count": null,
   "id": "dc28bcb8",
   "metadata": {},
   "outputs": [],
   "source": []
  },
  {
   "cell_type": "code",
   "execution_count": 27,
   "id": "26afb20f-e8ec-4afb-bacf-8b147df55967",
   "metadata": {},
   "outputs": [],
   "source": [
    "from cube_analysis.feather_cubes import feather_compare_cube\n",
    "\n",
    "from cube_analysis.reprojection import reproject_cube\n",
    "\n",
    "from sklearn.mixture import GaussianMixture\n",
    "\n",
    "from uvcombine.scale_factor import find_scale_factor\n",
    "\n",
    "def scalefactor_from_mixturemodel(ratios, ncomp=2, show_plot=False):\n",
    "\n",
    "    stacked_ratios = np.hstack(ratios)\n",
    "    stacked_ratios = stacked_ratios[np.isfinite(stacked_ratios)]\n",
    "    log_ratios = np.log(stacked_ratios).reshape(-1, 1)\n",
    "\n",
    "    model = GaussianMixture(ncomp).fit(log_ratios)\n",
    "\n",
    "    sc_factor = np.exp(model.means_)\n",
    "    sc_err = sc_factor * np.sqrt(np.diagonal(model.covariances_))\n",
    "\n",
    "    sc_factor = sc_factor.squeeze()\n",
    "    sc_err = sc_err.squeeze()\n",
    "\n",
    "    if show_plot:\n",
    "        x = np.linspace(-5, 5, 1000)\n",
    "        logprob = model.score_samples(x.reshape(-1, 1))\n",
    "        responsibilities = model.predict_proba(x.reshape(-1, 1))\n",
    "        pdf = np.exp(logprob)\n",
    "        pdf_individual = responsibilities * pdf[:, np.newaxis]\n",
    "\n",
    "        fig = plt.figure()\n",
    "        ax = fig.add_subplot(111)\n",
    "        _ = ax.hist(log_ratios, bins=50, density=True, histtype='stepfilled', alpha=0.4)\n",
    "\n",
    "        ax.plot(x, pdf, '-k')\n",
    "        ax.plot(x, pdf_individual, '--k')\n",
    "        ax.text(0.04, 0.96, \"Best-fit Mixture\",\n",
    "                ha='left', va='top', transform=ax.transAxes)\n",
    "\n",
    "        ax.set_xlabel('log Ratio')\n",
    "        ax.set_ylabel('PDF')\n",
    "\n",
    "\n",
    "    return sc_factor, sc_err, model\n"
   ]
  },
  {
   "cell_type": "code",
   "execution_count": 21,
   "id": "be0504f3-1aed-44ba-a831-4599ed3a0cef",
   "metadata": {},
   "outputs": [
    {
     "name": "stderr",
     "output_type": "stream",
     "text": [
      "WARNING: StokesWarning: Cube is a Stokes cube, returning spectral cube for I component [spectral_cube.io.core]\n",
      "WARNING: StokesWarning: Cube is a Stokes cube, returning spectral cube for I component [spectral_cube.io.core]\n"
     ]
    }
   ],
   "source": [
    "vla_cube = SpectralCube.read(vla_data_path / \"ngc6822_C+D_hilores.fits\")\n",
    "vla_cube.allow_huge_operations = True\n",
    "\n",
    "gbt_old_cube = SpectralCube.read(sd_data_path / \"N6822_GBT.FITS\")\n",
    "# gbt_cube = gbt_cube.with_beam(Beam(8.7*u.arcmin))\n",
    "\n",
    "# Nick's reprocessed and gridded GBT cube.\n",
    "gbt_cube = SpectralCube.read(sd_data_path / \"NGC6822-center_cube.fits\")\n",
    "\n",
    "# Use the proper beam model size, not the one in the header!\n",
    "gbt_beam_model = Beam(area=3.69e5 *u.arcsec**2)\n",
    "gbt_beam_model.major.to(u.arcmin)\n",
    "\n",
    "gbt_cube = gbt_cube.with_beam(gbt_beam_model)\n",
    "gbt_cube = gbt_cube.with_spectral_unit(u.km / u.s, velocity_convention='radio')\n"
   ]
  },
  {
   "cell_type": "code",
   "execution_count": 22,
   "id": "dbebbaef-66d3-4254-a0ad-bce99fdd1dd8",
   "metadata": {},
   "outputs": [
    {
     "name": "stdout",
     "output_type": "stream",
     "text": [
      "9.511077544767847 arcmin\n",
      "8.7054 arcmin\n"
     ]
    }
   ],
   "source": [
    "print(gbt_cube.beam.major.to(u.arcmin))\n",
    "print(gbt_old_cube.beam.major.to(u.arcmin))"
   ]
  },
  {
   "cell_type": "code",
   "execution_count": 23,
   "id": "0c5d19e6-35f7-4b76-9ea0-2726b8848d94",
   "metadata": {},
   "outputs": [
    {
     "name": "stdout",
     "output_type": "stream",
     "text": [
      "0.530633586959852\n"
     ]
    }
   ],
   "source": [
    "gbt_cube = gbt_cube.with_spectral_unit(u.m / u.s, velocity_convention='radio')\n",
    "\n",
    "fwhm_factor = np.sqrt(8*np.log(2))\n",
    "current_resolution = np.abs(np.diff(gbt_cube.spectral_axis)[0]).to(u.km / u.s)\n",
    "target_resolution = np.abs(np.diff(vla_cube.spectral_axis)[0]).to(u.km / u.s)\n",
    "\n",
    "gaussian_width = ((target_resolution**2 - current_resolution**2)**0.5 /\n",
    "                  current_resolution / fwhm_factor)\n",
    "print(gaussian_width)\n",
    "kernel = Gaussian1DKernel(gaussian_width.value)\n",
    "gbt_cube_specsmooth = gbt_cube.spectral_smooth(kernel)\n",
    "\n",
    "\n",
    "gbt_cube_specinterp = gbt_cube_specsmooth.spectral_interpolate(vla_cube.spectral_axis)"
   ]
  },
  {
   "cell_type": "code",
   "execution_count": 24,
   "id": "e8bce325-8837-442d-acef-1391eee11817",
   "metadata": {},
   "outputs": [
    {
     "name": "stderr",
     "output_type": "stream",
     "text": [
      "WARNING: PossiblySlowWarning: This function (<function BaseSpectralCube.to at 0x7ff4c11ce280>) requires loading the entire cube into memory and may therefore be slow. [spectral_cube.utils]\n"
     ]
    }
   ],
   "source": [
    "gbt_cube_specinterp = gbt_cube_specinterp.to(u.Jy / u.beam)"
   ]
  },
  {
   "cell_type": "code",
   "execution_count": 41,
   "id": "5308d2e3-d475-429b-8090-25cf98873003",
   "metadata": {},
   "outputs": [
    {
     "name": "stdout",
     "output_type": "stream",
     "text": [
      "/Users/ekoch/storage/LGLBS/feathering_tests/NGC6822-center_cube_specmatch_C+D_hilores.fits\n"
     ]
    }
   ],
   "source": [
    "output_filename = \"NGC6822-center_cube_specmatch_C+D_hilores.fits\"\n",
    "\n",
    "print(sd_data_path / output_filename)\n",
    "\n",
    "# try:\n",
    "#     (sd_data_path / output_filename).unlink()\n",
    "# except FileNotFoundError:\n",
    "#     pass\n",
    "\n",
    "gbt_cube_specinterp.write(sd_data_path / output_filename, overwrite=True)"
   ]
  },
  {
   "cell_type": "code",
   "execution_count": null,
   "id": "90aa0bb2-24cc-44a7-bcdd-8e6a7b2a5bae",
   "metadata": {},
   "outputs": [],
   "source": [
    "# output_filename = \"NGC6822-center_cube_matched_to_C+D_hilores.fits\"\n",
    "\n",
    "# try:\n",
    "#     (sd_data_path / output_filename).unlink()\n",
    "# except FileNotFoundError:\n",
    "#     pass\n",
    "\n",
    "# reproject_cube(gbt_cube_specinterp.hdu, vla_cube.hdu,\n",
    "#                output_filename,\n",
    "#                output_folder=sd_data_path,\n",
    "#                reproject_type='spatial',\n",
    "#                reproject_alg='adaptive')"
   ]
  },
  {
   "cell_type": "code",
   "execution_count": 25,
   "id": "74cdd776-2b37-4388-b03d-5b2614e6cf14",
   "metadata": {},
   "outputs": [],
   "source": [
    "hi_freq = 1.42040575 * u.GHz\n",
    "las = (hi_freq.to(u.cm, u.spectral()) / (40 * u.m)).to(u.arcsec, u.dimensionless_angles())"
   ]
  },
  {
   "cell_type": "code",
   "execution_count": 28,
   "id": "dc5c3402-7514-46b0-ab15-c79c8f659a06",
   "metadata": {
    "collapsed": true,
    "jupyter": {
     "outputs_hidden": true
    },
    "tags": []
   },
   "outputs": [
    {
     "name": "stderr",
     "output_type": "stream",
     "text": [
      "WARNING: PossiblySlowWarning: This function (<function BaseSpectralCube.to at 0x7ff4c11ce280>) requires loading the entire cube into memory and may therefore be slow. [spectral_cube.utils]\n"
     ]
    },
    {
     "name": "stdout",
     "output_type": "stream",
     "text": [
      "INFO: On chunk 1 of 1 [cube_analysis.feather_cubes]\n"
     ]
    },
    {
     "name": "stderr",
     "output_type": "stream",
     "text": [
      "WARNING: WCSWarning: WCS1 is missing card PV2_1 [spectral_cube.wcs_utils]\n",
      "WARNING: WCSWarning: WCS1 is missing card PV2_2 [spectral_cube.wcs_utils]\n",
      "WARNING: WCSWarning: WCS1 is missing card TIMESYS [spectral_cube.wcs_utils]\n",
      "/Users/ekoch/anaconda3/lib/python3.8/site-packages/astropy/units/quantity.py:673: RuntimeWarning: divide by zero encountered in true_divide\n",
      "  result = super().__array_ufunc__(function, method, *arrays, **kwargs)\n",
      "/Users/ekoch/Library/CloudStorage/Dropbox/code_development/CubeAnalysis/cube_analysis/progressbar.py:320: RuntimeWarning: divide by zero encountered in long_scalars\n",
      "  if (i % chunksize) == 0:\n",
      "WARNING: WCSWarning: WCS1 is missing card PV2_1 [spectral_cube.wcs_utils]\n",
      "WARNING: WCSWarning: WCS1 is missing card PV2_2 [spectral_cube.wcs_utils]\n",
      "WARNING: WCSWarning: WCS1 is missing card TIMESYS [spectral_cube.wcs_utils]\n",
      "/Users/ekoch/anaconda3/lib/python3.8/site-packages/astropy/units/quantity.py:673: RuntimeWarning: divide by zero encountered in true_divide\n",
      "  result = super().__array_ufunc__(function, method, *arrays, **kwargs)\n",
      "/Users/ekoch/Library/CloudStorage/Dropbox/code_development/CubeAnalysis/cube_analysis/progressbar.py:320: RuntimeWarning: divide by zero encountered in long_scalars\n",
      "  if (i % chunksize) == 0:\n",
      "WARNING: WCSWarning: WCS1 is missing card PV2_1 [spectral_cube.wcs_utils]\n",
      "WARNING: WCSWarning: WCS1 is missing card PV2_2 [spectral_cube.wcs_utils]\n",
      "WARNING: WCSWarning: WCS1 is missing card TIMESYS [spectral_cube.wcs_utils]\n",
      "/Users/ekoch/anaconda3/lib/python3.8/site-packages/astropy/units/quantity.py:673: RuntimeWarning: divide by zero encountered in true_divide\n",
      "  result = super().__array_ufunc__(function, method, *arrays, **kwargs)\n",
      "/Users/ekoch/Library/CloudStorage/Dropbox/code_development/CubeAnalysis/cube_analysis/progressbar.py:320: RuntimeWarning: divide by zero encountered in long_scalars\n",
      "  if (i % chunksize) == 0:\n",
      "WARNING: WCSWarning: WCS1 is missing card PV2_1 [spectral_cube.wcs_utils]\n",
      "WARNING: WCSWarning: WCS1 is missing card PV2_2 [spectral_cube.wcs_utils]\n",
      "WARNING: WCSWarning: WCS1 is missing card TIMESYS [spectral_cube.wcs_utils]\n",
      "/Users/ekoch/anaconda3/lib/python3.8/site-packages/astropy/units/quantity.py:673: RuntimeWarning: divide by zero encountered in true_divide\n",
      "  result = super().__array_ufunc__(function, method, *arrays, **kwargs)\n",
      "/Users/ekoch/Library/CloudStorage/Dropbox/code_development/CubeAnalysis/cube_analysis/progressbar.py:320: RuntimeWarning: divide by zero encountered in long_scalars\n",
      "  if (i % chunksize) == 0:\n",
      "WARNING: WCSWarning: WCS1 is missing card PV2_1 [spectral_cube.wcs_utils]\n",
      "WARNING: WCSWarning: WCS1 is missing card PV2_2 [spectral_cube.wcs_utils]\n",
      "WARNING: WCSWarning: WCS1 is missing card TIMESYS [spectral_cube.wcs_utils]\n",
      "/Users/ekoch/anaconda3/lib/python3.8/site-packages/astropy/units/quantity.py:673: RuntimeWarning: divide by zero encountered in true_divide\n",
      "  result = super().__array_ufunc__(function, method, *arrays, **kwargs)\n",
      "/Users/ekoch/Library/CloudStorage/Dropbox/code_development/CubeAnalysis/cube_analysis/progressbar.py:320: RuntimeWarning: divide by zero encountered in long_scalars\n",
      "  if (i % chunksize) == 0:\n",
      "WARNING: WCSWarning: WCS1 is missing card PV2_1 [spectral_cube.wcs_utils]\n",
      "WARNING: WCSWarning: WCS1 is missing card PV2_2 [spectral_cube.wcs_utils]\n",
      "WARNING: WCSWarning: WCS1 is missing card TIMESYS [spectral_cube.wcs_utils]\n",
      "/Users/ekoch/anaconda3/lib/python3.8/site-packages/astropy/units/quantity.py:673: RuntimeWarning: divide by zero encountered in true_divide\n",
      "  result = super().__array_ufunc__(function, method, *arrays, **kwargs)\n",
      "/Users/ekoch/Library/CloudStorage/Dropbox/code_development/CubeAnalysis/cube_analysis/progressbar.py:320: RuntimeWarning: divide by zero encountered in long_scalars\n",
      "  if (i % chunksize) == 0:\n",
      "WARNING: WCSWarning: WCS1 is missing card PV2_1 [spectral_cube.wcs_utils]\n",
      "WARNING: WCSWarning: WCS1 is missing card PV2_2 [spectral_cube.wcs_utils]\n",
      "WARNING: WCSWarning: WCS1 is missing card TIMESYS [spectral_cube.wcs_utils]\n",
      "/Users/ekoch/anaconda3/lib/python3.8/site-packages/astropy/units/quantity.py:673: RuntimeWarning: divide by zero encountered in true_divide\n",
      "  result = super().__array_ufunc__(function, method, *arrays, **kwargs)\n",
      "/Users/ekoch/Library/CloudStorage/Dropbox/code_development/CubeAnalysis/cube_analysis/progressbar.py:320: RuntimeWarning: divide by zero encountered in long_scalars\n",
      "  if (i % chunksize) == 0:\n",
      "WARNING: WCSWarning: WCS1 is missing card PV2_1 [spectral_cube.wcs_utils]\n",
      "WARNING: WCSWarning: WCS1 is missing card PV2_2 [spectral_cube.wcs_utils]\n",
      "WARNING: WCSWarning: WCS1 is missing card TIMESYS [spectral_cube.wcs_utils]\n",
      "/Users/ekoch/anaconda3/lib/python3.8/site-packages/astropy/units/quantity.py:673: RuntimeWarning: divide by zero encountered in true_divide\n",
      "  result = super().__array_ufunc__(function, method, *arrays, **kwargs)\n",
      "/Users/ekoch/Library/CloudStorage/Dropbox/code_development/CubeAnalysis/cube_analysis/progressbar.py:320: RuntimeWarning: divide by zero encountered in long_scalars\n",
      "  if (i % chunksize) == 0:\n",
      "WARNING: WCSWarning: WCS1 is missing card PV2_1 [spectral_cube.wcs_utils]\n",
      "WARNING: WCSWarning: WCS1 is missing card PV2_2 [spectral_cube.wcs_utils]\n",
      "WARNING: WCSWarning: WCS1 is missing card TIMESYS [spectral_cube.wcs_utils]\n",
      "/Users/ekoch/anaconda3/lib/python3.8/site-packages/astropy/units/quantity.py:673: RuntimeWarning: divide by zero encountered in true_divide\n",
      "  result = super().__array_ufunc__(function, method, *arrays, **kwargs)\n",
      "/Users/ekoch/Library/CloudStorage/Dropbox/code_development/CubeAnalysis/cube_analysis/progressbar.py:320: RuntimeWarning: divide by zero encountered in long_scalars\n",
      "  if (i % chunksize) == 0:\n",
      "WARNING: WCSWarning: WCS1 is missing card PV2_1 [spectral_cube.wcs_utils]\n",
      "WARNING: WCSWarning: WCS1 is missing card PV2_2 [spectral_cube.wcs_utils]\n",
      "WARNING: WCSWarning: WCS1 is missing card TIMESYS [spectral_cube.wcs_utils]\n",
      "/Users/ekoch/anaconda3/lib/python3.8/site-packages/astropy/units/quantity.py:673: RuntimeWarning: divide by zero encountered in true_divide\n",
      "  result = super().__array_ufunc__(function, method, *arrays, **kwargs)\n",
      "/Users/ekoch/Library/CloudStorage/Dropbox/code_development/CubeAnalysis/cube_analysis/progressbar.py:320: RuntimeWarning: divide by zero encountered in long_scalars\n",
      "  if (i % chunksize) == 0:\n",
      "WARNING: WCSWarning: WCS1 is missing card PV2_1 [spectral_cube.wcs_utils]\n",
      "WARNING: WCSWarning: WCS1 is missing card PV2_2 [spectral_cube.wcs_utils]\n",
      "WARNING: WCSWarning: WCS1 is missing card TIMESYS [spectral_cube.wcs_utils]\n",
      "/Users/ekoch/anaconda3/lib/python3.8/site-packages/astropy/units/quantity.py:673: RuntimeWarning: divide by zero encountered in true_divide\n",
      "  result = super().__array_ufunc__(function, method, *arrays, **kwargs)\n",
      "/Users/ekoch/Library/CloudStorage/Dropbox/code_development/CubeAnalysis/cube_analysis/progressbar.py:320: RuntimeWarning: divide by zero encountered in long_scalars\n",
      "  if (i % chunksize) == 0:\n",
      "WARNING: WCSWarning: WCS1 is missing card PV2_1 [spectral_cube.wcs_utils]\n",
      "WARNING: WCSWarning: WCS1 is missing card PV2_2 [spectral_cube.wcs_utils]\n",
      "WARNING: WCSWarning: WCS1 is missing card TIMESYS [spectral_cube.wcs_utils]\n",
      "/Users/ekoch/anaconda3/lib/python3.8/site-packages/astropy/units/quantity.py:673: RuntimeWarning: divide by zero encountered in true_divide\n",
      "  result = super().__array_ufunc__(function, method, *arrays, **kwargs)\n",
      "/Users/ekoch/Library/CloudStorage/Dropbox/code_development/CubeAnalysis/cube_analysis/progressbar.py:320: RuntimeWarning: divide by zero encountered in long_scalars\n",
      "  if (i % chunksize) == 0:\n",
      "WARNING: WCSWarning: WCS1 is missing card PV2_1 [spectral_cube.wcs_utils]\n",
      "WARNING: WCSWarning: WCS1 is missing card PV2_2 [spectral_cube.wcs_utils]\n",
      "WARNING: WCSWarning: WCS1 is missing card TIMESYS [spectral_cube.wcs_utils]\n",
      "/Users/ekoch/anaconda3/lib/python3.8/site-packages/astropy/units/quantity.py:673: RuntimeWarning: divide by zero encountered in true_divide\n",
      "  result = super().__array_ufunc__(function, method, *arrays, **kwargs)\n",
      "/Users/ekoch/Library/CloudStorage/Dropbox/code_development/CubeAnalysis/cube_analysis/progressbar.py:320: RuntimeWarning: divide by zero encountered in long_scalars\n",
      "  if (i % chunksize) == 0:\n",
      "WARNING: WCSWarning: WCS1 is missing card PV2_1 [spectral_cube.wcs_utils]\n",
      "WARNING: WCSWarning: WCS1 is missing card PV2_2 [spectral_cube.wcs_utils]\n",
      "WARNING: WCSWarning: WCS1 is missing card TIMESYS [spectral_cube.wcs_utils]\n",
      "/Users/ekoch/anaconda3/lib/python3.8/site-packages/astropy/units/quantity.py:673: RuntimeWarning: divide by zero encountered in true_divide\n",
      "  result = super().__array_ufunc__(function, method, *arrays, **kwargs)\n",
      "/Users/ekoch/Library/CloudStorage/Dropbox/code_development/CubeAnalysis/cube_analysis/progressbar.py:320: RuntimeWarning: divide by zero encountered in long_scalars\n",
      "  if (i % chunksize) == 0:\n",
      "WARNING: WCSWarning: WCS1 is missing card PV2_1 [spectral_cube.wcs_utils]\n",
      "WARNING: WCSWarning: WCS1 is missing card PV2_2 [spectral_cube.wcs_utils]\n",
      "WARNING: WCSWarning: WCS1 is missing card TIMESYS [spectral_cube.wcs_utils]\n",
      "/Users/ekoch/anaconda3/lib/python3.8/site-packages/astropy/units/quantity.py:673: RuntimeWarning: divide by zero encountered in true_divide\n",
      "  result = super().__array_ufunc__(function, method, *arrays, **kwargs)\n",
      "/Users/ekoch/Library/CloudStorage/Dropbox/code_development/CubeAnalysis/cube_analysis/progressbar.py:320: RuntimeWarning: divide by zero encountered in long_scalars\n",
      "  if (i % chunksize) == 0:\n",
      "WARNING: WCSWarning: WCS1 is missing card PV2_1 [spectral_cube.wcs_utils]\n",
      "WARNING: WCSWarning: WCS1 is missing card PV2_2 [spectral_cube.wcs_utils]\n",
      "WARNING: WCSWarning: WCS1 is missing card TIMESYS [spectral_cube.wcs_utils]\n",
      "/Users/ekoch/anaconda3/lib/python3.8/site-packages/astropy/units/quantity.py:673: RuntimeWarning: divide by zero encountered in true_divide\n",
      "  result = super().__array_ufunc__(function, method, *arrays, **kwargs)\n",
      "/Users/ekoch/Library/CloudStorage/Dropbox/code_development/CubeAnalysis/cube_analysis/progressbar.py:320: RuntimeWarning: divide by zero encountered in long_scalars\n",
      "  if (i % chunksize) == 0:\n",
      "WARNING: WCSWarning: WCS1 is missing card PV2_1 [spectral_cube.wcs_utils]\n",
      "WARNING: WCSWarning: WCS1 is missing card PV2_2 [spectral_cube.wcs_utils]\n",
      "WARNING: WCSWarning: WCS1 is missing card TIMESYS [spectral_cube.wcs_utils]\n",
      "/Users/ekoch/anaconda3/lib/python3.8/site-packages/astropy/units/quantity.py:673: RuntimeWarning: divide by zero encountered in true_divide\n",
      "  result = super().__array_ufunc__(function, method, *arrays, **kwargs)\n",
      "/Users/ekoch/Library/CloudStorage/Dropbox/code_development/CubeAnalysis/cube_analysis/progressbar.py:320: RuntimeWarning: divide by zero encountered in long_scalars\n",
      "  if (i % chunksize) == 0:\n",
      "WARNING: WCSWarning: WCS1 is missing card PV2_1 [spectral_cube.wcs_utils]\n",
      "WARNING: WCSWarning: WCS1 is missing card PV2_2 [spectral_cube.wcs_utils]\n",
      "WARNING: WCSWarning: WCS1 is missing card TIMESYS [spectral_cube.wcs_utils]\n",
      "/Users/ekoch/anaconda3/lib/python3.8/site-packages/astropy/units/quantity.py:673: RuntimeWarning: divide by zero encountered in true_divide\n",
      "  result = super().__array_ufunc__(function, method, *arrays, **kwargs)\n",
      "/Users/ekoch/Library/CloudStorage/Dropbox/code_development/CubeAnalysis/cube_analysis/progressbar.py:320: RuntimeWarning: divide by zero encountered in long_scalars\n",
      "  if (i % chunksize) == 0:\n",
      "WARNING: WCSWarning: WCS1 is missing card PV2_1 [spectral_cube.wcs_utils]\n",
      "WARNING: WCSWarning: WCS1 is missing card PV2_2 [spectral_cube.wcs_utils]\n",
      "WARNING: WCSWarning: WCS1 is missing card TIMESYS [spectral_cube.wcs_utils]\n",
      "/Users/ekoch/anaconda3/lib/python3.8/site-packages/astropy/units/quantity.py:673: RuntimeWarning: divide by zero encountered in true_divide\n",
      "  result = super().__array_ufunc__(function, method, *arrays, **kwargs)\n",
      "/Users/ekoch/Library/CloudStorage/Dropbox/code_development/CubeAnalysis/cube_analysis/progressbar.py:320: RuntimeWarning: divide by zero encountered in long_scalars\n",
      "  if (i % chunksize) == 0:\n",
      "WARNING: WCSWarning: WCS1 is missing card PV2_1 [spectral_cube.wcs_utils]\n",
      "WARNING: WCSWarning: WCS1 is missing card PV2_2 [spectral_cube.wcs_utils]\n",
      "WARNING: WCSWarning: WCS1 is missing card TIMESYS [spectral_cube.wcs_utils]\n",
      "/Users/ekoch/anaconda3/lib/python3.8/site-packages/astropy/units/quantity.py:673: RuntimeWarning: divide by zero encountered in true_divide\n",
      "  result = super().__array_ufunc__(function, method, *arrays, **kwargs)\n",
      "/Users/ekoch/Library/CloudStorage/Dropbox/code_development/CubeAnalysis/cube_analysis/progressbar.py:320: RuntimeWarning: divide by zero encountered in long_scalars\n",
      "  if (i % chunksize) == 0:\n",
      "WARNING: WCSWarning: WCS1 is missing card PV2_1 [spectral_cube.wcs_utils]\n",
      "WARNING: WCSWarning: WCS1 is missing card PV2_2 [spectral_cube.wcs_utils]\n",
      "WARNING: WCSWarning: WCS1 is missing card TIMESYS [spectral_cube.wcs_utils]\n",
      "/Users/ekoch/anaconda3/lib/python3.8/site-packages/astropy/units/quantity.py:673: RuntimeWarning: divide by zero encountered in true_divide\n",
      "  result = super().__array_ufunc__(function, method, *arrays, **kwargs)\n",
      "/Users/ekoch/Library/CloudStorage/Dropbox/code_development/CubeAnalysis/cube_analysis/progressbar.py:320: RuntimeWarning: divide by zero encountered in long_scalars\n",
      "  if (i % chunksize) == 0:\n",
      "WARNING: WCSWarning: WCS1 is missing card PV2_1 [spectral_cube.wcs_utils]\n",
      "WARNING: WCSWarning: WCS1 is missing card PV2_2 [spectral_cube.wcs_utils]\n",
      "WARNING: WCSWarning: WCS1 is missing card TIMESYS [spectral_cube.wcs_utils]\n",
      "/Users/ekoch/anaconda3/lib/python3.8/site-packages/astropy/units/quantity.py:673: RuntimeWarning: divide by zero encountered in true_divide\n",
      "  result = super().__array_ufunc__(function, method, *arrays, **kwargs)\n",
      "/Users/ekoch/Library/CloudStorage/Dropbox/code_development/CubeAnalysis/cube_analysis/progressbar.py:320: RuntimeWarning: divide by zero encountered in long_scalars\n",
      "  if (i % chunksize) == 0:\n",
      "WARNING: WCSWarning: WCS1 is missing card PV2_1 [spectral_cube.wcs_utils]\n",
      "WARNING: WCSWarning: WCS1 is missing card PV2_2 [spectral_cube.wcs_utils]\n",
      "WARNING: WCSWarning: WCS1 is missing card TIMESYS [spectral_cube.wcs_utils]\n",
      "/Users/ekoch/anaconda3/lib/python3.8/site-packages/astropy/units/quantity.py:673: RuntimeWarning: divide by zero encountered in true_divide\n",
      "  result = super().__array_ufunc__(function, method, *arrays, **kwargs)\n",
      "/Users/ekoch/Library/CloudStorage/Dropbox/code_development/CubeAnalysis/cube_analysis/progressbar.py:320: RuntimeWarning: divide by zero encountered in long_scalars\n",
      "  if (i % chunksize) == 0:\n",
      "WARNING: WCSWarning: WCS1 is missing card PV2_1 [spectral_cube.wcs_utils]\n",
      "WARNING: WCSWarning: WCS1 is missing card PV2_2 [spectral_cube.wcs_utils]\n",
      "WARNING: WCSWarning: WCS1 is missing card TIMESYS [spectral_cube.wcs_utils]\n",
      "/Users/ekoch/anaconda3/lib/python3.8/site-packages/astropy/units/quantity.py:673: RuntimeWarning: divide by zero encountered in true_divide\n",
      "  result = super().__array_ufunc__(function, method, *arrays, **kwargs)\n",
      "/Users/ekoch/Library/CloudStorage/Dropbox/code_development/CubeAnalysis/cube_analysis/progressbar.py:320: RuntimeWarning: divide by zero encountered in long_scalars\n",
      "  if (i % chunksize) == 0:\n",
      "WARNING: WCSWarning: WCS1 is missing card PV2_1 [spectral_cube.wcs_utils]\n",
      "WARNING: WCSWarning: WCS1 is missing card PV2_2 [spectral_cube.wcs_utils]\n",
      "WARNING: WCSWarning: WCS1 is missing card TIMESYS [spectral_cube.wcs_utils]\n",
      "/Users/ekoch/anaconda3/lib/python3.8/site-packages/astropy/units/quantity.py:673: RuntimeWarning: divide by zero encountered in true_divide\n",
      "  result = super().__array_ufunc__(function, method, *arrays, **kwargs)\n",
      "/Users/ekoch/Library/CloudStorage/Dropbox/code_development/CubeAnalysis/cube_analysis/progressbar.py:320: RuntimeWarning: divide by zero encountered in long_scalars\n",
      "  if (i % chunksize) == 0:\n",
      "WARNING: WCSWarning: WCS1 is missing card PV2_1 [spectral_cube.wcs_utils]\n",
      "WARNING: WCSWarning: WCS1 is missing card PV2_2 [spectral_cube.wcs_utils]\n",
      "WARNING: WCSWarning: WCS1 is missing card TIMESYS [spectral_cube.wcs_utils]\n",
      "/Users/ekoch/anaconda3/lib/python3.8/site-packages/astropy/units/quantity.py:673: RuntimeWarning: divide by zero encountered in true_divide\n",
      "  result = super().__array_ufunc__(function, method, *arrays, **kwargs)\n",
      "/Users/ekoch/Library/CloudStorage/Dropbox/code_development/CubeAnalysis/cube_analysis/progressbar.py:320: RuntimeWarning: divide by zero encountered in long_scalars\n",
      "  if (i % chunksize) == 0:\n",
      "WARNING: WCSWarning: WCS1 is missing card PV2_1 [spectral_cube.wcs_utils]\n",
      "WARNING: WCSWarning: WCS1 is missing card PV2_2 [spectral_cube.wcs_utils]\n",
      "WARNING: WCSWarning: WCS1 is missing card TIMESYS [spectral_cube.wcs_utils]\n",
      "/Users/ekoch/anaconda3/lib/python3.8/site-packages/astropy/units/quantity.py:673: RuntimeWarning: divide by zero encountered in true_divide\n",
      "  result = super().__array_ufunc__(function, method, *arrays, **kwargs)\n",
      "/Users/ekoch/Library/CloudStorage/Dropbox/code_development/CubeAnalysis/cube_analysis/progressbar.py:320: RuntimeWarning: divide by zero encountered in long_scalars\n",
      "  if (i % chunksize) == 0:\n",
      "WARNING: WCSWarning: WCS1 is missing card PV2_1 [spectral_cube.wcs_utils]\n",
      "WARNING: WCSWarning: WCS1 is missing card PV2_2 [spectral_cube.wcs_utils]\n",
      "WARNING: WCSWarning: WCS1 is missing card TIMESYS [spectral_cube.wcs_utils]\n",
      "/Users/ekoch/anaconda3/lib/python3.8/site-packages/astropy/units/quantity.py:673: RuntimeWarning: divide by zero encountered in true_divide\n",
      "  result = super().__array_ufunc__(function, method, *arrays, **kwargs)\n",
      "/Users/ekoch/Library/CloudStorage/Dropbox/code_development/CubeAnalysis/cube_analysis/progressbar.py:320: RuntimeWarning: divide by zero encountered in long_scalars\n",
      "  if (i % chunksize) == 0:\n",
      "WARNING: WCSWarning: WCS1 is missing card PV2_1 [spectral_cube.wcs_utils]\n",
      "WARNING: WCSWarning: WCS1 is missing card PV2_2 [spectral_cube.wcs_utils]\n",
      "WARNING: WCSWarning: WCS1 is missing card TIMESYS [spectral_cube.wcs_utils]\n",
      "/Users/ekoch/anaconda3/lib/python3.8/site-packages/astropy/units/quantity.py:673: RuntimeWarning: divide by zero encountered in true_divide\n",
      "  result = super().__array_ufunc__(function, method, *arrays, **kwargs)\n",
      "/Users/ekoch/Library/CloudStorage/Dropbox/code_development/CubeAnalysis/cube_analysis/progressbar.py:320: RuntimeWarning: divide by zero encountered in long_scalars\n",
      "  if (i % chunksize) == 0:\n",
      "WARNING: WCSWarning: WCS1 is missing card PV2_1 [spectral_cube.wcs_utils]\n",
      "WARNING: WCSWarning: WCS1 is missing card PV2_2 [spectral_cube.wcs_utils]\n",
      "WARNING: WCSWarning: WCS1 is missing card TIMESYS [spectral_cube.wcs_utils]\n",
      "/Users/ekoch/anaconda3/lib/python3.8/site-packages/astropy/units/quantity.py:673: RuntimeWarning: divide by zero encountered in true_divide\n",
      "  result = super().__array_ufunc__(function, method, *arrays, **kwargs)\n",
      "/Users/ekoch/Library/CloudStorage/Dropbox/code_development/CubeAnalysis/cube_analysis/progressbar.py:320: RuntimeWarning: divide by zero encountered in long_scalars\n",
      "  if (i % chunksize) == 0:\n",
      "WARNING: WCSWarning: WCS1 is missing card PV2_1 [spectral_cube.wcs_utils]\n",
      "WARNING: WCSWarning: WCS1 is missing card PV2_2 [spectral_cube.wcs_utils]\n",
      "WARNING: WCSWarning: WCS1 is missing card TIMESYS [spectral_cube.wcs_utils]\n",
      "/Users/ekoch/anaconda3/lib/python3.8/site-packages/astropy/units/quantity.py:673: RuntimeWarning: divide by zero encountered in true_divide\n",
      "  result = super().__array_ufunc__(function, method, *arrays, **kwargs)\n",
      "/Users/ekoch/Library/CloudStorage/Dropbox/code_development/CubeAnalysis/cube_analysis/progressbar.py:320: RuntimeWarning: divide by zero encountered in long_scalars\n",
      "  if (i % chunksize) == 0:\n",
      "WARNING: WCSWarning: WCS1 is missing card PV2_1 [spectral_cube.wcs_utils]\n",
      "WARNING: WCSWarning: WCS1 is missing card PV2_2 [spectral_cube.wcs_utils]\n",
      "WARNING: WCSWarning: WCS1 is missing card TIMESYS [spectral_cube.wcs_utils]\n",
      "/Users/ekoch/anaconda3/lib/python3.8/site-packages/astropy/units/quantity.py:673: RuntimeWarning: divide by zero encountered in true_divide\n",
      "  result = super().__array_ufunc__(function, method, *arrays, **kwargs)\n",
      "/Users/ekoch/Library/CloudStorage/Dropbox/code_development/CubeAnalysis/cube_analysis/progressbar.py:320: RuntimeWarning: divide by zero encountered in long_scalars\n",
      "  if (i % chunksize) == 0:\n",
      "WARNING: WCSWarning: WCS1 is missing card PV2_1 [spectral_cube.wcs_utils]\n",
      "WARNING: WCSWarning: WCS1 is missing card PV2_2 [spectral_cube.wcs_utils]\n",
      "WARNING: WCSWarning: WCS1 is missing card TIMESYS [spectral_cube.wcs_utils]\n",
      "/Users/ekoch/anaconda3/lib/python3.8/site-packages/astropy/units/quantity.py:673: RuntimeWarning: divide by zero encountered in true_divide\n",
      "  result = super().__array_ufunc__(function, method, *arrays, **kwargs)\n",
      "/Users/ekoch/Library/CloudStorage/Dropbox/code_development/CubeAnalysis/cube_analysis/progressbar.py:320: RuntimeWarning: divide by zero encountered in long_scalars\n",
      "  if (i % chunksize) == 0:\n",
      "WARNING: WCSWarning: WCS1 is missing card PV2_1 [spectral_cube.wcs_utils]\n",
      "WARNING: WCSWarning: WCS1 is missing card PV2_2 [spectral_cube.wcs_utils]\n",
      "WARNING: WCSWarning: WCS1 is missing card TIMESYS [spectral_cube.wcs_utils]\n",
      "/Users/ekoch/anaconda3/lib/python3.8/site-packages/astropy/units/quantity.py:673: RuntimeWarning: divide by zero encountered in true_divide\n",
      "  result = super().__array_ufunc__(function, method, *arrays, **kwargs)\n",
      "/Users/ekoch/Library/CloudStorage/Dropbox/code_development/CubeAnalysis/cube_analysis/progressbar.py:320: RuntimeWarning: divide by zero encountered in long_scalars\n",
      "  if (i % chunksize) == 0:\n",
      "WARNING: WCSWarning: WCS1 is missing card PV2_1 [spectral_cube.wcs_utils]\n",
      "WARNING: WCSWarning: WCS1 is missing card PV2_2 [spectral_cube.wcs_utils]\n",
      "WARNING: WCSWarning: WCS1 is missing card TIMESYS [spectral_cube.wcs_utils]\n",
      "/Users/ekoch/anaconda3/lib/python3.8/site-packages/astropy/units/quantity.py:673: RuntimeWarning: divide by zero encountered in true_divide\n",
      "  result = super().__array_ufunc__(function, method, *arrays, **kwargs)\n",
      "/Users/ekoch/Library/CloudStorage/Dropbox/code_development/CubeAnalysis/cube_analysis/progressbar.py:320: RuntimeWarning: divide by zero encountered in long_scalars\n",
      "  if (i % chunksize) == 0:\n",
      "WARNING: WCSWarning: WCS1 is missing card PV2_1 [spectral_cube.wcs_utils]\n",
      "WARNING: WCSWarning: WCS1 is missing card PV2_2 [spectral_cube.wcs_utils]\n",
      "WARNING: WCSWarning: WCS1 is missing card TIMESYS [spectral_cube.wcs_utils]\n",
      "/Users/ekoch/anaconda3/lib/python3.8/site-packages/astropy/units/quantity.py:673: RuntimeWarning: divide by zero encountered in true_divide\n",
      "  result = super().__array_ufunc__(function, method, *arrays, **kwargs)\n",
      "/Users/ekoch/Library/CloudStorage/Dropbox/code_development/CubeAnalysis/cube_analysis/progressbar.py:320: RuntimeWarning: divide by zero encountered in long_scalars\n",
      "  if (i % chunksize) == 0:\n",
      "WARNING: WCSWarning: WCS1 is missing card PV2_1 [spectral_cube.wcs_utils]\n",
      "WARNING: WCSWarning: WCS1 is missing card PV2_2 [spectral_cube.wcs_utils]\n",
      "WARNING: WCSWarning: WCS1 is missing card TIMESYS [spectral_cube.wcs_utils]\n",
      "/Users/ekoch/anaconda3/lib/python3.8/site-packages/astropy/units/quantity.py:673: RuntimeWarning: divide by zero encountered in true_divide\n",
      "  result = super().__array_ufunc__(function, method, *arrays, **kwargs)\n",
      "/Users/ekoch/Library/CloudStorage/Dropbox/code_development/CubeAnalysis/cube_analysis/progressbar.py:320: RuntimeWarning: divide by zero encountered in long_scalars\n",
      "  if (i % chunksize) == 0:\n",
      "WARNING: WCSWarning: WCS1 is missing card PV2_1 [spectral_cube.wcs_utils]\n",
      "WARNING: WCSWarning: WCS1 is missing card PV2_2 [spectral_cube.wcs_utils]\n",
      "WARNING: WCSWarning: WCS1 is missing card TIMESYS [spectral_cube.wcs_utils]\n",
      "/Users/ekoch/anaconda3/lib/python3.8/site-packages/astropy/units/quantity.py:673: RuntimeWarning: divide by zero encountered in true_divide\n",
      "  result = super().__array_ufunc__(function, method, *arrays, **kwargs)\n",
      "/Users/ekoch/Library/CloudStorage/Dropbox/code_development/CubeAnalysis/cube_analysis/progressbar.py:320: RuntimeWarning: divide by zero encountered in long_scalars\n",
      "  if (i % chunksize) == 0:\n",
      "WARNING: WCSWarning: WCS1 is missing card PV2_1 [spectral_cube.wcs_utils]\n",
      "WARNING: WCSWarning: WCS1 is missing card PV2_2 [spectral_cube.wcs_utils]\n",
      "WARNING: WCSWarning: WCS1 is missing card TIMESYS [spectral_cube.wcs_utils]\n",
      "/Users/ekoch/anaconda3/lib/python3.8/site-packages/astropy/units/quantity.py:673: RuntimeWarning: divide by zero encountered in true_divide\n",
      "  result = super().__array_ufunc__(function, method, *arrays, **kwargs)\n",
      "/Users/ekoch/Library/CloudStorage/Dropbox/code_development/CubeAnalysis/cube_analysis/progressbar.py:320: RuntimeWarning: divide by zero encountered in long_scalars\n",
      "  if (i % chunksize) == 0:\n",
      "WARNING: WCSWarning: WCS1 is missing card PV2_1 [spectral_cube.wcs_utils]\n",
      "WARNING: WCSWarning: WCS1 is missing card PV2_2 [spectral_cube.wcs_utils]\n",
      "WARNING: WCSWarning: WCS1 is missing card TIMESYS [spectral_cube.wcs_utils]\n",
      "/Users/ekoch/anaconda3/lib/python3.8/site-packages/astropy/units/quantity.py:673: RuntimeWarning: divide by zero encountered in true_divide\n",
      "  result = super().__array_ufunc__(function, method, *arrays, **kwargs)\n",
      "/Users/ekoch/Library/CloudStorage/Dropbox/code_development/CubeAnalysis/cube_analysis/progressbar.py:320: RuntimeWarning: divide by zero encountered in long_scalars\n",
      "  if (i % chunksize) == 0:\n",
      "WARNING: WCSWarning: WCS1 is missing card PV2_1 [spectral_cube.wcs_utils]\n",
      "WARNING: WCSWarning: WCS1 is missing card PV2_2 [spectral_cube.wcs_utils]\n",
      "WARNING: WCSWarning: WCS1 is missing card TIMESYS [spectral_cube.wcs_utils]\n",
      "/Users/ekoch/anaconda3/lib/python3.8/site-packages/astropy/units/quantity.py:673: RuntimeWarning: divide by zero encountered in true_divide\n",
      "  result = super().__array_ufunc__(function, method, *arrays, **kwargs)\n",
      "/Users/ekoch/Library/CloudStorage/Dropbox/code_development/CubeAnalysis/cube_analysis/progressbar.py:320: RuntimeWarning: divide by zero encountered in long_scalars\n",
      "  if (i % chunksize) == 0:\n",
      "WARNING: WCSWarning: WCS1 is missing card PV2_1 [spectral_cube.wcs_utils]\n",
      "WARNING: WCSWarning: WCS1 is missing card PV2_2 [spectral_cube.wcs_utils]\n",
      "WARNING: WCSWarning: WCS1 is missing card TIMESYS [spectral_cube.wcs_utils]\n",
      "/Users/ekoch/anaconda3/lib/python3.8/site-packages/astropy/units/quantity.py:673: RuntimeWarning: divide by zero encountered in true_divide\n",
      "  result = super().__array_ufunc__(function, method, *arrays, **kwargs)\n",
      "/Users/ekoch/Library/CloudStorage/Dropbox/code_development/CubeAnalysis/cube_analysis/progressbar.py:320: RuntimeWarning: divide by zero encountered in long_scalars\n",
      "  if (i % chunksize) == 0:\n",
      "WARNING: WCSWarning: WCS1 is missing card PV2_1 [spectral_cube.wcs_utils]\n",
      "WARNING: WCSWarning: WCS1 is missing card PV2_2 [spectral_cube.wcs_utils]\n",
      "WARNING: WCSWarning: WCS1 is missing card TIMESYS [spectral_cube.wcs_utils]\n",
      "/Users/ekoch/anaconda3/lib/python3.8/site-packages/astropy/units/quantity.py:673: RuntimeWarning: divide by zero encountered in true_divide\n",
      "  result = super().__array_ufunc__(function, method, *arrays, **kwargs)\n",
      "/Users/ekoch/Library/CloudStorage/Dropbox/code_development/CubeAnalysis/cube_analysis/progressbar.py:320: RuntimeWarning: divide by zero encountered in long_scalars\n",
      "  if (i % chunksize) == 0:\n",
      "WARNING: WCSWarning: WCS1 is missing card PV2_1 [spectral_cube.wcs_utils]\n",
      "WARNING: WCSWarning: WCS1 is missing card PV2_2 [spectral_cube.wcs_utils]\n",
      "WARNING: WCSWarning: WCS1 is missing card TIMESYS [spectral_cube.wcs_utils]\n",
      "/Users/ekoch/anaconda3/lib/python3.8/site-packages/astropy/units/quantity.py:673: RuntimeWarning: divide by zero encountered in true_divide\n",
      "  result = super().__array_ufunc__(function, method, *arrays, **kwargs)\n",
      "/Users/ekoch/Library/CloudStorage/Dropbox/code_development/CubeAnalysis/cube_analysis/progressbar.py:320: RuntimeWarning: divide by zero encountered in long_scalars\n",
      "  if (i % chunksize) == 0:\n",
      "WARNING: WCSWarning: WCS1 is missing card PV2_1 [spectral_cube.wcs_utils]\n",
      "WARNING: WCSWarning: WCS1 is missing card PV2_2 [spectral_cube.wcs_utils]\n",
      "WARNING: WCSWarning: WCS1 is missing card TIMESYS [spectral_cube.wcs_utils]\n",
      "/Users/ekoch/anaconda3/lib/python3.8/site-packages/astropy/units/quantity.py:673: RuntimeWarning: divide by zero encountered in true_divide\n",
      "  result = super().__array_ufunc__(function, method, *arrays, **kwargs)\n",
      "/Users/ekoch/Library/CloudStorage/Dropbox/code_development/CubeAnalysis/cube_analysis/progressbar.py:320: RuntimeWarning: divide by zero encountered in long_scalars\n",
      "  if (i % chunksize) == 0:\n",
      "WARNING: WCSWarning: WCS1 is missing card PV2_1 [spectral_cube.wcs_utils]\n",
      "WARNING: WCSWarning: WCS1 is missing card PV2_2 [spectral_cube.wcs_utils]\n",
      "WARNING: WCSWarning: WCS1 is missing card TIMESYS [spectral_cube.wcs_utils]\n",
      "/Users/ekoch/anaconda3/lib/python3.8/site-packages/astropy/units/quantity.py:673: RuntimeWarning: divide by zero encountered in true_divide\n",
      "  result = super().__array_ufunc__(function, method, *arrays, **kwargs)\n",
      "/Users/ekoch/Library/CloudStorage/Dropbox/code_development/CubeAnalysis/cube_analysis/progressbar.py:320: RuntimeWarning: divide by zero encountered in long_scalars\n",
      "  if (i % chunksize) == 0:\n",
      "WARNING: WCSWarning: WCS1 is missing card PV2_1 [spectral_cube.wcs_utils]\n",
      "WARNING: WCSWarning: WCS1 is missing card PV2_2 [spectral_cube.wcs_utils]\n",
      "WARNING: WCSWarning: WCS1 is missing card TIMESYS [spectral_cube.wcs_utils]\n",
      "/Users/ekoch/anaconda3/lib/python3.8/site-packages/astropy/units/quantity.py:673: RuntimeWarning: divide by zero encountered in true_divide\n",
      "  result = super().__array_ufunc__(function, method, *arrays, **kwargs)\n",
      "/Users/ekoch/Library/CloudStorage/Dropbox/code_development/CubeAnalysis/cube_analysis/progressbar.py:320: RuntimeWarning: divide by zero encountered in long_scalars\n",
      "  if (i % chunksize) == 0:\n",
      "WARNING: WCSWarning: WCS1 is missing card PV2_1 [spectral_cube.wcs_utils]\n",
      "WARNING: WCSWarning: WCS1 is missing card PV2_2 [spectral_cube.wcs_utils]\n",
      "WARNING: WCSWarning: WCS1 is missing card TIMESYS [spectral_cube.wcs_utils]\n",
      "/Users/ekoch/anaconda3/lib/python3.8/site-packages/astropy/units/quantity.py:673: RuntimeWarning: divide by zero encountered in true_divide\n",
      "  result = super().__array_ufunc__(function, method, *arrays, **kwargs)\n",
      "/Users/ekoch/Library/CloudStorage/Dropbox/code_development/CubeAnalysis/cube_analysis/progressbar.py:320: RuntimeWarning: divide by zero encountered in long_scalars\n",
      "  if (i % chunksize) == 0:\n",
      "WARNING: WCSWarning: WCS1 is missing card PV2_1 [spectral_cube.wcs_utils]\n",
      "WARNING: WCSWarning: WCS1 is missing card PV2_2 [spectral_cube.wcs_utils]\n",
      "WARNING: WCSWarning: WCS1 is missing card TIMESYS [spectral_cube.wcs_utils]\n",
      "/Users/ekoch/anaconda3/lib/python3.8/site-packages/astropy/units/quantity.py:673: RuntimeWarning: divide by zero encountered in true_divide\n",
      "  result = super().__array_ufunc__(function, method, *arrays, **kwargs)\n",
      "/Users/ekoch/Library/CloudStorage/Dropbox/code_development/CubeAnalysis/cube_analysis/progressbar.py:320: RuntimeWarning: divide by zero encountered in long_scalars\n",
      "  if (i % chunksize) == 0:\n",
      "WARNING: WCSWarning: WCS1 is missing card PV2_1 [spectral_cube.wcs_utils]\n",
      "WARNING: WCSWarning: WCS1 is missing card PV2_2 [spectral_cube.wcs_utils]\n",
      "WARNING: WCSWarning: WCS1 is missing card TIMESYS [spectral_cube.wcs_utils]\n",
      "/Users/ekoch/anaconda3/lib/python3.8/site-packages/astropy/units/quantity.py:673: RuntimeWarning: divide by zero encountered in true_divide\n",
      "  result = super().__array_ufunc__(function, method, *arrays, **kwargs)\n",
      "/Users/ekoch/Library/CloudStorage/Dropbox/code_development/CubeAnalysis/cube_analysis/progressbar.py:320: RuntimeWarning: divide by zero encountered in long_scalars\n",
      "  if (i % chunksize) == 0:\n",
      "WARNING: WCSWarning: WCS1 is missing card PV2_1 [spectral_cube.wcs_utils]\n",
      "WARNING: WCSWarning: WCS1 is missing card PV2_2 [spectral_cube.wcs_utils]\n",
      "WARNING: WCSWarning: WCS1 is missing card TIMESYS [spectral_cube.wcs_utils]\n",
      "/Users/ekoch/anaconda3/lib/python3.8/site-packages/astropy/units/quantity.py:673: RuntimeWarning: divide by zero encountered in true_divide\n",
      "  result = super().__array_ufunc__(function, method, *arrays, **kwargs)\n",
      "/Users/ekoch/Library/CloudStorage/Dropbox/code_development/CubeAnalysis/cube_analysis/progressbar.py:320: RuntimeWarning: divide by zero encountered in long_scalars\n",
      "  if (i % chunksize) == 0:\n"
     ]
    }
   ],
   "source": [
    "radii, ratios, high_pts, low_pts, chan_out = \\\n",
    "            feather_compare_cube(vla_cube.to(u.K),\n",
    "                                 gbt_cube_specinterp.to(u.K),\n",
    "                                 las,\n",
    "                                 lowresfwhm=None,\n",
    "                                 num_cores=1,\n",
    "                                 chunk=250,\n",
    "                                 verbose=True,\n",
    "                                 # weights=weight,\n",
    "                                 relax_spectral_check=False,\n",
    "                                 spec_check_kwargs={'rtol': 0.01})"
   ]
  },
  {
   "cell_type": "code",
   "execution_count": 54,
   "id": "c8986f81-323f-4080-8453-3668124d34ee",
   "metadata": {},
   "outputs": [
    {
     "name": "stdout",
     "output_type": "stream",
     "text": [
      "0.27+/-0.32\n",
      "0.89+/-1.08\n"
     ]
    },
    {
     "data": {
      "image/png": "[encoded data removed]",
      "text/plain": [
       "<Figure size 640x480 with 1 Axes>"
      ]
     },
     "metadata": {},
     "output_type": "display_data"
    }
   ],
   "source": [
    "sc_factor, sc_err, model = scalefactor_from_mixturemodel(ratios[:-1], ncomp=2, show_plot=True)\n",
    "\n",
    "# plt.xlim([-1, 1])\n",
    "\n",
    "# print(f\"{sc_factor:.2f}+/-{sc_err:.2f}\")\n",
    "print(f\"{sc_factor[0]:.2f}+/-{sc_err[0]:.2f}\")\n",
    "print(f\"{sc_factor[1]:.2f}+/-{sc_err[1]:.2f}\")\n",
    "\n",
    "gal_name = 'NGC6822'\n",
    "# sc_factors[gal_name] = sc_factor[1]\n",
    "# sc_errs[gal_name] = sc_err[1]\n",
    "# mix_models[gal_name] = model"
   ]
  },
  {
   "cell_type": "code",
   "execution_count": 42,
   "id": "d6ef910d-eb97-47ba-9258-d7a3539b9ed5",
   "metadata": {},
   "outputs": [
    {
     "name": "stdout",
     "output_type": "stream",
     "text": [
      "0.92+/-0.12\n",
      "0.83+/-0.11\n"
     ]
    },
    {
     "data": {
      "image/png": "[encoded data removed]",
      "text/plain": [
       "<Figure size 640x480 with 1 Axes>"
      ]
     },
     "metadata": {},
     "output_type": "display_data"
    }
   ],
   "source": [
    "sc_factor, sc_err, model = scalefactor_from_mixturemodel(ratios[17:38], ncomp=2, show_plot=True)\n",
    "\n",
    "plt.xlim([-1, 1])\n",
    "\n",
    "# print(f\"{sc_factor:.2f}+/-{sc_err:.2f}\")\n",
    "print(f\"{sc_factor[0]:.2f}+/-{sc_err[0]:.2f}\")\n",
    "print(f\"{sc_factor[1]:.2f}+/-{sc_err[1]:.2f}\")\n",
    "\n",
    "gal_name = 'NGC6822'\n",
    "# sc_factors[gal_name] = sc_factor[1]\n",
    "# sc_errs[gal_name] = sc_err[1]\n",
    "# mix_models[gal_name] = model"
   ]
  },
  {
   "cell_type": "markdown",
   "id": "e8c67052-1a8c-4dec-a9b5-05001c052122",
   "metadata": {},
   "source": [
    "Velocity range of HI foreground:"
   ]
  },
  {
   "cell_type": "code",
   "execution_count": 43,
   "id": "06e55982-c38b-4e90-9605-8a3d695dac0d",
   "metadata": {},
   "outputs": [
    {
     "name": "stdout",
     "output_type": "stream",
     "text": [
      "0.39+/-0.36\n",
      "0.05+/-0.04\n"
     ]
    },
    {
     "data": {
      "image/png": "[encoded data removed]",
      "text/plain": [
       "<Figure size 640x480 with 1 Axes>"
      ]
     },
     "metadata": {},
     "output_type": "display_data"
    }
   ],
   "source": [
    "sc_factor, sc_err, model = scalefactor_from_mixturemodel(ratios[7:13], ncomp=2, show_plot=True)\n",
    "\n",
    "plt.xlim([-1, 1])\n",
    "\n",
    "# print(f\"{sc_factor:.2f}+/-{sc_err:.2f}\")\n",
    "print(f\"{sc_factor[0]:.2f}+/-{sc_err[0]:.2f}\")\n",
    "print(f\"{sc_factor[1]:.2f}+/-{sc_err[1]:.2f}\")\n",
    "\n",
    "gal_name = 'NGC6822'\n",
    "# sc_factors[gal_name] = sc_factor[1]\n",
    "# sc_errs[gal_name] = sc_err[1]\n",
    "# mix_models[gal_name] = model"
   ]
  },
  {
   "cell_type": "code",
   "execution_count": 49,
   "id": "7007d893-16ff-4dc1-a8de-71b1e047688d",
   "metadata": {},
   "outputs": [
    {
     "name": "stdout",
     "output_type": "stream",
     "text": [
      "Optimization terminated successfully.\n",
      "         Current function value: -0.172819\n",
      "         Iterations: 43\n",
      "         Function evaluations: 82\n",
      "0.92+/-0.00\n"
     ]
    },
    {
     "name": "stderr",
     "output_type": "stream",
     "text": [
      "/Users/ekoch/anaconda3/lib/python3.8/site-packages/statsmodels/base/model.py:2694: UserWarning: df_model + k_constant differs from nparams\n",
      "  warnings.warn(\"df_model + k_constant differs from nparams\")\n",
      "/Users/ekoch/anaconda3/lib/python3.8/site-packages/statsmodels/base/model.py:2696: UserWarning: df_resid differs from nobs - nparams\n",
      "  warnings.warn(\"df_resid differs from nobs - nparams\")\n"
     ]
    },
    {
     "data": {
      "image/png": "[encoded data removed]",
      "text/plain": [
       "<Figure size 640x480 with 1 Axes>"
      ]
     },
     "metadata": {},
     "output_type": "display_data"
    }
   ],
   "source": [
    "sc_factor, sc_err = find_scale_factor(np.hstack(low_pts[17:38]),\n",
    "                                      np.hstack(high_pts[17:38]),\n",
    "                                      method='distrib',\n",
    "                                      verbose=True)\n",
    "print(f\"{sc_factor:.2f}+/-{sc_err:.2f}\")"
   ]
  },
  {
   "cell_type": "markdown",
   "id": "19e8bb93-f802-4e37-b032-0f55a51400cc",
   "metadata": {},
   "source": [
    "Try feathering the data without any scaling factor:"
   ]
  },
  {
   "cell_type": "code",
   "execution_count": 50,
   "id": "9d7b21e5-695e-414f-99d0-0b71cb4bbd8b",
   "metadata": {},
   "outputs": [],
   "source": [
    "from uvcombine import feather_simple_cube"
   ]
  },
  {
   "cell_type": "code",
   "execution_count": 51,
   "id": "91db3e46-4bc3-4ebd-9514-d6087990565b",
   "metadata": {
    "collapsed": true,
    "jupyter": {
     "outputs_hidden": true
    },
    "tags": []
   },
   "outputs": [
    {
     "name": "stderr",
     "output_type": "stream",
     "text": [
      "WARNING: PossiblySlowWarning: This function (<function BaseSpectralCube.to at 0x7ff4c11ce280>) requires loading the entire cube into memory and may therefore be slow. [spectral_cube.utils]\n",
      "WARNING: WCSWarning: WCS1 is missing card PV2_1 [spectral_cube.wcs_utils]\n",
      "WARNING: WCSWarning: WCS1 is missing card PV2_2 [spectral_cube.wcs_utils]\n",
      "WARNING: WCSWarning: WCS1 is missing card TIMESYS [spectral_cube.wcs_utils]\n",
      "WARNING: WCSWarning: WCS1 is missing card PV2_1 [spectral_cube.wcs_utils]\n",
      "WARNING: WCSWarning: WCS1 is missing card PV2_2 [spectral_cube.wcs_utils]\n",
      "WARNING: WCSWarning: WCS1 is missing card TIMESYS [spectral_cube.wcs_utils]\n",
      "WARNING: WCSWarning: WCS1 is missing card PV2_1 [spectral_cube.wcs_utils]\n",
      "WARNING: WCSWarning: WCS1 is missing card PV2_2 [spectral_cube.wcs_utils]\n",
      "WARNING: WCSWarning: WCS1 is missing card TIMESYS [spectral_cube.wcs_utils]\n",
      "WARNING: WCSWarning: WCS1 is missing card PV2_1 [spectral_cube.wcs_utils]\n",
      "WARNING: WCSWarning: WCS1 is missing card PV2_2 [spectral_cube.wcs_utils]\n",
      "WARNING: WCSWarning: WCS1 is missing card TIMESYS [spectral_cube.wcs_utils]\n",
      "WARNING: WCSWarning: WCS1 is missing card PV2_1 [spectral_cube.wcs_utils]\n",
      "WARNING: WCSWarning: WCS1 is missing card PV2_2 [spectral_cube.wcs_utils]\n",
      "WARNING: WCSWarning: WCS1 is missing card TIMESYS [spectral_cube.wcs_utils]\n",
      "WARNING: WCSWarning: WCS1 is missing card PV2_1 [spectral_cube.wcs_utils]\n",
      "WARNING: WCSWarning: WCS1 is missing card PV2_2 [spectral_cube.wcs_utils]\n",
      "WARNING: WCSWarning: WCS1 is missing card TIMESYS [spectral_cube.wcs_utils]\n",
      "WARNING: WCSWarning: WCS1 is missing card PV2_1 [spectral_cube.wcs_utils]\n",
      "WARNING: WCSWarning: WCS1 is missing card PV2_2 [spectral_cube.wcs_utils]\n",
      "WARNING: WCSWarning: WCS1 is missing card TIMESYS [spectral_cube.wcs_utils]\n",
      "WARNING: WCSWarning: WCS1 is missing card PV2_1 [spectral_cube.wcs_utils]\n",
      "WARNING: WCSWarning: WCS1 is missing card PV2_2 [spectral_cube.wcs_utils]\n",
      "WARNING: WCSWarning: WCS1 is missing card TIMESYS [spectral_cube.wcs_utils]\n",
      "WARNING: WCSWarning: WCS1 is missing card PV2_1 [spectral_cube.wcs_utils]\n",
      "WARNING: WCSWarning: WCS1 is missing card PV2_2 [spectral_cube.wcs_utils]\n",
      "WARNING: WCSWarning: WCS1 is missing card TIMESYS [spectral_cube.wcs_utils]\n",
      "WARNING: WCSWarning: WCS1 is missing card PV2_1 [spectral_cube.wcs_utils]\n",
      "WARNING: WCSWarning: WCS1 is missing card PV2_2 [spectral_cube.wcs_utils]\n",
      "WARNING: WCSWarning: WCS1 is missing card TIMESYS [spectral_cube.wcs_utils]\n",
      "WARNING: WCSWarning: WCS1 is missing card PV2_1 [spectral_cube.wcs_utils]\n",
      "WARNING: WCSWarning: WCS1 is missing card PV2_2 [spectral_cube.wcs_utils]\n",
      "WARNING: WCSWarning: WCS1 is missing card TIMESYS [spectral_cube.wcs_utils]\n",
      "WARNING: WCSWarning: WCS1 is missing card PV2_1 [spectral_cube.wcs_utils]\n",
      "WARNING: WCSWarning: WCS1 is missing card PV2_2 [spectral_cube.wcs_utils]\n",
      "WARNING: WCSWarning: WCS1 is missing card TIMESYS [spectral_cube.wcs_utils]\n",
      "WARNING: WCSWarning: WCS1 is missing card PV2_1 [spectral_cube.wcs_utils]\n",
      "WARNING: WCSWarning: WCS1 is missing card PV2_2 [spectral_cube.wcs_utils]\n",
      "WARNING: WCSWarning: WCS1 is missing card TIMESYS [spectral_cube.wcs_utils]\n",
      "WARNING: WCSWarning: WCS1 is missing card PV2_1 [spectral_cube.wcs_utils]\n",
      "WARNING: WCSWarning: WCS1 is missing card PV2_2 [spectral_cube.wcs_utils]\n",
      "WARNING: WCSWarning: WCS1 is missing card TIMESYS [spectral_cube.wcs_utils]\n",
      "WARNING: WCSWarning: WCS1 is missing card PV2_1 [spectral_cube.wcs_utils]\n",
      "WARNING: WCSWarning: WCS1 is missing card PV2_2 [spectral_cube.wcs_utils]\n",
      "WARNING: WCSWarning: WCS1 is missing card TIMESYS [spectral_cube.wcs_utils]\n",
      "WARNING: WCSWarning: WCS1 is missing card PV2_1 [spectral_cube.wcs_utils]\n",
      "WARNING: WCSWarning: WCS1 is missing card PV2_2 [spectral_cube.wcs_utils]\n",
      "WARNING: WCSWarning: WCS1 is missing card TIMESYS [spectral_cube.wcs_utils]\n",
      "WARNING: WCSWarning: WCS1 is missing card PV2_1 [spectral_cube.wcs_utils]\n",
      "WARNING: WCSWarning: WCS1 is missing card PV2_2 [spectral_cube.wcs_utils]\n",
      "WARNING: WCSWarning: WCS1 is missing card TIMESYS [spectral_cube.wcs_utils]\n",
      "WARNING: WCSWarning: WCS1 is missing card PV2_1 [spectral_cube.wcs_utils]\n",
      "WARNING: WCSWarning: WCS1 is missing card PV2_2 [spectral_cube.wcs_utils]\n",
      "WARNING: WCSWarning: WCS1 is missing card TIMESYS [spectral_cube.wcs_utils]\n",
      "WARNING: WCSWarning: WCS1 is missing card PV2_1 [spectral_cube.wcs_utils]\n",
      "WARNING: WCSWarning: WCS1 is missing card PV2_2 [spectral_cube.wcs_utils]\n",
      "WARNING: WCSWarning: WCS1 is missing card TIMESYS [spectral_cube.wcs_utils]\n",
      "WARNING: WCSWarning: WCS1 is missing card PV2_1 [spectral_cube.wcs_utils]\n",
      "WARNING: WCSWarning: WCS1 is missing card PV2_2 [spectral_cube.wcs_utils]\n",
      "WARNING: WCSWarning: WCS1 is missing card TIMESYS [spectral_cube.wcs_utils]\n",
      "WARNING: WCSWarning: WCS1 is missing card PV2_1 [spectral_cube.wcs_utils]\n",
      "WARNING: WCSWarning: WCS1 is missing card PV2_2 [spectral_cube.wcs_utils]\n",
      "WARNING: WCSWarning: WCS1 is missing card TIMESYS [spectral_cube.wcs_utils]\n",
      "WARNING: WCSWarning: WCS1 is missing card PV2_1 [spectral_cube.wcs_utils]\n",
      "WARNING: WCSWarning: WCS1 is missing card PV2_2 [spectral_cube.wcs_utils]\n",
      "WARNING: WCSWarning: WCS1 is missing card TIMESYS [spectral_cube.wcs_utils]\n",
      "WARNING: WCSWarning: WCS1 is missing card PV2_1 [spectral_cube.wcs_utils]\n",
      "WARNING: WCSWarning: WCS1 is missing card PV2_2 [spectral_cube.wcs_utils]\n",
      "WARNING: WCSWarning: WCS1 is missing card TIMESYS [spectral_cube.wcs_utils]\n",
      "WARNING: WCSWarning: WCS1 is missing card PV2_1 [spectral_cube.wcs_utils]\n",
      "WARNING: WCSWarning: WCS1 is missing card PV2_2 [spectral_cube.wcs_utils]\n",
      "WARNING: WCSWarning: WCS1 is missing card TIMESYS [spectral_cube.wcs_utils]\n",
      "WARNING: WCSWarning: WCS1 is missing card PV2_1 [spectral_cube.wcs_utils]\n",
      "WARNING: WCSWarning: WCS1 is missing card PV2_2 [spectral_cube.wcs_utils]\n",
      "WARNING: WCSWarning: WCS1 is missing card TIMESYS [spectral_cube.wcs_utils]\n",
      "WARNING: WCSWarning: WCS1 is missing card PV2_1 [spectral_cube.wcs_utils]\n",
      "WARNING: WCSWarning: WCS1 is missing card PV2_2 [spectral_cube.wcs_utils]\n",
      "WARNING: WCSWarning: WCS1 is missing card TIMESYS [spectral_cube.wcs_utils]\n",
      "WARNING: WCSWarning: WCS1 is missing card PV2_1 [spectral_cube.wcs_utils]\n",
      "WARNING: WCSWarning: WCS1 is missing card PV2_2 [spectral_cube.wcs_utils]\n",
      "WARNING: WCSWarning: WCS1 is missing card TIMESYS [spectral_cube.wcs_utils]\n",
      "WARNING: WCSWarning: WCS1 is missing card PV2_1 [spectral_cube.wcs_utils]\n",
      "WARNING: WCSWarning: WCS1 is missing card PV2_2 [spectral_cube.wcs_utils]\n",
      "WARNING: WCSWarning: WCS1 is missing card TIMESYS [spectral_cube.wcs_utils]\n",
      "WARNING: WCSWarning: WCS1 is missing card PV2_1 [spectral_cube.wcs_utils]\n",
      "WARNING: WCSWarning: WCS1 is missing card PV2_2 [spectral_cube.wcs_utils]\n",
      "WARNING: WCSWarning: WCS1 is missing card TIMESYS [spectral_cube.wcs_utils]\n",
      "WARNING: WCSWarning: WCS1 is missing card PV2_1 [spectral_cube.wcs_utils]\n",
      "WARNING: WCSWarning: WCS1 is missing card PV2_2 [spectral_cube.wcs_utils]\n",
      "WARNING: WCSWarning: WCS1 is missing card TIMESYS [spectral_cube.wcs_utils]\n",
      "WARNING: WCSWarning: WCS1 is missing card PV2_1 [spectral_cube.wcs_utils]\n",
      "WARNING: WCSWarning: WCS1 is missing card PV2_2 [spectral_cube.wcs_utils]\n",
      "WARNING: WCSWarning: WCS1 is missing card TIMESYS [spectral_cube.wcs_utils]\n",
      "WARNING: WCSWarning: WCS1 is missing card PV2_1 [spectral_cube.wcs_utils]\n",
      "WARNING: WCSWarning: WCS1 is missing card PV2_2 [spectral_cube.wcs_utils]\n",
      "WARNING: WCSWarning: WCS1 is missing card TIMESYS [spectral_cube.wcs_utils]\n",
      "WARNING: WCSWarning: WCS1 is missing card PV2_1 [spectral_cube.wcs_utils]\n",
      "WARNING: WCSWarning: WCS1 is missing card PV2_2 [spectral_cube.wcs_utils]\n",
      "WARNING: WCSWarning: WCS1 is missing card TIMESYS [spectral_cube.wcs_utils]\n",
      "WARNING: WCSWarning: WCS1 is missing card PV2_1 [spectral_cube.wcs_utils]\n",
      "WARNING: WCSWarning: WCS1 is missing card PV2_2 [spectral_cube.wcs_utils]\n",
      "WARNING: WCSWarning: WCS1 is missing card TIMESYS [spectral_cube.wcs_utils]\n",
      "WARNING: WCSWarning: WCS1 is missing card PV2_1 [spectral_cube.wcs_utils]\n",
      "WARNING: WCSWarning: WCS1 is missing card PV2_2 [spectral_cube.wcs_utils]\n",
      "WARNING: WCSWarning: WCS1 is missing card TIMESYS [spectral_cube.wcs_utils]\n",
      "WARNING: WCSWarning: WCS1 is missing card PV2_1 [spectral_cube.wcs_utils]\n",
      "WARNING: WCSWarning: WCS1 is missing card PV2_2 [spectral_cube.wcs_utils]\n",
      "WARNING: WCSWarning: WCS1 is missing card TIMESYS [spectral_cube.wcs_utils]\n",
      "WARNING: WCSWarning: WCS1 is missing card PV2_1 [spectral_cube.wcs_utils]\n",
      "WARNING: WCSWarning: WCS1 is missing card PV2_2 [spectral_cube.wcs_utils]\n",
      "WARNING: WCSWarning: WCS1 is missing card TIMESYS [spectral_cube.wcs_utils]\n",
      "WARNING: WCSWarning: WCS1 is missing card PV2_1 [spectral_cube.wcs_utils]\n",
      "WARNING: WCSWarning: WCS1 is missing card PV2_2 [spectral_cube.wcs_utils]\n",
      "WARNING: WCSWarning: WCS1 is missing card TIMESYS [spectral_cube.wcs_utils]\n",
      "WARNING: WCSWarning: WCS1 is missing card PV2_1 [spectral_cube.wcs_utils]\n",
      "WARNING: WCSWarning: WCS1 is missing card PV2_2 [spectral_cube.wcs_utils]\n",
      "WARNING: WCSWarning: WCS1 is missing card TIMESYS [spectral_cube.wcs_utils]\n",
      "WARNING: WCSWarning: WCS1 is missing card PV2_1 [spectral_cube.wcs_utils]\n",
      "WARNING: WCSWarning: WCS1 is missing card PV2_2 [spectral_cube.wcs_utils]\n",
      "WARNING: WCSWarning: WCS1 is missing card TIMESYS [spectral_cube.wcs_utils]\n",
      "WARNING: WCSWarning: WCS1 is missing card PV2_1 [spectral_cube.wcs_utils]\n",
      "WARNING: WCSWarning: WCS1 is missing card PV2_2 [spectral_cube.wcs_utils]\n",
      "WARNING: WCSWarning: WCS1 is missing card TIMESYS [spectral_cube.wcs_utils]\n",
      "WARNING: WCSWarning: WCS1 is missing card PV2_1 [spectral_cube.wcs_utils]\n",
      "WARNING: WCSWarning: WCS1 is missing card PV2_2 [spectral_cube.wcs_utils]\n",
      "WARNING: WCSWarning: WCS1 is missing card TIMESYS [spectral_cube.wcs_utils]\n",
      "WARNING: WCSWarning: WCS1 is missing card PV2_1 [spectral_cube.wcs_utils]\n",
      "WARNING: WCSWarning: WCS1 is missing card PV2_2 [spectral_cube.wcs_utils]\n",
      "WARNING: WCSWarning: WCS1 is missing card TIMESYS [spectral_cube.wcs_utils]\n",
      "WARNING: WCSWarning: WCS1 is missing card PV2_1 [spectral_cube.wcs_utils]\n",
      "WARNING: WCSWarning: WCS1 is missing card PV2_2 [spectral_cube.wcs_utils]\n",
      "WARNING: WCSWarning: WCS1 is missing card TIMESYS [spectral_cube.wcs_utils]\n",
      "WARNING: WCSWarning: WCS1 is missing card PV2_1 [spectral_cube.wcs_utils]\n",
      "WARNING: WCSWarning: WCS1 is missing card PV2_2 [spectral_cube.wcs_utils]\n",
      "WARNING: WCSWarning: WCS1 is missing card TIMESYS [spectral_cube.wcs_utils]\n",
      "WARNING: WCSWarning: WCS1 is missing card PV2_1 [spectral_cube.wcs_utils]\n",
      "WARNING: WCSWarning: WCS1 is missing card PV2_2 [spectral_cube.wcs_utils]\n",
      "WARNING: WCSWarning: WCS1 is missing card TIMESYS [spectral_cube.wcs_utils]\n",
      "WARNING: WCSWarning: WCS1 is missing card PV2_1 [spectral_cube.wcs_utils]\n",
      "WARNING: WCSWarning: WCS1 is missing card PV2_2 [spectral_cube.wcs_utils]\n",
      "WARNING: WCSWarning: WCS1 is missing card TIMESYS [spectral_cube.wcs_utils]\n",
      "WARNING: WCSWarning: WCS1 is missing card PV2_1 [spectral_cube.wcs_utils]\n",
      "WARNING: WCSWarning: WCS1 is missing card PV2_2 [spectral_cube.wcs_utils]\n",
      "WARNING: WCSWarning: WCS1 is missing card TIMESYS [spectral_cube.wcs_utils]\n",
      "WARNING: WCSWarning: WCS1 is missing card PV2_1 [spectral_cube.wcs_utils]\n",
      "WARNING: WCSWarning: WCS1 is missing card PV2_2 [spectral_cube.wcs_utils]\n",
      "WARNING: WCSWarning: WCS1 is missing card TIMESYS [spectral_cube.wcs_utils]\n",
      "WARNING: WCSWarning: WCS1 is missing card PV2_1 [spectral_cube.wcs_utils]\n",
      "WARNING: WCSWarning: WCS1 is missing card PV2_2 [spectral_cube.wcs_utils]\n",
      "WARNING: WCSWarning: WCS1 is missing card TIMESYS [spectral_cube.wcs_utils]\n",
      "WARNING: WCSWarning: WCS1 is missing card PV2_1 [spectral_cube.wcs_utils]\n",
      "WARNING: WCSWarning: WCS1 is missing card PV2_2 [spectral_cube.wcs_utils]\n",
      "WARNING: WCSWarning: WCS1 is missing card TIMESYS [spectral_cube.wcs_utils]\n"
     ]
    }
   ],
   "source": [
    "feathered_cube = feather_simple_cube(vla_cube.to(u.K),\n",
    "                                     gbt_cube_specinterp.to(u.K),\n",
    "                                     allow_lo_reproj=True)"
   ]
  },
  {
   "cell_type": "code",
   "execution_count": 52,
   "id": "594957bd-c324-494a-a2a9-f9aba1095193",
   "metadata": {},
   "outputs": [],
   "source": [
    "# feathered_cube.write(vla_data_path / \"ngc6822_C+D_hilores_feathered.fits\", overwrite=True)"
   ]
  },
  {
   "cell_type": "code",
   "execution_count": 53,
   "id": "6c8690fc-cc50-4784-9622-8110e8ec02e6",
   "metadata": {},
   "outputs": [
    {
     "data": {
      "text/plain": [
       "SpectralCube with shape=(51, 2304, 2400) and unit=K:\n",
       " n_x:   2400  type_x: RA---SIN  unit_x: deg    range:   295.376058 deg:  297.105829 deg\n",
       " n_y:   2304  type_y: DEC--SIN  unit_y: deg    range:   -15.601865 deg:  -14.002517 deg\n",
       " n_s:     51  type_s: VRAD      unit_s: m / s  range:  -147144.203 m / s:   59032.027 m / s"
      ]
     },
     "execution_count": 53,
     "metadata": {},
     "output_type": "execute_result"
    }
   ],
   "source": [
    "feathered_cube"
   ]
  },
  {
   "cell_type": "code",
   "execution_count": null,
   "id": "943741c2-b6a3-40da-95c8-d24eebf8e109",
   "metadata": {},
   "outputs": [],
   "source": []
  }
 ],
 "metadata": {
  "kernelspec": {
   "display_name": "Python 3 (ipykernel)",
   "language": "python",
   "name": "python3"
  },
  "language_info": {
   "codemirror_mode": {
    "name": "ipython",
    "version": 3
   },
   "file_extension": ".py",
   "mimetype": "text/x-python",
   "name": "python",
   "nbconvert_exporter": "python",
   "pygments_lexer": "ipython3",
   "version": "3.8.10"
  }
 },
 "nbformat": 4,
 "nbformat_minor": 5
}
