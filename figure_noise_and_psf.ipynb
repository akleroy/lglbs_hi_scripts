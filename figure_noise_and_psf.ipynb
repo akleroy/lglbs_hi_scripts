{
 "cells": [
  {
   "cell_type": "code",
   "execution_count": 111,
   "id": "91f38dc5-a085-4509-9014-ee9bbb61df07",
   "metadata": {},
   "outputs": [],
   "source": [
    "%matplotlib inline"
   ]
  },
  {
   "cell_type": "code",
   "execution_count": 112,
   "id": "dc3355a4-7e7c-4323-8baf-22c80f8d71ab",
   "metadata": {},
   "outputs": [],
   "source": [
    "from pathlib import Path\n",
    "\n",
    "from spectral_cube import SpectralCube\n",
    "from astropy.stats import mad_std"
   ]
  },
  {
   "cell_type": "code",
   "execution_count": 113,
   "id": "dad304a5-7715-4999-b075-d0ac125aaf5c",
   "metadata": {},
   "outputs": [],
   "source": [
    "data_path = Path(\"/reduction10/erickoch/LGLBS/line_imaging/psf_and_noise_tests/\")"
   ]
  },
  {
   "cell_type": "code",
   "execution_count": 114,
   "id": "583cb73b-5331-4f83-b944-03cd7f72b0b5",
   "metadata": {},
   "outputs": [],
   "source": [
    "configs = ['A', 'B', 'C', 'D']\n",
    "\n",
    "config_combos = ['A+B+C+D', 'A+B+C', 'B+C+D', 'C+D']\n",
    "\n",
    "briggs_weights = [f\"briggs_{this_r}\" for this_r in\n",
    "                  [2, 1.5, 1.0, 0.5, 0.0, -0.5, -1.0, -1.5, -2.0]]\n",
    "weightings = ['natural'] + briggs_weights + ['uniform']"
   ]
  },
  {
   "cell_type": "code",
   "execution_count": 115,
   "id": "fc2e17b8-4b18-44fc-9cd8-208edf210120",
   "metadata": {
    "scrolled": true
   },
   "outputs": [
    {
     "name": "stderr",
     "output_type": "stream",
     "text": [
      "/home/erickoch/anaconda3/envs/pyuvdata_ewk/lib/python3.10/site-packages/casa_formats_io/casa_dask.py:247: RuntimeWarning: divide by zero encountered in scalar remainder\n",
      "  factors = [f for f in range(stacks[dim] + 1) if stacks[dim] % f == 0]\n",
      "WARNING: StokesWarning: Cube is a Stokes cube, returning spectral cube for I component [spectral_cube.io.core]\n"
     ]
    },
    {
     "name": "stdout",
     "output_type": "stream",
     "text": [
      "-0.82470491897283\n"
     ]
    },
    {
     "name": "stderr",
     "output_type": "stream",
     "text": [
      "/home/erickoch/anaconda3/envs/pyuvdata_ewk/lib/python3.10/site-packages/casa_formats_io/casa_dask.py:247: RuntimeWarning: divide by zero encountered in scalar remainder\n",
      "  factors = [f for f in range(stacks[dim] + 1) if stacks[dim] % f == 0]\n",
      "WARNING: StokesWarning: Cube is a Stokes cube, returning spectral cube for I component [spectral_cube.io.core]\n"
     ]
    },
    {
     "name": "stdout",
     "output_type": "stream",
     "text": [
      "-0.82470491897283\n"
     ]
    },
    {
     "name": "stderr",
     "output_type": "stream",
     "text": [
      "/home/erickoch/anaconda3/envs/pyuvdata_ewk/lib/python3.10/site-packages/casa_formats_io/casa_dask.py:247: RuntimeWarning: divide by zero encountered in scalar remainder\n",
      "  factors = [f for f in range(stacks[dim] + 1) if stacks[dim] % f == 0]\n",
      "WARNING: StokesWarning: Cube is a Stokes cube, returning spectral cube for I component [spectral_cube.io.core]\n"
     ]
    },
    {
     "name": "stdout",
     "output_type": "stream",
     "text": [
      "-0.82470491897283\n"
     ]
    },
    {
     "name": "stderr",
     "output_type": "stream",
     "text": [
      "/home/erickoch/anaconda3/envs/pyuvdata_ewk/lib/python3.10/site-packages/casa_formats_io/casa_dask.py:247: RuntimeWarning: divide by zero encountered in scalar remainder\n",
      "  factors = [f for f in range(stacks[dim] + 1) if stacks[dim] % f == 0]\n",
      "WARNING: StokesWarning: Cube is a Stokes cube, returning spectral cube for I component [spectral_cube.io.core]\n"
     ]
    },
    {
     "name": "stdout",
     "output_type": "stream",
     "text": [
      "-0.82470491897283\n"
     ]
    },
    {
     "name": "stderr",
     "output_type": "stream",
     "text": [
      "/home/erickoch/anaconda3/envs/pyuvdata_ewk/lib/python3.10/site-packages/casa_formats_io/casa_dask.py:247: RuntimeWarning: divide by zero encountered in scalar remainder\n",
      "  factors = [f for f in range(stacks[dim] + 1) if stacks[dim] % f == 0]\n",
      "WARNING: StokesWarning: Cube is a Stokes cube, returning spectral cube for I component [spectral_cube.io.core]\n"
     ]
    },
    {
     "name": "stdout",
     "output_type": "stream",
     "text": [
      "-0.82470491897283\n"
     ]
    },
    {
     "name": "stderr",
     "output_type": "stream",
     "text": [
      "/home/erickoch/anaconda3/envs/pyuvdata_ewk/lib/python3.10/site-packages/casa_formats_io/casa_dask.py:247: RuntimeWarning: divide by zero encountered in scalar remainder\n",
      "  factors = [f for f in range(stacks[dim] + 1) if stacks[dim] % f == 0]\n",
      "WARNING: StokesWarning: Cube is a Stokes cube, returning spectral cube for I component [spectral_cube.io.core]\n"
     ]
    },
    {
     "name": "stdout",
     "output_type": "stream",
     "text": [
      "-0.82470491897283\n"
     ]
    },
    {
     "name": "stderr",
     "output_type": "stream",
     "text": [
      "/home/erickoch/anaconda3/envs/pyuvdata_ewk/lib/python3.10/site-packages/casa_formats_io/casa_dask.py:247: RuntimeWarning: divide by zero encountered in scalar remainder\n",
      "  factors = [f for f in range(stacks[dim] + 1) if stacks[dim] % f == 0]\n",
      "WARNING: StokesWarning: Cube is a Stokes cube, returning spectral cube for I component [spectral_cube.io.core]\n"
     ]
    },
    {
     "name": "stdout",
     "output_type": "stream",
     "text": [
      "-0.82470491897283\n"
     ]
    },
    {
     "name": "stderr",
     "output_type": "stream",
     "text": [
      "/home/erickoch/anaconda3/envs/pyuvdata_ewk/lib/python3.10/site-packages/casa_formats_io/casa_dask.py:247: RuntimeWarning: divide by zero encountered in scalar remainder\n",
      "  factors = [f for f in range(stacks[dim] + 1) if stacks[dim] % f == 0]\n",
      "WARNING: StokesWarning: Cube is a Stokes cube, returning spectral cube for I component [spectral_cube.io.core]\n"
     ]
    },
    {
     "name": "stdout",
     "output_type": "stream",
     "text": [
      "-0.82470491897283\n"
     ]
    },
    {
     "name": "stderr",
     "output_type": "stream",
     "text": [
      "/home/erickoch/anaconda3/envs/pyuvdata_ewk/lib/python3.10/site-packages/casa_formats_io/casa_dask.py:247: RuntimeWarning: divide by zero encountered in scalar remainder\n",
      "  factors = [f for f in range(stacks[dim] + 1) if stacks[dim] % f == 0]\n",
      "WARNING: StokesWarning: Cube is a Stokes cube, returning spectral cube for I component [spectral_cube.io.core]\n"
     ]
    },
    {
     "name": "stdout",
     "output_type": "stream",
     "text": [
      "-0.82470491897283\n"
     ]
    },
    {
     "name": "stderr",
     "output_type": "stream",
     "text": [
      "/home/erickoch/anaconda3/envs/pyuvdata_ewk/lib/python3.10/site-packages/casa_formats_io/casa_dask.py:247: RuntimeWarning: divide by zero encountered in scalar remainder\n",
      "  factors = [f for f in range(stacks[dim] + 1) if stacks[dim] % f == 0]\n",
      "WARNING: StokesWarning: Cube is a Stokes cube, returning spectral cube for I component [spectral_cube.io.core]\n"
     ]
    },
    {
     "name": "stdout",
     "output_type": "stream",
     "text": [
      "-0.82470491897283\n"
     ]
    },
    {
     "name": "stderr",
     "output_type": "stream",
     "text": [
      "/home/erickoch/anaconda3/envs/pyuvdata_ewk/lib/python3.10/site-packages/casa_formats_io/casa_dask.py:247: RuntimeWarning: divide by zero encountered in scalar remainder\n",
      "  factors = [f for f in range(stacks[dim] + 1) if stacks[dim] % f == 0]\n",
      "WARNING: StokesWarning: Cube is a Stokes cube, returning spectral cube for I component [spectral_cube.io.core]\n"
     ]
    },
    {
     "name": "stdout",
     "output_type": "stream",
     "text": [
      "-0.82470491897283\n"
     ]
    },
    {
     "name": "stderr",
     "output_type": "stream",
     "text": [
      "/home/erickoch/anaconda3/envs/pyuvdata_ewk/lib/python3.10/site-packages/casa_formats_io/casa_dask.py:247: RuntimeWarning: divide by zero encountered in scalar remainder\n",
      "  factors = [f for f in range(stacks[dim] + 1) if stacks[dim] % f == 0]\n",
      "WARNING: StokesWarning: Cube is a Stokes cube, returning spectral cube for I component [spectral_cube.io.core]\n"
     ]
    },
    {
     "name": "stdout",
     "output_type": "stream",
     "text": [
      "-0.82470491897283\n"
     ]
    },
    {
     "name": "stderr",
     "output_type": "stream",
     "text": [
      "/home/erickoch/anaconda3/envs/pyuvdata_ewk/lib/python3.10/site-packages/casa_formats_io/casa_dask.py:247: RuntimeWarning: divide by zero encountered in scalar remainder\n",
      "  factors = [f for f in range(stacks[dim] + 1) if stacks[dim] % f == 0]\n",
      "WARNING: StokesWarning: Cube is a Stokes cube, returning spectral cube for I component [spectral_cube.io.core]\n"
     ]
    },
    {
     "name": "stdout",
     "output_type": "stream",
     "text": [
      "-0.82470491897283\n"
     ]
    },
    {
     "name": "stderr",
     "output_type": "stream",
     "text": [
      "/home/erickoch/anaconda3/envs/pyuvdata_ewk/lib/python3.10/site-packages/casa_formats_io/casa_dask.py:247: RuntimeWarning: divide by zero encountered in scalar remainder\n",
      "  factors = [f for f in range(stacks[dim] + 1) if stacks[dim] % f == 0]\n",
      "WARNING: StokesWarning: Cube is a Stokes cube, returning spectral cube for I component [spectral_cube.io.core]\n"
     ]
    },
    {
     "name": "stdout",
     "output_type": "stream",
     "text": [
      "-0.82470491897283\n"
     ]
    },
    {
     "name": "stderr",
     "output_type": "stream",
     "text": [
      "/home/erickoch/anaconda3/envs/pyuvdata_ewk/lib/python3.10/site-packages/casa_formats_io/casa_dask.py:247: RuntimeWarning: divide by zero encountered in scalar remainder\n",
      "  factors = [f for f in range(stacks[dim] + 1) if stacks[dim] % f == 0]\n",
      "WARNING: StokesWarning: Cube is a Stokes cube, returning spectral cube for I component [spectral_cube.io.core]\n"
     ]
    },
    {
     "name": "stdout",
     "output_type": "stream",
     "text": [
      "-0.82470491897283\n"
     ]
    },
    {
     "name": "stderr",
     "output_type": "stream",
     "text": [
      "/home/erickoch/anaconda3/envs/pyuvdata_ewk/lib/python3.10/site-packages/casa_formats_io/casa_dask.py:247: RuntimeWarning: divide by zero encountered in scalar remainder\n",
      "  factors = [f for f in range(stacks[dim] + 1) if stacks[dim] % f == 0]\n",
      "WARNING: StokesWarning: Cube is a Stokes cube, returning spectral cube for I component [spectral_cube.io.core]\n"
     ]
    },
    {
     "name": "stdout",
     "output_type": "stream",
     "text": [
      "-0.82470491897283\n"
     ]
    },
    {
     "name": "stderr",
     "output_type": "stream",
     "text": [
      "/home/erickoch/anaconda3/envs/pyuvdata_ewk/lib/python3.10/site-packages/casa_formats_io/casa_dask.py:247: RuntimeWarning: divide by zero encountered in scalar remainder\n",
      "  factors = [f for f in range(stacks[dim] + 1) if stacks[dim] % f == 0]\n",
      "WARNING: StokesWarning: Cube is a Stokes cube, returning spectral cube for I component [spectral_cube.io.core]\n"
     ]
    },
    {
     "name": "stdout",
     "output_type": "stream",
     "text": [
      "-0.82470491897283\n"
     ]
    },
    {
     "name": "stderr",
     "output_type": "stream",
     "text": [
      "/home/erickoch/anaconda3/envs/pyuvdata_ewk/lib/python3.10/site-packages/casa_formats_io/casa_dask.py:247: RuntimeWarning: divide by zero encountered in scalar remainder\n",
      "  factors = [f for f in range(stacks[dim] + 1) if stacks[dim] % f == 0]\n",
      "WARNING: StokesWarning: Cube is a Stokes cube, returning spectral cube for I component [spectral_cube.io.core]\n"
     ]
    },
    {
     "name": "stdout",
     "output_type": "stream",
     "text": [
      "-0.82470491897283\n"
     ]
    },
    {
     "name": "stderr",
     "output_type": "stream",
     "text": [
      "/home/erickoch/anaconda3/envs/pyuvdata_ewk/lib/python3.10/site-packages/casa_formats_io/casa_dask.py:247: RuntimeWarning: divide by zero encountered in scalar remainder\n",
      "  factors = [f for f in range(stacks[dim] + 1) if stacks[dim] % f == 0]\n",
      "WARNING: StokesWarning: Cube is a Stokes cube, returning spectral cube for I component [spectral_cube.io.core]\n"
     ]
    },
    {
     "name": "stdout",
     "output_type": "stream",
     "text": [
      "-0.82470491897283\n"
     ]
    },
    {
     "name": "stderr",
     "output_type": "stream",
     "text": [
      "/home/erickoch/anaconda3/envs/pyuvdata_ewk/lib/python3.10/site-packages/casa_formats_io/casa_dask.py:247: RuntimeWarning: divide by zero encountered in scalar remainder\n",
      "  factors = [f for f in range(stacks[dim] + 1) if stacks[dim] % f == 0]\n",
      "WARNING: StokesWarning: Cube is a Stokes cube, returning spectral cube for I component [spectral_cube.io.core]\n"
     ]
    },
    {
     "name": "stdout",
     "output_type": "stream",
     "text": [
      "-0.82470491897283\n"
     ]
    },
    {
     "name": "stderr",
     "output_type": "stream",
     "text": [
      "/home/erickoch/anaconda3/envs/pyuvdata_ewk/lib/python3.10/site-packages/casa_formats_io/casa_dask.py:247: RuntimeWarning: divide by zero encountered in scalar remainder\n",
      "  factors = [f for f in range(stacks[dim] + 1) if stacks[dim] % f == 0]\n",
      "WARNING: StokesWarning: Cube is a Stokes cube, returning spectral cube for I component [spectral_cube.io.core]\n"
     ]
    },
    {
     "name": "stdout",
     "output_type": "stream",
     "text": [
      "-0.82470491897283\n"
     ]
    },
    {
     "name": "stderr",
     "output_type": "stream",
     "text": [
      "/home/erickoch/anaconda3/envs/pyuvdata_ewk/lib/python3.10/site-packages/casa_formats_io/casa_dask.py:247: RuntimeWarning: divide by zero encountered in scalar remainder\n",
      "  factors = [f for f in range(stacks[dim] + 1) if stacks[dim] % f == 0]\n",
      "WARNING: StokesWarning: Cube is a Stokes cube, returning spectral cube for I component [spectral_cube.io.core]\n"
     ]
    },
    {
     "name": "stdout",
     "output_type": "stream",
     "text": [
      "-0.82470491897283\n"
     ]
    },
    {
     "name": "stderr",
     "output_type": "stream",
     "text": [
      "/home/erickoch/anaconda3/envs/pyuvdata_ewk/lib/python3.10/site-packages/casa_formats_io/casa_dask.py:247: RuntimeWarning: divide by zero encountered in scalar remainder\n",
      "  factors = [f for f in range(stacks[dim] + 1) if stacks[dim] % f == 0]\n",
      "WARNING: StokesWarning: Cube is a Stokes cube, returning spectral cube for I component [spectral_cube.io.core]\n",
      "/home/erickoch/anaconda3/envs/pyuvdata_ewk/lib/python3.10/site-packages/casa_formats_io/casa_dask.py:247: RuntimeWarning: divide by zero encountered in scalar remainder\n",
      "  factors = [f for f in range(stacks[dim] + 1) if stacks[dim] % f == 0]\n"
     ]
    },
    {
     "name": "stdout",
     "output_type": "stream",
     "text": [
      "-0.82470491897283\n",
      "-0.82470491897283\n"
     ]
    },
    {
     "name": "stderr",
     "output_type": "stream",
     "text": [
      "WARNING: StokesWarning: Cube is a Stokes cube, returning spectral cube for I component [spectral_cube.io.core]\n",
      "/home/erickoch/anaconda3/envs/pyuvdata_ewk/lib/python3.10/site-packages/casa_formats_io/casa_dask.py:247: RuntimeWarning: divide by zero encountered in scalar remainder\n",
      "  factors = [f for f in range(stacks[dim] + 1) if stacks[dim] % f == 0]\n",
      "WARNING: StokesWarning: Cube is a Stokes cube, returning spectral cube for I component [spectral_cube.io.core]\n"
     ]
    },
    {
     "name": "stdout",
     "output_type": "stream",
     "text": [
      "-0.82470491897283\n"
     ]
    },
    {
     "name": "stderr",
     "output_type": "stream",
     "text": [
      "/home/erickoch/anaconda3/envs/pyuvdata_ewk/lib/python3.10/site-packages/casa_formats_io/casa_dask.py:247: RuntimeWarning: divide by zero encountered in scalar remainder\n",
      "  factors = [f for f in range(stacks[dim] + 1) if stacks[dim] % f == 0]\n",
      "WARNING: StokesWarning: Cube is a Stokes cube, returning spectral cube for I component [spectral_cube.io.core]\n"
     ]
    },
    {
     "name": "stdout",
     "output_type": "stream",
     "text": [
      "-0.82470491897283\n"
     ]
    },
    {
     "name": "stderr",
     "output_type": "stream",
     "text": [
      "/home/erickoch/anaconda3/envs/pyuvdata_ewk/lib/python3.10/site-packages/casa_formats_io/casa_dask.py:247: RuntimeWarning: divide by zero encountered in scalar remainder\n",
      "  factors = [f for f in range(stacks[dim] + 1) if stacks[dim] % f == 0]\n",
      "WARNING: StokesWarning: Cube is a Stokes cube, returning spectral cube for I component [spectral_cube.io.core]\n"
     ]
    },
    {
     "name": "stdout",
     "output_type": "stream",
     "text": [
      "-0.82470491897283\n"
     ]
    },
    {
     "name": "stderr",
     "output_type": "stream",
     "text": [
      "/home/erickoch/anaconda3/envs/pyuvdata_ewk/lib/python3.10/site-packages/casa_formats_io/casa_dask.py:247: RuntimeWarning: divide by zero encountered in scalar remainder\n",
      "  factors = [f for f in range(stacks[dim] + 1) if stacks[dim] % f == 0]\n",
      "WARNING: StokesWarning: Cube is a Stokes cube, returning spectral cube for I component [spectral_cube.io.core]\n"
     ]
    },
    {
     "name": "stdout",
     "output_type": "stream",
     "text": [
      "-0.82470491897283\n"
     ]
    },
    {
     "name": "stderr",
     "output_type": "stream",
     "text": [
      "/home/erickoch/anaconda3/envs/pyuvdata_ewk/lib/python3.10/site-packages/casa_formats_io/casa_dask.py:247: RuntimeWarning: divide by zero encountered in scalar remainder\n",
      "  factors = [f for f in range(stacks[dim] + 1) if stacks[dim] % f == 0]\n",
      "WARNING: StokesWarning: Cube is a Stokes cube, returning spectral cube for I component [spectral_cube.io.core]\n",
      "/home/erickoch/anaconda3/envs/pyuvdata_ewk/lib/python3.10/site-packages/casa_formats_io/casa_dask.py:247: RuntimeWarning: divide by zero encountered in scalar remainder\n",
      "  factors = [f for f in range(stacks[dim] + 1) if stacks[dim] % f == 0]\n"
     ]
    },
    {
     "name": "stdout",
     "output_type": "stream",
     "text": [
      "-0.82470491897283\n",
      "-0.82470491897283\n"
     ]
    },
    {
     "name": "stderr",
     "output_type": "stream",
     "text": [
      "WARNING: StokesWarning: Cube is a Stokes cube, returning spectral cube for I component [spectral_cube.io.core]\n",
      "/home/erickoch/anaconda3/envs/pyuvdata_ewk/lib/python3.10/site-packages/casa_formats_io/casa_dask.py:247: RuntimeWarning: divide by zero encountered in scalar remainder\n",
      "  factors = [f for f in range(stacks[dim] + 1) if stacks[dim] % f == 0]\n",
      "WARNING: StokesWarning: Cube is a Stokes cube, returning spectral cube for I component [spectral_cube.io.core]\n"
     ]
    },
    {
     "name": "stdout",
     "output_type": "stream",
     "text": [
      "-0.82470491897283\n"
     ]
    },
    {
     "name": "stderr",
     "output_type": "stream",
     "text": [
      "/home/erickoch/anaconda3/envs/pyuvdata_ewk/lib/python3.10/site-packages/casa_formats_io/casa_dask.py:247: RuntimeWarning: divide by zero encountered in scalar remainder\n",
      "  factors = [f for f in range(stacks[dim] + 1) if stacks[dim] % f == 0]\n",
      "WARNING: StokesWarning: Cube is a Stokes cube, returning spectral cube for I component [spectral_cube.io.core]\n"
     ]
    },
    {
     "name": "stdout",
     "output_type": "stream",
     "text": [
      "-0.82470491897283\n"
     ]
    },
    {
     "name": "stderr",
     "output_type": "stream",
     "text": [
      "/home/erickoch/anaconda3/envs/pyuvdata_ewk/lib/python3.10/site-packages/casa_formats_io/casa_dask.py:247: RuntimeWarning: divide by zero encountered in scalar remainder\n",
      "  factors = [f for f in range(stacks[dim] + 1) if stacks[dim] % f == 0]\n",
      "WARNING: StokesWarning: Cube is a Stokes cube, returning spectral cube for I component [spectral_cube.io.core]\n"
     ]
    },
    {
     "name": "stdout",
     "output_type": "stream",
     "text": [
      "-0.82470491897283\n"
     ]
    },
    {
     "name": "stderr",
     "output_type": "stream",
     "text": [
      "/home/erickoch/anaconda3/envs/pyuvdata_ewk/lib/python3.10/site-packages/casa_formats_io/casa_dask.py:247: RuntimeWarning: divide by zero encountered in scalar remainder\n",
      "  factors = [f for f in range(stacks[dim] + 1) if stacks[dim] % f == 0]\n",
      "WARNING: StokesWarning: Cube is a Stokes cube, returning spectral cube for I component [spectral_cube.io.core]\n",
      "/home/erickoch/anaconda3/envs/pyuvdata_ewk/lib/python3.10/site-packages/casa_formats_io/casa_dask.py:247: RuntimeWarning: divide by zero encountered in scalar remainder\n",
      "  factors = [f for f in range(stacks[dim] + 1) if stacks[dim] % f == 0]\n"
     ]
    },
    {
     "name": "stdout",
     "output_type": "stream",
     "text": [
      "-0.82470491897283\n",
      "-0.82470491897283\n"
     ]
    },
    {
     "name": "stderr",
     "output_type": "stream",
     "text": [
      "WARNING: StokesWarning: Cube is a Stokes cube, returning spectral cube for I component [spectral_cube.io.core]\n",
      "/home/erickoch/anaconda3/envs/pyuvdata_ewk/lib/python3.10/site-packages/casa_formats_io/casa_dask.py:247: RuntimeWarning: divide by zero encountered in scalar remainder\n",
      "  factors = [f for f in range(stacks[dim] + 1) if stacks[dim] % f == 0]\n",
      "WARNING: StokesWarning: Cube is a Stokes cube, returning spectral cube for I component [spectral_cube.io.core]\n",
      "/home/erickoch/anaconda3/envs/pyuvdata_ewk/lib/python3.10/site-packages/casa_formats_io/casa_dask.py:247: RuntimeWarning: divide by zero encountered in scalar remainder\n",
      "  factors = [f for f in range(stacks[dim] + 1) if stacks[dim] % f == 0]\n"
     ]
    },
    {
     "name": "stdout",
     "output_type": "stream",
     "text": [
      "-0.82470491897283\n",
      "-0.82470491897283\n"
     ]
    },
    {
     "name": "stderr",
     "output_type": "stream",
     "text": [
      "WARNING: StokesWarning: Cube is a Stokes cube, returning spectral cube for I component [spectral_cube.io.core]\n",
      "/home/erickoch/anaconda3/envs/pyuvdata_ewk/lib/python3.10/site-packages/casa_formats_io/casa_dask.py:247: RuntimeWarning: divide by zero encountered in scalar remainder\n",
      "  factors = [f for f in range(stacks[dim] + 1) if stacks[dim] % f == 0]\n",
      "WARNING: StokesWarning: Cube is a Stokes cube, returning spectral cube for I component [spectral_cube.io.core]\n"
     ]
    },
    {
     "name": "stdout",
     "output_type": "stream",
     "text": [
      "-0.82470491897283\n",
      "-0.82470491897283\n"
     ]
    },
    {
     "name": "stderr",
     "output_type": "stream",
     "text": [
      "/home/erickoch/anaconda3/envs/pyuvdata_ewk/lib/python3.10/site-packages/casa_formats_io/casa_dask.py:247: RuntimeWarning: divide by zero encountered in scalar remainder\n",
      "  factors = [f for f in range(stacks[dim] + 1) if stacks[dim] % f == 0]\n",
      "WARNING: StokesWarning: Cube is a Stokes cube, returning spectral cube for I component [spectral_cube.io.core]\n",
      "/home/erickoch/anaconda3/envs/pyuvdata_ewk/lib/python3.10/site-packages/casa_formats_io/casa_dask.py:247: RuntimeWarning: divide by zero encountered in scalar remainder\n",
      "  factors = [f for f in range(stacks[dim] + 1) if stacks[dim] % f == 0]\n",
      "WARNING: StokesWarning: Cube is a Stokes cube, returning spectral cube for I component [spectral_cube.io.core]\n"
     ]
    },
    {
     "name": "stdout",
     "output_type": "stream",
     "text": [
      "-0.82470491897283\n"
     ]
    },
    {
     "name": "stderr",
     "output_type": "stream",
     "text": [
      "/home/erickoch/anaconda3/envs/pyuvdata_ewk/lib/python3.10/site-packages/casa_formats_io/casa_dask.py:247: RuntimeWarning: divide by zero encountered in scalar remainder\n",
      "  factors = [f for f in range(stacks[dim] + 1) if stacks[dim] % f == 0]\n",
      "WARNING: StokesWarning: Cube is a Stokes cube, returning spectral cube for I component [spectral_cube.io.core]\n",
      "/home/erickoch/anaconda3/envs/pyuvdata_ewk/lib/python3.10/site-packages/casa_formats_io/casa_dask.py:247: RuntimeWarning: divide by zero encountered in scalar remainder\n",
      "  factors = [f for f in range(stacks[dim] + 1) if stacks[dim] % f == 0]\n"
     ]
    },
    {
     "name": "stdout",
     "output_type": "stream",
     "text": [
      "-0.82470491897283\n",
      "-0.82470491897283\n"
     ]
    },
    {
     "name": "stderr",
     "output_type": "stream",
     "text": [
      "WARNING: StokesWarning: Cube is a Stokes cube, returning spectral cube for I component [spectral_cube.io.core]\n",
      "/home/erickoch/anaconda3/envs/pyuvdata_ewk/lib/python3.10/site-packages/casa_formats_io/casa_dask.py:247: RuntimeWarning: divide by zero encountered in scalar remainder\n",
      "  factors = [f for f in range(stacks[dim] + 1) if stacks[dim] % f == 0]\n",
      "WARNING: StokesWarning: Cube is a Stokes cube, returning spectral cube for I component [spectral_cube.io.core]\n"
     ]
    },
    {
     "name": "stdout",
     "output_type": "stream",
     "text": [
      "-0.82470491897283\n",
      "-0.82470491897283\n"
     ]
    },
    {
     "name": "stderr",
     "output_type": "stream",
     "text": [
      "/home/erickoch/anaconda3/envs/pyuvdata_ewk/lib/python3.10/site-packages/casa_formats_io/casa_dask.py:247: RuntimeWarning: divide by zero encountered in scalar remainder\n",
      "  factors = [f for f in range(stacks[dim] + 1) if stacks[dim] % f == 0]\n",
      "WARNING: StokesWarning: Cube is a Stokes cube, returning spectral cube for I component [spectral_cube.io.core]\n",
      "/home/erickoch/anaconda3/envs/pyuvdata_ewk/lib/python3.10/site-packages/casa_formats_io/casa_dask.py:247: RuntimeWarning: divide by zero encountered in scalar remainder\n",
      "  factors = [f for f in range(stacks[dim] + 1) if stacks[dim] % f == 0]\n",
      "WARNING: StokesWarning: Cube is a Stokes cube, returning spectral cube for I component [spectral_cube.io.core]\n"
     ]
    },
    {
     "name": "stdout",
     "output_type": "stream",
     "text": [
      "-0.82470491897283\n"
     ]
    },
    {
     "name": "stderr",
     "output_type": "stream",
     "text": [
      "/home/erickoch/anaconda3/envs/pyuvdata_ewk/lib/python3.10/site-packages/casa_formats_io/casa_dask.py:247: RuntimeWarning: divide by zero encountered in scalar remainder\n",
      "  factors = [f for f in range(stacks[dim] + 1) if stacks[dim] % f == 0]\n",
      "WARNING: StokesWarning: Cube is a Stokes cube, returning spectral cube for I component [spectral_cube.io.core]\n"
     ]
    },
    {
     "name": "stdout",
     "output_type": "stream",
     "text": [
      "-0.82470491897283\n"
     ]
    },
    {
     "name": "stderr",
     "output_type": "stream",
     "text": [
      "/home/erickoch/anaconda3/envs/pyuvdata_ewk/lib/python3.10/site-packages/casa_formats_io/casa_dask.py:247: RuntimeWarning: divide by zero encountered in scalar remainder\n",
      "  factors = [f for f in range(stacks[dim] + 1) if stacks[dim] % f == 0]\n",
      "WARNING: StokesWarning: Cube is a Stokes cube, returning spectral cube for I component [spectral_cube.io.core]\n"
     ]
    },
    {
     "name": "stdout",
     "output_type": "stream",
     "text": [
      "-0.82470491897283\n"
     ]
    },
    {
     "name": "stderr",
     "output_type": "stream",
     "text": [
      "/home/erickoch/anaconda3/envs/pyuvdata_ewk/lib/python3.10/site-packages/casa_formats_io/casa_dask.py:247: RuntimeWarning: divide by zero encountered in scalar remainder\n",
      "  factors = [f for f in range(stacks[dim] + 1) if stacks[dim] % f == 0]\n",
      "WARNING: StokesWarning: Cube is a Stokes cube, returning spectral cube for I component [spectral_cube.io.core]\n"
     ]
    },
    {
     "name": "stdout",
     "output_type": "stream",
     "text": [
      "-0.82470491897283\n"
     ]
    },
    {
     "name": "stderr",
     "output_type": "stream",
     "text": [
      "/home/erickoch/anaconda3/envs/pyuvdata_ewk/lib/python3.10/site-packages/casa_formats_io/casa_dask.py:247: RuntimeWarning: divide by zero encountered in scalar remainder\n",
      "  factors = [f for f in range(stacks[dim] + 1) if stacks[dim] % f == 0]\n",
      "WARNING: StokesWarning: Cube is a Stokes cube, returning spectral cube for I component [spectral_cube.io.core]\n"
     ]
    },
    {
     "name": "stdout",
     "output_type": "stream",
     "text": [
      "-0.82470491897283\n"
     ]
    },
    {
     "name": "stderr",
     "output_type": "stream",
     "text": [
      "/home/erickoch/anaconda3/envs/pyuvdata_ewk/lib/python3.10/site-packages/casa_formats_io/casa_dask.py:247: RuntimeWarning: divide by zero encountered in scalar remainder\n",
      "  factors = [f for f in range(stacks[dim] + 1) if stacks[dim] % f == 0]\n",
      "WARNING: StokesWarning: Cube is a Stokes cube, returning spectral cube for I component [spectral_cube.io.core]\n"
     ]
    },
    {
     "name": "stdout",
     "output_type": "stream",
     "text": [
      "-0.82470491897283\n"
     ]
    },
    {
     "name": "stderr",
     "output_type": "stream",
     "text": [
      "/home/erickoch/anaconda3/envs/pyuvdata_ewk/lib/python3.10/site-packages/casa_formats_io/casa_dask.py:247: RuntimeWarning: divide by zero encountered in scalar remainder\n",
      "  factors = [f for f in range(stacks[dim] + 1) if stacks[dim] % f == 0]\n",
      "WARNING: StokesWarning: Cube is a Stokes cube, returning spectral cube for I component [spectral_cube.io.core]\n"
     ]
    },
    {
     "name": "stdout",
     "output_type": "stream",
     "text": [
      "-0.82470491897283\n"
     ]
    },
    {
     "name": "stderr",
     "output_type": "stream",
     "text": [
      "/home/erickoch/anaconda3/envs/pyuvdata_ewk/lib/python3.10/site-packages/casa_formats_io/casa_dask.py:247: RuntimeWarning: divide by zero encountered in scalar remainder\n",
      "  factors = [f for f in range(stacks[dim] + 1) if stacks[dim] % f == 0]\n",
      "WARNING: StokesWarning: Cube is a Stokes cube, returning spectral cube for I component [spectral_cube.io.core]\n"
     ]
    },
    {
     "name": "stdout",
     "output_type": "stream",
     "text": [
      "-0.82470491897283\n"
     ]
    },
    {
     "name": "stderr",
     "output_type": "stream",
     "text": [
      "WARNING: StokesWarning: Cube is a Stokes cube, returning spectral cube for I component [spectral_cube.io.core]\n"
     ]
    },
    {
     "name": "stdout",
     "output_type": "stream",
     "text": [
      "-0.82470491897283\n"
     ]
    },
    {
     "name": "stderr",
     "output_type": "stream",
     "text": [
      "WARNING: StokesWarning: Cube is a Stokes cube, returning spectral cube for I component [spectral_cube.io.core]\n"
     ]
    },
    {
     "name": "stdout",
     "output_type": "stream",
     "text": [
      "-0.82470491897283\n"
     ]
    },
    {
     "name": "stderr",
     "output_type": "stream",
     "text": [
      "WARNING: StokesWarning: Cube is a Stokes cube, returning spectral cube for I component [spectral_cube.io.core]\n"
     ]
    },
    {
     "name": "stdout",
     "output_type": "stream",
     "text": [
      "-0.82470491897283\n"
     ]
    },
    {
     "name": "stderr",
     "output_type": "stream",
     "text": [
      "WARNING: StokesWarning: Cube is a Stokes cube, returning spectral cube for I component [spectral_cube.io.core]\n"
     ]
    },
    {
     "name": "stdout",
     "output_type": "stream",
     "text": [
      "-0.82470491897283\n"
     ]
    },
    {
     "name": "stderr",
     "output_type": "stream",
     "text": [
      "WARNING: StokesWarning: Cube is a Stokes cube, returning spectral cube for I component [spectral_cube.io.core]\n"
     ]
    },
    {
     "name": "stdout",
     "output_type": "stream",
     "text": [
      "-0.82470491897283\n"
     ]
    },
    {
     "name": "stderr",
     "output_type": "stream",
     "text": [
      "WARNING: StokesWarning: Cube is a Stokes cube, returning spectral cube for I component [spectral_cube.io.core]\n"
     ]
    },
    {
     "name": "stdout",
     "output_type": "stream",
     "text": [
      "-0.82470491897283\n"
     ]
    },
    {
     "name": "stderr",
     "output_type": "stream",
     "text": [
      "WARNING: StokesWarning: Cube is a Stokes cube, returning spectral cube for I component [spectral_cube.io.core]\n"
     ]
    },
    {
     "name": "stdout",
     "output_type": "stream",
     "text": [
      "-0.82470491897283\n"
     ]
    },
    {
     "name": "stderr",
     "output_type": "stream",
     "text": [
      "WARNING: StokesWarning: Cube is a Stokes cube, returning spectral cube for I component [spectral_cube.io.core]\n"
     ]
    },
    {
     "name": "stdout",
     "output_type": "stream",
     "text": [
      "-0.82470491897283\n"
     ]
    },
    {
     "name": "stderr",
     "output_type": "stream",
     "text": [
      "WARNING: StokesWarning: Cube is a Stokes cube, returning spectral cube for I component [spectral_cube.io.core]\n"
     ]
    },
    {
     "name": "stdout",
     "output_type": "stream",
     "text": [
      "-0.82470491897283\n"
     ]
    },
    {
     "name": "stderr",
     "output_type": "stream",
     "text": [
      "WARNING: StokesWarning: Cube is a Stokes cube, returning spectral cube for I component [spectral_cube.io.core]\n"
     ]
    },
    {
     "name": "stdout",
     "output_type": "stream",
     "text": [
      "-0.82470491897283\n"
     ]
    },
    {
     "name": "stderr",
     "output_type": "stream",
     "text": [
      "WARNING: StokesWarning: Cube is a Stokes cube, returning spectral cube for I component [spectral_cube.io.core]\n"
     ]
    },
    {
     "name": "stdout",
     "output_type": "stream",
     "text": [
      "-0.82470491897283\n"
     ]
    },
    {
     "name": "stderr",
     "output_type": "stream",
     "text": [
      "WARNING: StokesWarning: Cube is a Stokes cube, returning spectral cube for I component [spectral_cube.io.core]\n"
     ]
    },
    {
     "name": "stdout",
     "output_type": "stream",
     "text": [
      "-0.82470491897283\n"
     ]
    },
    {
     "name": "stderr",
     "output_type": "stream",
     "text": [
      "WARNING: StokesWarning: Cube is a Stokes cube, returning spectral cube for I component [spectral_cube.io.core]\n"
     ]
    },
    {
     "name": "stdout",
     "output_type": "stream",
     "text": [
      "-0.82470491897283\n"
     ]
    },
    {
     "name": "stderr",
     "output_type": "stream",
     "text": [
      "WARNING: StokesWarning: Cube is a Stokes cube, returning spectral cube for I component [spectral_cube.io.core]\n"
     ]
    },
    {
     "name": "stdout",
     "output_type": "stream",
     "text": [
      "-0.82470491897283\n"
     ]
    },
    {
     "name": "stderr",
     "output_type": "stream",
     "text": [
      "WARNING: StokesWarning: Cube is a Stokes cube, returning spectral cube for I component [spectral_cube.io.core]\n"
     ]
    },
    {
     "name": "stdout",
     "output_type": "stream",
     "text": [
      "-0.82470491897283\n"
     ]
    },
    {
     "name": "stderr",
     "output_type": "stream",
     "text": [
      "WARNING: StokesWarning: Cube is a Stokes cube, returning spectral cube for I component [spectral_cube.io.core]\n"
     ]
    },
    {
     "name": "stdout",
     "output_type": "stream",
     "text": [
      "-0.82470491897283\n"
     ]
    },
    {
     "name": "stderr",
     "output_type": "stream",
     "text": [
      "WARNING: StokesWarning: Cube is a Stokes cube, returning spectral cube for I component [spectral_cube.io.core]\n"
     ]
    },
    {
     "name": "stdout",
     "output_type": "stream",
     "text": [
      "-0.82470491897283\n"
     ]
    },
    {
     "name": "stderr",
     "output_type": "stream",
     "text": [
      "WARNING: StokesWarning: Cube is a Stokes cube, returning spectral cube for I component [spectral_cube.io.core]\n"
     ]
    },
    {
     "name": "stdout",
     "output_type": "stream",
     "text": [
      "-0.82470491897283\n"
     ]
    },
    {
     "name": "stderr",
     "output_type": "stream",
     "text": [
      "WARNING: StokesWarning: Cube is a Stokes cube, returning spectral cube for I component [spectral_cube.io.core]\n"
     ]
    },
    {
     "name": "stdout",
     "output_type": "stream",
     "text": [
      "-0.82470491897283\n"
     ]
    },
    {
     "name": "stderr",
     "output_type": "stream",
     "text": [
      "WARNING: StokesWarning: Cube is a Stokes cube, returning spectral cube for I component [spectral_cube.io.core]\n"
     ]
    },
    {
     "name": "stdout",
     "output_type": "stream",
     "text": [
      "-0.82470491897283\n"
     ]
    },
    {
     "name": "stderr",
     "output_type": "stream",
     "text": [
      "WARNING: StokesWarning: Cube is a Stokes cube, returning spectral cube for I component [spectral_cube.io.core]\n"
     ]
    },
    {
     "name": "stdout",
     "output_type": "stream",
     "text": [
      "-0.82470491897283\n"
     ]
    },
    {
     "name": "stderr",
     "output_type": "stream",
     "text": [
      "WARNING: StokesWarning: Cube is a Stokes cube, returning spectral cube for I component [spectral_cube.io.core]\n"
     ]
    },
    {
     "name": "stdout",
     "output_type": "stream",
     "text": [
      "-0.82470491897283\n"
     ]
    },
    {
     "name": "stderr",
     "output_type": "stream",
     "text": [
      "WARNING: StokesWarning: Cube is a Stokes cube, returning spectral cube for I component [spectral_cube.io.core]\n"
     ]
    },
    {
     "name": "stdout",
     "output_type": "stream",
     "text": [
      "-0.82470491897283\n"
     ]
    },
    {
     "name": "stderr",
     "output_type": "stream",
     "text": [
      "WARNING: StokesWarning: Cube is a Stokes cube, returning spectral cube for I component [spectral_cube.io.core]\n"
     ]
    },
    {
     "name": "stdout",
     "output_type": "stream",
     "text": [
      "-0.82470491897283\n"
     ]
    },
    {
     "name": "stderr",
     "output_type": "stream",
     "text": [
      "WARNING: StokesWarning: Cube is a Stokes cube, returning spectral cube for I component [spectral_cube.io.core]\n"
     ]
    },
    {
     "name": "stdout",
     "output_type": "stream",
     "text": [
      "-0.82470491897283\n"
     ]
    },
    {
     "name": "stderr",
     "output_type": "stream",
     "text": [
      "WARNING: StokesWarning: Cube is a Stokes cube, returning spectral cube for I component [spectral_cube.io.core]\n"
     ]
    },
    {
     "name": "stdout",
     "output_type": "stream",
     "text": [
      "-0.82470491897283\n"
     ]
    },
    {
     "name": "stderr",
     "output_type": "stream",
     "text": [
      "WARNING: StokesWarning: Cube is a Stokes cube, returning spectral cube for I component [spectral_cube.io.core]\n"
     ]
    },
    {
     "name": "stdout",
     "output_type": "stream",
     "text": [
      "-0.82470491897283\n"
     ]
    },
    {
     "name": "stderr",
     "output_type": "stream",
     "text": [
      "WARNING: StokesWarning: Cube is a Stokes cube, returning spectral cube for I component [spectral_cube.io.core]\n"
     ]
    },
    {
     "name": "stdout",
     "output_type": "stream",
     "text": [
      "-0.82470491897283\n",
      "-0.82470491897283\n"
     ]
    },
    {
     "name": "stderr",
     "output_type": "stream",
     "text": [
      "WARNING: StokesWarning: Cube is a Stokes cube, returning spectral cube for I component [spectral_cube.io.core]\n",
      "WARNING: StokesWarning: Cube is a Stokes cube, returning spectral cube for I component [spectral_cube.io.core]\n"
     ]
    },
    {
     "name": "stdout",
     "output_type": "stream",
     "text": [
      "-0.82470491897283\n"
     ]
    },
    {
     "name": "stderr",
     "output_type": "stream",
     "text": [
      "WARNING: StokesWarning: Cube is a Stokes cube, returning spectral cube for I component [spectral_cube.io.core]\n"
     ]
    },
    {
     "name": "stdout",
     "output_type": "stream",
     "text": [
      "-0.82470491897283\n"
     ]
    },
    {
     "name": "stderr",
     "output_type": "stream",
     "text": [
      "WARNING: StokesWarning: Cube is a Stokes cube, returning spectral cube for I component [spectral_cube.io.core]\n",
      "WARNING: StokesWarning: Cube is a Stokes cube, returning spectral cube for I component [spectral_cube.io.core]\n"
     ]
    },
    {
     "name": "stdout",
     "output_type": "stream",
     "text": [
      "-0.82470491897283\n",
      "-0.82470491897283\n"
     ]
    },
    {
     "name": "stderr",
     "output_type": "stream",
     "text": [
      "WARNING: StokesWarning: Cube is a Stokes cube, returning spectral cube for I component [spectral_cube.io.core]\n"
     ]
    },
    {
     "name": "stdout",
     "output_type": "stream",
     "text": [
      "-0.82470491897283\n"
     ]
    },
    {
     "name": "stderr",
     "output_type": "stream",
     "text": [
      "WARNING: StokesWarning: Cube is a Stokes cube, returning spectral cube for I component [spectral_cube.io.core]\n",
      "WARNING: StokesWarning: Cube is a Stokes cube, returning spectral cube for I component [spectral_cube.io.core]\n"
     ]
    },
    {
     "name": "stdout",
     "output_type": "stream",
     "text": [
      "-0.82470491897283\n",
      "-0.82470491897283\n"
     ]
    }
   ],
   "source": [
    "# ic10ctr_A_hi21cm_1p2kms_briggs_-2.0.image\n",
    "\n",
    "this_field = 'ic10ctr'\n",
    "this_line = \"hi21cm_1p2kms\"\n",
    "\n",
    "beams = {}\n",
    "rms = {}\n",
    "rms_K = {}\n",
    "\n",
    "hi_freq = 1.42040575177 * u.GHz\n",
    "\n",
    "use_circ_beam = True\n",
    "\n",
    "for this_config in configs + config_combos:\n",
    "\n",
    "    beams[this_config] = {}\n",
    "    rms[this_config] = {}\n",
    "    rms_K[this_config] = {}\n",
    "    \n",
    "    for this_weight in weightings:\n",
    "\n",
    "        this_imagename = f\"{this_field}_{this_config}_{this_line}_{this_weight}\"\n",
    "\n",
    "        if not (data_path / f\"{this_imagename}.image\").exists():\n",
    "            print(f\"No image exists: {this_imagename}\")\n",
    "            continue\n",
    "        this_cube = SpectralCube.read(data_path / f\"{this_imagename}.image\", format='casa')\n",
    "        this_cube = this_cube.with_spectral_unit(u.km / u.s, 'radio')\n",
    "\n",
    "        print(this_cube.header['CDELT3'])\n",
    "        \n",
    "        this_proj = this_cube[0]\n",
    "\n",
    "        # Account for change in beam using the ratio of the areas\n",
    "        if use_circ_beam:\n",
    "            beam_area_ratio = (this_proj.beam.sr / Beam(this_proj.beam.major).sr).value\n",
    "        else:\n",
    "            beam_area_ratio = 1.\n",
    "            \n",
    "        beams[this_config][this_weight] = this_proj.beam\n",
    "        rms[this_config][this_weight] = mad_std(this_proj.value, ignore_nan=True)\n",
    "        rms_K[this_config][this_weight] = mad_std(this_proj.to(u.K).value * beam_area_ratio, ignore_nan=True)\n",
    "\n",
    "chan_width = np.abs(this_cube.header['CDELT3']) * u.km / u.s"
   ]
  },
  {
   "cell_type": "code",
   "execution_count": 116,
   "id": "e5db02e3-db88-4e58-a0b7-66dccc7f3300",
   "metadata": {},
   "outputs": [
    {
     "data": {
      "text/plain": [
       "{'A': {'natural': Beam: BMAJ=1.894927740097046 arcsec BMIN=1.5026354789733887 arcsec BPA=-68.8056640625 deg,\n",
       "  'briggs_2': Beam: BMAJ=1.892884373664856 arcsec BMIN=1.5009030103683472 arcsec BPA=-68.7841796875 deg,\n",
       "  'briggs_1.5': Beam: BMAJ=1.8709501028060913 arcsec BMIN=1.486876368522644 arcsec BPA=-68.0054931640625 deg,\n",
       "  'briggs_1.0': Beam: BMAJ=1.7758843898773193 arcsec BMIN=1.402437686920166 arcsec BPA=-66.57150268554688 deg,\n",
       "  'briggs_0.5': Beam: BMAJ=1.594570517539978 arcsec BMIN=1.2235201597213745 arcsec BPA=-63.58540344238281 deg,\n",
       "  'briggs_0.0': Beam: BMAJ=1.4907450675964355 arcsec BMIN=1.099737286567688 arcsec BPA=-62.604583740234375 deg,\n",
       "  'briggs_-0.5': Beam: BMAJ=1.4663368463516235 arcsec BMIN=1.0678421258926392 arcsec BPA=-62.502296447753906 deg,\n",
       "  'briggs_-1.0': Beam: BMAJ=1.4630718231201172 arcsec BMIN=1.063779354095459 arcsec BPA=-62.51580047607422 deg,\n",
       "  'briggs_-1.5': Beam: BMAJ=1.4627315998077393 arcsec BMIN=1.063357949256897 arcsec BPA=-62.517791748046875 deg,\n",
       "  'briggs_-2.0': Beam: BMAJ=1.4626972675323486 arcsec BMIN=1.063315510749817 arcsec BPA=-62.51800537109375 deg,\n",
       "  'uniform': Beam: BMAJ=1.462693452835083 arcsec BMIN=1.0633108615875244 arcsec BPA=-62.518028259277344 deg},\n",
       " 'B': {'natural': Beam: BMAJ=5.4075751304626465 arcsec BMIN=5.082230091094971 arcsec BPA=-39.461082458496094 deg,\n",
       "  'briggs_2': Beam: BMAJ=5.400628566741943 arcsec BMIN=5.074558258056641 arcsec BPA=-39.97233200073242 deg,\n",
       "  'briggs_1.5': Beam: BMAJ=5.3363165855407715 arcsec BMIN=5.034058570861816 arcsec BPA=-39.698463439941406 deg,\n",
       "  'briggs_1.0': Beam: BMAJ=5.031683921813965 arcsec BMIN=4.752244472503662 arcsec BPA=-35.387969970703125 deg,\n",
       "  'briggs_0.5': Beam: BMAJ=4.4239420890808105 arcsec BMIN=4.1920576095581055 arcsec BPA=-26.645179748535156 deg,\n",
       "  'briggs_0.0': Beam: BMAJ=4.019109725952148 arcsec BMIN=3.7954375743865967 arcsec BPA=-32.15253448486328 deg,\n",
       "  'briggs_-0.5': Beam: BMAJ=3.9133493900299072 arcsec BMIN=3.6765518188476562 arcsec BPA=-37.598140716552734 deg,\n",
       "  'briggs_-1.0': Beam: BMAJ=3.8997089862823486 arcsec BMIN=3.6586451530456543 arcsec BPA=-38.37044143676758 deg,\n",
       "  'briggs_-1.5': Beam: BMAJ=3.8982605934143066 arcsec BMIN=3.6567134857177734 arcsec BPA=-38.45388412475586 deg,\n",
       "  'briggs_-2.0': Beam: BMAJ=3.8981146812438965 arcsec BMIN=3.6565186977386475 arcsec BPA=-38.4622802734375 deg,\n",
       "  'uniform': Beam: BMAJ=3.8980982303619385 arcsec BMIN=3.65649676322937 arcsec BPA=-38.4631462097168 deg},\n",
       " 'C': {'natural': Beam: BMAJ=18.383577346801758 arcsec BMIN=16.889575958251953 arcsec BPA=-58.68149948120117 deg,\n",
       "  'briggs_2': Beam: BMAJ=18.36627197265625 arcsec BMIN=16.873201370239258 arcsec BPA=-58.66890335083008 deg,\n",
       "  'briggs_1.5': Beam: BMAJ=18.22150993347168 arcsec BMIN=16.736085891723633 arcsec BPA=-58.56071853637695 deg,\n",
       "  'briggs_1.0': Beam: BMAJ=17.24225425720215 arcsec BMIN=15.872122764587402 arcsec BPA=-58.24347686767578 deg,\n",
       "  'briggs_0.5': Beam: BMAJ=15.341890335083008 arcsec BMIN=13.949716567993164 arcsec BPA=-54.45100021362305 deg,\n",
       "  'briggs_0.0': Beam: BMAJ=13.990046501159668 arcsec BMIN=12.585058212280273 arcsec BPA=-53.09556198120117 deg,\n",
       "  'briggs_-0.5': Beam: BMAJ=13.577502250671387 arcsec BMIN=12.111889839172363 arcsec BPA=-51.95956039428711 deg,\n",
       "  'briggs_-1.0': Beam: BMAJ=13.510886192321777 arcsec BMIN=12.018540382385254 arcsec BPA=-51.64948272705078 deg,\n",
       "  'briggs_-1.5': Beam: BMAJ=13.503907203674316 arcsec BMIN=12.00629711151123 arcsec BPA=-51.612850189208984 deg,\n",
       "  'briggs_-2.0': Beam: BMAJ=13.503211975097656 arcsec BMIN=12.005001068115234 arcsec BPA=-51.60931396484375 deg,\n",
       "  'uniform': Beam: BMAJ=13.503135681152344 arcsec BMIN=12.004857063293457 arcsec BPA=-51.60893630981445 deg},\n",
       " 'D': {'natural': Beam: BMAJ=57.385711669921875 arcsec BMIN=53.606056213378906 arcsec BPA=-68.5546875 deg,\n",
       "  'briggs_2': Beam: BMAJ=57.33246994018555 arcsec BMIN=53.55628967285156 arcsec BPA=-68.515625 deg,\n",
       "  'briggs_1.5': Beam: BMAJ=56.834163665771484 arcsec BMIN=53.150699615478516 arcsec BPA=-68.146728515625 deg,\n",
       "  'briggs_1.0': Beam: BMAJ=53.881492614746094 arcsec BMIN=50.27348327636719 arcsec BPA=-64.40120697021484 deg,\n",
       "  'briggs_0.5': Beam: BMAJ=46.918067932128906 arcsec BMIN=43.77458190917969 arcsec BPA=-61.45806884765625 deg,\n",
       "  'briggs_0.0': Beam: BMAJ=41.45968246459961 arcsec BMIN=38.989707946777344 arcsec BPA=-61.94183349609375 deg,\n",
       "  'briggs_-0.5': Beam: BMAJ=39.57656478881836 arcsec BMIN=37.51741027832031 arcsec BPA=-63.56440734863281 deg,\n",
       "  'briggs_-1.0': Beam: BMAJ=39.238922119140625 arcsec BMIN=37.24256134033203 arcsec BPA=-64.66896057128906 deg,\n",
       "  'briggs_-1.5': Beam: BMAJ=39.1986198425293 arcsec BMIN=37.20872116088867 arcsec BPA=-64.89453125 deg,\n",
       "  'briggs_-2.0': Beam: BMAJ=39.194480895996094 arcsec BMIN=37.20521926879883 arcsec BPA=-64.921875 deg,\n",
       "  'uniform': Beam: BMAJ=39.19401931762695 arcsec BMIN=37.20482635498047 arcsec BPA=-64.921875 deg},\n",
       " 'A+B+C+D': {'natural': Beam: BMAJ=4.896121025085449 arcsec BMIN=4.677061080932617 arcsec BPA=-57.6378173828125 deg,\n",
       "  'briggs_2': Beam: BMAJ=4.8941330909729 arcsec BMIN=4.645363807678223 arcsec BPA=-56.621429443359375 deg,\n",
       "  'briggs_1.5': Beam: BMAJ=4.71027135848999 arcsec BMIN=4.509408473968506 arcsec BPA=-49.3433837890625 deg,\n",
       "  'briggs_1.0': Beam: BMAJ=4.01396369934082 arcsec BMIN=3.8821182250976562 arcsec BPA=-58.471866607666016 deg,\n",
       "  'briggs_0.5': Beam: BMAJ=2.7696311473846436 arcsec BMIN=2.5557284355163574 arcsec BPA=-53.06217956542969 deg,\n",
       "  'briggs_0.0': Beam: BMAJ=2.040313959121704 arcsec BMIN=1.5883197784423828 arcsec BPA=-62.725257873535156 deg,\n",
       "  'briggs_-0.5': Beam: BMAJ=1.8095130920410156 arcsec BMIN=1.3556514978408813 arcsec BPA=-60.854454040527344 deg,\n",
       "  'briggs_-1.0': Beam: BMAJ=1.7670706510543823 arcsec BMIN=1.310041904449463 arcsec BPA=-61.079315185546875 deg,\n",
       "  'briggs_-1.5': Beam: BMAJ=1.7624506950378418 arcsec BMIN=1.3044673204421997 arcsec BPA=-60.9959716796875 deg,\n",
       "  'briggs_-2.0': Beam: BMAJ=1.7619763612747192 arcsec BMIN=1.3039665222167969 arcsec BPA=-60.99623107910156 deg,\n",
       "  'uniform': Beam: BMAJ=1.7619235515594482 arcsec BMIN=1.303910732269287 arcsec BPA=-60.99627685546875 deg},\n",
       " 'A+B+C': {'natural': Beam: BMAJ=4.33268404006958 arcsec BMIN=4.1457133293151855 arcsec BPA=-50.185791015625 deg,\n",
       "  'briggs_2': Beam: BMAJ=4.325319290161133 arcsec BMIN=4.138486385345459 arcsec BPA=-50.16851806640625 deg,\n",
       "  'briggs_1.5': Beam: BMAJ=4.220579624176025 arcsec BMIN=4.038236141204834 arcsec BPA=-59.389892578125 deg,\n",
       "  'briggs_1.0': Beam: BMAJ=3.6097187995910645 arcsec BMIN=3.481010913848877 arcsec BPA=-52.017967224121094 deg,\n",
       "  'briggs_0.5': Beam: BMAJ=2.5482254028320312 arcsec BMIN=2.2534406185150146 arcsec BPA=-57.77930450439453 deg,\n",
       "  'briggs_0.0': Beam: BMAJ=1.965092420578003 arcsec BMIN=1.5121349096298218 arcsec BPA=-62.19415283203125 deg,\n",
       "  'briggs_-0.5': Beam: BMAJ=1.7933809757232666 arcsec BMIN=1.338554859161377 arcsec BPA=-60.806251525878906 deg,\n",
       "  'briggs_-1.0': Beam: BMAJ=1.7638384103775024 arcsec BMIN=1.306374430656433 arcsec BPA=-60.995704650878906 deg,\n",
       "  'briggs_-1.5': Beam: BMAJ=1.7609357833862305 arcsec BMIN=1.3033010959625244 arcsec BPA=-60.99665069580078 deg,\n",
       "  'briggs_-2.0': Beam: BMAJ=1.7606409788131714 arcsec BMIN=1.3029893636703491 arcsec BPA=-60.99683380126953 deg,\n",
       "  'uniform': Beam: BMAJ=1.7606080770492554 arcsec BMIN=1.3029544353485107 arcsec BPA=-60.996849060058594 deg},\n",
       " 'B+C+D': {'natural': Beam: BMAJ=9.7211332321167 arcsec BMIN=8.12271499633789 arcsec BPA=-63.4278564453125 deg,\n",
       "  'briggs_2': Beam: BMAJ=9.682989120483398 arcsec BMIN=8.079642295837402 arcsec BPA=-65.0965576171875 deg,\n",
       "  'briggs_1.5': Beam: BMAJ=9.283159255981445 arcsec BMIN=7.804365634918213 arcsec BPA=-59.20503234863281 deg,\n",
       "  'briggs_1.0': Beam: BMAJ=7.453543663024902 arcsec BMIN=6.521923065185547 arcsec BPA=-51.04876708984375 deg,\n",
       "  'briggs_0.5': Beam: BMAJ=5.4543375968933105 arcsec BMIN=5.119210720062256 arcsec BPA=-36.626346588134766 deg,\n",
       "  'briggs_0.0': Beam: BMAJ=4.473428726196289 arcsec BMIN=4.228248119354248 arcsec BPA=-30.57137680053711 deg,\n",
       "  'briggs_-0.5': Beam: BMAJ=4.15327787399292 arcsec BMIN=3.899549961090088 arcsec BPA=-37.200347900390625 deg,\n",
       "  'briggs_-1.0': Beam: BMAJ=4.0946221351623535 arcsec BMIN=3.8326025009155273 arcsec BPA=-38.765357971191406 deg,\n",
       "  'briggs_-1.5': Beam: BMAJ=4.088212013244629 arcsec BMIN=3.82452392578125 arcsec BPA=-39.02468490600586 deg,\n",
       "  'briggs_-2.0': Beam: BMAJ=4.0875563621521 arcsec BMIN=3.8236937522888184 arcsec BPA=-39.051353454589844 deg,\n",
       "  'uniform': Beam: BMAJ=4.087482929229736 arcsec BMIN=3.823601245880127 arcsec BPA=-39.054359436035156 deg},\n",
       " 'C+D': {'natural': Beam: BMAJ=24.706939697265625 arcsec BMIN=22.71837615966797 arcsec BPA=-62.18096923828125 deg,\n",
       "  'briggs_2': Beam: BMAJ=24.53620147705078 arcsec BMIN=22.689014434814453 arcsec BPA=-59.02972412109375 deg,\n",
       "  'briggs_1.5': Beam: BMAJ=24.127723693847656 arcsec BMIN=22.34267234802246 arcsec BPA=-62.20658874511719 deg,\n",
       "  'briggs_1.0': Beam: BMAJ=21.68907928466797 arcsec BMIN=19.826120376586914 arcsec BPA=-62.06257247924805 deg,\n",
       "  'briggs_0.5': Beam: BMAJ=17.4199275970459 arcsec BMIN=15.931568145751953 arcsec BPA=-57.60826110839844 deg,\n",
       "  'briggs_0.0': Beam: BMAJ=14.825033187866211 arcsec BMIN=13.397812843322754 arcsec BPA=-53.801151275634766 deg,\n",
       "  'briggs_-0.5': Beam: BMAJ=13.941292762756348 arcsec BMIN=12.492903709411621 arcsec BPA=-52.56338882446289 deg,\n",
       "  'briggs_-1.0': Beam: BMAJ=13.773706436157227 arcsec BMIN=12.290107727050781 arcsec BPA=-52.088226318359375 deg,\n",
       "  'briggs_-1.5': Beam: BMAJ=13.753888130187988 arcsec BMIN=12.260604858398438 arcsec BPA=-52.01589584350586 deg,\n",
       "  'briggs_-2.0': Beam: BMAJ=13.7518892288208 arcsec BMIN=12.25735855102539 arcsec BPA=-52.00892639160156 deg,\n",
       "  'uniform': Beam: BMAJ=13.751667022705078 arcsec BMIN=12.256993293762207 arcsec BPA=-52.008148193359375 deg}}"
      ]
     },
     "execution_count": 116,
     "metadata": {},
     "output_type": "execute_result"
    }
   ],
   "source": [
    "beams"
   ]
  },
  {
   "cell_type": "code",
   "execution_count": 117,
   "id": "1345a752-02fc-45c2-b5eb-ea59fcd0c05d",
   "metadata": {},
   "outputs": [],
   "source": [
    "import matplotlib.pyplot as plt\n",
    "\n",
    "import seaborn as sb\n",
    "\n",
    "sb.set_context(\"paper\", font_scale=1.2)"
   ]
  },
  {
   "cell_type": "code",
   "execution_count": 118,
   "id": "b382eefe-f9f8-4c2a-a939-c3ae4ba2827e",
   "metadata": {},
   "outputs": [
    {
     "name": "stdout",
     "output_type": "stream",
     "text": [
      "0.0010059566306756737 169.7009153993305\n",
      "0.0009820949241848697 20.344052072855625\n",
      "0.0015768971984100816 2.827915667453003\n",
      "0.002478698849383972 0.45622765531550175\n",
      "0.0006229747355840829 15.74390515224999\n",
      "0.0006444014780802133 20.79476168176038\n",
      "0.0007916755705028323 5.0769118718102115\n",
      "0.001323949698772919 1.3154761385645741\n"
     ]
    },
    {
     "data": {
      "text/plain": [
       "<matplotlib.lines.Line2D at 0x7fb6a65ff790>"
      ]
     },
     "execution_count": 118,
     "metadata": {},
     "output_type": "execute_result"
    },
    {
     "data": {
      "image/png": "[encoded data removed]",
      "text/plain": [
       "<Figure size 640x320 with 2 Axes>"
      ]
     },
     "metadata": {},
     "output_type": "display_data"
    }
   ],
   "source": [
    "# plt.figure(figsize=(3.2, 3.2))\n",
    "# plt.figure(figsize=(3.2, 3.2))\n",
    "\n",
    "fig, axs = plt.subplots(1, 2, sharex=True, figsize=(6.4, 3.2),\n",
    "                        layout='constrained')\n",
    "\n",
    "\n",
    "for this_config in configs + config_combos:\n",
    "\n",
    "    these_major_arcsec = [beams[this_config][this_weight].major.to(u.arcsec).value\n",
    "                          for this_weight in weightings]\n",
    "    these_rms = np.array([rms[this_config][this_weight]\n",
    "                 for this_weight in weightings])\n",
    "    these_rms_K = np.array([rms_K[this_config][this_weight]\n",
    "                 for this_weight in weightings])\n",
    "    axs[0].loglog(these_major_arcsec, these_rms, \"D-\", label=this_config)\n",
    "\n",
    "    axs[1].loglog(these_major_arcsec, these_rms_K, \"D-\", label=this_config)\n",
    "\n",
    "    print(these_rms.min(), these_rms_K.min())\n",
    "\n",
    "axs[1].legend(fontsize=5)\n",
    "\n",
    "axs[0].set_ylabel(\"rms (Jy/beam)\")\n",
    "axs[1].set_ylabel(\"rms (K)\")\n",
    "\n",
    "axs[0].set_xlabel(\"Beam Major Axis ($^{''}$)\")\n",
    "axs[1].set_xlabel(\"Beam Major Axis ($^{''}$)\")\n",
    "\n",
    "axs[0].set_xlim([1, 70])\n",
    "\n",
    "axs[0].axvline(60, color='k')\n",
    "axs[1].axvline(60, color='k')\n",
    "\n",
    "axs[1].axvline(4, color='k')\n"
   ]
  },
  {
   "cell_type": "code",
   "execution_count": 119,
   "id": "c8c22802-8cb8-43a2-9c68-bec4ffeb085e",
   "metadata": {},
   "outputs": [
    {
     "data": {
      "image/png": "[encoded data removed]",
      "text/plain": [
       "<Figure size 640x320 with 2 Axes>"
      ]
     },
     "metadata": {},
     "output_type": "display_data"
    }
   ],
   "source": [
    "# plt.figure(figsize=(3.2, 3.2))\n",
    "# plt.figure(figsize=(3.2, 3.2))\n",
    "\n",
    "fig, axs = plt.subplots(1, 2, sharex=True, figsize=(6.4, 3.2),\n",
    "                        layout='constrained')\n",
    "\n",
    "\n",
    "lines = []\n",
    "labels = []\n",
    "\n",
    "rep_vel = 10 # * km/s\n",
    "\n",
    "for this_config in configs + config_combos:\n",
    "\n",
    "    these_major_arcsec = [beams[this_config][this_weight].major.to(u.arcsec).value\n",
    "                          for this_weight in weightings]\n",
    "    these_rms_K = np.array([rms_K[this_config][this_weight]  \n",
    "                            for this_weight in weightings])\n",
    "\n",
    "    rms_per0p4 = these_rms_K * np.sqrt(chan_width.value / 0.42)\n",
    "    \n",
    "    lines.append(axs[0].loglog(these_major_arcsec, rms_per0p4, \"D-\", label=this_config)[0])\n",
    "    labels.append(this_config)\n",
    "\n",
    "    rms_10kms = these_rms_K / np.sqrt(rep_vel / chan_width)\n",
    "    coldens = 1.82e18 * rms_10kms * rep_vel\n",
    "    axs[1].loglog(these_major_arcsec, coldens, \n",
    "                  \"D-\", label=this_config)\n",
    "\n",
    "    # print(these_rms.min(), these_rms_K.min())\n",
    "\n",
    "# Show the scaling from simply smoothing\n",
    "scaling_beams = np.logspace(0, 2, 10)\n",
    "\n",
    "for noise_scale in np.logspace(np.log10(100), np.log10(5000), 5):\n",
    "    axs[0].loglog(scaling_beams, noise_scale / scaling_beams**2, linestyle='--', color='k', alpha=0.5)\n",
    "\n",
    "    rms_10kms = noise_scale / np.sqrt(rep_vel / chan_width)\n",
    "    coldens = 1.82e18 * rms_10kms * rep_vel\n",
    "    \n",
    "    axs[1].loglog(scaling_beams, \n",
    "                  coldens / scaling_beams**2, \n",
    "                  linestyle='--', color='k', alpha=0.5)\n",
    "\n",
    "\n",
    "# Move to outside the panels\n",
    "# axs[0].legend(fontsize=10, ncol=2)\n",
    "\n",
    "# axs[0].set_ylabel(f\"HI rms (K) per {chan_width.value:.1f}\" + r\"km s$^{-1}$\")\n",
    "axs[0].set_ylabel(\"HI rms (K) per 0.4\" + r\" km s$^{-1}$\")\n",
    "\n",
    "axs[1].set_ylabel(\"HI rms column density (cm$^{-2}$)\")\n",
    "# over 10 km s$^{-1}$\", nrow=2)\n",
    "axs[1].text(0.95, 0.9, 'per 10 km s$^{-1}$', \n",
    "        transform=axs[1].transAxes, \n",
    "        horizontalalignment='right', \n",
    "        verticalalignment='center',\n",
    "        bbox=dict(boxstyle=\"round,pad=0.3\", edgecolor='black', facecolor='white', linewidth=1))\n",
    "\n",
    "axs[0].set_xlabel(\"Beam Major Axis ($^{''}$)\")\n",
    "axs[1].set_xlabel(\"Beam Major Axis ($^{''}$)\")\n",
    "\n",
    "axs[0].set_xlim([1, 70])\n",
    "\n",
    "axs[0].set_ylim([0.5, 800])\n",
    "axs[1].set_ylim([1e18, 5e21])\n",
    "\n",
    "# axs[1].tick_params(labeltop=True, top=True)\n",
    "axs[1].xaxis.set_tick_params(which='both', top=True)\n",
    "axs[1].yaxis.set_tick_params(which='both', right=True)\n",
    "\n",
    "# axs[0].axvline(60, color='k')\n",
    "# axs[1].axvline(60, color='k')\n",
    "\n",
    "# High-res target is 1e20 @ 7 km/s. Convert to equivalent over 10 km/s\n",
    "# axs[1].axvline(4.5, color='k')\n",
    "# axs[1].axhline(1e20 * (7 / 10), color='k')\n",
    "\n",
    "axs[1].plot([4.5] * 2, [1e20 * (7 / 10), 1e22], 'k')\n",
    "axs[1].plot([1, 4.5], [1e20 * (7 / 10)] * 2, 'k')\n",
    "axs[1].text(1.1, 5e19, r\"$7\\times10^{19}$ cm$^{-2}$\", va='top', ha='left')\n",
    "axs[1].text(4.5, 1e22, r\"$4.5^{''}$\", va='center', ha='center', rotation=0)\n",
    "\n",
    "\n",
    "# High-res target is 1e20 @ 7 km/s. Convert to equivalent over 10 km/s\n",
    "# axs[1].axvline(48.6, color='k')\n",
    "# axs[1].axhline(3.2e18 * (20 / 10), color='k')\n",
    "\n",
    "axs[1].plot([48.6] * 2, [3.2e18 * (20 / 10), 1e22], 'k')\n",
    "axs[1].plot([1, 48.6], [3.2e18 * (20 / 10)] * 2, 'k')\n",
    "axs[1].text(1.1, 5e18, r\"$6\\times10^{18}$ cm$^{-2}$\", va='top', ha='left')\n",
    "axs[1].text(48.6, 1e22, r\"$48.6^{''}$\", va='center', ha='center', rotation=0)\n",
    "\n",
    "\n",
    "fig.legend(lines, labels, \n",
    "           fontsize=10, ncol=4,\n",
    "           bbox_to_anchor=(0.85, 1.2),)\n",
    "\n",
    "# Adjust figure to make room for the legend\n",
    "# plt.subplots_adjust(right=0.85)\n",
    "\n",
    "plt.savefig(\"figures/ic10ctr_beam_vs_noise.pdf\", bbox_inches='tight')\n"
   ]
  },
  {
   "cell_type": "code",
   "execution_count": 120,
   "id": "47ba7ba6-22b3-4234-937e-5fbc07926504",
   "metadata": {},
   "outputs": [
    {
     "data": {
      "text/plain": [
       "6.999999999999999e+19"
      ]
     },
     "execution_count": 120,
     "metadata": {},
     "output_type": "execute_result"
    }
   ],
   "source": [
    "1e20 * (7 / 10)"
   ]
  },
  {
   "cell_type": "code",
   "execution_count": 121,
   "id": "fc9b4742-eb9f-4ef3-b8ef-b671f964bc90",
   "metadata": {},
   "outputs": [
    {
     "data": {
      "text/plain": [
       "\u001b[0;31mSignature:\u001b[0m \u001b[0mplt\u001b[0m\u001b[0;34m.\u001b[0m\u001b[0mtick_params\u001b[0m\u001b[0;34m(\u001b[0m\u001b[0maxis\u001b[0m\u001b[0;34m=\u001b[0m\u001b[0;34m'both'\u001b[0m\u001b[0;34m,\u001b[0m \u001b[0;34m**\u001b[0m\u001b[0mkwargs\u001b[0m\u001b[0;34m)\u001b[0m\u001b[0;34m\u001b[0m\u001b[0;34m\u001b[0m\u001b[0m\n",
       "\u001b[0;31mDocstring:\u001b[0m\n",
       "Change the appearance of ticks, tick labels, and gridlines.\n",
       "\n",
       "Tick properties that are not explicitly set using the keyword\n",
       "arguments remain unchanged unless *reset* is True. For the current\n",
       "style settings, see `.Axis.get_tick_params`.\n",
       "\n",
       "Parameters\n",
       "----------\n",
       "axis : {'x', 'y', 'both'}, default: 'both'\n",
       "    The axis to which the parameters are applied.\n",
       "which : {'major', 'minor', 'both'}, default: 'major'\n",
       "    The group of ticks to which the parameters are applied.\n",
       "reset : bool, default: False\n",
       "    Whether to reset the ticks to defaults before updating them.\n",
       "\n",
       "Other Parameters\n",
       "----------------\n",
       "direction : {'in', 'out', 'inout'}\n",
       "    Puts ticks inside the Axes, outside the Axes, or both.\n",
       "length : float\n",
       "    Tick length in points.\n",
       "width : float\n",
       "    Tick width in points.\n",
       "color : color\n",
       "    Tick color.\n",
       "pad : float\n",
       "    Distance in points between tick and label.\n",
       "labelsize : float or str\n",
       "    Tick label font size in points or as a string (e.g., 'large').\n",
       "labelcolor : color\n",
       "    Tick label color.\n",
       "colors : color\n",
       "    Tick color and label color.\n",
       "zorder : float\n",
       "    Tick and label zorder.\n",
       "bottom, top, left, right : bool\n",
       "    Whether to draw the respective ticks.\n",
       "labelbottom, labeltop, labelleft, labelright : bool\n",
       "    Whether to draw the respective tick labels.\n",
       "labelrotation : float\n",
       "    Tick label rotation\n",
       "grid_color : color\n",
       "    Gridline color.\n",
       "grid_alpha : float\n",
       "    Transparency of gridlines: 0 (transparent) to 1 (opaque).\n",
       "grid_linewidth : float\n",
       "    Width of gridlines in points.\n",
       "grid_linestyle : str\n",
       "    Any valid `.Line2D` line style spec.\n",
       "\n",
       "Examples\n",
       "--------\n",
       "::\n",
       "\n",
       "    ax.tick_params(direction='out', length=6, width=2, colors='r',\n",
       "                   grid_color='r', grid_alpha=0.5)\n",
       "\n",
       "This will make all major ticks be red, pointing out of the box,\n",
       "and with dimensions 6 points by 2 points.  Tick labels will\n",
       "also be red.  Gridlines will be red and translucent.\n",
       "\u001b[0;31mSource:\u001b[0m   \n",
       "\u001b[0;34m@\u001b[0m\u001b[0m_copy_docstring_and_deprecators\u001b[0m\u001b[0;34m(\u001b[0m\u001b[0mAxes\u001b[0m\u001b[0;34m.\u001b[0m\u001b[0mtick_params\u001b[0m\u001b[0;34m)\u001b[0m\u001b[0;34m\u001b[0m\n",
       "\u001b[0;34m\u001b[0m\u001b[0;32mdef\u001b[0m \u001b[0mtick_params\u001b[0m\u001b[0;34m(\u001b[0m\u001b[0maxis\u001b[0m\u001b[0;34m=\u001b[0m\u001b[0;34m'both'\u001b[0m\u001b[0;34m,\u001b[0m \u001b[0;34m**\u001b[0m\u001b[0mkwargs\u001b[0m\u001b[0;34m)\u001b[0m\u001b[0;34m:\u001b[0m\u001b[0;34m\u001b[0m\n",
       "\u001b[0;34m\u001b[0m    \u001b[0;32mreturn\u001b[0m \u001b[0mgca\u001b[0m\u001b[0;34m(\u001b[0m\u001b[0;34m)\u001b[0m\u001b[0;34m.\u001b[0m\u001b[0mtick_params\u001b[0m\u001b[0;34m(\u001b[0m\u001b[0maxis\u001b[0m\u001b[0;34m=\u001b[0m\u001b[0maxis\u001b[0m\u001b[0;34m,\u001b[0m \u001b[0;34m**\u001b[0m\u001b[0mkwargs\u001b[0m\u001b[0;34m)\u001b[0m\u001b[0;34m\u001b[0m\u001b[0;34m\u001b[0m\u001b[0m\n",
       "\u001b[0;31mFile:\u001b[0m      ~/anaconda3/envs/pyuvdata_ewk/lib/python3.10/site-packages/matplotlib/pyplot.py\n",
       "\u001b[0;31mType:\u001b[0m      function"
      ]
     },
     "metadata": {},
     "output_type": "display_data"
    }
   ],
   "source": [
    "plt.tick_params??"
   ]
  },
  {
   "cell_type": "code",
   "execution_count": null,
   "id": "98356694-3839-4021-9a0e-cdd632a94bcf",
   "metadata": {},
   "outputs": [],
   "source": []
  }
 ],
 "metadata": {
  "kernelspec": {
   "display_name": "Python 3 (ipykernel)",
   "language": "python",
   "name": "python3"
  },
  "language_info": {
   "codemirror_mode": {
    "name": "ipython",
    "version": 3
   },
   "file_extension": ".py",
   "mimetype": "text/x-python",
   "name": "python",
   "nbconvert_exporter": "python",
   "pygments_lexer": "ipython3",
   "version": "3.10.8"
  }
 },
 "nbformat": 4,
 "nbformat_minor": 5
}
