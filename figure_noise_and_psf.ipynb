{
 "cells": [
  {
   "cell_type": "code",
<<<<<<< HEAD
   "execution_count": 111,
=======
   "execution_count": 1,
>>>>>>> 24ab4b9 (Long overdue update, including foreground separation, feathering scripts, rms estimation, and cluster imaging)
   "id": "91f38dc5-a085-4509-9014-ee9bbb61df07",
   "metadata": {},
   "outputs": [],
   "source": [
<<<<<<< HEAD
    "%matplotlib inline"
=======
    "%matplotlib inline\n"
>>>>>>> 24ab4b9 (Long overdue update, including foreground separation, feathering scripts, rms estimation, and cluster imaging)
   ]
  },
  {
   "cell_type": "code",
<<<<<<< HEAD
   "execution_count": 112,
=======
   "execution_count": 2,
>>>>>>> 24ab4b9 (Long overdue update, including foreground separation, feathering scripts, rms estimation, and cluster imaging)
   "id": "dc3355a4-7e7c-4323-8baf-22c80f8d71ab",
   "metadata": {},
   "outputs": [],
   "source": [
    "from pathlib import Path\n",
    "\n",
    "from spectral_cube import SpectralCube\n",
    "from astropy.stats import mad_std"
   ]
  },
  {
   "cell_type": "code",
<<<<<<< HEAD
   "execution_count": 113,
=======
   "execution_count": 3,
>>>>>>> 24ab4b9 (Long overdue update, including foreground separation, feathering scripts, rms estimation, and cluster imaging)
   "id": "dad304a5-7715-4999-b075-d0ac125aaf5c",
   "metadata": {},
   "outputs": [],
   "source": [
<<<<<<< HEAD
    "data_path = Path(\"/reduction10/erickoch/LGLBS/line_imaging/psf_and_noise_tests/\")"
=======
    "# data_path = Path(\"/reduction10/erickoch/LGLBS/line_imaging/psf_and_noise_tests/\")\n",
    "data_path = Path(\"/reduction/erickoch/LGLBS/line_imaging/psf_and_noise_tests/\")"
>>>>>>> 24ab4b9 (Long overdue update, including foreground separation, feathering scripts, rms estimation, and cluster imaging)
   ]
  },
  {
   "cell_type": "code",
<<<<<<< HEAD
   "execution_count": 114,
=======
   "execution_count": 4,
>>>>>>> 24ab4b9 (Long overdue update, including foreground separation, feathering scripts, rms estimation, and cluster imaging)
   "id": "583cb73b-5331-4f83-b944-03cd7f72b0b5",
   "metadata": {},
   "outputs": [],
   "source": [
    "configs = ['A', 'B', 'C', 'D']\n",
    "\n",
    "config_combos = ['A+B+C+D', 'A+B+C', 'B+C+D', 'C+D']\n",
    "\n",
    "briggs_weights = [f\"briggs_{this_r}\" for this_r in\n",
    "                  [2, 1.5, 1.0, 0.5, 0.0, -0.5, -1.0, -1.5, -2.0]]\n",
    "weightings = ['natural'] + briggs_weights + ['uniform']"
   ]
  },
  {
   "cell_type": "code",
<<<<<<< HEAD
   "execution_count": 115,
=======
   "execution_count": 5,
>>>>>>> 24ab4b9 (Long overdue update, including foreground separation, feathering scripts, rms estimation, and cluster imaging)
   "id": "fc2e17b8-4b18-44fc-9cd8-208edf210120",
   "metadata": {
    "scrolled": true
   },
   "outputs": [
    {
     "name": "stderr",
     "output_type": "stream",
     "text": [
      "/home/erickoch/anaconda3/envs/pyuvdata_ewk/lib/python3.10/site-packages/casa_formats_io/casa_dask.py:247: RuntimeWarning: divide by zero encountered in scalar remainder\n",
      "  factors = [f for f in range(stacks[dim] + 1) if stacks[dim] % f == 0]\n",
      "WARNING: StokesWarning: Cube is a Stokes cube, returning spectral cube for I component [spectral_cube.io.core]\n"
     ]
    },
    {
     "name": "stdout",
     "output_type": "stream",
     "text": [
      "-0.82470491897283\n"
     ]
    },
    {
     "name": "stderr",
     "output_type": "stream",
     "text": [
      "/home/erickoch/anaconda3/envs/pyuvdata_ewk/lib/python3.10/site-packages/casa_formats_io/casa_dask.py:247: RuntimeWarning: divide by zero encountered in scalar remainder\n",
      "  factors = [f for f in range(stacks[dim] + 1) if stacks[dim] % f == 0]\n",
      "WARNING: StokesWarning: Cube is a Stokes cube, returning spectral cube for I component [spectral_cube.io.core]\n"
     ]
    },
    {
     "name": "stdout",
     "output_type": "stream",
     "text": [
      "-0.82470491897283\n"
     ]
    },
    {
     "name": "stderr",
     "output_type": "stream",
     "text": [
      "/home/erickoch/anaconda3/envs/pyuvdata_ewk/lib/python3.10/site-packages/casa_formats_io/casa_dask.py:247: RuntimeWarning: divide by zero encountered in scalar remainder\n",
      "  factors = [f for f in range(stacks[dim] + 1) if stacks[dim] % f == 0]\n",
      "WARNING: StokesWarning: Cube is a Stokes cube, returning spectral cube for I component [spectral_cube.io.core]\n"
     ]
    },
    {
     "name": "stdout",
     "output_type": "stream",
     "text": [
      "-0.82470491897283\n"
     ]
    },
    {
     "name": "stderr",
     "output_type": "stream",
     "text": [
      "/home/erickoch/anaconda3/envs/pyuvdata_ewk/lib/python3.10/site-packages/casa_formats_io/casa_dask.py:247: RuntimeWarning: divide by zero encountered in scalar remainder\n",
      "  factors = [f for f in range(stacks[dim] + 1) if stacks[dim] % f == 0]\n",
      "WARNING: StokesWarning: Cube is a Stokes cube, returning spectral cube for I component [spectral_cube.io.core]\n"
     ]
    },
    {
     "name": "stdout",
     "output_type": "stream",
     "text": [
      "-0.82470491897283\n"
     ]
    },
    {
     "name": "stderr",
     "output_type": "stream",
     "text": [
      "/home/erickoch/anaconda3/envs/pyuvdata_ewk/lib/python3.10/site-packages/casa_formats_io/casa_dask.py:247: RuntimeWarning: divide by zero encountered in scalar remainder\n",
      "  factors = [f for f in range(stacks[dim] + 1) if stacks[dim] % f == 0]\n",
      "WARNING: StokesWarning: Cube is a Stokes cube, returning spectral cube for I component [spectral_cube.io.core]\n"
     ]
    },
    {
     "name": "stdout",
     "output_type": "stream",
     "text": [
      "-0.82470491897283\n"
     ]
    },
    {
     "name": "stderr",
     "output_type": "stream",
     "text": [
      "/home/erickoch/anaconda3/envs/pyuvdata_ewk/lib/python3.10/site-packages/casa_formats_io/casa_dask.py:247: RuntimeWarning: divide by zero encountered in scalar remainder\n",
      "  factors = [f for f in range(stacks[dim] + 1) if stacks[dim] % f == 0]\n",
      "WARNING: StokesWarning: Cube is a Stokes cube, returning spectral cube for I component [spectral_cube.io.core]\n"
     ]
    },
    {
     "name": "stdout",
     "output_type": "stream",
     "text": [
      "-0.82470491897283\n"
     ]
    },
    {
     "name": "stderr",
     "output_type": "stream",
     "text": [
      "/home/erickoch/anaconda3/envs/pyuvdata_ewk/lib/python3.10/site-packages/casa_formats_io/casa_dask.py:247: RuntimeWarning: divide by zero encountered in scalar remainder\n",
      "  factors = [f for f in range(stacks[dim] + 1) if stacks[dim] % f == 0]\n",
      "WARNING: StokesWarning: Cube is a Stokes cube, returning spectral cube for I component [spectral_cube.io.core]\n"
     ]
    },
    {
     "name": "stdout",
     "output_type": "stream",
     "text": [
      "-0.82470491897283\n"
     ]
    },
    {
     "name": "stderr",
     "output_type": "stream",
     "text": [
      "/home/erickoch/anaconda3/envs/pyuvdata_ewk/lib/python3.10/site-packages/casa_formats_io/casa_dask.py:247: RuntimeWarning: divide by zero encountered in scalar remainder\n",
      "  factors = [f for f in range(stacks[dim] + 1) if stacks[dim] % f == 0]\n",
      "WARNING: StokesWarning: Cube is a Stokes cube, returning spectral cube for I component [spectral_cube.io.core]\n"
     ]
    },
    {
     "name": "stdout",
     "output_type": "stream",
     "text": [
      "-0.82470491897283\n"
     ]
    },
    {
     "name": "stderr",
     "output_type": "stream",
     "text": [
      "/home/erickoch/anaconda3/envs/pyuvdata_ewk/lib/python3.10/site-packages/casa_formats_io/casa_dask.py:247: RuntimeWarning: divide by zero encountered in scalar remainder\n",
      "  factors = [f for f in range(stacks[dim] + 1) if stacks[dim] % f == 0]\n",
      "WARNING: StokesWarning: Cube is a Stokes cube, returning spectral cube for I component [spectral_cube.io.core]\n"
     ]
    },
    {
     "name": "stdout",
     "output_type": "stream",
     "text": [
      "-0.82470491897283\n"
     ]
    },
    {
     "name": "stderr",
     "output_type": "stream",
     "text": [
      "/home/erickoch/anaconda3/envs/pyuvdata_ewk/lib/python3.10/site-packages/casa_formats_io/casa_dask.py:247: RuntimeWarning: divide by zero encountered in scalar remainder\n",
      "  factors = [f for f in range(stacks[dim] + 1) if stacks[dim] % f == 0]\n",
      "WARNING: StokesWarning: Cube is a Stokes cube, returning spectral cube for I component [spectral_cube.io.core]\n"
     ]
    },
    {
     "name": "stdout",
     "output_type": "stream",
     "text": [
      "-0.82470491897283\n"
     ]
    },
    {
     "name": "stderr",
     "output_type": "stream",
     "text": [
      "/home/erickoch/anaconda3/envs/pyuvdata_ewk/lib/python3.10/site-packages/casa_formats_io/casa_dask.py:247: RuntimeWarning: divide by zero encountered in scalar remainder\n",
      "  factors = [f for f in range(stacks[dim] + 1) if stacks[dim] % f == 0]\n",
      "WARNING: StokesWarning: Cube is a Stokes cube, returning spectral cube for I component [spectral_cube.io.core]\n"
     ]
    },
    {
     "name": "stdout",
     "output_type": "stream",
     "text": [
      "-0.82470491897283\n"
     ]
    },
    {
     "name": "stderr",
     "output_type": "stream",
     "text": [
      "/home/erickoch/anaconda3/envs/pyuvdata_ewk/lib/python3.10/site-packages/casa_formats_io/casa_dask.py:247: RuntimeWarning: divide by zero encountered in scalar remainder\n",
      "  factors = [f for f in range(stacks[dim] + 1) if stacks[dim] % f == 0]\n",
      "WARNING: StokesWarning: Cube is a Stokes cube, returning spectral cube for I component [spectral_cube.io.core]\n"
     ]
    },
    {
     "name": "stdout",
     "output_type": "stream",
     "text": [
      "-0.82470491897283\n"
     ]
    },
    {
     "name": "stderr",
     "output_type": "stream",
     "text": [
      "/home/erickoch/anaconda3/envs/pyuvdata_ewk/lib/python3.10/site-packages/casa_formats_io/casa_dask.py:247: RuntimeWarning: divide by zero encountered in scalar remainder\n",
      "  factors = [f for f in range(stacks[dim] + 1) if stacks[dim] % f == 0]\n",
      "WARNING: StokesWarning: Cube is a Stokes cube, returning spectral cube for I component [spectral_cube.io.core]\n"
     ]
    },
    {
     "name": "stdout",
     "output_type": "stream",
     "text": [
      "-0.82470491897283\n"
     ]
    },
    {
     "name": "stderr",
     "output_type": "stream",
     "text": [
      "/home/erickoch/anaconda3/envs/pyuvdata_ewk/lib/python3.10/site-packages/casa_formats_io/casa_dask.py:247: RuntimeWarning: divide by zero encountered in scalar remainder\n",
      "  factors = [f for f in range(stacks[dim] + 1) if stacks[dim] % f == 0]\n",
      "WARNING: StokesWarning: Cube is a Stokes cube, returning spectral cube for I component [spectral_cube.io.core]\n"
     ]
    },
    {
     "name": "stdout",
     "output_type": "stream",
     "text": [
      "-0.82470491897283\n"
     ]
    },
    {
     "name": "stderr",
     "output_type": "stream",
     "text": [
      "/home/erickoch/anaconda3/envs/pyuvdata_ewk/lib/python3.10/site-packages/casa_formats_io/casa_dask.py:247: RuntimeWarning: divide by zero encountered in scalar remainder\n",
      "  factors = [f for f in range(stacks[dim] + 1) if stacks[dim] % f == 0]\n",
      "WARNING: StokesWarning: Cube is a Stokes cube, returning spectral cube for I component [spectral_cube.io.core]\n"
     ]
    },
    {
     "name": "stdout",
     "output_type": "stream",
     "text": [
      "-0.82470491897283\n"
     ]
    },
    {
     "name": "stderr",
     "output_type": "stream",
     "text": [
      "/home/erickoch/anaconda3/envs/pyuvdata_ewk/lib/python3.10/site-packages/casa_formats_io/casa_dask.py:247: RuntimeWarning: divide by zero encountered in scalar remainder\n",
      "  factors = [f for f in range(stacks[dim] + 1) if stacks[dim] % f == 0]\n",
      "WARNING: StokesWarning: Cube is a Stokes cube, returning spectral cube for I component [spectral_cube.io.core]\n"
     ]
    },
    {
     "name": "stdout",
     "output_type": "stream",
     "text": [
      "-0.82470491897283\n"
     ]
    },
    {
     "name": "stderr",
     "output_type": "stream",
     "text": [
      "/home/erickoch/anaconda3/envs/pyuvdata_ewk/lib/python3.10/site-packages/casa_formats_io/casa_dask.py:247: RuntimeWarning: divide by zero encountered in scalar remainder\n",
      "  factors = [f for f in range(stacks[dim] + 1) if stacks[dim] % f == 0]\n",
      "WARNING: StokesWarning: Cube is a Stokes cube, returning spectral cube for I component [spectral_cube.io.core]\n"
     ]
    },
    {
     "name": "stdout",
     "output_type": "stream",
     "text": [
      "-0.82470491897283\n"
     ]
    },
    {
     "name": "stderr",
     "output_type": "stream",
     "text": [
      "/home/erickoch/anaconda3/envs/pyuvdata_ewk/lib/python3.10/site-packages/casa_formats_io/casa_dask.py:247: RuntimeWarning: divide by zero encountered in scalar remainder\n",
      "  factors = [f for f in range(stacks[dim] + 1) if stacks[dim] % f == 0]\n",
      "WARNING: StokesWarning: Cube is a Stokes cube, returning spectral cube for I component [spectral_cube.io.core]\n"
     ]
    },
    {
     "name": "stdout",
     "output_type": "stream",
     "text": [
      "-0.82470491897283\n"
     ]
    },
    {
     "name": "stderr",
     "output_type": "stream",
     "text": [
      "/home/erickoch/anaconda3/envs/pyuvdata_ewk/lib/python3.10/site-packages/casa_formats_io/casa_dask.py:247: RuntimeWarning: divide by zero encountered in scalar remainder\n",
      "  factors = [f for f in range(stacks[dim] + 1) if stacks[dim] % f == 0]\n",
      "WARNING: StokesWarning: Cube is a Stokes cube, returning spectral cube for I component [spectral_cube.io.core]\n"
     ]
    },
    {
     "name": "stdout",
     "output_type": "stream",
     "text": [
      "-0.82470491897283\n"
     ]
    },
    {
     "name": "stderr",
     "output_type": "stream",
     "text": [
      "/home/erickoch/anaconda3/envs/pyuvdata_ewk/lib/python3.10/site-packages/casa_formats_io/casa_dask.py:247: RuntimeWarning: divide by zero encountered in scalar remainder\n",
      "  factors = [f for f in range(stacks[dim] + 1) if stacks[dim] % f == 0]\n",
      "WARNING: StokesWarning: Cube is a Stokes cube, returning spectral cube for I component [spectral_cube.io.core]\n"
     ]
    },
    {
     "name": "stdout",
     "output_type": "stream",
     "text": [
      "-0.82470491897283\n"
     ]
    },
    {
     "name": "stderr",
     "output_type": "stream",
     "text": [
      "/home/erickoch/anaconda3/envs/pyuvdata_ewk/lib/python3.10/site-packages/casa_formats_io/casa_dask.py:247: RuntimeWarning: divide by zero encountered in scalar remainder\n",
      "  factors = [f for f in range(stacks[dim] + 1) if stacks[dim] % f == 0]\n",
      "WARNING: StokesWarning: Cube is a Stokes cube, returning spectral cube for I component [spectral_cube.io.core]\n"
     ]
    },
    {
     "name": "stdout",
     "output_type": "stream",
     "text": [
      "-0.82470491897283\n"
     ]
    },
    {
     "name": "stderr",
     "output_type": "stream",
     "text": [
      "/home/erickoch/anaconda3/envs/pyuvdata_ewk/lib/python3.10/site-packages/casa_formats_io/casa_dask.py:247: RuntimeWarning: divide by zero encountered in scalar remainder\n",
      "  factors = [f for f in range(stacks[dim] + 1) if stacks[dim] % f == 0]\n",
      "WARNING: StokesWarning: Cube is a Stokes cube, returning spectral cube for I component [spectral_cube.io.core]\n"
     ]
    },
    {
     "name": "stdout",
     "output_type": "stream",
     "text": [
      "-0.82470491897283\n"
     ]
    },
    {
     "name": "stderr",
     "output_type": "stream",
     "text": [
      "/home/erickoch/anaconda3/envs/pyuvdata_ewk/lib/python3.10/site-packages/casa_formats_io/casa_dask.py:247: RuntimeWarning: divide by zero encountered in scalar remainder\n",
      "  factors = [f for f in range(stacks[dim] + 1) if stacks[dim] % f == 0]\n",
      "WARNING: StokesWarning: Cube is a Stokes cube, returning spectral cube for I component [spectral_cube.io.core]\n",
      "/home/erickoch/anaconda3/envs/pyuvdata_ewk/lib/python3.10/site-packages/casa_formats_io/casa_dask.py:247: RuntimeWarning: divide by zero encountered in scalar remainder\n",
      "  factors = [f for f in range(stacks[dim] + 1) if stacks[dim] % f == 0]\n"
     ]
    },
    {
     "name": "stdout",
     "output_type": "stream",
     "text": [
<<<<<<< HEAD
=======
      "-0.82470491897283\n"
     ]
    },
    {
     "name": "stderr",
     "output_type": "stream",
     "text": [
      "WARNING: StokesWarning: Cube is a Stokes cube, returning spectral cube for I component [spectral_cube.io.core]\n",
      "/home/erickoch/anaconda3/envs/pyuvdata_ewk/lib/python3.10/site-packages/casa_formats_io/casa_dask.py:247: RuntimeWarning: divide by zero encountered in scalar remainder\n",
      "  factors = [f for f in range(stacks[dim] + 1) if stacks[dim] % f == 0]\n",
      "WARNING: StokesWarning: Cube is a Stokes cube, returning spectral cube for I component [spectral_cube.io.core]\n"
     ]
    },
    {
     "name": "stdout",
     "output_type": "stream",
     "text": [
      "-0.82470491897283\n",
      "-0.82470491897283\n"
     ]
    },
    {
     "name": "stderr",
     "output_type": "stream",
     "text": [
      "/home/erickoch/anaconda3/envs/pyuvdata_ewk/lib/python3.10/site-packages/casa_formats_io/casa_dask.py:247: RuntimeWarning: divide by zero encountered in scalar remainder\n",
      "  factors = [f for f in range(stacks[dim] + 1) if stacks[dim] % f == 0]\n",
      "WARNING: StokesWarning: Cube is a Stokes cube, returning spectral cube for I component [spectral_cube.io.core]\n"
     ]
    },
    {
     "name": "stdout",
     "output_type": "stream",
     "text": [
      "-0.82470491897283\n",
      "-0.82470491897283\n"
     ]
    },
    {
     "name": "stderr",
     "output_type": "stream",
     "text": [
      "/home/erickoch/anaconda3/envs/pyuvdata_ewk/lib/python3.10/site-packages/casa_formats_io/casa_dask.py:247: RuntimeWarning: divide by zero encountered in scalar remainder\n",
      "  factors = [f for f in range(stacks[dim] + 1) if stacks[dim] % f == 0]\n",
      "WARNING: StokesWarning: Cube is a Stokes cube, returning spectral cube for I component [spectral_cube.io.core]\n",
      "/home/erickoch/anaconda3/envs/pyuvdata_ewk/lib/python3.10/site-packages/casa_formats_io/casa_dask.py:247: RuntimeWarning: divide by zero encountered in scalar remainder\n",
      "  factors = [f for f in range(stacks[dim] + 1) if stacks[dim] % f == 0]\n",
      "WARNING: StokesWarning: Cube is a Stokes cube, returning spectral cube for I component [spectral_cube.io.core]\n",
      "/home/erickoch/anaconda3/envs/pyuvdata_ewk/lib/python3.10/site-packages/casa_formats_io/casa_dask.py:247: RuntimeWarning: divide by zero encountered in scalar remainder\n",
      "  factors = [f for f in range(stacks[dim] + 1) if stacks[dim] % f == 0]\n",
      "WARNING: StokesWarning: Cube is a Stokes cube, returning spectral cube for I component [spectral_cube.io.core]\n"
     ]
    },
    {
     "name": "stdout",
     "output_type": "stream",
     "text": [
      "-0.82470491897283\n",
      "-0.82470491897283\n"
     ]
    },
    {
     "name": "stderr",
     "output_type": "stream",
     "text": [
      "/home/erickoch/anaconda3/envs/pyuvdata_ewk/lib/python3.10/site-packages/casa_formats_io/casa_dask.py:247: RuntimeWarning: divide by zero encountered in scalar remainder\n",
      "  factors = [f for f in range(stacks[dim] + 1) if stacks[dim] % f == 0]\n",
      "WARNING: StokesWarning: Cube is a Stokes cube, returning spectral cube for I component [spectral_cube.io.core]\n",
      "/home/erickoch/anaconda3/envs/pyuvdata_ewk/lib/python3.10/site-packages/casa_formats_io/casa_dask.py:247: RuntimeWarning: divide by zero encountered in scalar remainder\n",
      "  factors = [f for f in range(stacks[dim] + 1) if stacks[dim] % f == 0]\n"
     ]
    },
    {
     "name": "stdout",
     "output_type": "stream",
     "text": [
      "-0.82470491897283\n"
     ]
    },
    {
     "name": "stderr",
     "output_type": "stream",
     "text": [
      "WARNING: StokesWarning: Cube is a Stokes cube, returning spectral cube for I component [spectral_cube.io.core]\n",
      "/home/erickoch/anaconda3/envs/pyuvdata_ewk/lib/python3.10/site-packages/casa_formats_io/casa_dask.py:247: RuntimeWarning: divide by zero encountered in scalar remainder\n",
      "  factors = [f for f in range(stacks[dim] + 1) if stacks[dim] % f == 0]\n",
      "WARNING: StokesWarning: Cube is a Stokes cube, returning spectral cube for I component [spectral_cube.io.core]\n"
     ]
    },
    {
     "name": "stdout",
     "output_type": "stream",
     "text": [
      "-0.82470491897283\n",
      "-0.82470491897283\n"
     ]
    },
    {
     "name": "stderr",
     "output_type": "stream",
     "text": [
      "/home/erickoch/anaconda3/envs/pyuvdata_ewk/lib/python3.10/site-packages/casa_formats_io/casa_dask.py:247: RuntimeWarning: divide by zero encountered in scalar remainder\n",
      "  factors = [f for f in range(stacks[dim] + 1) if stacks[dim] % f == 0]\n",
      "WARNING: StokesWarning: Cube is a Stokes cube, returning spectral cube for I component [spectral_cube.io.core]\n"
     ]
    },
    {
     "name": "stdout",
     "output_type": "stream",
     "text": [
      "-0.82470491897283\n",
      "-0.82470491897283\n"
     ]
    },
    {
     "name": "stderr",
     "output_type": "stream",
     "text": [
      "/home/erickoch/anaconda3/envs/pyuvdata_ewk/lib/python3.10/site-packages/casa_formats_io/casa_dask.py:247: RuntimeWarning: divide by zero encountered in scalar remainder\n",
      "  factors = [f for f in range(stacks[dim] + 1) if stacks[dim] % f == 0]\n",
      "WARNING: StokesWarning: Cube is a Stokes cube, returning spectral cube for I component [spectral_cube.io.core]\n",
      "/home/erickoch/anaconda3/envs/pyuvdata_ewk/lib/python3.10/site-packages/casa_formats_io/casa_dask.py:247: RuntimeWarning: divide by zero encountered in scalar remainder\n",
      "  factors = [f for f in range(stacks[dim] + 1) if stacks[dim] % f == 0]\n",
      "WARNING: StokesWarning: Cube is a Stokes cube, returning spectral cube for I component [spectral_cube.io.core]\n",
      "/home/erickoch/anaconda3/envs/pyuvdata_ewk/lib/python3.10/site-packages/casa_formats_io/casa_dask.py:247: RuntimeWarning: divide by zero encountered in scalar remainder\n",
      "  factors = [f for f in range(stacks[dim] + 1) if stacks[dim] % f == 0]\n",
      "WARNING: StokesWarning: Cube is a Stokes cube, returning spectral cube for I component [spectral_cube.io.core]\n"
     ]
    },
    {
     "name": "stdout",
     "output_type": "stream",
     "text": [
      "-0.82470491897283\n",
      "-0.82470491897283\n"
     ]
    },
    {
     "name": "stderr",
     "output_type": "stream",
     "text": [
      "/home/erickoch/anaconda3/envs/pyuvdata_ewk/lib/python3.10/site-packages/casa_formats_io/casa_dask.py:247: RuntimeWarning: divide by zero encountered in scalar remainder\n",
      "  factors = [f for f in range(stacks[dim] + 1) if stacks[dim] % f == 0]\n",
      "WARNING: StokesWarning: Cube is a Stokes cube, returning spectral cube for I component [spectral_cube.io.core]\n",
      "/home/erickoch/anaconda3/envs/pyuvdata_ewk/lib/python3.10/site-packages/casa_formats_io/casa_dask.py:247: RuntimeWarning: divide by zero encountered in scalar remainder\n",
      "  factors = [f for f in range(stacks[dim] + 1) if stacks[dim] % f == 0]\n"
     ]
    },
    {
     "name": "stdout",
     "output_type": "stream",
     "text": [
      "-0.82470491897283\n"
     ]
    },
    {
     "name": "stderr",
     "output_type": "stream",
     "text": [
      "WARNING: StokesWarning: Cube is a Stokes cube, returning spectral cube for I component [spectral_cube.io.core]\n",
      "/home/erickoch/anaconda3/envs/pyuvdata_ewk/lib/python3.10/site-packages/casa_formats_io/casa_dask.py:247: RuntimeWarning: divide by zero encountered in scalar remainder\n",
      "  factors = [f for f in range(stacks[dim] + 1) if stacks[dim] % f == 0]\n",
      "WARNING: StokesWarning: Cube is a Stokes cube, returning spectral cube for I component [spectral_cube.io.core]\n"
     ]
    },
    {
     "name": "stdout",
     "output_type": "stream",
     "text": [
      "-0.82470491897283\n",
      "-0.82470491897283\n"
     ]
    },
    {
     "name": "stderr",
     "output_type": "stream",
     "text": [
      "/home/erickoch/anaconda3/envs/pyuvdata_ewk/lib/python3.10/site-packages/casa_formats_io/casa_dask.py:247: RuntimeWarning: divide by zero encountered in scalar remainder\n",
      "  factors = [f for f in range(stacks[dim] + 1) if stacks[dim] % f == 0]\n",
      "WARNING: StokesWarning: Cube is a Stokes cube, returning spectral cube for I component [spectral_cube.io.core]\n",
      "/home/erickoch/anaconda3/envs/pyuvdata_ewk/lib/python3.10/site-packages/casa_formats_io/casa_dask.py:247: RuntimeWarning: divide by zero encountered in scalar remainder\n",
      "  factors = [f for f in range(stacks[dim] + 1) if stacks[dim] % f == 0]\n"
     ]
    },
    {
     "name": "stdout",
     "output_type": "stream",
     "text": [
      "-0.82470491897283\n"
     ]
    },
    {
     "name": "stderr",
     "output_type": "stream",
     "text": [
      "WARNING: StokesWarning: Cube is a Stokes cube, returning spectral cube for I component [spectral_cube.io.core]\n",
      "/home/erickoch/anaconda3/envs/pyuvdata_ewk/lib/python3.10/site-packages/casa_formats_io/casa_dask.py:247: RuntimeWarning: divide by zero encountered in scalar remainder\n",
      "  factors = [f for f in range(stacks[dim] + 1) if stacks[dim] % f == 0]\n",
      "WARNING: StokesWarning: Cube is a Stokes cube, returning spectral cube for I component [spectral_cube.io.core]\n"
     ]
    },
    {
     "name": "stdout",
     "output_type": "stream",
     "text": [
      "-0.82470491897283\n",
      "-0.82470491897283\n"
     ]
    },
    {
     "name": "stderr",
     "output_type": "stream",
     "text": [
      "/home/erickoch/anaconda3/envs/pyuvdata_ewk/lib/python3.10/site-packages/casa_formats_io/casa_dask.py:247: RuntimeWarning: divide by zero encountered in scalar remainder\n",
      "  factors = [f for f in range(stacks[dim] + 1) if stacks[dim] % f == 0]\n",
      "WARNING: StokesWarning: Cube is a Stokes cube, returning spectral cube for I component [spectral_cube.io.core]\n",
      "/home/erickoch/anaconda3/envs/pyuvdata_ewk/lib/python3.10/site-packages/casa_formats_io/casa_dask.py:247: RuntimeWarning: divide by zero encountered in scalar remainder\n",
      "  factors = [f for f in range(stacks[dim] + 1) if stacks[dim] % f == 0]\n"
     ]
    },
    {
     "name": "stdout",
     "output_type": "stream",
     "text": [
>>>>>>> 24ab4b9 (Long overdue update, including foreground separation, feathering scripts, rms estimation, and cluster imaging)
      "-0.82470491897283\n",
      "-0.82470491897283\n"
     ]
    },
    {
     "name": "stderr",
     "output_type": "stream",
     "text": [
      "WARNING: StokesWarning: Cube is a Stokes cube, returning spectral cube for I component [spectral_cube.io.core]\n",
      "/home/erickoch/anaconda3/envs/pyuvdata_ewk/lib/python3.10/site-packages/casa_formats_io/casa_dask.py:247: RuntimeWarning: divide by zero encountered in scalar remainder\n",
      "  factors = [f for f in range(stacks[dim] + 1) if stacks[dim] % f == 0]\n",
      "WARNING: StokesWarning: Cube is a Stokes cube, returning spectral cube for I component [spectral_cube.io.core]\n"
     ]
    },
    {
     "name": "stdout",
     "output_type": "stream",
     "text": [
      "-0.82470491897283\n"
     ]
    },
    {
     "name": "stderr",
     "output_type": "stream",
     "text": [
      "/home/erickoch/anaconda3/envs/pyuvdata_ewk/lib/python3.10/site-packages/casa_formats_io/casa_dask.py:247: RuntimeWarning: divide by zero encountered in scalar remainder\n",
      "  factors = [f for f in range(stacks[dim] + 1) if stacks[dim] % f == 0]\n",
      "WARNING: StokesWarning: Cube is a Stokes cube, returning spectral cube for I component [spectral_cube.io.core]\n"
     ]
    },
    {
     "name": "stdout",
     "output_type": "stream",
     "text": [
      "-0.82470491897283\n"
     ]
    },
    {
     "name": "stderr",
     "output_type": "stream",
     "text": [
      "/home/erickoch/anaconda3/envs/pyuvdata_ewk/lib/python3.10/site-packages/casa_formats_io/casa_dask.py:247: RuntimeWarning: divide by zero encountered in scalar remainder\n",
      "  factors = [f for f in range(stacks[dim] + 1) if stacks[dim] % f == 0]\n",
      "WARNING: StokesWarning: Cube is a Stokes cube, returning spectral cube for I component [spectral_cube.io.core]\n"
     ]
    },
    {
     "name": "stdout",
     "output_type": "stream",
     "text": [
      "-0.82470491897283\n"
     ]
    },
    {
     "name": "stderr",
     "output_type": "stream",
     "text": [
      "/home/erickoch/anaconda3/envs/pyuvdata_ewk/lib/python3.10/site-packages/casa_formats_io/casa_dask.py:247: RuntimeWarning: divide by zero encountered in scalar remainder\n",
      "  factors = [f for f in range(stacks[dim] + 1) if stacks[dim] % f == 0]\n",
      "WARNING: StokesWarning: Cube is a Stokes cube, returning spectral cube for I component [spectral_cube.io.core]\n"
     ]
    },
    {
     "name": "stdout",
     "output_type": "stream",
     "text": [
      "-0.82470491897283\n"
     ]
    },
    {
     "name": "stderr",
     "output_type": "stream",
     "text": [
      "/home/erickoch/anaconda3/envs/pyuvdata_ewk/lib/python3.10/site-packages/casa_formats_io/casa_dask.py:247: RuntimeWarning: divide by zero encountered in scalar remainder\n",
      "  factors = [f for f in range(stacks[dim] + 1) if stacks[dim] % f == 0]\n",
<<<<<<< HEAD
=======
      "WARNING: StokesWarning: Cube is a Stokes cube, returning spectral cube for I component [spectral_cube.io.core]\n"
     ]
    },
    {
     "name": "stdout",
     "output_type": "stream",
     "text": [
      "-0.82470491897283\n"
     ]
    },
    {
     "name": "stderr",
     "output_type": "stream",
     "text": [
      "/home/erickoch/anaconda3/envs/pyuvdata_ewk/lib/python3.10/site-packages/casa_formats_io/casa_dask.py:247: RuntimeWarning: divide by zero encountered in scalar remainder\n",
      "  factors = [f for f in range(stacks[dim] + 1) if stacks[dim] % f == 0]\n",
      "WARNING: StokesWarning: Cube is a Stokes cube, returning spectral cube for I component [spectral_cube.io.core]\n"
     ]
    },
    {
     "name": "stdout",
     "output_type": "stream",
     "text": [
      "-0.82470491897283\n"
     ]
    },
    {
     "name": "stderr",
     "output_type": "stream",
     "text": [
      "/home/erickoch/anaconda3/envs/pyuvdata_ewk/lib/python3.10/site-packages/casa_formats_io/casa_dask.py:247: RuntimeWarning: divide by zero encountered in scalar remainder\n",
      "  factors = [f for f in range(stacks[dim] + 1) if stacks[dim] % f == 0]\n",
      "WARNING: StokesWarning: Cube is a Stokes cube, returning spectral cube for I component [spectral_cube.io.core]\n"
     ]
    },
    {
     "name": "stdout",
     "output_type": "stream",
     "text": [
      "-0.82470491897283\n"
     ]
    },
    {
     "name": "stderr",
     "output_type": "stream",
     "text": [
      "/home/erickoch/anaconda3/envs/pyuvdata_ewk/lib/python3.10/site-packages/casa_formats_io/casa_dask.py:247: RuntimeWarning: divide by zero encountered in scalar remainder\n",
      "  factors = [f for f in range(stacks[dim] + 1) if stacks[dim] % f == 0]\n",
      "WARNING: StokesWarning: Cube is a Stokes cube, returning spectral cube for I component [spectral_cube.io.core]\n"
     ]
    },
    {
     "name": "stdout",
     "output_type": "stream",
     "text": [
      "-0.82470491897283\n"
     ]
    },
    {
     "name": "stderr",
     "output_type": "stream",
     "text": [
      "/home/erickoch/anaconda3/envs/pyuvdata_ewk/lib/python3.10/site-packages/casa_formats_io/casa_dask.py:247: RuntimeWarning: divide by zero encountered in scalar remainder\n",
      "  factors = [f for f in range(stacks[dim] + 1) if stacks[dim] % f == 0]\n",
      "WARNING: StokesWarning: Cube is a Stokes cube, returning spectral cube for I component [spectral_cube.io.core]\n"
     ]
    },
    {
     "name": "stdout",
     "output_type": "stream",
     "text": [
      "-0.82470491897283\n"
     ]
    },
    {
     "name": "stderr",
     "output_type": "stream",
     "text": [
      "/home/erickoch/anaconda3/envs/pyuvdata_ewk/lib/python3.10/site-packages/casa_formats_io/casa_dask.py:247: RuntimeWarning: divide by zero encountered in scalar remainder\n",
      "  factors = [f for f in range(stacks[dim] + 1) if stacks[dim] % f == 0]\n",
      "WARNING: StokesWarning: Cube is a Stokes cube, returning spectral cube for I component [spectral_cube.io.core]\n"
     ]
    },
    {
     "name": "stdout",
     "output_type": "stream",
     "text": [
      "-0.82470491897283\n"
     ]
    },
    {
     "name": "stderr",
     "output_type": "stream",
     "text": [
      "/home/erickoch/anaconda3/envs/pyuvdata_ewk/lib/python3.10/site-packages/casa_formats_io/casa_dask.py:247: RuntimeWarning: divide by zero encountered in scalar remainder\n",
      "  factors = [f for f in range(stacks[dim] + 1) if stacks[dim] % f == 0]\n",
      "WARNING: StokesWarning: Cube is a Stokes cube, returning spectral cube for I component [spectral_cube.io.core]\n"
     ]
    },
    {
     "name": "stdout",
     "output_type": "stream",
     "text": [
      "-0.82470491897283\n"
     ]
    },
    {
     "name": "stderr",
     "output_type": "stream",
     "text": [
      "/home/erickoch/anaconda3/envs/pyuvdata_ewk/lib/python3.10/site-packages/casa_formats_io/casa_dask.py:247: RuntimeWarning: divide by zero encountered in scalar remainder\n",
      "  factors = [f for f in range(stacks[dim] + 1) if stacks[dim] % f == 0]\n",
      "WARNING: StokesWarning: Cube is a Stokes cube, returning spectral cube for I component [spectral_cube.io.core]\n"
     ]
    },
    {
     "name": "stdout",
     "output_type": "stream",
     "text": [
      "-0.82470491897283\n"
     ]
    },
    {
     "name": "stderr",
     "output_type": "stream",
     "text": [
      "/home/erickoch/anaconda3/envs/pyuvdata_ewk/lib/python3.10/site-packages/casa_formats_io/casa_dask.py:247: RuntimeWarning: divide by zero encountered in scalar remainder\n",
      "  factors = [f for f in range(stacks[dim] + 1) if stacks[dim] % f == 0]\n",
      "WARNING: StokesWarning: Cube is a Stokes cube, returning spectral cube for I component [spectral_cube.io.core]\n"
     ]
    },
    {
     "name": "stdout",
     "output_type": "stream",
     "text": [
      "-0.82470491897283\n"
     ]
    },
    {
     "name": "stderr",
     "output_type": "stream",
     "text": [
      "/home/erickoch/anaconda3/envs/pyuvdata_ewk/lib/python3.10/site-packages/casa_formats_io/casa_dask.py:247: RuntimeWarning: divide by zero encountered in scalar remainder\n",
      "  factors = [f for f in range(stacks[dim] + 1) if stacks[dim] % f == 0]\n",
      "WARNING: StokesWarning: Cube is a Stokes cube, returning spectral cube for I component [spectral_cube.io.core]\n"
     ]
    },
    {
     "name": "stdout",
     "output_type": "stream",
     "text": [
      "-0.82470491897283\n"
     ]
    },
    {
     "name": "stderr",
     "output_type": "stream",
     "text": [
      "/home/erickoch/anaconda3/envs/pyuvdata_ewk/lib/python3.10/site-packages/casa_formats_io/casa_dask.py:247: RuntimeWarning: divide by zero encountered in scalar remainder\n",
      "  factors = [f for f in range(stacks[dim] + 1) if stacks[dim] % f == 0]\n",
      "WARNING: StokesWarning: Cube is a Stokes cube, returning spectral cube for I component [spectral_cube.io.core]\n"
     ]
    },
    {
     "name": "stdout",
     "output_type": "stream",
     "text": [
      "-0.82470491897283\n"
     ]
    },
    {
     "name": "stderr",
     "output_type": "stream",
     "text": [
      "/home/erickoch/anaconda3/envs/pyuvdata_ewk/lib/python3.10/site-packages/casa_formats_io/casa_dask.py:247: RuntimeWarning: divide by zero encountered in scalar remainder\n",
      "  factors = [f for f in range(stacks[dim] + 1) if stacks[dim] % f == 0]\n",
      "WARNING: StokesWarning: Cube is a Stokes cube, returning spectral cube for I component [spectral_cube.io.core]\n"
     ]
    },
    {
     "name": "stdout",
     "output_type": "stream",
     "text": [
      "-0.82470491897283\n"
     ]
    },
    {
     "name": "stderr",
     "output_type": "stream",
     "text": [
      "/home/erickoch/anaconda3/envs/pyuvdata_ewk/lib/python3.10/site-packages/casa_formats_io/casa_dask.py:247: RuntimeWarning: divide by zero encountered in scalar remainder\n",
      "  factors = [f for f in range(stacks[dim] + 1) if stacks[dim] % f == 0]\n",
      "WARNING: StokesWarning: Cube is a Stokes cube, returning spectral cube for I component [spectral_cube.io.core]\n"
     ]
    },
    {
     "name": "stdout",
     "output_type": "stream",
     "text": [
      "-0.82470491897283\n"
     ]
    },
    {
     "name": "stderr",
     "output_type": "stream",
     "text": [
      "/home/erickoch/anaconda3/envs/pyuvdata_ewk/lib/python3.10/site-packages/casa_formats_io/casa_dask.py:247: RuntimeWarning: divide by zero encountered in scalar remainder\n",
      "  factors = [f for f in range(stacks[dim] + 1) if stacks[dim] % f == 0]\n",
      "WARNING: StokesWarning: Cube is a Stokes cube, returning spectral cube for I component [spectral_cube.io.core]\n"
     ]
    },
    {
     "name": "stdout",
     "output_type": "stream",
     "text": [
      "-0.82470491897283\n"
     ]
    },
    {
     "name": "stderr",
     "output_type": "stream",
     "text": [
      "/home/erickoch/anaconda3/envs/pyuvdata_ewk/lib/python3.10/site-packages/casa_formats_io/casa_dask.py:247: RuntimeWarning: divide by zero encountered in scalar remainder\n",
      "  factors = [f for f in range(stacks[dim] + 1) if stacks[dim] % f == 0]\n",
      "WARNING: StokesWarning: Cube is a Stokes cube, returning spectral cube for I component [spectral_cube.io.core]\n"
     ]
    },
    {
     "name": "stdout",
     "output_type": "stream",
     "text": [
      "-0.82470491897283\n"
     ]
    },
    {
     "name": "stderr",
     "output_type": "stream",
     "text": [
      "/home/erickoch/anaconda3/envs/pyuvdata_ewk/lib/python3.10/site-packages/casa_formats_io/casa_dask.py:247: RuntimeWarning: divide by zero encountered in scalar remainder\n",
      "  factors = [f for f in range(stacks[dim] + 1) if stacks[dim] % f == 0]\n",
      "WARNING: StokesWarning: Cube is a Stokes cube, returning spectral cube for I component [spectral_cube.io.core]\n"
     ]
    },
    {
     "name": "stdout",
     "output_type": "stream",
     "text": [
      "-0.82470491897283\n"
     ]
    },
    {
     "name": "stderr",
     "output_type": "stream",
     "text": [
      "/home/erickoch/anaconda3/envs/pyuvdata_ewk/lib/python3.10/site-packages/casa_formats_io/casa_dask.py:247: RuntimeWarning: divide by zero encountered in scalar remainder\n",
      "  factors = [f for f in range(stacks[dim] + 1) if stacks[dim] % f == 0]\n",
      "WARNING: StokesWarning: Cube is a Stokes cube, returning spectral cube for I component [spectral_cube.io.core]\n"
     ]
    },
    {
     "name": "stdout",
     "output_type": "stream",
     "text": [
      "-0.82470491897283\n"
     ]
    },
    {
     "name": "stderr",
     "output_type": "stream",
     "text": [
      "/home/erickoch/anaconda3/envs/pyuvdata_ewk/lib/python3.10/site-packages/casa_formats_io/casa_dask.py:247: RuntimeWarning: divide by zero encountered in scalar remainder\n",
      "  factors = [f for f in range(stacks[dim] + 1) if stacks[dim] % f == 0]\n",
      "WARNING: StokesWarning: Cube is a Stokes cube, returning spectral cube for I component [spectral_cube.io.core]\n"
     ]
    },
    {
     "name": "stdout",
     "output_type": "stream",
     "text": [
      "-0.82470491897283\n"
     ]
    },
    {
     "name": "stderr",
     "output_type": "stream",
     "text": [
      "/home/erickoch/anaconda3/envs/pyuvdata_ewk/lib/python3.10/site-packages/casa_formats_io/casa_dask.py:247: RuntimeWarning: divide by zero encountered in scalar remainder\n",
      "  factors = [f for f in range(stacks[dim] + 1) if stacks[dim] % f == 0]\n",
      "WARNING: StokesWarning: Cube is a Stokes cube, returning spectral cube for I component [spectral_cube.io.core]\n"
     ]
    },
    {
     "name": "stdout",
     "output_type": "stream",
     "text": [
      "-0.82470491897283\n"
     ]
    },
    {
     "name": "stderr",
     "output_type": "stream",
     "text": [
      "/home/erickoch/anaconda3/envs/pyuvdata_ewk/lib/python3.10/site-packages/casa_formats_io/casa_dask.py:247: RuntimeWarning: divide by zero encountered in scalar remainder\n",
      "  factors = [f for f in range(stacks[dim] + 1) if stacks[dim] % f == 0]\n",
      "WARNING: StokesWarning: Cube is a Stokes cube, returning spectral cube for I component [spectral_cube.io.core]\n"
     ]
    },
    {
     "name": "stdout",
     "output_type": "stream",
     "text": [
      "-0.82470491897283\n"
     ]
    },
    {
     "name": "stderr",
     "output_type": "stream",
     "text": [
      "/home/erickoch/anaconda3/envs/pyuvdata_ewk/lib/python3.10/site-packages/casa_formats_io/casa_dask.py:247: RuntimeWarning: divide by zero encountered in scalar remainder\n",
      "  factors = [f for f in range(stacks[dim] + 1) if stacks[dim] % f == 0]\n",
      "WARNING: StokesWarning: Cube is a Stokes cube, returning spectral cube for I component [spectral_cube.io.core]\n"
     ]
    },
    {
     "name": "stdout",
     "output_type": "stream",
     "text": [
      "-0.82470491897283\n"
     ]
    },
    {
     "name": "stderr",
     "output_type": "stream",
     "text": [
      "/home/erickoch/anaconda3/envs/pyuvdata_ewk/lib/python3.10/site-packages/casa_formats_io/casa_dask.py:247: RuntimeWarning: divide by zero encountered in scalar remainder\n",
      "  factors = [f for f in range(stacks[dim] + 1) if stacks[dim] % f == 0]\n",
      "WARNING: StokesWarning: Cube is a Stokes cube, returning spectral cube for I component [spectral_cube.io.core]\n"
     ]
    },
    {
     "name": "stdout",
     "output_type": "stream",
     "text": [
      "-0.82470491897283\n"
     ]
    },
    {
     "name": "stderr",
     "output_type": "stream",
     "text": [
      "/home/erickoch/anaconda3/envs/pyuvdata_ewk/lib/python3.10/site-packages/casa_formats_io/casa_dask.py:247: RuntimeWarning: divide by zero encountered in scalar remainder\n",
      "  factors = [f for f in range(stacks[dim] + 1) if stacks[dim] % f == 0]\n",
      "WARNING: StokesWarning: Cube is a Stokes cube, returning spectral cube for I component [spectral_cube.io.core]\n"
     ]
    },
    {
     "name": "stdout",
     "output_type": "stream",
     "text": [
      "-0.82470491897283\n"
     ]
    },
    {
     "name": "stderr",
     "output_type": "stream",
     "text": [
      "/home/erickoch/anaconda3/envs/pyuvdata_ewk/lib/python3.10/site-packages/casa_formats_io/casa_dask.py:247: RuntimeWarning: divide by zero encountered in scalar remainder\n",
      "  factors = [f for f in range(stacks[dim] + 1) if stacks[dim] % f == 0]\n",
      "WARNING: StokesWarning: Cube is a Stokes cube, returning spectral cube for I component [spectral_cube.io.core]\n"
     ]
    },
    {
     "name": "stdout",
     "output_type": "stream",
     "text": [
      "-0.82470491897283\n"
     ]
    },
    {
     "name": "stderr",
     "output_type": "stream",
     "text": [
      "/home/erickoch/anaconda3/envs/pyuvdata_ewk/lib/python3.10/site-packages/casa_formats_io/casa_dask.py:247: RuntimeWarning: divide by zero encountered in scalar remainder\n",
      "  factors = [f for f in range(stacks[dim] + 1) if stacks[dim] % f == 0]\n",
      "WARNING: StokesWarning: Cube is a Stokes cube, returning spectral cube for I component [spectral_cube.io.core]\n"
     ]
    },
    {
     "name": "stdout",
     "output_type": "stream",
     "text": [
      "-0.82470491897283\n"
     ]
    },
    {
     "name": "stderr",
     "output_type": "stream",
     "text": [
      "/home/erickoch/anaconda3/envs/pyuvdata_ewk/lib/python3.10/site-packages/casa_formats_io/casa_dask.py:247: RuntimeWarning: divide by zero encountered in scalar remainder\n",
      "  factors = [f for f in range(stacks[dim] + 1) if stacks[dim] % f == 0]\n",
      "WARNING: StokesWarning: Cube is a Stokes cube, returning spectral cube for I component [spectral_cube.io.core]\n"
     ]
    },
    {
     "name": "stdout",
     "output_type": "stream",
     "text": [
      "-0.82470491897283\n"
     ]
    },
    {
     "name": "stderr",
     "output_type": "stream",
     "text": [
      "/home/erickoch/anaconda3/envs/pyuvdata_ewk/lib/python3.10/site-packages/casa_formats_io/casa_dask.py:247: RuntimeWarning: divide by zero encountered in scalar remainder\n",
      "  factors = [f for f in range(stacks[dim] + 1) if stacks[dim] % f == 0]\n",
      "WARNING: StokesWarning: Cube is a Stokes cube, returning spectral cube for I component [spectral_cube.io.core]\n"
     ]
    },
    {
     "name": "stdout",
     "output_type": "stream",
     "text": [
      "-0.82470491897283\n"
     ]
    },
    {
     "name": "stderr",
     "output_type": "stream",
     "text": [
      "/home/erickoch/anaconda3/envs/pyuvdata_ewk/lib/python3.10/site-packages/casa_formats_io/casa_dask.py:247: RuntimeWarning: divide by zero encountered in scalar remainder\n",
      "  factors = [f for f in range(stacks[dim] + 1) if stacks[dim] % f == 0]\n",
      "WARNING: StokesWarning: Cube is a Stokes cube, returning spectral cube for I component [spectral_cube.io.core]\n"
     ]
    },
    {
     "name": "stdout",
     "output_type": "stream",
     "text": [
      "-0.82470491897283\n"
     ]
    },
    {
     "name": "stderr",
     "output_type": "stream",
     "text": [
      "/home/erickoch/anaconda3/envs/pyuvdata_ewk/lib/python3.10/site-packages/casa_formats_io/casa_dask.py:247: RuntimeWarning: divide by zero encountered in scalar remainder\n",
      "  factors = [f for f in range(stacks[dim] + 1) if stacks[dim] % f == 0]\n",
      "WARNING: StokesWarning: Cube is a Stokes cube, returning spectral cube for I component [spectral_cube.io.core]\n"
     ]
    },
    {
     "name": "stdout",
     "output_type": "stream",
     "text": [
      "-0.82470491897283\n"
     ]
    },
    {
     "name": "stderr",
     "output_type": "stream",
     "text": [
      "/home/erickoch/anaconda3/envs/pyuvdata_ewk/lib/python3.10/site-packages/casa_formats_io/casa_dask.py:247: RuntimeWarning: divide by zero encountered in scalar remainder\n",
      "  factors = [f for f in range(stacks[dim] + 1) if stacks[dim] % f == 0]\n",
>>>>>>> 24ab4b9 (Long overdue update, including foreground separation, feathering scripts, rms estimation, and cluster imaging)
      "WARNING: StokesWarning: Cube is a Stokes cube, returning spectral cube for I component [spectral_cube.io.core]\n",
      "/home/erickoch/anaconda3/envs/pyuvdata_ewk/lib/python3.10/site-packages/casa_formats_io/casa_dask.py:247: RuntimeWarning: divide by zero encountered in scalar remainder\n",
      "  factors = [f for f in range(stacks[dim] + 1) if stacks[dim] % f == 0]\n"
     ]
    },
    {
     "name": "stdout",
     "output_type": "stream",
     "text": [
      "-0.82470491897283\n",
      "-0.82470491897283\n"
     ]
    },
    {
     "name": "stderr",
     "output_type": "stream",
     "text": [
      "WARNING: StokesWarning: Cube is a Stokes cube, returning spectral cube for I component [spectral_cube.io.core]\n",
      "/home/erickoch/anaconda3/envs/pyuvdata_ewk/lib/python3.10/site-packages/casa_formats_io/casa_dask.py:247: RuntimeWarning: divide by zero encountered in scalar remainder\n",
      "  factors = [f for f in range(stacks[dim] + 1) if stacks[dim] % f == 0]\n",
      "WARNING: StokesWarning: Cube is a Stokes cube, returning spectral cube for I component [spectral_cube.io.core]\n"
     ]
    },
    {
     "name": "stdout",
     "output_type": "stream",
     "text": [
<<<<<<< HEAD
      "-0.82470491897283\n"
     ]
    },
    {
     "name": "stderr",
     "output_type": "stream",
     "text": [
      "/home/erickoch/anaconda3/envs/pyuvdata_ewk/lib/python3.10/site-packages/casa_formats_io/casa_dask.py:247: RuntimeWarning: divide by zero encountered in scalar remainder\n",
      "  factors = [f for f in range(stacks[dim] + 1) if stacks[dim] % f == 0]\n",
      "WARNING: StokesWarning: Cube is a Stokes cube, returning spectral cube for I component [spectral_cube.io.core]\n"
     ]
    },
    {
     "name": "stdout",
     "output_type": "stream",
     "text": [
      "-0.82470491897283\n"
     ]
    },
    {
     "name": "stderr",
     "output_type": "stream",
     "text": [
      "/home/erickoch/anaconda3/envs/pyuvdata_ewk/lib/python3.10/site-packages/casa_formats_io/casa_dask.py:247: RuntimeWarning: divide by zero encountered in scalar remainder\n",
      "  factors = [f for f in range(stacks[dim] + 1) if stacks[dim] % f == 0]\n",
      "WARNING: StokesWarning: Cube is a Stokes cube, returning spectral cube for I component [spectral_cube.io.core]\n"
     ]
    },
    {
     "name": "stdout",
     "output_type": "stream",
     "text": [
      "-0.82470491897283\n"
     ]
    },
    {
     "name": "stderr",
     "output_type": "stream",
     "text": [
      "/home/erickoch/anaconda3/envs/pyuvdata_ewk/lib/python3.10/site-packages/casa_formats_io/casa_dask.py:247: RuntimeWarning: divide by zero encountered in scalar remainder\n",
      "  factors = [f for f in range(stacks[dim] + 1) if stacks[dim] % f == 0]\n",
      "WARNING: StokesWarning: Cube is a Stokes cube, returning spectral cube for I component [spectral_cube.io.core]\n",
      "/home/erickoch/anaconda3/envs/pyuvdata_ewk/lib/python3.10/site-packages/casa_formats_io/casa_dask.py:247: RuntimeWarning: divide by zero encountered in scalar remainder\n",
      "  factors = [f for f in range(stacks[dim] + 1) if stacks[dim] % f == 0]\n"
     ]
    },
    {
     "name": "stdout",
     "output_type": "stream",
     "text": [
      "-0.82470491897283\n",
      "-0.82470491897283\n"
     ]
    },
    {
     "name": "stderr",
     "output_type": "stream",
     "text": [
      "WARNING: StokesWarning: Cube is a Stokes cube, returning spectral cube for I component [spectral_cube.io.core]\n",
      "/home/erickoch/anaconda3/envs/pyuvdata_ewk/lib/python3.10/site-packages/casa_formats_io/casa_dask.py:247: RuntimeWarning: divide by zero encountered in scalar remainder\n",
      "  factors = [f for f in range(stacks[dim] + 1) if stacks[dim] % f == 0]\n",
      "WARNING: StokesWarning: Cube is a Stokes cube, returning spectral cube for I component [spectral_cube.io.core]\n",
      "/home/erickoch/anaconda3/envs/pyuvdata_ewk/lib/python3.10/site-packages/casa_formats_io/casa_dask.py:247: RuntimeWarning: divide by zero encountered in scalar remainder\n",
      "  factors = [f for f in range(stacks[dim] + 1) if stacks[dim] % f == 0]\n"
     ]
    },
    {
     "name": "stdout",
     "output_type": "stream",
     "text": [
      "-0.82470491897283\n",
      "-0.82470491897283\n"
     ]
    },
    {
     "name": "stderr",
     "output_type": "stream",
     "text": [
      "WARNING: StokesWarning: Cube is a Stokes cube, returning spectral cube for I component [spectral_cube.io.core]\n",
      "/home/erickoch/anaconda3/envs/pyuvdata_ewk/lib/python3.10/site-packages/casa_formats_io/casa_dask.py:247: RuntimeWarning: divide by zero encountered in scalar remainder\n",
      "  factors = [f for f in range(stacks[dim] + 1) if stacks[dim] % f == 0]\n",
      "WARNING: StokesWarning: Cube is a Stokes cube, returning spectral cube for I component [spectral_cube.io.core]\n"
     ]
    },
    {
     "name": "stdout",
     "output_type": "stream",
     "text": [
=======
>>>>>>> 24ab4b9 (Long overdue update, including foreground separation, feathering scripts, rms estimation, and cluster imaging)
      "-0.82470491897283\n",
      "-0.82470491897283\n"
     ]
    },
    {
     "name": "stderr",
     "output_type": "stream",
     "text": [
      "/home/erickoch/anaconda3/envs/pyuvdata_ewk/lib/python3.10/site-packages/casa_formats_io/casa_dask.py:247: RuntimeWarning: divide by zero encountered in scalar remainder\n",
      "  factors = [f for f in range(stacks[dim] + 1) if stacks[dim] % f == 0]\n",
      "WARNING: StokesWarning: Cube is a Stokes cube, returning spectral cube for I component [spectral_cube.io.core]\n",
      "/home/erickoch/anaconda3/envs/pyuvdata_ewk/lib/python3.10/site-packages/casa_formats_io/casa_dask.py:247: RuntimeWarning: divide by zero encountered in scalar remainder\n",
      "  factors = [f for f in range(stacks[dim] + 1) if stacks[dim] % f == 0]\n",
<<<<<<< HEAD
=======
      "WARNING: StokesWarning: Cube is a Stokes cube, returning spectral cube for I component [spectral_cube.io.core]\n",
      "/home/erickoch/anaconda3/envs/pyuvdata_ewk/lib/python3.10/site-packages/casa_formats_io/casa_dask.py:247: RuntimeWarning: divide by zero encountered in scalar remainder\n",
      "  factors = [f for f in range(stacks[dim] + 1) if stacks[dim] % f == 0]\n",
>>>>>>> 24ab4b9 (Long overdue update, including foreground separation, feathering scripts, rms estimation, and cluster imaging)
      "WARNING: StokesWarning: Cube is a Stokes cube, returning spectral cube for I component [spectral_cube.io.core]\n"
     ]
    },
    {
     "name": "stdout",
     "output_type": "stream",
     "text": [
<<<<<<< HEAD
=======
      "-0.82470491897283\n",
>>>>>>> 24ab4b9 (Long overdue update, including foreground separation, feathering scripts, rms estimation, and cluster imaging)
      "-0.82470491897283\n"
     ]
    },
    {
     "name": "stderr",
     "output_type": "stream",
     "text": [
      "/home/erickoch/anaconda3/envs/pyuvdata_ewk/lib/python3.10/site-packages/casa_formats_io/casa_dask.py:247: RuntimeWarning: divide by zero encountered in scalar remainder\n",
      "  factors = [f for f in range(stacks[dim] + 1) if stacks[dim] % f == 0]\n",
      "WARNING: StokesWarning: Cube is a Stokes cube, returning spectral cube for I component [spectral_cube.io.core]\n",
      "/home/erickoch/anaconda3/envs/pyuvdata_ewk/lib/python3.10/site-packages/casa_formats_io/casa_dask.py:247: RuntimeWarning: divide by zero encountered in scalar remainder\n",
      "  factors = [f for f in range(stacks[dim] + 1) if stacks[dim] % f == 0]\n"
     ]
    },
    {
     "name": "stdout",
     "output_type": "stream",
     "text": [
      "-0.82470491897283\n",
      "-0.82470491897283\n"
     ]
    },
    {
     "name": "stderr",
     "output_type": "stream",
     "text": [
      "WARNING: StokesWarning: Cube is a Stokes cube, returning spectral cube for I component [spectral_cube.io.core]\n",
      "/home/erickoch/anaconda3/envs/pyuvdata_ewk/lib/python3.10/site-packages/casa_formats_io/casa_dask.py:247: RuntimeWarning: divide by zero encountered in scalar remainder\n",
      "  factors = [f for f in range(stacks[dim] + 1) if stacks[dim] % f == 0]\n",
      "WARNING: StokesWarning: Cube is a Stokes cube, returning spectral cube for I component [spectral_cube.io.core]\n"
     ]
    },
    {
     "name": "stdout",
     "output_type": "stream",
     "text": [
      "-0.82470491897283\n",
      "-0.82470491897283\n"
     ]
    },
    {
     "name": "stderr",
     "output_type": "stream",
     "text": [
      "/home/erickoch/anaconda3/envs/pyuvdata_ewk/lib/python3.10/site-packages/casa_formats_io/casa_dask.py:247: RuntimeWarning: divide by zero encountered in scalar remainder\n",
      "  factors = [f for f in range(stacks[dim] + 1) if stacks[dim] % f == 0]\n",
      "WARNING: StokesWarning: Cube is a Stokes cube, returning spectral cube for I component [spectral_cube.io.core]\n",
      "/home/erickoch/anaconda3/envs/pyuvdata_ewk/lib/python3.10/site-packages/casa_formats_io/casa_dask.py:247: RuntimeWarning: divide by zero encountered in scalar remainder\n",
<<<<<<< HEAD
      "  factors = [f for f in range(stacks[dim] + 1) if stacks[dim] % f == 0]\n",
      "WARNING: StokesWarning: Cube is a Stokes cube, returning spectral cube for I component [spectral_cube.io.core]\n"
     ]
    },
    {
     "name": "stdout",
     "output_type": "stream",
     "text": [
      "-0.82470491897283\n"
     ]
    },
    {
     "name": "stderr",
     "output_type": "stream",
     "text": [
      "/home/erickoch/anaconda3/envs/pyuvdata_ewk/lib/python3.10/site-packages/casa_formats_io/casa_dask.py:247: RuntimeWarning: divide by zero encountered in scalar remainder\n",
      "  factors = [f for f in range(stacks[dim] + 1) if stacks[dim] % f == 0]\n",
      "WARNING: StokesWarning: Cube is a Stokes cube, returning spectral cube for I component [spectral_cube.io.core]\n"
     ]
    },
    {
     "name": "stdout",
     "output_type": "stream",
     "text": [
      "-0.82470491897283\n"
     ]
    },
    {
     "name": "stderr",
     "output_type": "stream",
     "text": [
      "/home/erickoch/anaconda3/envs/pyuvdata_ewk/lib/python3.10/site-packages/casa_formats_io/casa_dask.py:247: RuntimeWarning: divide by zero encountered in scalar remainder\n",
      "  factors = [f for f in range(stacks[dim] + 1) if stacks[dim] % f == 0]\n",
      "WARNING: StokesWarning: Cube is a Stokes cube, returning spectral cube for I component [spectral_cube.io.core]\n"
     ]
    },
    {
     "name": "stdout",
     "output_type": "stream",
     "text": [
      "-0.82470491897283\n"
     ]
    },
    {
     "name": "stderr",
     "output_type": "stream",
     "text": [
      "/home/erickoch/anaconda3/envs/pyuvdata_ewk/lib/python3.10/site-packages/casa_formats_io/casa_dask.py:247: RuntimeWarning: divide by zero encountered in scalar remainder\n",
      "  factors = [f for f in range(stacks[dim] + 1) if stacks[dim] % f == 0]\n",
      "WARNING: StokesWarning: Cube is a Stokes cube, returning spectral cube for I component [spectral_cube.io.core]\n"
     ]
    },
    {
     "name": "stdout",
     "output_type": "stream",
     "text": [
      "-0.82470491897283\n"
     ]
    },
    {
     "name": "stderr",
     "output_type": "stream",
     "text": [
      "/home/erickoch/anaconda3/envs/pyuvdata_ewk/lib/python3.10/site-packages/casa_formats_io/casa_dask.py:247: RuntimeWarning: divide by zero encountered in scalar remainder\n",
      "  factors = [f for f in range(stacks[dim] + 1) if stacks[dim] % f == 0]\n",
      "WARNING: StokesWarning: Cube is a Stokes cube, returning spectral cube for I component [spectral_cube.io.core]\n"
     ]
    },
    {
     "name": "stdout",
     "output_type": "stream",
     "text": [
      "-0.82470491897283\n"
     ]
    },
    {
     "name": "stderr",
     "output_type": "stream",
     "text": [
      "/home/erickoch/anaconda3/envs/pyuvdata_ewk/lib/python3.10/site-packages/casa_formats_io/casa_dask.py:247: RuntimeWarning: divide by zero encountered in scalar remainder\n",
      "  factors = [f for f in range(stacks[dim] + 1) if stacks[dim] % f == 0]\n",
      "WARNING: StokesWarning: Cube is a Stokes cube, returning spectral cube for I component [spectral_cube.io.core]\n"
     ]
    },
    {
     "name": "stdout",
     "output_type": "stream",
     "text": [
      "-0.82470491897283\n"
     ]
    },
    {
     "name": "stderr",
     "output_type": "stream",
     "text": [
      "/home/erickoch/anaconda3/envs/pyuvdata_ewk/lib/python3.10/site-packages/casa_formats_io/casa_dask.py:247: RuntimeWarning: divide by zero encountered in scalar remainder\n",
      "  factors = [f for f in range(stacks[dim] + 1) if stacks[dim] % f == 0]\n",
      "WARNING: StokesWarning: Cube is a Stokes cube, returning spectral cube for I component [spectral_cube.io.core]\n"
     ]
    },
    {
     "name": "stdout",
     "output_type": "stream",
     "text": [
      "-0.82470491897283\n"
     ]
    },
    {
     "name": "stderr",
     "output_type": "stream",
     "text": [
      "/home/erickoch/anaconda3/envs/pyuvdata_ewk/lib/python3.10/site-packages/casa_formats_io/casa_dask.py:247: RuntimeWarning: divide by zero encountered in scalar remainder\n",
      "  factors = [f for f in range(stacks[dim] + 1) if stacks[dim] % f == 0]\n",
      "WARNING: StokesWarning: Cube is a Stokes cube, returning spectral cube for I component [spectral_cube.io.core]\n"
=======
      "  factors = [f for f in range(stacks[dim] + 1) if stacks[dim] % f == 0]\n"
>>>>>>> 24ab4b9 (Long overdue update, including foreground separation, feathering scripts, rms estimation, and cluster imaging)
     ]
    },
    {
     "name": "stdout",
     "output_type": "stream",
     "text": [
      "-0.82470491897283\n"
     ]
    },
    {
     "name": "stderr",
     "output_type": "stream",
     "text": [
      "WARNING: StokesWarning: Cube is a Stokes cube, returning spectral cube for I component [spectral_cube.io.core]\n"
     ]
<<<<<<< HEAD
    },
    {
     "name": "stdout",
     "output_type": "stream",
     "text": [
      "-0.82470491897283\n"
     ]
    },
    {
     "name": "stderr",
     "output_type": "stream",
     "text": [
      "WARNING: StokesWarning: Cube is a Stokes cube, returning spectral cube for I component [spectral_cube.io.core]\n"
     ]
    },
    {
     "name": "stdout",
     "output_type": "stream",
     "text": [
      "-0.82470491897283\n"
     ]
    },
    {
     "name": "stderr",
     "output_type": "stream",
     "text": [
      "WARNING: StokesWarning: Cube is a Stokes cube, returning spectral cube for I component [spectral_cube.io.core]\n"
     ]
    },
    {
     "name": "stdout",
     "output_type": "stream",
     "text": [
      "-0.82470491897283\n"
     ]
    },
    {
     "name": "stderr",
     "output_type": "stream",
     "text": [
      "WARNING: StokesWarning: Cube is a Stokes cube, returning spectral cube for I component [spectral_cube.io.core]\n"
     ]
    },
    {
     "name": "stdout",
     "output_type": "stream",
     "text": [
      "-0.82470491897283\n"
     ]
    },
    {
     "name": "stderr",
     "output_type": "stream",
     "text": [
      "WARNING: StokesWarning: Cube is a Stokes cube, returning spectral cube for I component [spectral_cube.io.core]\n"
     ]
    },
    {
     "name": "stdout",
     "output_type": "stream",
     "text": [
      "-0.82470491897283\n"
     ]
    },
    {
     "name": "stderr",
     "output_type": "stream",
     "text": [
      "WARNING: StokesWarning: Cube is a Stokes cube, returning spectral cube for I component [spectral_cube.io.core]\n"
     ]
    },
    {
     "name": "stdout",
     "output_type": "stream",
     "text": [
      "-0.82470491897283\n"
     ]
    },
    {
     "name": "stderr",
     "output_type": "stream",
     "text": [
      "WARNING: StokesWarning: Cube is a Stokes cube, returning spectral cube for I component [spectral_cube.io.core]\n"
     ]
    },
    {
     "name": "stdout",
     "output_type": "stream",
     "text": [
      "-0.82470491897283\n"
     ]
    },
    {
     "name": "stderr",
     "output_type": "stream",
     "text": [
      "WARNING: StokesWarning: Cube is a Stokes cube, returning spectral cube for I component [spectral_cube.io.core]\n"
     ]
    },
    {
     "name": "stdout",
     "output_type": "stream",
     "text": [
      "-0.82470491897283\n"
     ]
    },
    {
     "name": "stderr",
     "output_type": "stream",
     "text": [
      "WARNING: StokesWarning: Cube is a Stokes cube, returning spectral cube for I component [spectral_cube.io.core]\n"
     ]
    },
    {
     "name": "stdout",
     "output_type": "stream",
     "text": [
      "-0.82470491897283\n"
     ]
    },
    {
     "name": "stderr",
     "output_type": "stream",
     "text": [
      "WARNING: StokesWarning: Cube is a Stokes cube, returning spectral cube for I component [spectral_cube.io.core]\n"
     ]
    },
    {
     "name": "stdout",
     "output_type": "stream",
     "text": [
      "-0.82470491897283\n"
     ]
    },
    {
     "name": "stderr",
     "output_type": "stream",
     "text": [
      "WARNING: StokesWarning: Cube is a Stokes cube, returning spectral cube for I component [spectral_cube.io.core]\n"
     ]
    },
    {
     "name": "stdout",
     "output_type": "stream",
     "text": [
      "-0.82470491897283\n"
     ]
    },
    {
     "name": "stderr",
     "output_type": "stream",
     "text": [
      "WARNING: StokesWarning: Cube is a Stokes cube, returning spectral cube for I component [spectral_cube.io.core]\n"
     ]
    },
    {
     "name": "stdout",
     "output_type": "stream",
     "text": [
      "-0.82470491897283\n"
     ]
    },
    {
     "name": "stderr",
     "output_type": "stream",
     "text": [
      "WARNING: StokesWarning: Cube is a Stokes cube, returning spectral cube for I component [spectral_cube.io.core]\n"
     ]
    },
    {
     "name": "stdout",
     "output_type": "stream",
     "text": [
      "-0.82470491897283\n"
     ]
    },
    {
     "name": "stderr",
     "output_type": "stream",
     "text": [
      "WARNING: StokesWarning: Cube is a Stokes cube, returning spectral cube for I component [spectral_cube.io.core]\n"
     ]
    },
    {
     "name": "stdout",
     "output_type": "stream",
     "text": [
      "-0.82470491897283\n"
     ]
    },
    {
     "name": "stderr",
     "output_type": "stream",
     "text": [
      "WARNING: StokesWarning: Cube is a Stokes cube, returning spectral cube for I component [spectral_cube.io.core]\n"
     ]
    },
    {
     "name": "stdout",
     "output_type": "stream",
     "text": [
      "-0.82470491897283\n"
     ]
    },
    {
     "name": "stderr",
     "output_type": "stream",
     "text": [
      "WARNING: StokesWarning: Cube is a Stokes cube, returning spectral cube for I component [spectral_cube.io.core]\n"
     ]
    },
    {
     "name": "stdout",
     "output_type": "stream",
     "text": [
      "-0.82470491897283\n"
     ]
    },
    {
     "name": "stderr",
     "output_type": "stream",
     "text": [
      "WARNING: StokesWarning: Cube is a Stokes cube, returning spectral cube for I component [spectral_cube.io.core]\n"
     ]
    },
    {
     "name": "stdout",
     "output_type": "stream",
     "text": [
      "-0.82470491897283\n"
     ]
    },
    {
     "name": "stderr",
     "output_type": "stream",
     "text": [
      "WARNING: StokesWarning: Cube is a Stokes cube, returning spectral cube for I component [spectral_cube.io.core]\n"
     ]
    },
    {
     "name": "stdout",
     "output_type": "stream",
     "text": [
      "-0.82470491897283\n"
     ]
    },
    {
     "name": "stderr",
     "output_type": "stream",
     "text": [
      "WARNING: StokesWarning: Cube is a Stokes cube, returning spectral cube for I component [spectral_cube.io.core]\n"
     ]
    },
    {
     "name": "stdout",
     "output_type": "stream",
     "text": [
      "-0.82470491897283\n"
     ]
    },
    {
     "name": "stderr",
     "output_type": "stream",
     "text": [
      "WARNING: StokesWarning: Cube is a Stokes cube, returning spectral cube for I component [spectral_cube.io.core]\n"
     ]
    },
    {
     "name": "stdout",
     "output_type": "stream",
     "text": [
      "-0.82470491897283\n"
     ]
    },
    {
     "name": "stderr",
     "output_type": "stream",
     "text": [
      "WARNING: StokesWarning: Cube is a Stokes cube, returning spectral cube for I component [spectral_cube.io.core]\n"
     ]
    },
    {
     "name": "stdout",
     "output_type": "stream",
     "text": [
      "-0.82470491897283\n"
     ]
    },
    {
     "name": "stderr",
     "output_type": "stream",
     "text": [
      "WARNING: StokesWarning: Cube is a Stokes cube, returning spectral cube for I component [spectral_cube.io.core]\n"
     ]
    },
    {
     "name": "stdout",
     "output_type": "stream",
     "text": [
      "-0.82470491897283\n"
     ]
    },
    {
     "name": "stderr",
     "output_type": "stream",
     "text": [
      "WARNING: StokesWarning: Cube is a Stokes cube, returning spectral cube for I component [spectral_cube.io.core]\n"
     ]
    },
    {
     "name": "stdout",
     "output_type": "stream",
     "text": [
      "-0.82470491897283\n"
     ]
    },
    {
     "name": "stderr",
     "output_type": "stream",
     "text": [
      "WARNING: StokesWarning: Cube is a Stokes cube, returning spectral cube for I component [spectral_cube.io.core]\n"
     ]
    },
    {
     "name": "stdout",
     "output_type": "stream",
     "text": [
      "-0.82470491897283\n"
     ]
    },
    {
     "name": "stderr",
     "output_type": "stream",
     "text": [
      "WARNING: StokesWarning: Cube is a Stokes cube, returning spectral cube for I component [spectral_cube.io.core]\n"
     ]
    },
    {
     "name": "stdout",
     "output_type": "stream",
     "text": [
      "-0.82470491897283\n"
     ]
    },
    {
     "name": "stderr",
     "output_type": "stream",
     "text": [
      "WARNING: StokesWarning: Cube is a Stokes cube, returning spectral cube for I component [spectral_cube.io.core]\n"
     ]
    },
    {
     "name": "stdout",
     "output_type": "stream",
     "text": [
      "-0.82470491897283\n"
     ]
    },
    {
     "name": "stderr",
     "output_type": "stream",
     "text": [
      "WARNING: StokesWarning: Cube is a Stokes cube, returning spectral cube for I component [spectral_cube.io.core]\n"
     ]
    },
    {
     "name": "stdout",
     "output_type": "stream",
     "text": [
      "-0.82470491897283\n"
     ]
    },
    {
     "name": "stderr",
     "output_type": "stream",
     "text": [
      "WARNING: StokesWarning: Cube is a Stokes cube, returning spectral cube for I component [spectral_cube.io.core]\n"
     ]
    },
    {
     "name": "stdout",
     "output_type": "stream",
     "text": [
      "-0.82470491897283\n",
      "-0.82470491897283\n"
     ]
    },
    {
     "name": "stderr",
     "output_type": "stream",
     "text": [
      "WARNING: StokesWarning: Cube is a Stokes cube, returning spectral cube for I component [spectral_cube.io.core]\n",
      "WARNING: StokesWarning: Cube is a Stokes cube, returning spectral cube for I component [spectral_cube.io.core]\n"
     ]
    },
    {
     "name": "stdout",
     "output_type": "stream",
     "text": [
      "-0.82470491897283\n"
     ]
    },
    {
     "name": "stderr",
     "output_type": "stream",
     "text": [
      "WARNING: StokesWarning: Cube is a Stokes cube, returning spectral cube for I component [spectral_cube.io.core]\n"
     ]
    },
    {
     "name": "stdout",
     "output_type": "stream",
     "text": [
      "-0.82470491897283\n"
     ]
    },
    {
     "name": "stderr",
     "output_type": "stream",
     "text": [
      "WARNING: StokesWarning: Cube is a Stokes cube, returning spectral cube for I component [spectral_cube.io.core]\n",
      "WARNING: StokesWarning: Cube is a Stokes cube, returning spectral cube for I component [spectral_cube.io.core]\n"
     ]
    },
    {
     "name": "stdout",
     "output_type": "stream",
     "text": [
      "-0.82470491897283\n",
      "-0.82470491897283\n"
     ]
    },
    {
     "name": "stderr",
     "output_type": "stream",
     "text": [
      "WARNING: StokesWarning: Cube is a Stokes cube, returning spectral cube for I component [spectral_cube.io.core]\n"
     ]
    },
    {
     "name": "stdout",
     "output_type": "stream",
     "text": [
      "-0.82470491897283\n"
     ]
    },
    {
     "name": "stderr",
     "output_type": "stream",
     "text": [
      "WARNING: StokesWarning: Cube is a Stokes cube, returning spectral cube for I component [spectral_cube.io.core]\n",
      "WARNING: StokesWarning: Cube is a Stokes cube, returning spectral cube for I component [spectral_cube.io.core]\n"
     ]
    },
    {
     "name": "stdout",
     "output_type": "stream",
     "text": [
      "-0.82470491897283\n",
      "-0.82470491897283\n"
     ]
=======
>>>>>>> 24ab4b9 (Long overdue update, including foreground separation, feathering scripts, rms estimation, and cluster imaging)
    }
   ],
   "source": [
    "# ic10ctr_A_hi21cm_1p2kms_briggs_-2.0.image\n",
    "\n",
    "this_field = 'ic10ctr'\n",
    "this_line = \"hi21cm_1p2kms\"\n",
    "\n",
    "beams = {}\n",
    "rms = {}\n",
    "rms_K = {}\n",
    "\n",
    "hi_freq = 1.42040575177 * u.GHz\n",
    "\n",
    "use_circ_beam = True\n",
    "\n",
    "for this_config in configs + config_combos:\n",
    "\n",
    "    beams[this_config] = {}\n",
    "    rms[this_config] = {}\n",
    "    rms_K[this_config] = {}\n",
    "    \n",
    "    for this_weight in weightings:\n",
    "\n",
    "        this_imagename = f\"{this_field}_{this_config}_{this_line}_{this_weight}\"\n",
    "\n",
    "        if not (data_path / f\"{this_imagename}.image\").exists():\n",
    "            print(f\"No image exists: {this_imagename}\")\n",
    "            continue\n",
    "        this_cube = SpectralCube.read(data_path / f\"{this_imagename}.image\", format='casa')\n",
    "        this_cube = this_cube.with_spectral_unit(u.km / u.s, 'radio')\n",
    "\n",
    "        print(this_cube.header['CDELT3'])\n",
    "        \n",
    "        this_proj = this_cube[0]\n",
    "\n",
    "        # Account for change in beam using the ratio of the areas\n",
    "        if use_circ_beam:\n",
    "            beam_area_ratio = (this_proj.beam.sr / Beam(this_proj.beam.major).sr).value\n",
    "        else:\n",
    "            beam_area_ratio = 1.\n",
    "            \n",
    "        beams[this_config][this_weight] = this_proj.beam\n",
    "        rms[this_config][this_weight] = mad_std(this_proj.value, ignore_nan=True)\n",
    "        rms_K[this_config][this_weight] = mad_std(this_proj.to(u.K).value * beam_area_ratio, ignore_nan=True)\n",
    "\n",
    "chan_width = np.abs(this_cube.header['CDELT3']) * u.km / u.s"
   ]
  },
  {
   "cell_type": "code",
<<<<<<< HEAD
   "execution_count": 116,
=======
   "execution_count": 6,
>>>>>>> 24ab4b9 (Long overdue update, including foreground separation, feathering scripts, rms estimation, and cluster imaging)
   "id": "e5db02e3-db88-4e58-a0b7-66dccc7f3300",
   "metadata": {},
   "outputs": [
    {
     "data": {
      "text/plain": [
       "{'A': {'natural': Beam: BMAJ=1.894927740097046 arcsec BMIN=1.5026354789733887 arcsec BPA=-68.8056640625 deg,\n",
       "  'briggs_2': Beam: BMAJ=1.892884373664856 arcsec BMIN=1.5009030103683472 arcsec BPA=-68.7841796875 deg,\n",
       "  'briggs_1.5': Beam: BMAJ=1.8709501028060913 arcsec BMIN=1.486876368522644 arcsec BPA=-68.0054931640625 deg,\n",
       "  'briggs_1.0': Beam: BMAJ=1.7758843898773193 arcsec BMIN=1.402437686920166 arcsec BPA=-66.57150268554688 deg,\n",
       "  'briggs_0.5': Beam: BMAJ=1.594570517539978 arcsec BMIN=1.2235201597213745 arcsec BPA=-63.58540344238281 deg,\n",
       "  'briggs_0.0': Beam: BMAJ=1.4907450675964355 arcsec BMIN=1.099737286567688 arcsec BPA=-62.604583740234375 deg,\n",
       "  'briggs_-0.5': Beam: BMAJ=1.4663368463516235 arcsec BMIN=1.0678421258926392 arcsec BPA=-62.502296447753906 deg,\n",
       "  'briggs_-1.0': Beam: BMAJ=1.4630718231201172 arcsec BMIN=1.063779354095459 arcsec BPA=-62.51580047607422 deg,\n",
       "  'briggs_-1.5': Beam: BMAJ=1.4627315998077393 arcsec BMIN=1.063357949256897 arcsec BPA=-62.517791748046875 deg,\n",
       "  'briggs_-2.0': Beam: BMAJ=1.4626972675323486 arcsec BMIN=1.063315510749817 arcsec BPA=-62.51800537109375 deg,\n",
       "  'uniform': Beam: BMAJ=1.462693452835083 arcsec BMIN=1.0633108615875244 arcsec BPA=-62.518028259277344 deg},\n",
       " 'B': {'natural': Beam: BMAJ=5.4075751304626465 arcsec BMIN=5.082230091094971 arcsec BPA=-39.461082458496094 deg,\n",
       "  'briggs_2': Beam: BMAJ=5.400628566741943 arcsec BMIN=5.074558258056641 arcsec BPA=-39.97233200073242 deg,\n",
       "  'briggs_1.5': Beam: BMAJ=5.3363165855407715 arcsec BMIN=5.034058570861816 arcsec BPA=-39.698463439941406 deg,\n",
       "  'briggs_1.0': Beam: BMAJ=5.031683921813965 arcsec BMIN=4.752244472503662 arcsec BPA=-35.387969970703125 deg,\n",
       "  'briggs_0.5': Beam: BMAJ=4.4239420890808105 arcsec BMIN=4.1920576095581055 arcsec BPA=-26.645179748535156 deg,\n",
       "  'briggs_0.0': Beam: BMAJ=4.019109725952148 arcsec BMIN=3.7954375743865967 arcsec BPA=-32.15253448486328 deg,\n",
       "  'briggs_-0.5': Beam: BMAJ=3.9133493900299072 arcsec BMIN=3.6765518188476562 arcsec BPA=-37.598140716552734 deg,\n",
       "  'briggs_-1.0': Beam: BMAJ=3.8997089862823486 arcsec BMIN=3.6586451530456543 arcsec BPA=-38.37044143676758 deg,\n",
       "  'briggs_-1.5': Beam: BMAJ=3.8982605934143066 arcsec BMIN=3.6567134857177734 arcsec BPA=-38.45388412475586 deg,\n",
       "  'briggs_-2.0': Beam: BMAJ=3.8981146812438965 arcsec BMIN=3.6565186977386475 arcsec BPA=-38.4622802734375 deg,\n",
       "  'uniform': Beam: BMAJ=3.8980982303619385 arcsec BMIN=3.65649676322937 arcsec BPA=-38.4631462097168 deg},\n",
       " 'C': {'natural': Beam: BMAJ=18.383577346801758 arcsec BMIN=16.889575958251953 arcsec BPA=-58.68149948120117 deg,\n",
       "  'briggs_2': Beam: BMAJ=18.36627197265625 arcsec BMIN=16.873201370239258 arcsec BPA=-58.66890335083008 deg,\n",
       "  'briggs_1.5': Beam: BMAJ=18.22150993347168 arcsec BMIN=16.736085891723633 arcsec BPA=-58.56071853637695 deg,\n",
       "  'briggs_1.0': Beam: BMAJ=17.24225425720215 arcsec BMIN=15.872122764587402 arcsec BPA=-58.24347686767578 deg,\n",
       "  'briggs_0.5': Beam: BMAJ=15.341890335083008 arcsec BMIN=13.949716567993164 arcsec BPA=-54.45100021362305 deg,\n",
       "  'briggs_0.0': Beam: BMAJ=13.990046501159668 arcsec BMIN=12.585058212280273 arcsec BPA=-53.09556198120117 deg,\n",
       "  'briggs_-0.5': Beam: BMAJ=13.577502250671387 arcsec BMIN=12.111889839172363 arcsec BPA=-51.95956039428711 deg,\n",
       "  'briggs_-1.0': Beam: BMAJ=13.510886192321777 arcsec BMIN=12.018540382385254 arcsec BPA=-51.64948272705078 deg,\n",
       "  'briggs_-1.5': Beam: BMAJ=13.503907203674316 arcsec BMIN=12.00629711151123 arcsec BPA=-51.612850189208984 deg,\n",
       "  'briggs_-2.0': Beam: BMAJ=13.503211975097656 arcsec BMIN=12.005001068115234 arcsec BPA=-51.60931396484375 deg,\n",
       "  'uniform': Beam: BMAJ=13.503135681152344 arcsec BMIN=12.004857063293457 arcsec BPA=-51.60893630981445 deg},\n",
       " 'D': {'natural': Beam: BMAJ=57.385711669921875 arcsec BMIN=53.606056213378906 arcsec BPA=-68.5546875 deg,\n",
       "  'briggs_2': Beam: BMAJ=57.33246994018555 arcsec BMIN=53.55628967285156 arcsec BPA=-68.515625 deg,\n",
       "  'briggs_1.5': Beam: BMAJ=56.834163665771484 arcsec BMIN=53.150699615478516 arcsec BPA=-68.146728515625 deg,\n",
       "  'briggs_1.0': Beam: BMAJ=53.881492614746094 arcsec BMIN=50.27348327636719 arcsec BPA=-64.40120697021484 deg,\n",
       "  'briggs_0.5': Beam: BMAJ=46.918067932128906 arcsec BMIN=43.77458190917969 arcsec BPA=-61.45806884765625 deg,\n",
       "  'briggs_0.0': Beam: BMAJ=41.45968246459961 arcsec BMIN=38.989707946777344 arcsec BPA=-61.94183349609375 deg,\n",
       "  'briggs_-0.5': Beam: BMAJ=39.57656478881836 arcsec BMIN=37.51741027832031 arcsec BPA=-63.56440734863281 deg,\n",
       "  'briggs_-1.0': Beam: BMAJ=39.238922119140625 arcsec BMIN=37.24256134033203 arcsec BPA=-64.66896057128906 deg,\n",
       "  'briggs_-1.5': Beam: BMAJ=39.1986198425293 arcsec BMIN=37.20872116088867 arcsec BPA=-64.89453125 deg,\n",
       "  'briggs_-2.0': Beam: BMAJ=39.194480895996094 arcsec BMIN=37.20521926879883 arcsec BPA=-64.921875 deg,\n",
       "  'uniform': Beam: BMAJ=39.19401931762695 arcsec BMIN=37.20482635498047 arcsec BPA=-64.921875 deg},\n",
       " 'A+B+C+D': {'natural': Beam: BMAJ=4.896121025085449 arcsec BMIN=4.677061080932617 arcsec BPA=-57.6378173828125 deg,\n",
       "  'briggs_2': Beam: BMAJ=4.8941330909729 arcsec BMIN=4.645363807678223 arcsec BPA=-56.621429443359375 deg,\n",
       "  'briggs_1.5': Beam: BMAJ=4.71027135848999 arcsec BMIN=4.509408473968506 arcsec BPA=-49.3433837890625 deg,\n",
       "  'briggs_1.0': Beam: BMAJ=4.01396369934082 arcsec BMIN=3.8821182250976562 arcsec BPA=-58.471866607666016 deg,\n",
       "  'briggs_0.5': Beam: BMAJ=2.7696311473846436 arcsec BMIN=2.5557284355163574 arcsec BPA=-53.06217956542969 deg,\n",
       "  'briggs_0.0': Beam: BMAJ=2.040313959121704 arcsec BMIN=1.5883197784423828 arcsec BPA=-62.725257873535156 deg,\n",
       "  'briggs_-0.5': Beam: BMAJ=1.8095130920410156 arcsec BMIN=1.3556514978408813 arcsec BPA=-60.854454040527344 deg,\n",
       "  'briggs_-1.0': Beam: BMAJ=1.7670706510543823 arcsec BMIN=1.310041904449463 arcsec BPA=-61.079315185546875 deg,\n",
       "  'briggs_-1.5': Beam: BMAJ=1.7624506950378418 arcsec BMIN=1.3044673204421997 arcsec BPA=-60.9959716796875 deg,\n",
       "  'briggs_-2.0': Beam: BMAJ=1.7619763612747192 arcsec BMIN=1.3039665222167969 arcsec BPA=-60.99623107910156 deg,\n",
       "  'uniform': Beam: BMAJ=1.7619235515594482 arcsec BMIN=1.303910732269287 arcsec BPA=-60.99627685546875 deg},\n",
       " 'A+B+C': {'natural': Beam: BMAJ=4.33268404006958 arcsec BMIN=4.1457133293151855 arcsec BPA=-50.185791015625 deg,\n",
       "  'briggs_2': Beam: BMAJ=4.325319290161133 arcsec BMIN=4.138486385345459 arcsec BPA=-50.16851806640625 deg,\n",
       "  'briggs_1.5': Beam: BMAJ=4.220579624176025 arcsec BMIN=4.038236141204834 arcsec BPA=-59.389892578125 deg,\n",
       "  'briggs_1.0': Beam: BMAJ=3.6097187995910645 arcsec BMIN=3.481010913848877 arcsec BPA=-52.017967224121094 deg,\n",
       "  'briggs_0.5': Beam: BMAJ=2.5482254028320312 arcsec BMIN=2.2534406185150146 arcsec BPA=-57.77930450439453 deg,\n",
       "  'briggs_0.0': Beam: BMAJ=1.965092420578003 arcsec BMIN=1.5121349096298218 arcsec BPA=-62.19415283203125 deg,\n",
       "  'briggs_-0.5': Beam: BMAJ=1.7933809757232666 arcsec BMIN=1.338554859161377 arcsec BPA=-60.806251525878906 deg,\n",
       "  'briggs_-1.0': Beam: BMAJ=1.7638384103775024 arcsec BMIN=1.306374430656433 arcsec BPA=-60.995704650878906 deg,\n",
       "  'briggs_-1.5': Beam: BMAJ=1.7609357833862305 arcsec BMIN=1.3033010959625244 arcsec BPA=-60.99665069580078 deg,\n",
       "  'briggs_-2.0': Beam: BMAJ=1.7606409788131714 arcsec BMIN=1.3029893636703491 arcsec BPA=-60.99683380126953 deg,\n",
       "  'uniform': Beam: BMAJ=1.7606080770492554 arcsec BMIN=1.3029544353485107 arcsec BPA=-60.996849060058594 deg},\n",
       " 'B+C+D': {'natural': Beam: BMAJ=9.7211332321167 arcsec BMIN=8.12271499633789 arcsec BPA=-63.4278564453125 deg,\n",
       "  'briggs_2': Beam: BMAJ=9.682989120483398 arcsec BMIN=8.079642295837402 arcsec BPA=-65.0965576171875 deg,\n",
       "  'briggs_1.5': Beam: BMAJ=9.283159255981445 arcsec BMIN=7.804365634918213 arcsec BPA=-59.20503234863281 deg,\n",
       "  'briggs_1.0': Beam: BMAJ=7.453543663024902 arcsec BMIN=6.521923065185547 arcsec BPA=-51.04876708984375 deg,\n",
       "  'briggs_0.5': Beam: BMAJ=5.4543375968933105 arcsec BMIN=5.119210720062256 arcsec BPA=-36.626346588134766 deg,\n",
       "  'briggs_0.0': Beam: BMAJ=4.473428726196289 arcsec BMIN=4.228248119354248 arcsec BPA=-30.57137680053711 deg,\n",
       "  'briggs_-0.5': Beam: BMAJ=4.15327787399292 arcsec BMIN=3.899549961090088 arcsec BPA=-37.200347900390625 deg,\n",
       "  'briggs_-1.0': Beam: BMAJ=4.0946221351623535 arcsec BMIN=3.8326025009155273 arcsec BPA=-38.765357971191406 deg,\n",
       "  'briggs_-1.5': Beam: BMAJ=4.088212013244629 arcsec BMIN=3.82452392578125 arcsec BPA=-39.02468490600586 deg,\n",
       "  'briggs_-2.0': Beam: BMAJ=4.0875563621521 arcsec BMIN=3.8236937522888184 arcsec BPA=-39.051353454589844 deg,\n",
       "  'uniform': Beam: BMAJ=4.087482929229736 arcsec BMIN=3.823601245880127 arcsec BPA=-39.054359436035156 deg},\n",
       " 'C+D': {'natural': Beam: BMAJ=24.706939697265625 arcsec BMIN=22.71837615966797 arcsec BPA=-62.18096923828125 deg,\n",
       "  'briggs_2': Beam: BMAJ=24.53620147705078 arcsec BMIN=22.689014434814453 arcsec BPA=-59.02972412109375 deg,\n",
       "  'briggs_1.5': Beam: BMAJ=24.127723693847656 arcsec BMIN=22.34267234802246 arcsec BPA=-62.20658874511719 deg,\n",
       "  'briggs_1.0': Beam: BMAJ=21.68907928466797 arcsec BMIN=19.826120376586914 arcsec BPA=-62.06257247924805 deg,\n",
       "  'briggs_0.5': Beam: BMAJ=17.4199275970459 arcsec BMIN=15.931568145751953 arcsec BPA=-57.60826110839844 deg,\n",
       "  'briggs_0.0': Beam: BMAJ=14.825033187866211 arcsec BMIN=13.397812843322754 arcsec BPA=-53.801151275634766 deg,\n",
       "  'briggs_-0.5': Beam: BMAJ=13.941292762756348 arcsec BMIN=12.492903709411621 arcsec BPA=-52.56338882446289 deg,\n",
       "  'briggs_-1.0': Beam: BMAJ=13.773706436157227 arcsec BMIN=12.290107727050781 arcsec BPA=-52.088226318359375 deg,\n",
       "  'briggs_-1.5': Beam: BMAJ=13.753888130187988 arcsec BMIN=12.260604858398438 arcsec BPA=-52.01589584350586 deg,\n",
       "  'briggs_-2.0': Beam: BMAJ=13.7518892288208 arcsec BMIN=12.25735855102539 arcsec BPA=-52.00892639160156 deg,\n",
       "  'uniform': Beam: BMAJ=13.751667022705078 arcsec BMIN=12.256993293762207 arcsec BPA=-52.008148193359375 deg}}"
      ]
     },
<<<<<<< HEAD
     "execution_count": 116,
=======
     "execution_count": 6,
>>>>>>> 24ab4b9 (Long overdue update, including foreground separation, feathering scripts, rms estimation, and cluster imaging)
     "metadata": {},
     "output_type": "execute_result"
    }
   ],
   "source": [
    "beams"
   ]
  },
  {
   "cell_type": "code",
<<<<<<< HEAD
   "execution_count": 117,
=======
   "execution_count": 7,
>>>>>>> 24ab4b9 (Long overdue update, including foreground separation, feathering scripts, rms estimation, and cluster imaging)
   "id": "1345a752-02fc-45c2-b5eb-ea59fcd0c05d",
   "metadata": {},
   "outputs": [],
   "source": [
    "import matplotlib.pyplot as plt\n",
    "\n",
    "import seaborn as sb\n",
    "\n",
    "sb.set_context(\"paper\", font_scale=1.2)"
   ]
  },
  {
   "cell_type": "code",
<<<<<<< HEAD
   "execution_count": 118,
=======
   "execution_count": 8,
>>>>>>> 24ab4b9 (Long overdue update, including foreground separation, feathering scripts, rms estimation, and cluster imaging)
   "id": "b382eefe-f9f8-4c2a-a939-c3ae4ba2827e",
   "metadata": {},
   "outputs": [
    {
     "name": "stdout",
     "output_type": "stream",
     "text": [
      "0.0010059566306756737 169.7009153993305\n",
      "0.0009820949241848697 20.344052072855625\n",
      "0.0015768971984100816 2.827915667453003\n",
      "0.002478698849383972 0.45622765531550175\n",
      "0.0006229747355840829 15.74390515224999\n",
      "0.0006444014780802133 20.79476168176038\n",
      "0.0007916755705028323 5.0769118718102115\n",
      "0.001323949698772919 1.3154761385645741\n"
     ]
    },
    {
     "data": {
      "text/plain": [
<<<<<<< HEAD
       "<matplotlib.lines.Line2D at 0x7fb6a65ff790>"
      ]
     },
     "execution_count": 118,
=======
       "<matplotlib.lines.Line2D at 0x7f22045014b0>"
      ]
     },
     "execution_count": 8,
>>>>>>> 24ab4b9 (Long overdue update, including foreground separation, feathering scripts, rms estimation, and cluster imaging)
     "metadata": {},
     "output_type": "execute_result"
    },
    {
     "data": {
      "image/png": "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\n",
      "text/plain": [
       "<Figure size 640x320 with 2 Axes>"
      ]
     },
     "metadata": {},
     "output_type": "display_data"
    }
   ],
   "source": [
    "# plt.figure(figsize=(3.2, 3.2))\n",
    "# plt.figure(figsize=(3.2, 3.2))\n",
    "\n",
    "fig, axs = plt.subplots(1, 2, sharex=True, figsize=(6.4, 3.2),\n",
    "                        layout='constrained')\n",
    "\n",
    "\n",
    "for this_config in configs + config_combos:\n",
    "\n",
    "    these_major_arcsec = [beams[this_config][this_weight].major.to(u.arcsec).value\n",
    "                          for this_weight in weightings]\n",
    "    these_rms = np.array([rms[this_config][this_weight]\n",
    "                 for this_weight in weightings])\n",
    "    these_rms_K = np.array([rms_K[this_config][this_weight]\n",
    "                 for this_weight in weightings])\n",
    "    axs[0].loglog(these_major_arcsec, these_rms, \"D-\", label=this_config)\n",
    "\n",
    "    axs[1].loglog(these_major_arcsec, these_rms_K, \"D-\", label=this_config)\n",
    "\n",
    "    print(these_rms.min(), these_rms_K.min())\n",
    "\n",
    "axs[1].legend(fontsize=5)\n",
    "\n",
    "axs[0].set_ylabel(\"rms (Jy/beam)\")\n",
    "axs[1].set_ylabel(\"rms (K)\")\n",
    "\n",
    "axs[0].set_xlabel(\"Beam Major Axis ($^{''}$)\")\n",
    "axs[1].set_xlabel(\"Beam Major Axis ($^{''}$)\")\n",
    "\n",
    "axs[0].set_xlim([1, 70])\n",
    "\n",
    "axs[0].axvline(60, color='k')\n",
    "axs[1].axvline(60, color='k')\n",
    "\n",
    "axs[1].axvline(4, color='k')\n"
   ]
  },
  {
   "cell_type": "code",
<<<<<<< HEAD
   "execution_count": 119,
=======
   "execution_count": 9,
>>>>>>> 24ab4b9 (Long overdue update, including foreground separation, feathering scripts, rms estimation, and cluster imaging)
   "id": "c8c22802-8cb8-43a2-9c68-bec4ffeb085e",
   "metadata": {},
   "outputs": [
    {
     "data": {
<<<<<<< HEAD
      "image/png": "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\n",
=======
      "text/plain": [
       "<matplotlib.legend.Legend at 0x7f21fff12ec0>"
      ]
     },
     "execution_count": 9,
     "metadata": {},
     "output_type": "execute_result"
    },
    {
     "data": {
      "image/png": "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\n",
>>>>>>> 24ab4b9 (Long overdue update, including foreground separation, feathering scripts, rms estimation, and cluster imaging)
      "text/plain": [
       "<Figure size 640x320 with 2 Axes>"
      ]
     },
     "metadata": {},
     "output_type": "display_data"
    }
   ],
   "source": [
    "# plt.figure(figsize=(3.2, 3.2))\n",
    "# plt.figure(figsize=(3.2, 3.2))\n",
    "\n",
    "fig, axs = plt.subplots(1, 2, sharex=True, figsize=(6.4, 3.2),\n",
    "                        layout='constrained')\n",
    "\n",
    "\n",
    "lines = []\n",
    "labels = []\n",
    "\n",
    "rep_vel = 10 # * km/s\n",
    "\n",
    "for this_config in configs + config_combos:\n",
    "\n",
    "    these_major_arcsec = [beams[this_config][this_weight].major.to(u.arcsec).value\n",
    "                          for this_weight in weightings]\n",
    "    these_rms_K = np.array([rms_K[this_config][this_weight]  \n",
    "                            for this_weight in weightings])\n",
    "\n",
    "    rms_per0p4 = these_rms_K * np.sqrt(chan_width.value / 0.42)\n",
    "    \n",
    "    lines.append(axs[0].loglog(these_major_arcsec, rms_per0p4, \"D-\", label=this_config)[0])\n",
    "    labels.append(this_config)\n",
    "\n",
    "    rms_10kms = these_rms_K / np.sqrt(rep_vel / chan_width)\n",
    "    coldens = 1.82e18 * rms_10kms * rep_vel\n",
    "    axs[1].loglog(these_major_arcsec, coldens, \n",
    "                  \"D-\", label=this_config)\n",
    "\n",
    "    # print(these_rms.min(), these_rms_K.min())\n",
    "\n",
    "# Show the scaling from simply smoothing\n",
    "scaling_beams = np.logspace(0, 2, 10)\n",
    "\n",
    "for noise_scale in np.logspace(np.log10(100), np.log10(5000), 5):\n",
    "    axs[0].loglog(scaling_beams, noise_scale / scaling_beams**2, linestyle='--', color='k', alpha=0.5)\n",
    "\n",
    "    rms_10kms = noise_scale / np.sqrt(rep_vel / chan_width)\n",
    "    coldens = 1.82e18 * rms_10kms * rep_vel\n",
    "    \n",
    "    axs[1].loglog(scaling_beams, \n",
    "                  coldens / scaling_beams**2, \n",
    "                  linestyle='--', color='k', alpha=0.5)\n",
    "\n",
    "\n",
    "# Move to outside the panels\n",
    "# axs[0].legend(fontsize=10, ncol=2)\n",
    "\n",
    "# axs[0].set_ylabel(f\"HI rms (K) per {chan_width.value:.1f}\" + r\"km s$^{-1}$\")\n",
    "axs[0].set_ylabel(\"HI rms (K) per 0.4\" + r\" km s$^{-1}$\")\n",
    "\n",
    "axs[1].set_ylabel(\"HI rms column density (cm$^{-2}$)\")\n",
    "# over 10 km s$^{-1}$\", nrow=2)\n",
    "axs[1].text(0.95, 0.9, 'per 10 km s$^{-1}$', \n",
    "        transform=axs[1].transAxes, \n",
    "        horizontalalignment='right', \n",
    "        verticalalignment='center',\n",
    "        bbox=dict(boxstyle=\"round,pad=0.3\", edgecolor='black', facecolor='white', linewidth=1))\n",
    "\n",
    "axs[0].set_xlabel(\"Beam Major Axis ($^{''}$)\")\n",
    "axs[1].set_xlabel(\"Beam Major Axis ($^{''}$)\")\n",
    "\n",
    "axs[0].set_xlim([1, 70])\n",
    "\n",
    "axs[0].set_ylim([0.5, 800])\n",
    "axs[1].set_ylim([1e18, 5e21])\n",
    "\n",
    "# axs[1].tick_params(labeltop=True, top=True)\n",
    "axs[1].xaxis.set_tick_params(which='both', top=True)\n",
    "axs[1].yaxis.set_tick_params(which='both', right=True)\n",
    "\n",
    "# axs[0].axvline(60, color='k')\n",
    "# axs[1].axvline(60, color='k')\n",
    "\n",
    "# High-res target is 1e20 @ 7 km/s. Convert to equivalent over 10 km/s\n",
    "# axs[1].axvline(4.5, color='k')\n",
    "# axs[1].axhline(1e20 * (7 / 10), color='k')\n",
    "\n",
    "axs[1].plot([4.5] * 2, [1e20 * (7 / 10), 1e22], 'k')\n",
    "axs[1].plot([1, 4.5], [1e20 * (7 / 10)] * 2, 'k')\n",
    "axs[1].text(1.1, 5e19, r\"$7\\times10^{19}$ cm$^{-2}$\", va='top', ha='left')\n",
    "axs[1].text(4.5, 1e22, r\"$4.5^{''}$\", va='center', ha='center', rotation=0)\n",
    "\n",
    "\n",
    "# High-res target is 1e20 @ 7 km/s. Convert to equivalent over 10 km/s\n",
    "# axs[1].axvline(48.6, color='k')\n",
    "# axs[1].axhline(3.2e18 * (20 / 10), color='k')\n",
    "\n",
    "axs[1].plot([48.6] * 2, [3.2e18 * (20 / 10), 1e22], 'k')\n",
    "axs[1].plot([1, 48.6], [3.2e18 * (20 / 10)] * 2, 'k')\n",
    "axs[1].text(1.1, 5e18, r\"$6\\times10^{18}$ cm$^{-2}$\", va='top', ha='left')\n",
    "axs[1].text(48.6, 1e22, r\"$48.6^{''}$\", va='center', ha='center', rotation=0)\n",
    "\n",
    "\n",
    "fig.legend(lines, labels, \n",
    "           fontsize=10, ncol=4,\n",
    "           bbox_to_anchor=(0.85, 1.2),)\n",
    "\n",
    "# Adjust figure to make room for the legend\n",
    "# plt.subplots_adjust(right=0.85)\n",
    "\n",
<<<<<<< HEAD
    "plt.savefig(\"figures/ic10ctr_beam_vs_noise.pdf\", bbox_inches='tight')\n"
=======
    "# plt.savefig(\"figures/ic10ctr_beam_vs_noise.pdf\", bbox_inches='tight')\n"
>>>>>>> 24ab4b9 (Long overdue update, including foreground separation, feathering scripts, rms estimation, and cluster imaging)
   ]
  },
  {
   "cell_type": "code",
<<<<<<< HEAD
   "execution_count": 120,
=======
   "execution_count": 10,
>>>>>>> 24ab4b9 (Long overdue update, including foreground separation, feathering scripts, rms estimation, and cluster imaging)
   "id": "47ba7ba6-22b3-4234-937e-5fbc07926504",
   "metadata": {},
   "outputs": [
    {
     "data": {
      "text/plain": [
       "6.999999999999999e+19"
      ]
     },
<<<<<<< HEAD
     "execution_count": 120,
=======
     "execution_count": 10,
>>>>>>> 24ab4b9 (Long overdue update, including foreground separation, feathering scripts, rms estimation, and cluster imaging)
     "metadata": {},
     "output_type": "execute_result"
    }
   ],
   "source": [
    "1e20 * (7 / 10)"
   ]
  },
  {
<<<<<<< HEAD
   "cell_type": "code",
   "execution_count": 121,
   "id": "fc9b4742-eb9f-4ef3-b8ef-b671f964bc90",
=======
   "cell_type": "markdown",
   "id": "06f40062-7588-48a4-a727-28774afa5dbc",
   "metadata": {},
   "source": [
    "### HI mass sensitivity\n",
    "\n",
    "Mass sensitivity per beam calcs."
   ]
  },
  {
   "cell_type": "code",
   "execution_count": 11,
   "id": "98356694-3839-4021-9a0e-cdd632a94bcf",
   "metadata": {},
   "outputs": [],
   "source": [
    "def beam_phys_size(beam, distance):\n",
    "    return beam.sr.to(u.rad**2).value * distance.to(u.pc)**2"
   ]
  },
  {
   "cell_type": "code",
   "execution_count": 12,
   "id": "9df9e941-da41-4abc-a465-3ed9340fe974",
>>>>>>> 24ab4b9 (Long overdue update, including foreground separation, feathering scripts, rms estimation, and cluster imaging)
   "metadata": {},
   "outputs": [
    {
     "data": {
<<<<<<< HEAD
      "text/plain": [
       "\u001b[0;31mSignature:\u001b[0m \u001b[0mplt\u001b[0m\u001b[0;34m.\u001b[0m\u001b[0mtick_params\u001b[0m\u001b[0;34m(\u001b[0m\u001b[0maxis\u001b[0m\u001b[0;34m=\u001b[0m\u001b[0;34m'both'\u001b[0m\u001b[0;34m,\u001b[0m \u001b[0;34m**\u001b[0m\u001b[0mkwargs\u001b[0m\u001b[0;34m)\u001b[0m\u001b[0;34m\u001b[0m\u001b[0;34m\u001b[0m\u001b[0m\n",
       "\u001b[0;31mDocstring:\u001b[0m\n",
       "Change the appearance of ticks, tick labels, and gridlines.\n",
       "\n",
       "Tick properties that are not explicitly set using the keyword\n",
       "arguments remain unchanged unless *reset* is True. For the current\n",
       "style settings, see `.Axis.get_tick_params`.\n",
       "\n",
       "Parameters\n",
       "----------\n",
       "axis : {'x', 'y', 'both'}, default: 'both'\n",
       "    The axis to which the parameters are applied.\n",
       "which : {'major', 'minor', 'both'}, default: 'major'\n",
       "    The group of ticks to which the parameters are applied.\n",
       "reset : bool, default: False\n",
       "    Whether to reset the ticks to defaults before updating them.\n",
       "\n",
       "Other Parameters\n",
       "----------------\n",
       "direction : {'in', 'out', 'inout'}\n",
       "    Puts ticks inside the Axes, outside the Axes, or both.\n",
       "length : float\n",
       "    Tick length in points.\n",
       "width : float\n",
       "    Tick width in points.\n",
       "color : color\n",
       "    Tick color.\n",
       "pad : float\n",
       "    Distance in points between tick and label.\n",
       "labelsize : float or str\n",
       "    Tick label font size in points or as a string (e.g., 'large').\n",
       "labelcolor : color\n",
       "    Tick label color.\n",
       "colors : color\n",
       "    Tick color and label color.\n",
       "zorder : float\n",
       "    Tick and label zorder.\n",
       "bottom, top, left, right : bool\n",
       "    Whether to draw the respective ticks.\n",
       "labelbottom, labeltop, labelleft, labelright : bool\n",
       "    Whether to draw the respective tick labels.\n",
       "labelrotation : float\n",
       "    Tick label rotation\n",
       "grid_color : color\n",
       "    Gridline color.\n",
       "grid_alpha : float\n",
       "    Transparency of gridlines: 0 (transparent) to 1 (opaque).\n",
       "grid_linewidth : float\n",
       "    Width of gridlines in points.\n",
       "grid_linestyle : str\n",
       "    Any valid `.Line2D` line style spec.\n",
       "\n",
       "Examples\n",
       "--------\n",
       "::\n",
       "\n",
       "    ax.tick_params(direction='out', length=6, width=2, colors='r',\n",
       "                   grid_color='r', grid_alpha=0.5)\n",
       "\n",
       "This will make all major ticks be red, pointing out of the box,\n",
       "and with dimensions 6 points by 2 points.  Tick labels will\n",
       "also be red.  Gridlines will be red and translucent.\n",
       "\u001b[0;31mSource:\u001b[0m   \n",
       "\u001b[0;34m@\u001b[0m\u001b[0m_copy_docstring_and_deprecators\u001b[0m\u001b[0;34m(\u001b[0m\u001b[0mAxes\u001b[0m\u001b[0;34m.\u001b[0m\u001b[0mtick_params\u001b[0m\u001b[0;34m)\u001b[0m\u001b[0;34m\u001b[0m\n",
       "\u001b[0;34m\u001b[0m\u001b[0;32mdef\u001b[0m \u001b[0mtick_params\u001b[0m\u001b[0;34m(\u001b[0m\u001b[0maxis\u001b[0m\u001b[0;34m=\u001b[0m\u001b[0;34m'both'\u001b[0m\u001b[0;34m,\u001b[0m \u001b[0;34m**\u001b[0m\u001b[0mkwargs\u001b[0m\u001b[0;34m)\u001b[0m\u001b[0;34m:\u001b[0m\u001b[0;34m\u001b[0m\n",
       "\u001b[0;34m\u001b[0m    \u001b[0;32mreturn\u001b[0m \u001b[0mgca\u001b[0m\u001b[0;34m(\u001b[0m\u001b[0;34m)\u001b[0m\u001b[0;34m.\u001b[0m\u001b[0mtick_params\u001b[0m\u001b[0;34m(\u001b[0m\u001b[0maxis\u001b[0m\u001b[0;34m=\u001b[0m\u001b[0maxis\u001b[0m\u001b[0;34m,\u001b[0m \u001b[0;34m**\u001b[0m\u001b[0mkwargs\u001b[0m\u001b[0;34m)\u001b[0m\u001b[0;34m\u001b[0m\u001b[0;34m\u001b[0m\u001b[0m\n",
       "\u001b[0;31mFile:\u001b[0m      ~/anaconda3/envs/pyuvdata_ewk/lib/python3.10/site-packages/matplotlib/pyplot.py\n",
       "\u001b[0;31mType:\u001b[0m      function"
=======
      "image/png": "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\n",
      "text/plain": [
       "<Figure size 640x320 with 3 Axes>"
>>>>>>> 24ab4b9 (Long overdue update, including foreground separation, feathering scripts, rms estimation, and cluster imaging)
      ]
     },
     "metadata": {},
     "output_type": "display_data"
    }
   ],
   "source": [
<<<<<<< HEAD
    "plt.tick_params??"
=======
    "distance = 790 * u.kpc\n",
    "\n",
    "fig, axs = plt.subplots(1, 3, sharex=True, figsize=(6.4, 3.2),\n",
    "                        layout='constrained')\n",
    "\n",
    "\n",
    "lines = []\n",
    "labels = []\n",
    "\n",
    "rep_vel = 10 # * km/s\n",
    "\n",
    "for this_config in configs + config_combos:\n",
    "\n",
    "    these_major_arcsec = [beams[this_config][this_weight].major.to(u.arcsec).value\n",
    "                          for this_weight in weightings]\n",
    "\n",
    "    these_beam_areas = np.array([beam_phys_size(beams[this_config][this_weight], distance).to(u.pc**2).value\n",
    "                                 for this_weight in weightings]) * u.pc**2\n",
    "    these_rms_K = np.array([rms_K[this_config][this_weight]  \n",
    "                            for this_weight in weightings])\n",
    "\n",
    "    rms_per0p4 = these_rms_K * np.sqrt(chan_width.value / 0.42)\n",
    "    \n",
    "    lines.append(axs[0].loglog(these_major_arcsec, rms_per0p4, \"D-\", label=this_config)[0])\n",
    "    labels.append(this_config)\n",
    "\n",
    "    rms_10kms = these_rms_K / np.sqrt(rep_vel / chan_width)\n",
    "    coldens = 1.82e18 * rms_10kms.value * rep_vel * u.cm**-2\n",
    "    axs[1].loglog(these_major_arcsec, coldens, \n",
    "                  \"D-\", label=this_config)\n",
    "\n",
    "\n",
    "    hi_mass_sensitivity = c.m_p.to(u.solMass) * (coldens * these_beam_areas).to(u.one)\n",
    "    axs[2].loglog(these_major_arcsec, hi_mass_sensitivity.value, \n",
    "                  \"D-\", label=this_config)\n",
    "\n",
    "scaling_beams = np.logspace(0, 2, 10)\n",
    "\n",
    "FWHM_TO_AREA = 2*np.pi/(8*np.log(2))\n",
    "\n",
    "for noise_scale in np.logspace(np.log10(100), np.log10(5000), 5):\n",
    "    axs[0].loglog(scaling_beams, noise_scale / scaling_beams**2, linestyle='--', color='k', alpha=0.5)\n",
    "\n",
    "    rms_10kms = noise_scale / np.sqrt(rep_vel / chan_width)\n",
    "    coldens = 1.82e18 * rms_10kms.value * rep_vel * u.cm**-2\n",
    "    \n",
    "    axs[1].loglog(scaling_beams, \n",
    "                  coldens / scaling_beams**2, \n",
    "                  linestyle='--', color='k', alpha=0.5)\n",
    "\n",
    "    phys_scaling_beams = (scaling_beams * u.arcsec).to(u.rad).value * distance.to(u.pc)\n",
    "    \n",
    "    # HI mass sensitivity\n",
    "    # axs[2].loglog(scaling_beams, \n",
    "    #               c.m_p.to(u.solMass) * (coldens * FWHM_TO_AREA * phys_scaling_beams**2).to(u.one), \n",
    "    #               linestyle='--', color='k', alpha=0.5)"
   ]
  },
  {
   "cell_type": "code",
   "execution_count": 13,
   "id": "8dc3af7e-5273-46c1-8f9d-b1ffab11c748",
   "metadata": {},
   "outputs": [
    {
     "data": {
      "text/latex": [
       "$[16.621428,~46.250111,~128.69368,~358.09781,~996.42844,~2772.6213,~7714.9835,~21467.4,~59734.316,~166214.28] \\; \\mathrm{pc^{2}}$"
      ],
      "text/plain": [
       "<Quantity [1.66214281e+01, 4.62501112e+01, 1.28693682e+02, 3.58097814e+02,\n",
       "           9.96428439e+02, 2.77262132e+03, 7.71498353e+03, 2.14674000e+04,\n",
       "           5.97343156e+04, 1.66214281e+05] pc2>"
      ]
     },
     "execution_count": 13,
     "metadata": {},
     "output_type": "execute_result"
    }
   ],
   "source": [
    "FWHM_TO_AREA * phys_scaling_beams**2"
   ]
  },
  {
   "cell_type": "code",
   "execution_count": 14,
   "id": "31a0cfee-c70a-4a0b-949c-00f63f18d7a7",
   "metadata": {},
   "outputs": [
    {
     "data": {
      "text/latex": [
       "$[9329.6334,~9253.1861,~8960.2433,~7147.3853,~4612.8912,~3301.3983,~2894.9081,~2813.6809,~2802.8878,~2801.7385,~2801.6097] \\; \\mathrm{pc^{2}}$"
      ],
      "text/plain": [
       "<Quantity [9329.6333794 , 9253.18610736, 8960.24333442, 7147.38525048,\n",
       "           4612.89116047, 3301.39825628, 2894.90806713, 2813.68094008,\n",
       "           2802.88784446, 2801.73846274, 2801.60970391] pc2>"
      ]
     },
     "execution_count": 14,
     "metadata": {},
     "output_type": "execute_result"
    }
   ],
   "source": [
    "these_beam_areas"
   ]
  },
  {
   "cell_type": "code",
   "execution_count": 53,
   "id": "f1a669f8-9ed4-4334-9569-dcaeeacec50a",
   "metadata": {},
   "outputs": [
    {
     "name": "stdout",
     "output_type": "stream",
     "text": [
      "[0.002, 2000.0]\n",
      "[0.01, 10000.0]\n"
     ]
    },
    {
     "data": {
      "image/png": "iVBORw0KGgoAAAANSUhEUgAAA1MAAAGICAYAAACk3rpZAAAAOXRFWHRTb2Z0d2FyZQBNYXRwbG90bGliIHZlcnNpb24zLjcuMSwgaHR0cHM6Ly9tYXRwbG90bGliLm9yZy/bCgiHAAAACXBIWXMAAA9hAAAPYQGoP6dpAAEAAElEQVR4nOzdeXhU1fnA8e+9s08mk31PyEpCQBDZURRFEdS64IZoFRGXilhcfyouraWK2tYWsSoudUGLuFfRghYtQkVRERRIyB6yJ2RfJpnt/v6IGROyJzcr5/M8PJCZO+eeJMOd+57lfSVFURQEQRAEQRAEQRCEXpGHugOCIAiCIAiCIAgjkQimBEEQBEEQBEEQ+kAEU4IgCIIgCIIgCH0ggilBEARBEARBEIQ+EMGUIAiCIAiCIAhCH4hgShAEQRAEQRAEoQ9EMCUIgiAIgiAIgtAHIpgSBEEQBEEQBEHoA+1Qd0AQhMHldrsRtboFQRCEkUSSJGRZzAEIw48IpgThOFFZWUlZWRkul2uouyIIgiAIvabRaAgKCsLPz2+ouyIIHiKYEoTjQGVlJaWlpURERGA0GpEkaai7JAiCIAg9pigKjY2NFBQUAIiAShg2RDAlCMeBsrIyIiIisFgsQ90VQRAEQegTi8VCREQEhYWFIpgShg2x+FQQRjm3243L5cJoNA51VwRBEAShX4xGIy6XC7fbPdRdEQRABFOCMOq1JJsQS/uGL0VRRFIQQRCEHmj5LBPXTGG4EMGUIAjCEHv7+128/f2uoe6GIAiCIAi9JPZMCYIwIl1wwQUcPnyYN954g2nTpg11d/qspLKcl3L2AjA3fjwhfgGD3oft27fzxhtvcODAARoaGggODmbOnDksW7aM2NjYQe/PaKHme/S9997jvvvu83yt0+kIDQ3lnHPOYcWKFZhMpv52l/z8fDZs2MCuXbsoKyvDbDYzceJELrvsMhYuXNjndq+++mr27NkDNGdj8/b2JjY2llNPPZUrr7xyxO99aVluNthpu9evX8/TTz/t+Vqv1xMZGcnFF1/M8uXL+92fw4cP8/zzz/PNN99QVVWF1WplypQpXHXVVcyePbvP7c6bN8+TREKr1WK1WklISODMM8/k8ssvx2w296vfgjDYRDAlCEKv2Ww2yiurCfDzUeUmrrfS09M5fPgwAB999NGIDqb+/t12KvWK599/mH/5oJ7/z3/+My+88AILFixgzZo1+Pv7c+TIEd59911uv/12Pvjgg0Htz2gxUO/RF198EW9vbxwOBz/99BN/+9vfqK6u5g9/+EO/2t23bx/XX389/v7+3HDDDSQkJFBXV8eOHTu46667iImJYdy4cX1uf8qUKdxzzz243W6qq6v54YcfeO2119i0aRMvvvhiv9oeSg31DRR9k4WEROjMWMxegxsIGI1GXn31VQAaGxv55ptv+Mtf/oKiKNx44419bvc///kPt99+O2PHjuX2229nzJgxVFRU8Omnn3LdddexZ88evL29+9z+ggULuO6663C5XFRUVPDNN9/wt7/9jU2bNvHqq68SGhra57YFYbCJYEoQhB7bfTCT938s4H/59TTJBgzuJk6J9GLRpAhmT4gftH589NFHyLLM9OnT2bp1Kw888AA6nW7Qzq+WnYd/YlttHmg1AGyrzWP+4Z84NWnioJx/x44dvPDCC6xYsYJVq1Z5Hp8+fTqXXHIJX3zxxaD0Q01leSVUFVS0e9w3wp+gqJBB60dv36Pz5s1j5cqVXHzxxV22O2HCBPz9/YHm31NxcTEfffRRl8HUvffeC8Bjjz3W4fNNTU3cdttthIaG8uabb7bJ+jlv3jyWLFmC1Wrt8LXffPMN11xzjSdw7IzVamXy5Mmer8844wyuuOIKLr/8cm677TY++eSTEVeQtaL4KA0/lhGtDwag+H+5NJ4YjH/I4M0uy7Lc5uc6a9Ys0tLS+PTTTzsNpq6++mpmzJjBrbfe2uHzZWVl3HPPPUydOpXnn38evV7veW7BggVcdtllaLUd3z6+9957PP3003z++edd9jswMLBNv+fPn8/FF1/MlVdeyX333cfLL7/c5esFYTgZWVcuQRCGzBv//YHbtubwRQnYdV5IGi12nRdflMBtW3N4478/DEo/FEVhy5YtzJo1i2XLllFVVcXOnTsH5dxqsjXaWH9oF8rPgRSAotXw1MGd2Bptg9KHf/zjHwQGBrJixYoOnz/jjDMGpR9qcblcZH6agvO72nZ/Mj9NHbSC1YP5HvXy8sLpdParjX//+98UFRVxxx13dFg+Ydy4cYSHh/frHB0JDw/n5ptvJjs7m6+++kr19gdSweEjKPurCdX/EjiF6gNQ9lVRmJY3hD3r/3virbfeoq6ujvvuu69NINVi1qxZA7IiYfz48Vx55ZV89dVXZGVlqd6+IAwUEUwJgtCt3Qczeer7CtyajkfW3RodT31fwdeHBv4DcO/evRQUFPCrX/2KOXPm4Ovry5YtWwb8vGp78dsvyNE0tXs8V2vnxW8HfkbI6XSyd+9eZs2aNSJn9TqS+tUBrA0d3+RZG4wc/urgoPRjIN+jbrcbp9OJzWZjz549vP322yxYsKBfbX777bdoNBpOPvlkVfrYG3PmzAGalxmOBIqikPlNCtZcBR9D+2VuPgZvvHPcZH6TMmjZ5pxOJ06nk7q6OrZv386nn37ar/fEt99+S3BwMElJSSr2smda3g/79+8f9HMLQl+JZX6CIHTr/R8LOg2kWrg1Ot7/MZ9Z4+MGtC9btmzBYDBw9tlno9PpWLBgAR9++CH19fV4eXkN6LnVkpqfy1ulqaDreDzrrdJUzi44gaSIMQPWh6qqKux2+4DMOAyFupo6Gn6qwiJ1HExJkkTdT5XUnViHxTqwxat78h7taOagJVBqIctyu6Vvp5xySpuvZ8yY0SYxBTTP0LW+kW/5d+u2JUlCo2meFS0pKcHf379HtegURWkzw9eSfOHY76ezZWDHCgsLA5qXlo0EiqKgL1cwmTufmTHpTejL61EUZcBLUjQ0NDBhwoQ2j5177rltlvh19H7o6r1WUlLS4+uC2+1uU++pv++Hlr1SI+X9IAgggilBOG698HUu/0nr/gPLZW/iy7QSXB2Mwh4rt6CWzLr/odEbuj32rMQgbpgV3aO+tnA6nWzdupW5c+d6Nj+ff/75bN68mc8++4yLLrqoV+2p6YXDX/OfwrRuj1PcbvZlHqbCSwuNnR93/sfPMjk+CakH+0jOCk/khqRZvemux3CuP1a2p4DajPb7nzqSk5WDv9tKE50vkdQBe576gpi4mG7b807wJ2hGRA97+ouevkePvQEGuP/++7n//vs9X69cubLdvpZXXnkFi8WCy+UiIyODp556ipUrV/LSSy95boavvfZaT/a81lonE5kxYwYbN27s9ff3/vvvtwveOvp+tm/fTmRkZLftDZc6eO6cepTS9jPFHR5b7wCl62V07gYHyndV9GRhqRRsQI7p20CQ0Wjk9ddfB8But3Pw4EGeeuopHnjgAdauXQs070dqyZ7X4ttvv+WZZ57xfL1o0aI2e+p6+vv4+9//3iajYItj3w/d7alrMVzeD4LQGyKYEgShS/bGBlzanq2Pd+mMOBobehRM9cX//vc/KioqOOOMM6ipqQEgMTGRoKAgtmzZMqTB1Ejj6+uLwWCgsLBwqLvSb02OJmhwQfcTK9DgpsnRhEE3tO/Rd955p83rbr75ZhYvXszpp5/ueSw4OLhd+0lJSZ4EFJMnT8ZqtXLrrbeyY8cOzx63hx9+mPr6es9r/v73vwNwyy23eB5rPYsbEhLC7t27aWpqwmDo+udyxhlntOn7wYMH+d3vftfu++mo7x0pLi4GmhMSjBSSQYPb7e40YYbb7UYyaDp8Tm2yLDNx4i8Ja6ZOnYrL5eKxxx5j2bJlJCYm8uyzz2K32z3H/O53v2PChAlcfvkvmUNbp6cPCQnp8Z6lyy+/vM179r///S+bN2/m2Wef7dP3U1JSAkBQUFCfXi8IQ0EEU4JwnLphVnSPZoZsNhtnPf1f7LruU/7q7fW8uXzOgKVL/+ijjwC477772o2OV1ZWUl5eTkDA4NdpArghaVaPZ4dSk3K54Zt3aepkmZ/B4ebF0y8d0GV+Wq2WKVOm8PXXX+N0Onu8DGcwBc2I6PHsUNPHCobs7veo+MeaST5v4FLp9/Q92voGGJprBEVERLR7vDvx8c1ZNNPT0z3BVFxc26W2vr6+AJ22PWPGDN555x12797d5sa4I35+fm1uvBsaGrpsuzu7djUXq54yZUqfXq8WOcYLejg7FOn2pWBrKmHmjgPAkoajRC4cP2TZCVt+/xkZGSQmJrbb++Tl5UVwcHCX74fdu3eTnp7O2LFjuzxXSEgIISG/ZMlMT09Hr9f3+f3QkqildaY/QRjuRAIKQRC6ZDKZOCWyZzcZc8Z4DVggZbPZ2L59O2eddRavvfZamz9PPvkkTqeTTz75ZEDOrbZxkdFcHtx5XZ3Lg8cNaCDVYtmyZZSVlfHcc891+PyOHTsGvA9qSTg1mTq56yyIdbKNhFOTB6wPQ/EeTUtrXlran8K3CxcuJCwsjCeffJK6urp2zx8+fJiioqI+t9+ZwsJCnnnmGRISEpg1q2/LVIeCLMvg38UeUn/dkKZ5T09PB/r+nrjsssuwWCysXbsWh8PR7vlvvvkGm039jKMpKSls2rSJOXPmEBMTo3r7gjBQht9QpCAIw86iSRHs2JrTZRIK2eVg0aTYAevD9u3baWho4Oqrr2bmzJntnn/xxRfZsmULV1999YD1QU3XTz+DnVtzyZHb7tOIcRu4fvrgpCSfO3cu119/PevXrycjI4PzzjsPPz8/8vPzeffdd6mtrWXu3LmD0pf+slgtmCf6ouxr7HC/haIomCf6DmjyicF4jx48eBBvb2+cTidZWVk89dRTBAYGMn/+/D63aTAY+Nvf/sb111/PJZdcwrXXXusp2rtr1y7eeust3n77bU+yiL6oqalh3759KIriKdr75ptvotPp+Otf/zriakzJgQZq0mqRaPtecysKcuTALCHtiNvt9mRCdDgcHDx4kGeffZaEhIQ+F4oOCgri8ccf57bbbmPJkiVcddVVREVFUVlZyX/+8x8++ugjvvnmm371++jRo+zbtw+3201FRQVff/0177zzDqGhoTz66KP9alsQBpsIpgRB6NbsCfGsOlrLuu/KOwyoZJeD3071H9BMflu2bCE8PLzDm1SAiy66iEcffZQjR44wZszAz+r0l8lo4tbkOdx18FNPrSnJ6eLWCXMwGQdmdq8jd999NyeddBJvvPEGq1evxmazERwczJw5c1i+fPmg9UMN404+gW/TduJja78ktcbcyIxTpg/o+QfjPXr99dcDzbMjISEhzJo1i1WrVnmW8vXV5MmTef/993n++efZsGEDR48exWw2M3HiRJ588knGjet8JrUn9u7dy+LFi5FlGW9vb2JjY7nmmmu48sor+zWrNlTC46OoC2k/iwfg30GtroHS2NjI4sWLgealu6GhoVxwwQWsXLmyXyUPzjrrLN555x1eeOEF/vKXv1BZWYnVamXq1Kn84x//8CRX6att27axbds2tFot3t7ejB07lttvv53LLrsMs7n7JeWCMJxIymAVQhAEYUi4XC7S0tJITEz0pELuq68PZfH+j/nsOlJPk6zH4LYzZ4wXiyZFDnhK9NHqoc/eYqutOQnEQlM4f5h/eTevELpSlldCVUH7DIC+Ef4ERYV08ApBEEYSNT/TBEENYmZKEIQemzU+jlnj47DZbFRU1+DvYx2wPVLHi1umnck325tTG99y6plD3JuRLygqRARNgiAIwqARwZQgCL1mMpmIEEGUKkL8AlgeM8Xzb0EQBEEQRg4RTAmCIAyxy6bOGeouCIIgCILQByKYEgRBGGIdZZ8TBEEQBGH4G1m5SAVBEARBEARBEIYJEUwJgiAIgiAIgiD0gQimBEEQBEEQBEEQ+kAEU4IgCENMURREyT9BEARBGHlEAgpBEIQh5Ha72bfpMQAmL7kXWRZjXIIgCIIwUohgShCETimKQl1dXa9eY7FYRHa6HmoJpKyH3wVg3yYRUAnCSNAyk3zsta6zxwVBGL1EMCUIQqfq6upI33gGXsae3dzXN7oZe/UXeHt7D0h/1q9fz9NPP+35Wq/XExkZycUXX8zy5ctHVBDSOpCSf77xsh5+d1ADqtY/T0mS8PLyIjw8nOnTp3PVVVcRHx8/4H0YSI2NjRiNxiE7/wUXXMDhw4d54403mDZtWr/aeu+997jvvvs8X+t0OkJDQznnnHNYsWIFJhWKaOfn57NhwwZ27dpFWVkZZrOZiRMnctlll7Fw4cJ+tz9auN1uPv30UwDOPvtsz//Vzh4faNu3b+eNN97gwIEDNDQ0EBwczJw5c1i2bBmxsbG9bi8/P58zzzzT87XBYMDf35/x48dz/vnns3DhQhEsCkIrIpgSBKFLXkYZSw+DqcFgNBp59dVXgeab5W+++Ya//OUvKIrCjTfeOMS965mOAikAWZIGPaBq/fOsr68nLS2NzZs389Zbb/HII49w4YUXDngf1FZXW0PGN59Rn38Ac+QExs48G4u3dVD7kJ6ezuHDhwH46KOP+h1MtXjxxRfx9vbG4XDw008/8be//Y3q6mr+8Ic/9Kvdffv2cf311+Pv788NN9xAQkICdXV17Nixg7vuuouYmBjGjRunyvcwkrUETFVVVQB8+umnnH322Z5/H/v4QP8f/vOf/8wLL7zAggULWLNmDf7+/hw5coR3332X22+/nQ8++KDPbd9xxx3MnDkTh8NBYWEh27dv57bbbmPevHmsX78erVbcQgoCiGBKEIQRRpZlJk+e7Pl61qxZpKWl8emnn46IYKqzQKrFYAdUx/48TznlFK688kpuvPFG7r//fqZMmUJUVNSA9kEtLpeL1G//S33mHrw0dnyNwNGDHPowHUvCTJKmzUWj0QxKXz766CNkWWb69Ols3bqVBx54AJ1O1+nx8+bNY+XKlVx88cVdtjthwgT8/f0BmD59OsXFxXz00UddBlP33nsvAI899liHzzc1NXHbbbcRGhrKm2++icViadOvJUuWYLUObjA6HCmK4gmYWv5fVlVVeWajOnp8wYIFAzaLs2PHDl544QVWrFjBqlWrPI9Pnz6dSy65hC+++KLD13X3fmgRHR3d5tpw4YUXsnnzZh566CFeeOEFbr755v5/E4IwCgyf4WZBEIQ+8vLywul0DnU3utVdINXil4DqMdxu9yD2sJnBYODBBx/E4XDw9ttvD/r5+6KsMJdv312Pkr0TL429zXNeGjvurC/59t31lBXmDnhfFEVhy5YtzJo1i2XLllFVVcXOnTsH5FxqvPf//e9/U1RUxB133NEmkGoxbtw4wsPD+3WO0UqWZaqrq6murh70Zcb/+Mc/CAwMZMWKFR0+f8YZZ6h+zsWLFzNx4kTeeOMN1dsWhJFKBFOCIIw4TqcTp9NJXV0d27dv94wAD2c9DaRaDHVAlZCQQEhICD/88MOgn7svKouO4O2u7nQWQJIkvN3VVBYdGfC+7N27l4KCAn71q18xZ84cfH192bJliyptu91unE4nNpuNPXv28Pbbb/f7vf/tt9+i0Wg4+eSTVenjaCVJEmeffTa+vr5t/k9KktTmfed2u/H19eXss88esFkpp9PJ3r17mTVrVpczngPhlFNOoaysjIKCgkE9ryAMV2KZnyAcp2p+eonGI//p8pg6mxNXTQ7Opp616WqCsm3XYTN1f2kxjjkL68TlPWu4lYaGBiZMmNDmsXPPPXfIl/hV/vcF6g981uFziqKQmZ5OsP0Izl7eWxlL/8yX37xF/Nixnd6YeZ0wH7/Tb+htl7sVFhbG0aNHVW+3p8oO7KD6yMEeHVtcWIjFVdXtceU/bEMu+anb43zGTCDohLk9OvextmzZgsFg4Oyzz0an07FgwQI+/PBD6uvr8fLyAuhwNqklUGohy3K72Y5TTjmlzdczZsxok5gCmpc7tq5b1vLv1m1LkuRZ8lhSUoK/v/+QJusYagcPHiQvL69Hx7rdbo4ePYrBYOgwm19TUxNWq9Wz/K87UVFR7a5p3amqqsJut/doxrC374fuhIWFAXD06FEiIiJ6021BGJVEMCUIwohiNBp5/fXXAbDb7Rw8eJCnnnqKBx54gLVr1w5x70YXRVFE1q5ecjqdbN26lblz53qyWp5//vls3ryZzz77jIsuugigw5vn+++/n/vvv9/z9cqVK7n11lvbHPPKK69gsVhwuVxkZGTw1FNPsXLlSl566SVP4HXttdeyZ8+edu23TkYwY8YMNm7c2N9vVxhiPfn/qfb7QaR/F4S2RDAlCMcp68Tl3c4MmWprKXz7TLQ9zOanaXQTtOAfA5YaHZpH6ydOnOj5eurUqbhcLh577DGWLVtGYmLigJ27K36n39Dl7FBEL5f5AbgVhZqkSzhtiGpPFRcXExMTM+jnbRF0wtwezw65v9+JI/3zbo+zjJ1HwtRT+9u1Tv3vf/+joqKCM844g5qaGgASExMJCgpiy5YtnmDqnXfeafO6m2++mcWLF3P66ad7HgsODm7XflJSkicBxeTJk7Fardx6663s2LHDs0fm4Ycfpr6+3vOav//97wDccsstnsdaZsgAQkJC2L17N01NTRgMhn589yPXhAkTejQ71JLNLzAwsNP/k263G1mWBzSbn6+vLwaDgcLCwm6P7e37oTvFxcUABAYG9vg1gjCaiWBKEIQRLy4uDoCMjIwhC6a6I8syk5fcy75N9CigagmkhqqIb3p6OiUlJSxatGjQzz2SffTRRwDcd9997ZbfVVZWUl5eTkBAQJsBAWiumRYREdHu8e601AJLT0/3BFMt/x9a+Pr6AnTa9owZM3jnnXfYvXt3m2BOaKujbH4tj8MvMzWyLA94Nj+tVsuUKVP4+uuvcTqdXaYp7+37oTu7du0iJCREJCURhJ+JBBSCIIx46enpAPj5+Q1xT7rWElDVJF2Cu9UehmMNdSDV1NTEmjVr0Ov1XHbZZYN+/r7wCxtDrezbZm9Ia4qiUCv74hc2ZsD6YLPZ2L59O2eddRavvfZamz9PPvkkTqeTTz75RNVzpqWlAf177y9cuJCwsDCefPJJ6urq2j1/+PBhioqK+tz+aOZ2u/Hx8cHHx2fQE8UsW7aMsrIynnvuuQ6f37Fjh+rn3Lx5MwcOHODXv/616m0LwkglZqYEQRhR3G43+/btA8DhcHDw4EGeffZZEhISVCuMOpC6m6Ea7ECq9c+zoaHBU7Q3Ly+Pxx57jMjIyAHvgxqCwqPxv2RlmzpTLepdeiwJM5kx/fQB/Zlu376dhoYGrr76ambOnNnu+RdffJEtW7Zw9dVX9/kcBw8exNvbG6fTSVZWFk899RSBgYHMnz+/z20aDAb+9re/cf3113PJJZdw7bXXeor27tq1i7feeou3337bk3jgeNWSza91cd6WrH1Ah48P5L6iuXPncv3117N+/XoyMjI477zz8PPzIz8/n3fffZfa2lrmzu1bEhWA3Nxc9u3bh9PppLCwkP/85z9s27aN+fPns3x575MHCcJoJYIpQRC6VN/Y89HW3hzbV42NjSxevBhoXuoSGhrKBRdcwMqVKwc9RXBfdRZQDcWMVOufp9lsJjIyktmzZ/P00097lpCNFBqNhgmzzqRuwnQyvvmM+vwDmKMmMH7G2Vi8B77o7JYtWwgPD+8wkAK46KKLePTRRzly5AhjxvRthuz6668Hmt9DISEhzJo1i1WrVnmWbvXV5MmTef/993n++efZsGEDR48exWw2M3HiRJ588knGjRvXr/ZHi5a9UC2Z+lrvi+rs8YF09913c9JJJ/HGG2+wevVqbDYbwcHBzJkzp98Bz5NPPgk0L0H19/dn/PjxrFu3bkALEQvCSCQpna2JEARhVHC5XKSlpZGYmNjj1LctFEXpcNlPVywWi/ig7aHWtaeAIV3aNxo1NjYe1+m+hYHTWUY7kelu4PXnM00QBoKYmRIEoVOSJA1oZr7jXesZKkAEUioTgZQwULoqDi0IwvFFBFOCIAhDSJZlTrqyOeubuBETBEEQhJFFBFOCIAhDTARRgiAIgjAyifUkgiAIgiAIgiAIfSCCKUEQBEEQBEEQhD4QwZQgjHItS8hE4k5BEARhpBMZE4XhRgRTgjDKybKMRqOhsbFxqLsiCIIgCP3S2NiIRqMRmU+FYUMkoBCE40BQUBAFBQVERERgNBrFiJ4gCIIwoiiKQmNjIwUFBQQHBw91dwTBQxTtFYTjRGVlJWVlZbhcrqHuiiAIgiD0mkajISgoCD8/v6HuiiB4iGBKEI4zbrdb7J8SBEEQRhRJksTSPmFYEsGUIAiCIAiCIAhCH4gQXxAEQRAEQRAEoQ9EMCUIgiAIgiAIgtAHIpgSBEEQBEEQBEHoAxFMCYIgCIIgCIIg9IEIpgRBEARBEARBEPpABFOCIAiCIAiCIAh9IIIpQRAEQRAEQRCEPhDBlCAIgiAMkU8//RRFUTx/C8NL69+L+B0JgtAREUwJgiAIwhBwOp2sW7fO87cwvLT+vYjfkSAInRHBlCAIgiAMgUOHDjF//nxSUlKYP38+kiQNdZeEVlp+P5Iktfm3IAhCayKYEgRBEIQh8N1333HxxRd7/haGl9a/F/E7EgShMyKYEgRBEIQeWL58OUlJSfz1r3/t9thvvvmGpKSkdn+mTZvmOUaj0TBmzBjP30LHuvq5f//991x33XXMnj2bk046iUWLFvHOO+/0uO0dO3Zw1VVXcdJJJzFlyhQuvvhidu/eDdDm9yJ+R4IgdEY71B0QBEEQhOFuy5YtHD58uNeve+CBB5g4caLna41G4/n30qVL2/wttNfVzz01NZVly5Zx4oknsmbNGkwmE9u2beP+++/Hbrdz5ZVXdtn2m2++yZo1a7jqqqtYsWIFbreblJQUGhsbgba/F/E7EgShMyKYEgRBEIQuVFdXs3btWu677z7uvPPOXr02Pj6eyZMnD0zHRrnufu6ffPIJbreb5557Di8vLwBOOeUUDh8+zL/+9a8ug6n8/HweffRR7r77bq699lrP46eeeqrq34cgCKObWOYnCIIgCF3485//zNixY/nVr3411F05rnT3c3c4HGi1WoxGY5vHLRYLbre7y7bfffddZFlmyZIlqvVXEITjkwimBEEQBKET3333HR988AEPPfRQn15/1113kZyczMyZM7nzzjspLCxUuYejU09+7osWLQLgj3/8IyUlJdTU1PDWW2/x9ddft5lt6sj3339PXFwcH3/8MWeddRbjx49n/vz5vPHGG2p+G4IgHAfEMj9BEARB6IDdbud3v/sd1113HXFxcb16rbe3N9dddx3Tp0/HYrFw6NAhNmzYwJ49e/jggw8ICAgYoF6PfD39uScmJvLaa6+xcuVK/vnPfwKg0+n4/e9/z3nnndflOUpLSyktLeWJJ57gjjvuICoqiq1bt/KHP/wBp9Mp9kgJgtBjIpgSBEEQhA68+OKLNDY2cvPNN/f6tePHj2f8+PGer2fMmMH06dO57LLLeO2117j99tvV7Oqo0tOfe05ODr/97W8ZO3YsDz/8MEajke3bt/P73/8eg8HABRdc0OlrFUWhvr6exx57jLPPPhuA2bNnU1BQwPPPP88111wjakoJgtAjIpgSBEEQhGMUFhby3HPP8cc//hG73Y7dbvc8Z7fbqampwcvLq012vu5MmDCBmJgYDhw4MBBdHhV683N/8skn0Wq1PPfcc+h0OqA5IKqsrOSRRx7hV7/6FbLc8W4GX19fAE4++eQ2j8+ZM4edO3dSWlpKSEjIwHyTgiCMKmLPlCAIgiAcIy8vj6amJu6++26mT5/u+QPwj3/8g+nTp5OWljbEvRx9evNzT0tLY9y4cZ5AqsWkSZOoqqqivLy80/MkJCR02Y/OgjBBEIRjiZkpQRAEQThGcnIyr732WrvHr7nmGi644AIuvfTSXhdx/emnn8jOzmbBggVqdXPU6c3PPSgoiJSUFOx2O3q93nPsjz/+iMFgwMfHp9PzzJ8/n3feeYddu3axcOFCz+M7d+4kNDSUoKAgFb8rQRBGMxFMCYIgCMIxrFYrM2fO7PC58PDwNs/t2bOHa6+9lkcffZSLLroIgDvvvJPIyEgmTJiAt7c3KSkpbNiwgZCQEK6++urB+BZGpN783K+66ipWrVrFzTffzJIlSzAajXz++eds2bKFa6+91hNgdfT7mTt3LjNnzuR3v/sdlZWVngQUu3btYu3atQP+fQqCMHqIYEoQBEEQ+kFRFFwuV5vaRomJiWzZsoXXX3+dxsZGAgMDOfvss7n11lvx9/cfwt6OHgsXLuT555/nxRdf5IEHHqCpqYkxY8bw0EMPccUVV3iO6+j3I0kSzzzzDH/5y19Yv349NTU1xMbG8uc//5nzzz9/KL4dQRBGKElRFGWoOyEIgiAIgiAIgjDSiB2WgiAIgiAIgiAIfSCCKUEQBEEQBEEQhD4QwZQgCIIgCIIgCEIfiGBKEARBEARBEAShD0QwJQiCIKiqtLSU9evXU1paOtRdOS6Jn78gCMLgEcGUIAiCoKqysjKefvppysrKhrorxyXx8xcEQRg8IpgSBEEQBEEQBEHoAxFMCYIgqGjfvn2sX7+e5cuXc/7553P22WezePFi7r33Xt59912qq6uHuoujkt1uZ/369djt9kFroyfHd3dMZ8/35nE1vvf+Ol5+/oIgCMcSwZQgCIIK3n//fc4//3yuuOIKXnnlFRobG4mJiWHSpElYrVb279/PAw88wGmnnca9995LXl7eUHd5VLHb7Tz99NP9vpnvTRs9Ob67Yzp7vjePq/G999fx8vMXBEE4lnaoOyAIgjDSnX/++VRWVnLhhRfy+OOPk5ycjCRJ7Y6rra3liy++4KOPPuK8887jscce49xzzx2CHguCIAiCoAYRTHXBbrd7RqWys7N56623GD9+PF5eXkPcM0Hom/r6eg4fPsw111xDXFzcUHdn1Lj00ku54oorMBgMXR7n7e3NBRdcwAUXXEBqauqoShDQ+npZXFwMQGpq6qCdv6GhAYCUlBTMZvOgtNGT47s7prPne/P4sY9lZmYCeP4eDKPt519ZWQlAfn4+kZGRAOj1evR6fU+/neNO62tAZWUl3377LTExMd1eFwVhuGpqaiI/P585c+bg7+/f6XGSoijKIPZrRFm/fj1PP/30UHdDEFS3ZMkSfv/73w91N4RRRFwvhdFu5cqV3HrrrUPdjWFLXAOE0epPf/oTF1xwQafPi2CqC61HWd555x3Wrl3LkiVLmDJlSr/aVRSFpqYmjEajGt3E4XAgSRJarZhoFLq2d+9eNm3axO9//3uWLFky1N0RRpHW18t9+/axfPly/vSnPxEfH9/jNhRFIScnh8jISHQ6nSr9qq6upr6+nvDwcFXa68xPP/2E2+1u97gsy0ycOHFAzy20pcbvIjMzk7vvvpuXXnqJyZMnA2JmqjtqXAMEYThpuQ5s2rSpy3t/cffdhdYXzpbpvSlTpnQZnfaE2+0mJSWFxMRE1W4YampqaGhoIDQ0VJX2hNFr06ZNYqmqSo4cOcL9999PYWEhZ511FnfccYdnScull17KO++8M8Q9HDytr5d+fn4AxMfHM2HChF61M378eBwOBxqNRrUBIrvdjiRJql1vO1JbW9vpDXxvfwZC/6j5u/Dz88NisajVtVFNrWuAIAw33S1VFdn8BklmZiYvv/UBmZmZyLJMdHS0Z1+BGry9vamsrMRms6nWpiAIXXv44Yc5++yzWbduHRUVFVx77bXU19cD4HQ6h7h3I5MsyzgcDjIzM1Fr4YRerycrK8vzuxEEQRAEtYiZqS60nrJubGwE6PWH+9LHXuZfmQ3U6q0oOjPSjq/wtm/lwngzL//fUurr61WZJZAkidjYWFwuV7/bEoSBkJ2dzQMPPEBlZSWyLHP55ZdzzTXXDHW3+qW8vJyrr74aaF5T/fTTT3Pdddfx0ksvdZjNT+gZi8WCr68v5eXlBAYGqtJmXFwcaWlpjB8/XvxuBEEQBNWIYKoLGzZsaLeZsjfZtyb/9m/8SAT4/HIzoGj11Jh82VjYyP7bnuKfvzmb+Ph4VbLdGI1GGhoaKCgoICIiot/tCYKa9Ho9v/vd70hMTKSuro5LLrmEmTNnkpSUNNRd67OWQZYWK1euRJZlli9f7skSdrxoPfikxvceEhKC0+mktrYWb2/vfren0+lITk6msbERo9EoAiqhRxoaGqirqwPEnilBEDomgqku3HTTTSxbtgyATz75hAcffLDHs0hLH3u5OZDSd5JkQm/kR3sEa9/fzcNLjKqlqTabzeTn56s24yUI0Lyhe+PGjfzwww8cOXKE3/zmN9x+++3tjktJSWHNmjUcOHCAwMBArrvuOn79618DtAnwLRYLsbGxFBcXj+hgKiYmht27dzN79mzPYytWrMDtdh93Wa06GnzqL1mWycvLIzY2FpPJpEp7dXV1lJWVMWbMmF6/vqSkhK+//pqampp2qxQyMjI6XLkgSRJpaWl97rPQez35XciyjL+/P3PmzMFqtXbaVsv1C0Q2P0EQOiaCqS60HoVqybzn5eVFdnZ2t9mm3kuvA79ulqfojfwrq5jXYmNpaGjoc22OY8XExIi9U4Kq9u7dy/79+5k6daqn/sqxKioqWLZsGZMmTWLDhg0cPHiQRx99FIvFwkUXXdTm2Ly8PA4ePMhJJ500CL0fOE888USHMxwrV65k4cKFQ9CjodN68CklJaXNTWhfybJMfHw8xcXFREdH97s9gKCgILKysnp1zc3MzOSGG25gx44dHSY2EEYug8HABRdcwPPPP4+vr2+7519//XWSk5MBxKyUIAgdEsFUFzraMwUQGBhITk4OY8eO7fB1mZmZNBh8e3SOBr2VzMxMHA4HMTExqoy+6vV6FEVpU2xQEPrj6quvZunSpQDMmzevw2M2bdqEJEmsW7cOk8nE7Nmzyc/P59lnn20TTNXV1bFy5UpWr17d5YjwSNBV/xMSEgaxJ0Ov9eCTWgND0HyzGx0dTWlpKcHBwaq0GRcXR1NTEzabrdtrbk5ODqeffjoGg4ENGzZwzjnnEBgYiCyL/E0jmcvloqCggA8++IBHHnmEs88+m+3bt7dbUmo2m0U2P0EQuiSCqS50tmzF29sbh8OBoigdjkpv370XRX/szYQCCnDM8W6DF19+/xNXXngO+fn5qt2AGQwGGhsbVdtvIBzfenLjuGvXLubOndvm5nThwoVs2rSJvLw8oqKisNvt3HzzzSxatIhzzjlnILs8JH744YcRP9umppbBKDU4nU5V94NKkkRWVhZJSUldpmB/8skncTgcfPPNNwNeq0oYPDqdjvj4eO68807OOOMMpk+fzptvvskNN9ww1F0TBGGEEUNrXbjpppv4/vvv+f7771mzZk2b5/z9/cnPz+/wZmFCXCSS/dgN2FK7QApAbqpn3JgwjEYj8fHxqi7Pi4mJweFwqNaeMHrk5+dz8ODBdn9KS0v73GZOTk67vX8tX2dlZeF2u7nzzjs58cQTufbaa/vT/WFrxYoVQ92FYeXYBB39ER4ejsvlUm2ZnV6vJyoqqsukQm63m3feeYcrrrhCBFKj2JQpUzj99NN56623hrorgiCMQCKY6oJer8disWCxWDx7ploLCAggOzu73eNTTpqMztbxvpJjybYqHIbmpUKSJHHkyBHVsoBptVqsVit5eXmqtCeMHuvWrePiiy9u92fz5s19brOmpqbdLKiPj4/nuS+//JLPPvuMnTt3cuGFF3LhhRfy2Wef9ev7GG7Uqos0Wnh5eZGbm6tae2PGjKG8vFy1IM1qtRISEkJ5eXmHz1dVVVFUVMScOXNUOZ8wfM2ZM4dDhw4NdTcEQRiBxDK/fjCbzQQFBeFyudBoNJ7HTSYTiaZGDtgbO8/mB2BvxNxYwSdpR5k7pfmh2NhYsrKyGDdunCp91Gq1OBwOqqqqOtxcKxyfVq1axdy5c9s9HhQUNGDnPP3000lNTR2w9ocDkW67LY1GgyzLlJSUEBISokqbFouFzMxMkpOTVdm3JMuyp/aZn59fm+daVgqIzKijn5eX13FXzkBtapdHEISRQrVgSs0Py5HE39+fwsJC/P3928xePXXD+Zzz+Ls0BSd1HFDZGzGUphIx7kR2Han3bITW6/UkJiZ6aqGoITo6moqKClXaEkaHwMBAT3Y0tWqnWK1Wamtr2zxWU1PjeU4Y3Tq7kYqMjOw0A2RfmEwmIiIiaGxsVC3RRVxcHPn5+e2CqRYiSB79OvsdizpTPTcQ5REEYSRQbZnf4sWL1Wpq2LDb7dTV1VFXV9flshI/Pz+ys7PbLPFJCPEjIiYOQ+lhtEezkOsrwNmEXF+B9mgWhtLDRMaOxewbSJOsp6K6xvNaWZbJz89vd2PaVxqNhoCAALHcT/B48MEHmTp1KlOnTmXDhg2qtBkTE9Nu2WtWVhaAanXUhOFrw4YNnvdU67TokiTh7+9PRkaGagkpfH19URSFkpISVdqTZZkxY8ZQVFSEy+VSpU1h6P39739nwYIFjBs3jv/85z99auPXv/616tfK0ar1PvPXX399qLsjCIOmVzNT27dv7/S5pqamfndmuOnpKIvJZCIkJASn0+mpPRXg50NIgB8G43iq6hupqzhKY2UuboMV/8AgAryjMPs216EyuO34+7QduY+OjiY9PZ3k5GRVRkVlWcbtdlNeXk5AQEC/2xNGtjVr1nDuuecC6tVOmTNnDm+88UabWdVt27YRExNDVFSUKufoi+N11nywdVdnKjw8nMzMTMaNG9ftNa2goIC9KelMSR7bafa+lgLlZrNZtYylJpOJ7Ozs4y6t/Wh1yimncMEFF7B69eo+tyHqTPXcQJVHEIThrlfB1MqVK5k+fXqHm6zr6+tV69Rw0frm4JNPPuHBBx/s9Fh/f39KS0vx9vbGZDJhMpk4JdKLL0q8MPuCOziI2ro6ChvA5OuN2euXi/KcMV7tap3odDrGjRuHw+FQ7QIeFRXVr2xtwvGroqKCPXv2AM37SLKzs9m6dSsmk8mz92rJkiVs3LiR2267jaVLl3Lo0CE2b97MI488MpRdZ/Hixfz3v/8dlHOptddxJOruRspsNhMVFdVpSQmA+154j40/HaXUbcalM6P54AuC5QaunhjI2hsubnOsJEnEx8erNoMPzTNedrsdh8PRZVH24aC4uJgXXniBAwcOkJqaSmNjI9u3b++wtmBRURFr167lf//7H4qicPLJJ7N69eoeZShcv349Tz/9NAcPHuwyhfxwNHny5H63IepMCYLQnV5dGceMGcOjjz7a4cW6o83sI13rm4Oe7F/y8fHxbIyWJIlFkyLYsTUHt0aHrDNg9TVQ7KijrslJ4M/BlOxysGhSbIfttSz38/f3VyV5hCzLhISEiGK+Ag8++KBncGDlypXceuutXR6fnp7OqlWrPF9v27aNbdu2ERERweeffw40Dyi8/PLL/OEPf+DGG28kMDCQe++9t03B3oEyXGbNX3755UE710hksVgoLCxEr9cTGBjY5rkFv3uR/1T5oOhDf67JB07ZSqFk5YkDTez93Ytse/j6Nq/RarX4+vqSkZFBfHy8KrP4wcHBVFRUDPvAITc3l3//+99MmDCBadOmsWvXrg6Ps9lsLF26FL1ez+OPPw40Z/O85ppr+PDDD8UMgiAIQj/16tPiwgsvpKKiosMb8csuu0y1To1UBoOB0NBQmpqaMBqNzJ4Qz6qjtaz7rhy3RockgZdeS22TE4fThexsYsVUf2aN73w/SXR0NKmpqVitVlUyV0mShCRJlJaWEhwc3O/2hJGpt8v8Zs6cyeHDh7s9Ljk5mU2bNvW7f701HGfNi4qKKCoq6jCYmz179hD0aHgICwsjNTUVs9nsuZG/74X3+KzKB3QGmmvy/Xzwz38rOgOfVflw/0vv88jyRW3akyQJPz8/cnJyiI3teGCqt3x8fEhNTW23YmAo2O32Dv+PTp8+na+++gqAt99+u9Ng6q233iIvL4+tW7d6ks4kJSWxYMECNm/e7Fl9MdJce+21pKSkdPjcM888w9SpUwe5R4IgHK96FUx1VZBy5cqV/e7MaODv709FRQVOpxOLxcKVcycTF5TF+z/ms+tIPRqXA2dtFYUNLgKtFl7cp5By9EsWTYpg9oT4du1pNBrGjRuHy+VSJZiC5r0LhYWFqrQlCMPBcJo1z8vL46677uLHH38Efqk9JUmSZ4lbZzeBxwNJkkhISECSJE9Ziee/LQJrFL9EUe1eBToDG/bk8cjy9s8GBASg0+m6XELYGxqNhri4uG6T9rQsgfvwww/54x//yI8//oi3tzeXXXYZt956a5trdmpqKn/729/4/vvvaWpqYvz48dx1111MmzatXXsfffQRjz/+OHv37mXWrFk8++yz7c7d08+Dzz//nBNPPNETSEHzku8pU6awffv2PgVTX375JatWrWLRokU88MAD/P3vf+fpp5/mk08+4dFHH+X777/H19eXW2+9lUsuuYQPPviA5557jpKSEk444QQeeeQRxowZ0+U5srOz+fOf/8zevXupq6sjICCASZMm8eSTT6LVannllVd63W9BEISB0K91DD/88AMnnXSSWn0ZNby9vUlLS/PUQZk1Po5Z4+N4edtu1u0upMrkjdbihZePETvwRQns2JrDb8tquOr09j9PjUZDfn4+3t7e+Pv797t/kiQRERFBQUEB4eHhIu3vcai3y/yGu+E0a37//fdTWFjI6tWriYuLG/Z7b4aCTqfDZrNx5MgRvLy8qNJa6TyQaiFRJVsoKCjoMCmF1WolKyuLkJAQVepCmUymHi/1u+WWW7jkkku46aab2LVrF8888wyyLHv+Xx08eJCrrrqK5ORk1qxZg8lkYtOmTVx77bW8+eabnHDCCW3aW7FiBZdeeinXX399vwfRMjIyOPPMM9s9npCQwNatW3vd3gcffMADDzzAihUr2g2w3nbbbVx22WVcd911/POf/2T16tXk5uayZ88e7rrrLhwOB4888gh33nknb7/9dpfnuemmm7Barfz+97/Hz8+PkpISduzYgdvt7nWfBUEQBlK/gqkVK1awe/dutfoy7LSum9JVavRj6XQ6wsPD29RB2X0wk+cONKDzDcLobqDe7kRRoCWOcWt0/PXLDOKDfTpc9hcVFUVKSgpWq1W1tfyyLFNcXExYWJgq7Qkjx0Bk8xtKw2nW/KeffuKxxx5jwYIFg3rekcZkMuHr68s7H3+Goj9m307ri2MrboMXX32/n8s6yfAXFRXF4cOHSUpKUiWINRgMPTru8ssv58YbbwSas1rW1dXxj3/8g6VLl2K1WnniiScICwvj1Vdf9fx/mzNnDr/61a945plneOaZZ9q0d/XVV7N06dJ+9x+gurq6wzpvPj4+njpwPfXCCy/wt7/9jd///vcdDlIsX77cs0fyhBNO4IsvvmDz5s1s377dk8ShrKyMRx55pNOgGJoT3uTm5vLMM8+0CQTPP//8XvV3/fr1vP3221RUVJCWlsYf/vAH3nrrLUJDQ3vVjiAIQlf6dVfe0f6E0aQ/Bej8/PyoqamhpqYGq9XK+z8W4NY0f7hb9FqO1tuxOVwE2hvwK8vmVHk38b4uvn3xAxpPuYoJM6YSFPVLOmdZlklMTFTl+2oRGhpKQUGBqm0KwnAwlLPmoaGhYjaqh0JCQogKD0b6rgRF2yqo72S2XG6qx9vceWkHnU5HQkICsiyrtuSvJ84555w2X5933nm8/fbbpKWlccIJJ/Dtt99y0003IcsyTqfTc9zJJ5/MRx991K69+fPnD3ife2vt2rW8/fbbrFu3jrPOOqvDY0477TTPv318fPD392f8+PFtsuG11JwrKirqNJjy8/MjKiqKv/zlL5SXlzNjxgxiYmJ63edbb7112M66i5INgjB69Gv9wGhfHta6AN2aNWt6/Xqz2cyRI0eoq6vjf/m/bIK3GDQAVFXXcW7uJm4I+IpTYwyE+5qZGW2g/tDrbH78Xk/V9RY6nY6SkhLKysr69439TJIkIiMjKSoqGvWBsdDWQBTtHU66mqkaaDfddBMvvPACDQ0NQ9aHkeSU6VPRNFT26FjZVs2MKSd2eYzRaKS6unpQi5QfW7uv5evS0lKqq6txuVw888wzTJgwoc2f119/nerq6nZL14KCglTrm9Vq7XAGqrMZq85s2bKFsWPHcvLJJ3d5rtb0en27x1oGGroq4CxJEi+//DInnHACf/nLX1iwYAFnnnkm//znP3vc3+Fu8eLFQ90FQRBUMrxzvw6x3qZGP5ZWqyUqKoq8wmKaZINnR4BJq+GE2n2s9N7H2AlezRn2Wr0uyGok0Fvhk8dvIPr0K5h55oWe58LDw0lJScHHx0e15VlarZaCggKRLv04MtqW+R1rKAcHLrroIrKzs5k3bx6TJ09udzMpSZInRfVo0npZdG8CyYCAACz2CqrsYaDv4jprb8TSVNmjfaP+/v5UVVVRWVmJn59fj/vSV+Xl5W1SjJeXlwPNada9vb2RZZmrrrqKCy+8sMPXH7svSs2ByoSEBNLT09s9npmZ2avixK+++irXXXcdN9xwA88//7wq+9K6EhUVxRNPPIGiKKSmpvL666/z8MMPExERMahJZRoaGjwDm63vCXpiuJRsEARhYIlgaoD5+PjgdDrR2FNwm3yaH5RgjpRJYqil5UsPpeVrSSIm0ETm9zvaBFOSJDF27FjVMvtB8yhoXl7eoC6LEYaW0Wgc1YUoh/J9/N5777FhwwY0Gg0HDx5st+RvtP4f6+uyaJvNRmBQKHVlmTgD4zsOqOyNaI9mEBgSgs1m61HK8piYGNxud6epxdX073//27NnCuDjjz/GbDaTlJSE2Wxm2rRppKamsnr1alWv3T0xb948nnjiCfLy8oiKigIgPz+fvXv3cuedd/a4nYSEBDZu3MjSpUu54YYbeOGFFwY8oILm/y/Jycncd999vPPOO6Snpw9qMPXrX//a8+/eJusZjiUbBEFQnwimBoGfnx8neDvZ7/glWPF3NQAmTyDV+lLb+t9VpUfbtdey3E9RFNU20kZFRVFaWkpgYOCgf9gLwmiyfv165s+fzyOPPNKrZVQj3U033eRJs52SktLmJrQr5ZXVWMckEuRK4+jRLNwGM4rRitvghdxUj9RYg9zUQKCfH9bIsVRU1xDRg2BKlmVcLhfp6ekkJSUNaBHet956C7fbzcSJE9m1axdvv/02t956K97e3gDce++9/PrXv2b58uVceumlBAUFUVlZyaFDh3C5XNx11119Om9LNr4DBw4AzSnL/f398ff3Z8aMGUBzcow33niDFStWsGrVKiRJYt26dYSGhvZ6qVl8fDyvvfYa11xzDcuXL+fFF18ckEGZ1NRUHnnkEc4991yio6NxuVy8//77aLVaZs2apfr5uvL666+TnJwM9H4WfziVbBAEYeD069Nl3LhxavVjVJNlmStnjWX/9gIwmFAcdqw0L+1rHTgdO0MF4Gpw0tjY2G6ZYXBwMKmpqfj4+KhWWFKr1ZKXl9emHokwOjU2NvZ56YrQtaqqKq688srjKpCCtu+j1kveuhPg54PB3UR4wniMeZmU1dmxNVajqS5C0Zsxm4wE+lvwj4pHb6/H36fnP1edTkdUVBRHjhzxJD4YCM888wxr1qzhmWeewdvbm5tvvrnNvr0JEybwzjvv8PTTT/PHP/6R2tpaT3KGJUuW9Pm8q1atavP1ww8/DMCMGTPYuHEj0Py7ePXVV1m7di3/93//h6IozJ49m9WrV/dpZikuLo7XX3/dE1C99NJLfe5/Z4KCgggPD+eVV16huLgYg8FAYmIizz33XLs08gPNbDb3OWAcTiUbBEEYOP0Kpl5++WW1+jHqnTntBG6tsrH++wrcTU3gcncaSLV83fx8Pdnph0ieOKXt85JEfHw8Go1GteV5/v7+1NXVeQppCqPXaKszNZxMmTKFzMxMZs+ePdRdGRFMJhOnRHrxRQn4R8XjDzjrqigsKaNeayE6PBgJN263mzljvHo9eGS1WvH29qa+vn7AlqXFxcV5gpfOxMfH89e//rXLY3qbfe7w4cM9Oi48PJz169f3uN3u+hQTE8OXX37Z5THQXDD4WDNnzuy23wEBAaNiX+FwKtkgCMLAEcv8utDXOlOduebMaeibPuf7SgON+c3pcbsLgbQ60Ng7Xlut1+upqKjAZrN1mmK2t8aMGUN5eTm+vr4ioBrFRnsCiqGcNb///vu57bbbsFqtnHrqqfj4+LQ7RiylbWvRpAh2bM3xlI+QzVY0vhIOm4v0slo0Gg2ys5HxGondBzOZPSG+V+1LkkRRUREBAQGDkpBCEDoylCUbBkNfk9AIwkjX72DK7W4eMWy9Hn3nzp2kp6cza9Ysxo8f399TDJn+1JnqiCRJXHjGbM6sq+ONtEhySvOJDrIgS+1vrNyKm9yyOugmoPH39+fw4cOqjrpqNBpycnKIj+/dDYswcoz2BBRDOWveEqTec889HT4vSRKHDh0azC4Ne7MnxLPqaC3rvivHrdFRVd9ItUPCJWlwI6F1OQjROkhVwrltaw6/LavhqtN7d1MaFxdHeno6vr6+ozYJiDC8rVixgt27dw91NwaM2vdMgjBS9DuYuuOOO9Dr9TzxxBMAbNq0ybNuW6vV8vzzz3dZl2I4a72h+pNPPvEsi+oPs9mMTqcjJ2gmmrSjlNeVMybQQrD1l6UrpTU28o/W4e9tIdrfl0Zb17NicXFxSJKk2nI/X19famtrcTgcovioIPTSLbfcIm7W++DKuZOJC8ri758f4MOKBiSdCa29ARx2wgMsWAPCAXBrdPz1ywzig32YNb7n+6BkWSYpKYnq6mosFosqM+/DuSisMPyM9nqOfU1CIwgjXb+Dqf3797fJRPTSSy9x2WWXcc899/DQQw/x7LPPjthgqr91pjrjcDjYWWlAIZG5lgwqaxopq6rA32rkaI0NvawnyOKHnzUArSzz5bZvmTRnfqft6XQ6qqurqa6uZsyYMar0MSoqiqqqKiwWy4BmwRKGxvGQgGKoZs3FzXXfzRofx3v780mwmXA12bDhS16di6af35+aqjwuqt3GOKudPa98RMgN9xE7NrlX51AUhezs7F7VWBIENYz2QZa+JqERhJGu3wv3y8vLCQkJASA3N5f8/HyuuuoqLBYLF198MWlpaf3u5GhTUVWDojWRIJsIsPoSaPXDarLSYHcR4G0mxNcHP28fNLKMAjQedfGb9W932aaPjw92u53a2lrV+tmy3E8YfR588EGmTp3K1KlT2bBhw1B3Z0DccccdrF692vP1pk2buOGGG3jiiSe4/PLL+eqrr4awd0JHbDYb/8uvR9YZ0Fl88fbyQivL1NQ2MC/1ee6XP2beGC3hvmZmRWg5uGkNT99xHUfScnp8Dl9fX0wmU6/2dIz2GQVB/I4FQei7fgdTFouFqqoqAPbs2YOfn59n87dGo/FsRhwtnE5nv9sI8PPBrIMDWm9Kq82YjV4E+gYR4h1GmK8Fb7MejVaPoigUHNWyy27i9ZQ6XvpkZ5ftxsTEoNfrVftQ8Pb2xmg0YrPZVGlPGD7WrFnD999/z/fff89NN9001N0ZEPv3729Ty6Vl1vy7777j7LPP5tlnnx2Q8z7//POsWbOmw+f++Mc/8uKLLw7IeUeD8spqmmSD52tJgskNP/I3zSYuHqclxMeIBJ4/wT5Gpo9x8/Wr97L70w96fJ6IiAgkSaKmpqbL41pG19UcpBKGp9ra2kEpQiwIwujT72DqpJNO4vnnn+eLL77g1VdfbXPzkpub65m1Gi3Kysr63UZLKuB9wbFk1Z9Eav4YymtBo9WhKBpkyUlFrcLhgmgyayey1RqDC5kX9+R12a5Wq8XlcpGdnd3vPraIjIzE6XSOuqD4eNeSgMJisYzKJX4wdLPm7733HklJSR0+N27cON57770BOe9w1NssqC01p1qbQSbjQr2QJLldLT4JkCSZmGAzqbs+7dW59Ho9eXl5NDU1dXqMr68vUVFRbdKAC6PTl19+ycSJE4e6G4IgjED9DqbuvvtuqqqquPnmm2lqampTO+GTTz4ZdWlAAwICVJn5WTQpAmSZDxwNGA3JVNSdSkZRIGU1UFThxGk/AaM+iQ9sNTi1BpwaHYfK7VRUVHTZbstIastsoRo0Go2qAZogDIahmjUvKirqtPB1VFQUhYWFA3LensrOzuaqq67i3HPP5Ve/+hWvvfZam+fvuOMOZs+ezcKFC/t9Lrfb3avjWwaaWjM6m5fjtQRSCr8UNW99JbZVVlNXU9fjc2k0GuLi4qiuru70GEmSuPTSS3nzzTfFkudR7KuvvmLnzp1cfvnlA3qeoSzZIAjCwOl3ZoGYmBg+/fRTKisr29XvuP/++wkKCurvKYYVvV5PZmYmkZGR/UpKMXtCPNek5/N/hRa+rytjmncwMJW6hnhig/bQaKvh/XyFfT7NPz9FZ8Rld5GdX4S/v3+XbUdHR6t6o9hSAb6urm5Up9MWRpeWWXONRjOos+ZGo5GSkpIOnysuLh7ymUC9Xs/vfvc7EhMTqaur45JLLmHmzJme2bTFixezfPly7rzzzn6fy2AwkJ6eTkJCQo833x9bc8rX4UTC0GmR85bHnXYnGTtTmHze9B73z2QyYTAYKCgo6LRW35133smHH37Iaaedxh133ME555xDQECAqBU2wrlcLgoKCvjXv/7FX/7yF0499VQWL148oOccypINgiAMHNXStHVUCLGzpS4jXUREBNnZ2YwbN65f2XmWL5jBc1+/w5s1texy2HBrdchOB7/31qBRsik0WPmDpZov64PYYYtAo5WJjQzrtl2NRoMsy2RkZKiWsSoiIgKbzUZjY6OqmQ2FoXE8ZPO7++67ufHGG7n55puJiooatFnzadOm8dJLL7Fw4cI2P1e73c7LL7/M1KlT+9z2Tz/9xMaNG/nhhx84cuQIv/nNb7j99tvbHZeSksKaNWs4cOAAgYGBXHfddZ40xa2DBovFQmxsLMXFxZ7r9cyZM8nPz+9zH1vTaDRYrVby8/OJiorq0Wta15xy1Ndj0mg6DaRavlYAWdtExv/2Me7Mib26RsmyjMvloqSkpMMAOyIigi+++IJbbrmFe+65p8OftzByeXt7c+mll/LUU0+JDHSCIPSJyHndByaTSZUU5CaTiXNPjOaZHyrY73CBoxH0XvxQAzN9qvl1NFQpWq70qeTUylL2OULw8fHpUdsGgwGdTkdFRUW3M1m9oUYQKQy9Bx980FM3beXKlaMynfdQzZrfeuutXHHFFSxYsIALLriA4OBgSktL+fDDD6mqquKxxx7rc9t79+5l//79TJ06lcrKyg6PqaioYNmyZUyaNIkNGzZw8OBBHn30USwWCxdddFGbY/Py8jh48OCALscOCQmhvr6+V3XwWmpOvf9jPrYCF9A+iGpNArRahVr5aJ8Ge6KioiguLu7y+Q8//JDq6mq+++47ampq2i33TktLa7Os0WazIcsyJpOJxMTEXvdJ6LtjfxctZFn2/C5kWSYgIIDp06cP6gDhUJVsEARh4Ihgqo+8vLzIzs4mNDQUk8nU/Qs6sWhSBO8cquCIW4efUssS4z7GBTThq9NhczupUjSgKERbJU7xqeLbd9cTP2cRQeEd78loLSoqqlfpf7tjMpnw8/OjuroaX19f1doVBt+aNWs499xzAUblrFRrgz1rPm7cOF577TUef/xxXnjhBdxuN7IsM3XqVJ566ql+7Zu4+uqrWbp0KQDz5s3r8JhNmzYhSRLr1q3DZDIxe/Zs8vPzefbZZ9sEU3V1daxcuZLVq1djtVr73Kee8PLyIi0tjaioqB5fL2eNj2PW+DheO7KNnNLDRAdZkKX2S+vcipvcsjpwa6ivdVNXU4fF2rvlyJIkERYWRl5eHqGhoZ0WK/fx8eHMM8/s8Lmvv/663Q28w+HAZrOpsv9M6LmOfhfQHEDNmjVrCHr0izvuuAO9Xs8TTzwBNP9/ffjhh4HmJFLPP//8iK3NKQjHK7Houx/Cw8PJzs7uV0KK2RPi+eNZMQRp7ERRwbQAF42SFhcSRtmJrLiR3U4CzBqCfL3xdldTWXSkR23LsozRaCQjI6PP/TtWS/Ao0qWPbMdDNr+hNGnSJN544w327t3Ljh072Lt3Lxs3bux3trCe7NPZtWsXc+fObRO0LFy4kJycHPLymjOC2u12br75ZhYtWsQ555zTrz71VHR0NFlZWb1OSnHGpUsprjXxQ3YFpTVtrzulNTb2Z1cgSTqiAoMwaay8+eK2PvfR39+fjIwM1cpLaLVaampqRGp1wWOoSjYIgjBwxMxUF+x2uyeRQ0cpfg0GA2PGjOnV8pWONC9psbLhn+nIihO3ImNzyXhpnATjQG/SYzUZaaprRKPX0vGYace0Wi1Go5HS0lKCg4P73MdjZWdnk5ycLJb7CUIXjEbjoO8xzMnJ4YwzzmjzWFxcHABZWVlERERw5513cuKJJ3Lttdf261ylpaUdlovIzMxs95jBYGDs2LGembqekoxW/mM+kWu1P1Fd20hZVQX+ViPlNTYMWh1B3n74WazIWj1F1RLVmTZ2/pDCqScl9/r78fLyIiwsDJfL1WYZVl9JkuTZb+rt7d3v9oTB19F7GSAoKKhPn6ndlWxQI/GLIBwPWgbmhkMyIBFMdWHDhg08/fTTXR5jsVjIy8vDz8+vX5nuZo2Pw3/RHJoOb6epqQl7lQsNLvx0EjJ6lIbmN01TYyMGpXcjuxEREd0Wp+wNg8FAUFAQR48eHXXZGgWhL37zm9/w29/+tsf7HZqamvjnP/+J0WhkyZIlqvalpqam3Y17y17LmpoavvzySz777DOSkpLYubO5EPjKlSuZP38+0Py9HDhwgMrKSk477TSWLVvGsmXLOjzX5s2bu71GtqbX6ykpKcHpdHaaPe9YAX4+mAx6TGYLpiYDDXYb9Y1N+Hl54eulRVG8kDQtH2UK2512tv97X5+CKWiuLXX06FEAAgMD+9RGaxqNhuDgYHJycoiOjhYDUCPM3Xff3eHjfd1rOlQlGwRhNHE6nWx94DwAFv7xY1UGv/pDtbMXFRVRVFTUYQHE2bNnq3WaQXXTTTd5biI++eQTz4b9Y4WGhpKWlkZycnK/I2RZlpCcCjrJCDgBO2CiZUWmxi1RmJrHuGk9b1OSJLy9vcnIyCA+Pl6VD/OgoCCcTic2m61fe8YEYTSIjIzk8ssvJzk5mfPPP5+pU6eSlJTU5gJfUlLCTz/9xOeff85nn31GcHAwa9euHfS+nn766aSmpnb6/HPPPdfjthYvXtzh3q3MzMxOb0JDQkLIyMjocakFk8lEdGQEX+cXMMfcSJDZG4fTiUkHWk0DLrcGu0siv1xHkU3mc7MVQ3FDv65NAQEBpKamYjabVcvw5u3tTU5ODrGxsaq0JwyOP/3pT8THx7d7vK8DiUNVskEQRouWQCq6+AsAtj5w3pAHVP0+c15eHnfddRc//vgjgGetuSRJnuVvKSkp/T3NkGidMrqrpTo6nY7o6OheL1/piNvlxm1zIcsybpcBpHrcig1ZailkKdF0pL7Xm6xlWcbLy4vi4mLCwrpPr94TiqKQlZWlShApCCPZAw88wDXXXMOrr77K008/TW1tLZIkefak1dTU4HA4UBSFSZMmsXr1ai644AI0Go3qfbFare326LTMTKudaCI4ONiz1Kn1sujuEt/ExcWhKAp2u71He/YWnTyZG9/Tsz/zO5aG1RHgrcWlgBaJmgYbuUcTkOVo/tVUiNNiwKkoZOUeYcK4viUakSSJ+Ph4XC5Xv5dxtwgICABQrT1hcISFhXmKcKtRRmKoSjYIwmjQOpCSFScA0cVfDHlA1e+z3n///RQWFrJ69Wri4uI6zYI02lksFoqKijCbzT1OX34sv7AxfPelQpAsgQSyRo/b3UjL7JSiSJTXGPE1RPS6OCU0z6B1lk65L3Q6HWFhYRQXFxMeHq5au4KgpsGaNR8zZgwPPvgg99xzD/v27WP//v2UlpbS1NSEn58fsbGxTJ8+vcfL2/oqJiaG7OzsNo9lZWUBv+ydGgg9WRbdQpZlGhsbyczM7NFgzOwJ8Vz89X7WlCYTVVTHSXVl+HqVoDhNWIwOzLpKXPpUAt1haByBuJ0Oqmvq+vX96PV6mpqaSEtLIzExUbWAKj8/Hz8/P7y8vLp/gTDkWuqzgTplJIaqZIMgjHTHBlLSzxUIZcU55AFVv8/4008/8dhjj7FgwQI1+jOiBQUFkZqaisVi6dOIs7d/CBb3HCrqctFqM/HxAhQD0EBlfQOKazKRvhORJZmq9OpeF9CVJAk/Pz9Vl/v5+/vjcrnEcj9h2BmqWXO9Xs+MGTOYMWOG6m33xJw5c3jjjTfaXB+2bdtGTExMjwvn9kXrZdEpKSltbkI7YjQaCQ8Pp7CwkMjIyG7bX7XodJ7Y+SpvaU18VROIs8af03SZnBdeSVSoQoHLwJV+Vcyp2c2HRV6MjT2739+TwWDA19e3V0WHuxMSEsLhw4dJSko6bgcfR5LXX3+d5OTm/XdqZj4d7JINgjCSdRZIAUgoQx5Q9ftsXdXkON5otVpiYmJwuVx9CqaMRiPe4/wIzPaloSmB8ur9IOXR1KTB12IkwDsZ6ec6K6axPn3KEiZJElarlYKCgh7dwPSEoiieEeaBWLYkqK+xsZG6uuaRezWWrgxHo3HWvKKigj179gDNRWGzs7PZunUrJpPJs/diyZIlbNy4kdtuu42lS5dy6NAhNm/ezCOPPDKUXe+Qn58fvr6+1NbWdpvtzt/fn4QAEynuINyOSq40pTAlSMGqNyHjxq00XxvHeMOdlkoytr8Op13co5p8XQkJCaGxsbHP1/Vj6XQ6zwyhWPInCILQta4CqRZDHVD1+0w33XQTL7zwArNmzVJto+5IZrFYOHr0KLIs4+/v3+vXJ5yaTEru91gMXpgNJ9PksKPo8nBqv8fhTEOvO4E62UbyqVP73Mfg4GDKy8v7/PpjabVaoqKiKCwsHNCRb0E9Dz74oCehihpLV4aj0Thrnp6ezqpVqzxfb9u2jW3bthEREcHnn38ONAcdL7/8Mn/4wx+48cYbCQwM5N57721TsHcg9GaZ37GKiopQFKXbPV2/PWM8t21JJ0pfxdSQ5uCpzq3FR7bjJ7kod8vIbifBVhOGxjIqi470O5iC5oGu1NRUoqOjVZmBN5vNVFdXU11dzZgxY/rdnjBw1F7mJwhCz/UkkGoxlAFVv89y0UUXkZ2dzbx585g8eXK7D0NJknj88cf7e5oRxd/fn5SUFLy9vXs9Gm6xWjBP9EXZ14gkSRh0etxyDE57Cg7S0boTMZ/o26vkEx0JCAggOzub6OhoVZJH+Pj44O3tLZb7jRBr1qzh3HPPBdRdujKcjMZZ85kzZ3L48OFuj0tOTmbTpk2D0KNf9HaZXwtJkoiLiyMnJ6fbYOqGX53Gj/lV7PmxAMnlRJEkKtBilZvwoYlGlxaLXsZHp8PZ5KToSCGJfR93aiM2NpaMjAzGjx+vymySj48P5eXlVFRU9GngTRgcA7XMTxCErrnd7h4HUi2ODajOffTfg5Igrd/B1HvvvceGDRvQaDQcPHiw3c3L8biEQZZlYmJicDqdfbqZG3fyCXybthMfW/NMn6zRoFXG4WQv1e4DzDrlRlX66ePjQ15enidTkRqysrJITEwcdTexo43RaOxXXbSRQMyajxxarZaEhAQqKirw9fXt8sNv/W8u4LkXizHXlGNzKjjd4HZr0GtcRMpmtBodSoMbDRJ1GRU9WkLYEwaDgaSkJOx2OwaDod/tQXMyArvdrtoSQkEQhNFCURRqS3LB7USSug+kWkgo4HZSW5Lr2Ss90PodTK1fv5758+fzyCOPqJ52dyTz8vKiqqqK+vr6Xhd+1Gg0xJ+dTFVBhecxg208jXsPoNPk4XbYkQ293y91rJbkEWqRZZno6Gjy8vIGNGuYIPSEmDUfXP1Z5tdCURRyc3O7rcU076RkHOlFuJwu6qrr0Tk0QB2S1Aj8MpBjbNKz++OdzF10pioBkFarpaysDLfbrUpWRlmW0el0pKamMm7cOBFQDUNimV/P9aY8giB0R5IkzEFRHErLZby1EU0P52ZcChyqMWBOjBq0CZ1+B1NVVVVceeWVIpDqgI+PD4cOHcJqtfZ6eUBQVAhBUW2L92XXFVGe9QXpn/2b5F8tUqWPQUFBHDlyhIiICFU+yC0WC2azudeZBgVBbWLWfHD1dZlfawEBAdhsth7Xn5IkCZ1LRpa1uN06kBwoOJB+DqgkScJaZiQzPZPxJ4zvdX86EhYWRnp6umpLmjUaDVFRUWRnZ5OQkKBCDwU1DdQyv8Eq2TCY1BhQEYQWkiQRMfF0yspSOFRZ3qOAqjmQMmL1CyBo4ukjJ5iaMmUKmZmZI/Y//0CSJInY2FgcDocqF+GIM06nMucb6rN/oKFuPmaVlmlZrVZyc3NVm02SJInMzEwSEhJUWw4jCL01VLPmV1xxBVdccQXnnnvucbXHonVWyP4sq4yMjKS6uhqHw9FpLSa/sDFkZvqiqSpApnlJoIQZRalBwQZoKK8xYTUE4yNZaMqtpyJcvb1JCQkJOBwOmpqaVLnGWa1WTCZTj4NIYfCYzWZVl0QPVcmGwaDGgIogtJAkiSlX3cdegM+f7TCgalnEJ3FMIDXvZqZcdd/ICabuv/9+brvtNqxWK6eeemqHBWsHY/PXcGU2m6mvr6e0tJTg4OB+taW3mPCLnUFF1g7KvtlN1BlnqvKz9fX1xW63q5amtyWIzMvLEyOtwpAZqllznU7Hvffey9q1a7nooou4/PLLiY+PH9Q+jHRms7nLWkxB4dGYz7uez554EauxCB8vBUnWoLj1VNXV4XJGEeU/D/nnUhK29GrKE8txOByEhIS0a6+3JEnC5XKRlZXVo6LDPaHT6cjIyCAgIKDDGkTC6DAaSza0UGtARRBayLLcaUDVJpByw6HatoHUYMYe/Q6mWjKC3XPPPR0+L0kShw4d6u9pRjSz2cyRI0fw9vbu97KQyDNOpzLna8pTvkKJjSdGpdmk4OBgCgoKCAkJUSWVpNlsJi4uToy0CkNmqGbNN27cSGZmJm+99RYffPABr732GtOmTWPJkiXMnz9/VN08tabmfgmdTkdsbCx1dXWdBhZeXl7EzDgZV2od5dX7keQ8nPYxWIwlmCw2JNzAL3X5EhISyMnJUW3QyGQyER4eTklJCWFhYf1uDyAuLo7U1FSsVqvYPzVMNDQ0qFqTbzSWbBCEgdRhQOXdiObnWMnlhkPVOkxmI4Hzbhr0QApUCKZuueWWYb/3IDs7mwceeIDKykpkWebyyy/nmmuuGbTzS5LkydrU32BK52XGL24GFRk7qd2/n4bQUNVGgKxWKzk5OarNJsmyTGZmJjExMSJdujDohnLWPD4+nvvuu48777yTTz75hLfeeos777wTPz8/Lr74YhYvXjzqarKpvV/Cy8sLvV5PQUFBp8keWuryRf1ck8/go8dWn4KLn7A7DmPQT/DU5WuZMS8vL8dqtaoS1Pr5+eF2u6mqqup3W9D8fhw3bhxNTU3o9XoRUA0DaiegGI0lGwRhoLUEVN/jxvHxkxyqdjHexwHAoSotXkYtOrMFiaFZCdfvYKq7C0t9fX1/T9Fver2e3/3udyQmJlJXV8cll1zCzJkzSUpKGrQ+mEwmJEmiuLiY0NDQfrUVOXcelVnf4Co6iIZzVEur21InSs00vTExMeTm5jJu3DhV2hNGtjvuuIPdu3fj4+PD1q1bB/Rcw2HWXK/Xc9FFFzF27Fgee+wxvv32W1588UX+8Y9/cNZZZ/Hggw8SFBQ0oH0YLAOxX0Kn09HU1ER5eTkBAQHtnm9dl8+ga54xMBgTsdmzccqH0brj2tXlMxqNZGRkMG7cONWWNZeUlNDQ0KBK0h1ZlmlqaqKgoEAskx4G1E5AIUo2CELfScgYzBZkVxOHqhVQwKyX0VsDiIsIhvT32LdJYvKSe0fWMr8//vGPPPDAAx0+V19fz/Lly3nzzTf73P5PP/3Exo0b+eGHHzhy5Ai/+c1vuP3229sdl5KSwpo1azhw4ACBgYFcd911ng/z1qOaFouF2NhYiouLBzWYguYP8erqaqxWa78uos2zU9OoyPiKvC93IifG9yp5hNPp5MCBA50+/9NPP7UbuT3hhBP6tPzPZDIxduxYHA6HGI0TWLx4McuXL+fOO+8c8HMN9ax5Y2MjW7Zs4c033+TgwYPExsZy//33s3DhQr744gvWr1/PXXfdxauvvjpkfVTTQO2XiImJoby8vNPnO6rLp+ME7HxNteM7Zp/S9vPCy8uL4OBgbDabKv2UJIn4+HhSUlJUy2Dq6+tLfX09VVVV+Pr6qtKm0DdqJ6AQJRsEoffcbjf7Nj2Gb/p7+EYGk1UAcvVRFLcTrcmLuIhg5J8/762H32XfJgY1oOp3MPXuu+8SFBTETTfd1ObxhoYGrr/+eoqLi/vV/t69e9m/fz9Tp06lsrKyw2MqKipYtmwZkyZNYsOGDRw8eJBHH30Ui8XCRRdd1ObYvLw8Dh48yEknndSvfvVVTEwM9fX1/f4Qj5x7JpVZ31KX+S1eMdGUlZX1eIT7wIED1L0/C29jx8XMjq2KVdsocYCvmTx5cp/6qtFoyMzMJDIyUozEjVBqDGoAzJw5k/z8/EHp81DNmh8+fJjNmzfz0UcfYbPZmDdvHnfddRezZs3yHHP55ZcTGBjIqlWrBqQPQ2GgaszIskxQUBBZWVmMGTOm3aBOR3X5ZOc4Gr5NRScV01BYgCWy7ZLKgIAA6uvrO53x6i2tVktoaCgVFRX4+PioEsRHRETgcDioq6sb9QW2hzO190yJkg2C0DstgZT18LuegCkuIphsRcFVV0G0v8nzOIAsSYMeUPU7mFq3bh0rVqwgMDCQSy65BACbzcYNN9xAfn4+b7zxRr/av/rqq1m6dCkA8+bN6/CYTZs2IUkS69atw2QyMXv2bPLz83n22WfbBFN1dXWsXLmS1atXD1ldLIPBgCzLFBUV9WvTss7Lgl/cVAoO7aRqx4eU6Os4EjGepNkLsXh3/b0pioK3UcFq6rwytEJzhpQW7n5WkY6JiSEjI4Pk5GTxYTECqT2oMRgGeta8MxdeeCHBwcEsXbqUyy+/vNMsntHR0X0eoBiOOtozVVtbq1r7LQHV2LFj211DOqrLV+6nJ2f7S+Ru/xfjr2k/S9mSGMhkMqk2yCPLMsXFxaolpJBlmdzcXFFmYgipvWdqqEo2CMJIpChKu0AKmgOmuMgQmgorf0421FbrgOqkKwc+RXq/g6nTTjvNc9Pi7+/P7NmzueGGG8jNzeX1119nzJgx/Wq/JxHlrl27mDt3bpskBwsXLmTTpk3k5eURFRWF3W7n5ptvZtGiRZxzzjn96lN/6XQ66urq+jXi6HK5qDHrsDmq8GuyofcKwlm4j0MfZmJJmEnStLmd7nuy2WyY+SWtZGeUVn/bbLY+9bOFXq8nMTERl8ulSrZAYXCpOagxWAZ61rwzTz31FGeeeWa3+w7j4+PZuHHjgPRhKHS0Z8pgMOB2u1UZGfT29sbtdvc4G1/AhERKf0iioeIwR/ftJ+ikyW2eb1meV1dXp2oSH7vdrtq+U41GQ1xcHEePHu00CYcwsNTeMzVUJRsEYbSRJAlZqwWnfai7ok7ai4suuohVq1Zx2223cfXVV5Odnc2rr75KTEyMGs13Kycnp92eoZavs7KycLvd3HnnnZx44olce+21XbZVWlrKwYMH2/1Re2lSTExMn5fClBXm8u2769EUfUegvw8KLtwNjUiShFGx4c76km/fXU9ZYW6nbUhd/HG4mv9IrY5Vg1arJScnx7NkQhg5+jOokZOTQ15e3kB2r0Pr1q1j/fr1vPvuu57HWs+av/baawNy3scff5z09PQOn0tLS+PMM88ckPMONb1ej8ViwWKxeIITjUZDamoqbnf7kcO+8PHxoaioqNPZ0WNFzz8fJA0FX/8bt8PZYZ99fX3JysryFE/tr8DAQBoaGmhsbFSlvZYU7KWlpaq0J/ROy54pi8WiSjDVUrJBEITuSVJzMomapEs6XCElafQorvbBlFtRqEm6hMlL7h2U1VB9miLo6INx+fLllJSU8PHHH/PKK68QGxvrOW6g1yvW1NTg7e3d5rGWNMg1NTV8+eWXfPbZZyQlJbFz506gebp+/vz57dravHlzl+l9HQ6HKn3W6XQEBARQWFhIeHh4r15bWXQEb3c1SBI6byvOpnqcjXUYLcGeN423u5rKoiMEhUf3qu3iagtOw5PIsoxcdxuhPuoGPtHR0Rw+fJjx48cf18Wch1p+fj4HDx5s93hQUFCfi0vn5ORwxhlntHms9aDGYKcCH+hZ884UFBR49g4dq6mpicLCwgE573Ck0WgICwsjOztbtcLFYWFhnmQP3ZVcMIcE4Rc7g8qs3eR98QXRZ7e/5suyjJeXF/n5+R2+R7tL2NMiIyPD85kXFRVFYWEhUVFRqtyAS5JEY2OjKsXfhaE1lCUbBGEkkmWZyUvuZd8m2i33k7R63PYGFLcLSW5eDdA6kBrWCSjGjx/faaSnKEqbJT3DoWjv6aefTmpqao+OXbx4cYfLmHbs2MG6detUHR3UaDTYbDaqq6s7vKD2hCTLaA1mnE0NOOrq0Vq8cNjtGIy9X1+fVXECoSGPkxjenMY8rXAzOaX34G88qNooq06nIzExUbVRYKFv1q1bx7p169o93p89Ad0NagD85je/4cCBA1RWVnLaaaexbNkyz9KwgXDRRRdRVlbGbbfdRmJiIoWFhbz22muDNmt+rAMHDhx3y3v8/PywWCyqFfCWZZmEhAQ0Gk2PlhCOOXMB1Uf2U354JyHTZ2H086axsbFN5r2QkBAqKio6fP1PP/1E/QezO03Y41GgRVIkGuxwZM7fiYyMVLVoeVRUFHl5eaoVHRaGxnAo2SAII01nAZWkbb6+Kk47kt40JIEU9DGYGuqUw8eyWq3tNjq33Lz19sYlODjYM/LXOjtVYGBzjruwsDCcTqdq+35iYmIoLS3tczAFoPP2wdlkw9lYi87LjCzLOJ1OepOIPOXopZyYcCfBPsG0LOxLDB+Hr9cL7E17kpqiItU+xPV6PTk5Ofj5+fXr+xb67uabb+aUU04BmgPcloxSA13z6LnnnhvQ9odq1vyVV17hlVdeAZpvhm6++eZ2WboaGxuprq723EyNNl1l89PpdKSnpxMSEqJKMGkwGKivr6eoqKjbWkxak4nQKWdSuOcjUv/1LkR6U59/AHPkBMbOPNuTsMff35+srCzCwsLazHjZbDYsRgXvLhL2AJgNzYOJChJNPxdot9vtlJWV9fv7heb31ZgxYyguLiYgIECUmhgkamfzG273T4IwUnQUULUOptw645AEUtDHYKq/2WzUFhMTQ3Z2dpvHsrKyAHpVf+lYHWWnkmWZnJwcQkNDVUlXq9FoCA0N7dNyvxaSLKMzeWNvqMZWUYHGZEEBCg7nITlS8I3wb5fpqoXLBRk1q5k94QosxmO/H4lgnxDmTHyQHTnfUltbq9qoelRUFCkpKVgsFtUKBAs99+yzz/Lss88C6mSoAnUHNfpqqGbNIyMjmT17NgDvv/8+J5xwAv7+/m2O0el0JCQkcNlll6lyzuGmo+tla7GxsRw+fJjk5GRVPui8vLwwmUw9yowaNG0m+3a8h7Z+ByFE4GvUwdGDHPowvU3CnoiICE9B39bXpZb9pF2RaJ8FVa/X43A4qKioaPd+6Ctvb28yMzNJSkoSN+WDQO1sfkNVskEQRoNjAypJ0xxM1VcdpUATx4LF/zcky2RHRVq1OXPm8MYbb7RZurFt2zZiYmL6tU+jdXaqTz75hAcffBBo3veTlpbW5Y1bb0iShN1u79cHrtZioam+FsnVhLvegCTJ2PNrcVbUknmwFP9rAzsMWpwKjAmZ20Eg9QuL0UKibzRNTU2q1TzRaDQdpjgWBseaNWs8MyRqLUMaqEGN3hiqUd+zzjqLs846y/P1ihUrBn2P2FDrKJtfa1qtluTkZJqamjwlIvorIiICu93eZVHwssJcMne9T3iwHnutDnttFSZDEEjgpbE3J+zJ/ZH4OYsICo8mNja2V31obJ/Xoo3Q0FBV35MtRYftdrtIlz4I1M7mN1QlGwRhtGgdUHmnvI3N7uCoU8fY0DJ+3PzEyJmZGkwVFRXs2bMHaF5ukZ2dzdatWzGZTMydOxeAJUuWsHHjRm677TaWLl3KoUOH2Lx5M4888ki/zt16Sr/1+vqWfT9ut1u1WZUxY8ZQVFTUo2P9wsaQmemLxVXp+ZBuqmtEgxcKtbjd9VTWBeGlD8HhcGBVjBz+6iDjT53Uph0F0GqgpP4oMLbLcx6tLSVYGk9ubq5qI8sGg4H8/HzMZrNqo7bC0BmoQY3eGA6z5mvXrh3qLgyJ1tfLzlKNy7KMzWajqKhItQBbp9Nx6NChTmsxeRL2mEw4bQbcziYc9TZ0lualfJIktUnYYzabOXr0KE1NTd2mIz9S7ovktR5ZlimpWUmQd/uEPbIs4+fnR3p6OnFxcap8Zvj7+1NdXU1dXZ0qRYeFzrVk81PLUJVsEITRRJZlJi3+P7Y9sANtYxpj/DVoZXnQi/V6+jNoZ+qj9PR0Vq1axapVq6ioqGDbtm2sWrWKhx9+2HOMv78/L7/8MtXV1dx44428/vrr3Hvvvf2ubWO32z31oI5NwKDT6cjNzfUsY+ovWZaJiIjo0YU0KDya6ZesRIo9lXqXHrfLjdvmQpJ1VNXJlFY5CPWeTIA1HI1GC0jU/1RJXU37D3qNBPllO3C7XZ2ez+12kVb0DQaDgbCwMFULcYaHh1NUVKRalkShZx588EGmTp3K1KlT2bBhQ7fHV1RUsHXrVrZu3dpmUGPHjh2eY5YsWYLb7ea2225j9+7dvPTSS2zevJmbb755IL8VYYTx9/dHo9Godh2RJIm4uLh2s6Id0Vt9AXA0VKO4Ot8DFRgY6EkO1JmDJTMJDN3M7KRTmDl2Nj7+v+dIVXKnx4eEhKiaEttqtVJaWtrnEhvC0Biqkg2CMJq43W5+3PwEiboyogPMSO7m/bq/FOt9TLWSHD0x7GemZs6cyeHDh7s9Ljk5mU2bNql67u72AIwZM4bU1FSSk5NVm6FyOByUlZV1mwhAo9EwYdaZ1E2Yzpev/gNdbR1udwT++lPBtAunez86JQxJkmlsbMRiMpGxM4XJ500HoLbxl2UnfvqPyCxdzNjQjpe3ZJYeQZF3A803Qjabjdra2naZ2/pClmXi4+NFKthB1ttlfi2DGi22bdvGtm3biIiI4PPPPwd+GdT4wx/+wI033khgYKAqgxojQXJyMps3b2bSpEmMGzeuy2VdIltX81Jpu91OQ0ODKgVzTSYTiYmJ2Gy2LtOly1otWqMFh62WhvJytOZfZhyOpufjF1zi2V8aGxuLoii4XO0HmvaVLGdG0k0E+wR6HosKjMTL8FtScj/C3NjYLmGP1WpFlmXVEvm0FB1WK9OqMDiGqmSDIIwWbrebfZsea05CIcsoOj0uxy/p0X8JqAZvhmrYB1NDqbM9Uy20Wq3q+34iIyN7VeBUq9Pj6zgBs3kaBl3zTbGtPgmX9iAOVyp67QS0Wi12uwNbuo3GxkaSk5PZ8WkCVdV5yLKEW6mmvLa402Cqsq6CuKBfAiedTkdmZqZqQaTRaKSoqAitVjvg2eSEvhnKQY2R4JZbbiEkJMTzb7EXsHuSJJGVlUVSUpIqmelkWebo0aPo9XrP76IjOm8r9oZ6ZKURd70OSWo+t6vERmZ9qmd/qUajoampidzcXCbSvCza6YTD1Ws548Tz8TK0DwJ9vXw4aexl7P3hG+oSE9sNOFksFo4cOYK3tzd+fn79/p71ej2yLJORkUF8fLx4340Qw61kgyAAnoGj4ZwUrE0g1Ul6dGDQAyrVgym3201aWhrR0dHdFlQc7jrbM9WawWAgLy8Pi8WiyodjS/rbnhZnNBqNmBN9MGT/smTFYEzCZs/FIaWidceg03nhdrsxxVkxGo04HA6iAvXobKCRQVFgX9F+xoWP59iVn4rioqSqkJOTbyVvbybJp52IVqslKiqKqqoq1dbrh4aGkpKSgtVqFZuqB8GDDz7oGRxQK5vf8WzlypWef4ufZc/odDpiY2MpLS3tdm9ST0VGRpKWloafn1+nM65NdY1oJAuKUoui1CNJPrTk4LM2tN1fajAYmgd4fh7fcgHx4dM6DKRaGHUGooPGdjij1dLHlJQUTCZTp58rvaHVavH29qagoIDIyMh+tyeob6hKNghCbyx69o8AfLjyd0Pck451FEhB22AK/S9xx2AGVKoHU/X19SxatIiNGzcybdo0tZsfVK3rpnS1lCIiIsKT5lut2h9Op5Pi4mJCQ0O7PTbh1GRScr/H4v45Itdo0SknYlf+R5PzB0z6OdRrGpFDLLjdbiwWC+GXfEzR++djMMq43QpjXIFkl2Uj/RyTSZIOBReK4mJCVAgWoxcN1ZJniYqPjw9NTU3U1NSokva6Zd/DcB4RGU0GIpuf0MztduN2u9vUotu5cyfp6enMnj3bkxlstOmqzlRnvLy8PAkfWmr59YckSSQmJtLY2OjJ8Nc6YY/iVnDbXMiSFkUxAjZc7noqawOwGoKRJIm6nyqpO7EOi7V5CWDr2SWjFgpqj0BofJf9qKwvI0jfcf0rWZYZO3Zsj4sO90RISAi1tbWioO8AUKPO1FCVbBCEntqx/zs+c5V5/j33xOF1/64oSoeBFOBJj6647O1e1zqgOunK+wbs+tinYGrdunWdPme321EUhbfffpv//e9/SJLEb3/72z53cCh1t2eqhSzLJCQkqBoIhIWFkZOT06MPR4vVgnmiL8q+Rs+xOlMEzoYIXLpCHM5CvKbGEhYfRV5eHtHR0VgsFryMMhZj8we5y5FDsHcSoKC4HWg1USg04VbKsRi9cQNuH02bD36dTkdGRgaJiYmqBJFGo5Hy8nIcDkePgkih74xGo6oZqoRf3HHHHej1ep544gkANm3a5EmYo9Vqef755zn55JOHsosDoqfXy2NJkkRNTQ2SJKky0y1JEm6321MvKig8Gv9LVpL67X8p/voz/H6+hsmykYoaG00OO1H+J6HXNK8EsLjb7i89Vl7Jv5gefxqy3PH1XlHcZJd+RyKzO+2jXq+ntraWkpKSbosO95S3tzfp6elERkaO+FUhw4kadabE0l9huFu27TUcQUbPv7OGWTDVFUmrB0lCaaoH76HZKtKnYOrZZ59FkppnKToiSRL/+te/PP8eqcFUd3umWjMYDBQWFqLX61UbYY2NjeXo0aMEBAR0eyEed/IJfJu2Ex+b+efXg157Io1KCfWub5k+61y0Oj1Go7HD35uTw3gZLmzezOeyo9FokWQzLncjoOB2uVH82r5dZFkmOjqaioqKLvco9Ia/vz+pqan4+PiIG4IB1NjY2O/R1uGqsbGRN998k+3bt5OZmdmmcHB8fDxnnnkmixcvHrD31/79+7nrrrs8X7/00ktcdtll3HPPPTz00EM8++yzozKY6q7OVFdiY2PJy8tTbdmwl5cXQUFBVFZWerIHxk8+hZId9ZTbs5DkPNzuKPx0c5BMX+FwfY9ODkSSmpcY29Kr26T4b0nYoygQ4FVBZumRTveYFlaW4GVu6raP3t7e1NTU9HhJd0+MGTOmw6LDQt+pUWdKLP0VhrM73niOI74aWu4Mj/hquOON53jyqt8Mab9akySpTbHeNrNTkoTGaMVlq27eN6X95f+pW1GoSbqEyUvuHdABjT6tLzjllFMICAjgySefJDU1tc2fPXv2oCgKGzduJDU1lZSUFLX7PGj0ej0WiwWLxdKjte2hoaGUlJR4lrqoweVyUVhY2O1xGo2G+LOT0U7z9vwxnhKG25CARm6iePcXQHPWq9TU1Hbr+QO8KyisSm/+QtagKA2ADD9vzi6oSCM4OqzdeS0WCwEBAV2mEO4NsdxvcPQ2NfpIUVRUxAUXXMCf/vQnABYsWMD111/P9ddfz4IFCwD485//zIUXXtij/1d9UV5e7hlcyM3NJT8/n6uuugqLxcLFF19MWlragJx3qLW+XvY2Q1/LXtHi4mKczm6q4PZQYGAg3t7eVFZWAs2zsf4nhBHldzJB5kWM8TsZb0soWuckFKWRRsf3noEm01gfzzU/OTmZPEc8aWVG0stN+Fp/RWVdRafnrbXVkhB8YqeDja1FREQQEBCgWkY+g8FAfHzXSxCF3mmpM2WxWEbVoJMgABSVFPNiwQ8oraIBRafhxaIfyS8s6HTv51BoKdZbk3QJ7mOur7LZFwBXQ5XnsdaB1LBMQPHSSy+xZcsWHn30Ud59910eeughoqOjAY7rqeyWNN9qBgIhISFkZWX1aG19UFSIJ61vC/u4aA5ufJKyA18SeOJ0jD7+hIWFkZeXR+uPBVmWsLtSgCQkSUZx20BRkDCgYMfmPNTp+WVZJj8/H5PJpMqHjcFgoLq6mrKyMtU2pgttjdY9U48++igGg4Ft27Z1uhk/Pz+fW265hbVr17J+/XrV+2CxWKiqqgJgz549+Pn5MW7cOKB50EPNwZbRxsvLi6ysLNWypGq1WoqLizEYDJjN5l/2l+p+mZXUm+JwNxbh0hbgdB2hSR9M8qlTPc/7+vpy+q3/oej98/EyytTVZZNfYqCqPoGWxBUgUWerx+12UVlfhkGf16v+Z2Zmdlp0uLeMRiMlJSU4nU5x/RQEoUvnvvYEi0oMUOLi9URA33z/2uBt4OE/P06kTwD33XffsLlPaAmojp2hkg1mJI0Od0MVeAfhhkELpKAfRXt/9atf8fHHHxMeHs4FF1zAU089NepuEroq2tsZo9FIRUUFJSUlqvUjLi6OqqqqPhUg0/uaCZ54Nm6nk9xP3weabw46SkHuUFKptTVQa7NRY6um1lZHnc1FTUM9jc7UTs8hyzKxsbGUlZX1un+d8fHxoa6uThSkHCAte6ZG22jrV199xe23395lVrPIyEh++9vf8tVXXw1IH0466SSef/55vvjiC1599VXmzp3reS43N1e1JbGjkbe3N/7+/qoV8W6pxdQyO+XZX9pqVFOWZQy6qUhuPXbXXkyJek/yiZY2Wu8x1egymDdhLBklX5NR/D+ySvaSU5ZJYVUahVUpTImJxO4+0uM+ajQa4uLielUSozshISE0NDSoWmBdEITR5dktbzOp2MnUmLFMjRnLr9NcYG/+c1Wai4mxY/EP8Gft2rXD6v6+sxkqjdkXxe3C2Vg3qIEU9COYguYb3jVr1vDSSy/x6aefct5557Fjx45RMzu1YcMGz1KorvZLHSswMJDy8nJViykqikJ+fn6fXht+6jT0xmjqitOoTD8INI8AV1TbqLW5qGt0U9foxqAtIa9qNXlVq8kt/S3VtR/jcBVypOohtHIJdXV11NbWev60viExm82EhYWpttwPmvdRjJb30nDTsmeqrq5uWF0k+6s375eBem/dfffdVFVVcfPNN9PU1NQmbfonn3zCSSedNCDnHS0CAwOpr6/3BED9pdfriYiIoLCwEEVRGHfyCdSYbW2O0ejMaN0n4VAakct+QFE6H7gK8K6grD6HE2MSODFmLJPGRHJi9DjGhsYRHxpBpa0Yi6l3QYzJZCI+Pt6zj1ENcXFxmM1m1QJTQRBGD5vNxrfbv2RqTPMqAEmSPAHVr9NcvzxOc2KgtWvXDvslf7LZF7cCRZoQzx6pniy3VqU/ajQybdo03n//fRYtWsT999+vRpPDwk033cT333/P999/z5o1a3r8upbRUDWX+wUEBOB0Ovu0n0DSyIyZdyEoGvJ2fIjL6cBisRBzxac0TXuR8Mu2Yz3nX5TXgSRrkGQNGoM3blc6MlpwX4rbdQ4lH1xI4dtnUvj2maRvPKPdB78kSRQWFqoWROr1ehRF4ciRno/yCj0zWvdMnXzyyfz1r3/tcpQ/Pz+fdevWDVgSiJiYGD799FN2797NZ5991maW7P777+fuu+8ekPOOJj4+PhQWFmKz2bo/uIc0Gg35+fkd7i/VTvPGfEoyenMCtrJcivfs7LSdliXREs2FfBXFAThBap7hdbpzkeXeB+qSJFFRUUFpaWnfvsFjaDQaHA4H6enpfVrVIAjCKPdzoCFJLX8kzyxVc4DVcpgyaEFJbxwbUCmyhqMBJxGht+GsK+eHf67lh3+uHZTrn2p1pnQ6HStWrGDRokXk5eWNiloqPSna2xmDwUBlZSUNDQ2qrVuPi4ujuroai8XS60DNJyECa9h0aoq+pnDXdqJOX0hYWBgWi8VTRyXIR+tJlQ5aqo/mYrObmRS1ELdSTX5lOE73+1jNHS+9kySJmJgYSkpKPHvo+stsNmO326mtrW1T70Xon9G6Z2r16tVcc801LFy4kBNPPJGxY8fi4+MDQHV1NRkZGezfv5+IiAhWr149oH3pqIh3UlLSgJ5ztGjZf6rmrEpISIhndqqj/aUAtsRIUt9cR9F3n+ITPw5zYMdLMh1KKjW2BkABxY1sL6OhyYHT6cDuzMaocXkCQVmWqa2txWKxdDsbGhUVRUZGBgEBAaoMxhmNRkJDQykoKCAqKqrf7QmCMDro9XpqzBoysrMYGxuHJDcHTxISCs3BFUpzIJWbm8tpp502LItJt95DBXDSpGmUvn0f3/39FoJtmQAjs2hvWFgYYWHts74dj/z8/CgpKaGhoaHX2a0643a7OXLkCLGxHafl7UrMwnM48OpByg7uJHjydAy+AXh7e5ORkdHuxq+8OhR/70sJ9okAmqd2I/0mUVEfTEXNJvT6jjOhmUwmxowZo1oxX2ge6VdzyaQweutMhYaG8uGHH7J582a++OILtm/f7kkG4ePjQ0JCAnfffTeXX375gKbef//999myZQtFRUU0NbVNky1JEv/5z38G7NyjhdFoRKPRkJmZqVqGuvDwcIqLizstvWAK8iFs2gUUfLuJrI//yYSrf4v0cz2p+sZfRjcN2hIys6/wjNwa9cnU287naHU+Gimcyup0mnatxqiXkSRIT9Ux9uovuh0QkiSJsWPHUlNTg8lkUqV+n7+/P76+vtTX1+Pl5dXv9oS+GeqSDYJwrOCQEIwOSM/JZmxMLNLPM+qtZ6SycnI46cQTh/WgqyzLnHTlfQC4HU0cKaslVPkMOaT5c6OlaO9ABlSqB1Ot/etf/2pX3Xsksdvtnv0kfb2Zj4uLU3WK0c/Pj6qqKpqamnqd+UnnbSRk8gKK9r5DzrYPSFq8HGj+sM3JycGL5v88pZUnEB1wKWa9CUWxIUleNK8IdePvFYpRdxNpxW8T1kWdscLCQrRarSpBpFarRafTkZOTQ0xMTL/bE0Y3o9HI0qVLWbp06ZCc/+9//zvr169n7NixJCcnD+sPoeFOp9NhNBopLCwkPDxclTb9/Py6rMUUMutEqjIPUV+xn7z/bmPMvHOxWCyMvfoLzzF1dXXYfs7uB1BZVock+ZIUFYfTXUVpTQxIOzHpm5AkPMf1VEsQmZSUpMrePkmSyM/PJzw8XMzwD4GioiKWLl1KQUEBU6ZMYcGCBe1mzP/85z/zz3/+k1deeUW197ogdEaj0bBy0RLue/XvRLe+l2u53Pz8kCxJ+Pr6cvbZZw/rPewtxdr3v/0k4foGlAY7brsNWW9ClqQBD6gGNJhavXo1brd7xAZTGzZs4Omnn+5XG3q9nrq6OvLy8lRbZhEbG0tdXR0ajQattne/wrCTp1GR+i11JWnk7d1DeUUe9fkHcFojkZoUzHoJb8NMzPrmIEhRGpEkLyTJgKI0L1sx6834mmZ2uYY2NjaW/Px81UaUDQYDLpeLqqoqfH19VWnzeDaai/YOtXfffZdrrrlmwJcRDjetB5/UzMIZERFBTU0NiqKo8mFuMBiIiorCbrd3OAsgSRJxFyzi0MZcjh78Et+x47FGxbQLQlqy+5VXhxIZcjkO3ChokSWZUJ94ahv9qKnfjo+l85pUnfHy8iIwMJCamhrPTXd/tOzjzcrKEsFULzU0NPT7WjkcSjYIwrESQiOIr5eJiY3u8NoqyTKxMTHs3buXhQsXDuv7BLfbzb5Nj2E9/C6Slx/2hkrcDVXI+uZrfOuA6sQr7kGWZc9EhxpLqgd0AeQrr7zCq6++OpCnGFB9TUBxLIvF0ubmVQ1ut5ucnJxev06SJSJOP5+iqirSPnsBXdlP+BrB33aEiupQckp1NDoPeY5XaF6iJNH2P1FXdafgl+KRaqbmjYmJGdYjIyPJaE1A0VPffvst11xzzYC0XVlZyRlnnDEgbQ9nrbOf/vrXv1a1bavVSnp6erslk/1pr6uC6HqriajTLkVRJHK2bsLVwQoFRVEoqZhAhO9NBHhH4FZ+vlb+nIjC2+hPoNf5VNbE9mnzdmBgIAaDgYqK3gdjHdFqtSQmJlJZWTksN5MPV7/+9a/7fa0cDiUbesrtdnP55Zdz4YUXct555/HQQw+pVkhbGD5cLhdr164lNjLKU6sJQHErKG7FM0MlSRKBgYHDLptfa60DKVmSkHQGZJ0Rl60GWmVmbQmott5/LnteW8Pm5eN5+/oJqmQ0HtCZqenTpw9k8wOuPwkojhUTE6NqCmqr1epJcNGbpXRlhblk7n2fsEATbmcD9tpa9D/vbfK1eIFiIru0kDH+bvRaGSQFcCBhAmoABbfb3WXdqdaKi4s9dVr6S6PR4OXlRXZ2dp/2jAm/GK0JKHqqoqKCb7/9dkDanjFjBocPH2b27NkD0v5wddNNN7Fs2TIAUlJSVA+ooqKiyMzMZNy4caos07BYLBQXF3c62x0wcSyVaTOpLtjNoX9twuVnoT7/AObICYSNn42i0HYWHzsSCpKiQ6E56DLojJh141GUvpW1MBgMZGdnYzQaVdt363K5yMnJEdfQHnr99dc9CbX6eq0cDiUbekqWZf7xj39gsVhQFIXf/va3fPzxx1x44YVD2i9BfXano3k5n8zPuXQUsrOzcQPxsbFIMrREVcN1AObYQKqFbPbFXV2My1aDxuzrebyxspgYWwqZH+7ABxeRXm7eu2kSF2/4sV/3QsMvNccopdPpkGWZ3Nxc1dqMjm6emu1NxqvKoiN4u6sx+PoCMs7GOhRny2iDhCzLRAbK5B7N8LzGrdQBGiSaA8rCqnT8erh0JSYmptPR377QarXIsqzaaO3xarQW7S0sLOzRn4F8/6xevZp3332XDz74gIqKCtxud7s/o5Fer/e8p9S68W/NZDIRG9u3WZ7OxMbGdrnEY8w5CymtdVKc8V/k/O/wNYL+6EGy/vMyBeWGNrP4kgSKYv95ZuqXD3VHH1OlN7fZvDyvJVmBGgIDA9FqtarN8o12ZrO539fKwSrZ8NNPP/F///d/zJ8/n6SkJP761792eFxKSgpXXnklkyZNYt68ebz++uttnm8Z/HQ4HDQ1NQ15gCcMjKN+BjJysptnoxSF9OwswqIiCYqO8DzesgpqypQpwy6bn6IoHQZSALLJByQJV+1RFOfPy88ritA0VuJ2NBLr1YSMQlG9TLIrnfdumtSvCY8+z0yJzDS9ZzKZcDqdVFdXq7IOHpqj8uzsbBITE3v1OkmW0Jl9cDRU0lRTid7Hv/nx5jsCamypQHObCjbAB0myoCg27K4UtPqeXVx1Oh2JiYmqZpKKioryZGgThNbmzZvXow9+tfbfdGTBggUA3HfffR0+L0kShw4d6vA5oWsmk4nCwkI0Gg0hIR2nLe+Nltnu1NRUEhMT29wslBXmkrnrfcIjjNhr9NhrKzHqQ5BkGW+NA705su0sPtLPwZQB0ANNKG43LqV/A2h6vZ6QkBDy8vKIjIxU5X0bFRVFbW0tTqdTZPgbBINVsmHv3r3s37+fqVOndlr0uqKigmXLljFp0iQ2bNjAwYMHefTRR7FYLG32t19xxRVkZGRw2mmncd555/W5T8LwpdFosMZHkZGZDYB+TAj51RW4tDJ+Pz8uIw37bH4dkWQZrU8ozqoi7EdzcGpMaB21OO2NyCjNE3IShJucFDZoSTan92uGqk/BlMhM03cxMTHU19er1p6Xlxdms7lPqch1XmacjfW4nU24Gn8pjikhUdNwiFrbWUDLLHApsuSN0+WgyXUQjdvV6R6wjuqpFBcXExgYqEoQKcsyvr6+Yrmf0I7RaGTatGmegKYzBw4c4K233hqQPtxyyy1iJHcAhYWFkZaWhsViUSUQkGWZkJAQsrKySEhI8DzeMouPUY+7yRtnUw1NVZUY/QOA5qC4ZRZ/bOjPA0+SHXCjkcw43Y0crcvHaq4F+ncjIkkSOp2O/Px81RIZGY1GDh8+TFJSkiop2IXODVbJhquvvtqTxXTevHkdHrNp0yYkSWLdunWYTCZmz55Nfn4+zz77bJtg6s0338Rms3H77bfz9ddfc8opp/S5X8Lw05LN76G3X+bEyOZ79M+rjnCCfziyl4kDNeVMjQzHV28iKChoWGbzkyTJU2Oqo9kpjdkXSdZSV5KNjnqcbgVZUlAUKGjQEGF2IUsQYXZS0M+Aqk/B1PGSmUaN1OjH0mg0mEwmVQOByMhI7HZ779OlS2Cw+tFYVYqjoQbPShQJfCzVVDQ9BIqbxooMdJoAAgP/RFPTQazOb2hogKJWqYFb1De6O6ynEhMTQ1paGlarVZX/kLIso9PpKCsrIygoqN/tCaNDS7rryy67rMvjrFbrgAVTt95664C0KzRrWfrWssRZjUDAz88Po9GI2+3ucCmL3uqNq7wRt7MRR309GuMvGaJqbYdpmcUHBbdSjyx5I0lG7K4cjLhROhl86kkh3xahoaGUlJSoNquq0+mIiYmhtrYWf3//frcndG0wSjb0ZBnWrl27mDt3bpugbeHChWzatKld1mGTycSZZ57J9u3bRTA1Co2LjGaCVwB1R5tnMbVeZuw6GbOioKDgbGjE5lSG7X4paFu0t6OAqrGhFr1WxmV3N28NOyaQAlQJqPoUTH311Vf86U9/6lFmmv/7v//ryymGBTVSo3dEp9MhSRIVFRWqfYi5XC5yc3N7XZdE1mvR6r1xNFXjdJtw0Jy1p7QigMZ6MJnLsUgAFSiuffhZT6HQFkmjoxCfn1MD94RGo2HcuHE0NjaqtvQzIiKC8vJyVdo63ozW1OgTJkxg27ZtPTp2OH9ACF3TarXYbDZycnIYN26cKsGFyWQiMzOT4ODg9unDJTD4+NNYWYqjvhqpVUmKOnsqtbYzqW9qQnE1AXVoZBkFCXv9DzhcJdhN7naDT50NPHUlJCSEgoIC/P39VbmOWiwWnE6nqnW8hOEtJyenXbbRuLg4ALKysjz7pfz8/HA4HOzYsaPLZDqlpaWUlZW1ezwzM1PFXgtqUxSFTz/9lCSfIHIlDU24maW4KTt6FEnSMDMwhJiwAGRJpqamhk8//ZQFCxYMu9kp6Dygatkj5XQ0teTYaBdIedroJKDqcR/60vGRlJmmP9RKjd6RMWPGqPqzMZlMWK3WbjfW+4WNoVb2bXMjqbNaUNwaZFmDRvKnqnYMIZbr+X/2zjw+rqru/+9z7+z7ZN/XtklbKEuhpVBaAbuAgggKT0FEEFksCioqgvgoPCCioggCFZAfFiz1ERB91LYsyqJIKUtbuqbZk6bZk8lk9rn398d0pkmTtFlumqXzfr0Gmjt3zj2TzJx7vud8vp9vhv17tAVvJWiegc49C5/YhhASTsclOLNmYjWOrP9CCJqbmzVL/hdCkJqaSk1NTXJiPEKmqzX69ddfz4MPPnjU81asWMHu3cNzpBwNO3fu5Oabb2bhwoXMmTOHHTt2APDggw/y5ptvjtt1jyfM5pj8REuDm8LCQurq6gY19ZH0MnqLC1AJeToIh/WEQnrCAYmPax+j+sBL1Dc9RHf3j+nx/g5FaSHDWYIkYjfqeF2q+GOkhXzjpKWlUVVVpZlNsU6nIxAIJE19JgHjWbIhjsfjGRDAx+X3Ho+Hjo4Orr32Wi688EIuvvhisrOzufzyy4dsb/369VxyySUDHt/+9rfH9X0k0QZJSGSa7QghEEKiyJ1OnjONTLMdWZKnzBw+HlB5yi5FUdWDgVRXvxypoQKpRBsHA6oDPok5B00phmsYNaqdqbgzzcyZM4fUb2vhTDPRaGmNfjiSJOFwODSV+2VnZxONRo8o90vPKSTl0pvZ/d4/6a3cjFUOEewNIAsbnd52QqEQhakrkCUjwXCIAmMObZ355KQcQFH2E1EqsVsWEfZtQlUVDo9hVEVJ7HgMJmEpKChg9+7duFwuTZxhhBAYjUYOHDhAdnb2mNs7Xpiu1uiZmZmaGBOMhS1btnDNNdeQn5/PhRde2M8pSwjB888/z5IlSyawh9OHtLQ0FEUZcYmIoYjXYhJCHLz99kdvMxMNWoiGvchYQdGjD87CLfIxhyvo8WegmF4lHN6OTlqCZDwbr+8DekMBXGPuXQyj0UhBQQGKomhSbBJiMuzBdheSHFvGs2TDcCktLeWll14a9vmXX375oPlZlZWVyYBqEiOEYPny5WzatAm6unCGDHQqQRACHQLbQSmzoii4XK5JmTN1OPGA6sN1Kvp3HiU+Oioq7D9KIDVWRhVMHStnmumOLMvodDra2tpIS0sbc3tCCCKRCFVVVcyePXvID74sy8w94zy8c09n55v/R2fVFogWYGcWLsdeegJb6AkKhFRPJJJLxHMi3d4G9P4KMP6RFPe3MURPpMczMOckGIT6/10JCNzn/y+lpaX9giZJkpg9ezbBYFCzADUrKys5ERghcWv0JNrz85//nMWLF/Poo48SjUb7BVNz587l5ZdfnsDeTT+EENTW1lJYWKhJQKXX6+no6MAX1RGUXNiinf3GUlVvRISDqCJMu8eE0TqDZmU/Xn0t4ZCVFv88crM68YY+xGk+F5NlCWbXbqLBHvyqITEehoIKlZWVCRONkpKSYQdHdrudrq4uent7yc3NHfN7jptw1NTUkJ+fr1mQliTGcHdPj8XuoMPhoKenp9+xvm7MIyUjI4OMjAxN+pbk2CJJUiKgiipRenpiDqQIKaH2iQdSk80WfSgkSeKUVd/jQ1R45zFkVaWqS6HIEjxqIKWo0OjTkWVR2CnP5JI126ioqBjWdUcVTB0rZ5rjgby8PE0HUJPJRFpaGs3NzWRlZR3xXJvdgYGZZJoLMOoNhEIh6jp2YDJvJcWZgqpIRJR9dIoe/rMzl1OyK5CUt4nar8RqXYHPux5V7V+rRFIExt49ANSsPR3bTbsG7BgJIWhtbcVsNmsWRGZkZFBXV0d+fv6kXz1JMr3ZuXMnDz/88EHZRP/PotvtTsqpNCZuSFFbW8vMmTM1aTMlJYWezFwsxTNpqdyW2MVXogpqQMHTa6M34EEVXoyGLaRbZZp7JCIGH15/Cgc6usmQX0M1noDTfDq20GsoSg/4IS4aUYIC/8uLEAaVnqAEV24dUf9dLhetra2altpISUmhsrJyxKU2khyZyVCyIU5RURHV1dX9jlVVVQGHcqeSHH/oZB1unYmuUC+KUAmFQxj0U1O1Eguo7uBDoH77W8zKaqGnfhdmggz17eobSO06GEiNuwEFHBtnmuMBIQQpKSmayv0yMjKOKveDmAmBb283br2DLl8LnuC7ZKXKqEJPKNKNEBKyrJDm1JNiT6Gmcwn6zo8xW/6My3UDZssn8fv+etj7AfngzcBmGDqPKS8vj127duFyudDpRv0x7IfJZGL//v2arNQmSTJajEbjkO6fra2tIzIcGA+qq6v5/ve/T2dnJ5Ikcdlll/XL03jnnXe4++67iUQinHfeedx+++0T2NvhYTAYmDlzJl1dXTidTk0mpHEpnc12JtG5p7Pv3Vdo3voO+PIwSLno5XdJdXYhJC+RqJlgpAchIhiNEoI8WoMqsucNMlI+j91+Kd6e/9evfVkCuwmsRjgUYo2MkpISQqGQZpNwh8NBNBod0tUwyeiYDCUb4ixevJjnnnuOQCCQUIds3LiRoqIizWz3k0wNFEVh06ZNdHV1IUkSYVUhIgtUFTp8XrJdqXR1dbFp06YptTsFsYDq1CvuRFEUtj7/E5zij3TX7Rw0oBprIAVjCKaSaEffvJ+j7SYNl2g0yr59+5g9e/aQXwCTyYRllhOqVfzhFtKcIaIKRKIqsqwghJr40EkS5Kam0to1j53N7Zxm82GxXYTf9zcYJLfgaAghKC8vJxwOaxZMZWRk0NTUpElbSZKMllNPPZVnnnmG8847L3EsPtH94x//yBlnnDFRXQNigcd///d/M2vWLLxeL5deeikLFy6krKyMaDTKD37wA5544gkKCgr40pe+xNtvv83ixYsntM/DJRgMalaLSQiBosSkeGVlZZQv/hTdH5rJcKfR1P0xGSkS0YgZf9iDTg5g0CkoqoQsQVQRGIyZtHl2kOpowmL9FL7el1GUThQNvXJkWUav17Nr1y7Ky8s1mey43W6ampowm824XK6xdzLJMSvZ0NHRwebNmwHw+/1UV1ezYcMGzGYzS5cuBWDVqlWsXbuWW2+9lauvvpqdO3eyfv167r333lFfN07fcjI+n2/M7SUZP+JufvFAyhvw41HCRIhZoQeiEbwBPzaTORFQTVY3v6EQQiDLcsLpz8nAgEqLQApG6eaXRHuys7M1jfoNBgNZWVlHDS5mnD0br3SoYG9ECaLTxVY54x82ldiOk0AgyUastjwa2v6FTs7CaFqIojKqCYIkSbS3t3PgwIGRv3gIsrOzaWxsHLYDS5IkWnPrrbeyc+dOPvOZz/Doo48ihOCll17iqquu4qOPPmL16tWjbnv79u185zvfYdmyZZSVlfGLX/xi0PN27drFFVdcwbx58zj33HP75W3l5uYmZFw2m43i4uLEd3D79u3k5ORQVFSEJEl89rOfjSUoTxEyMzOJRqOJCd1YiddiamxsxGQy4ZxzqKZdKBIgrPZi0svoDxu7ZUlg0BtpDZawv/1thDBgtV1GIKyjO/pFPNGrCYS1WUTS6XRkZWUNkG6NhYyMDBobGzWrr3i8M3fu3ISj59EYizNtRUUFt9xyC7fccgsdHR1s3LiRW265hR/96EeJc1JSUnj66afp7u7m+uuv59lnn+X222/vV7B3tKxZsybhEvuFL3xhzO0lOTYoqkJLwIuqqvyrZz+NnW1IKrQEvCjq1J9LxY0peso/h7NgDn6MqGgXSEEymDoioVAIr9eL1+sd95tKPO+ntrZWM5vv1NRUsrOzCQaDQ55jc9iwnOhKbC6parTfjtTBo317ik7WU9/+b1Q1gtB/ekyTg+zsbDo7OzWb/EDMMrm+vl6z9pJMPUKhEKtXr54QZ6zy8nKeffZZUlNTefzxx1FVleeeew6AZ599dkx5CR988AFbt25l/vz5Q8oFOzo6uOaaa7DZbKxZs4YrrriC++67jz/96U8Dzq2vr2fHjh2ccsopAANcMbOzs2lpaRl1fyeCoqIiAoEAfr//6CcPA5vNRlFREV1dXf0WnxQ1hEHP4Bp8EfuPw2KmpaeVcLiCAEuQzP9Nef6llOVfgtlxO71hlyZ9TElJIS8vj0gkokl7siwnzIOSZSfGzrEq2bBw4UL27Nkz4PH666/3O2/27NmsW7eO7du3849//IOrrrpq1NfsS99yMn0XcJJMPuJufi6Xi9aebgJqlK3+NnblmfGl29nf1U5AjdLa0z1l3PyOxOEBVa9qpF6jQAqSMr8jMl5Fe4+E1nk/iqKwb9++hMxgMMrPPIGad9+hXwqzANRDu1KHE4700NzxTyTDp5hdcDqqGqCuNZ/erkex6ruH3T8hBLNmzUJRFM10/ykpKQQCgWOSzDtVma5Fe+MYDAb+/e9/j3vNlqGYO3cuzzzzDMFgkK6uLhwOhyZmPFdddVUiT3UwO2KAdevWIYTgoYcewmw2s2jRIhoaGnjsscf6rT57vV5uvvlm7rjjjlG5eE1mjEbjUce9kdLR0YHL5cJyooueN/o8cXCsPMTA4KP2wCtkZd5FWlYJSjQWnBZknE67+X/oaP8FMvvG3D+j0UhFRQVZWVma5OWZTCZ8Ph91dXXMmDFjzO0dz0yGkg3Hgr73Ei2cNZOML5IkUTCnjKd2/puIBA1FbnQBD51SlFmpKWzztSGr8Mm5K6ZUvtRQ9C3uK2ZF6XztWbqFGHMgBcmdqSMynkV7hyIzM1NTW1qdTkdubi4NDQ1DniPLMpnz8hAWCfR9go+Ezm9gQOIL56IznEJOSj5CchFVBblpC0hPvxdPaGQ3XlmW6ezs1LT4Zk5ODgcOHNCssOV0Y7oW7e3LqaeeytatWye0D0ajkczMTM1cTYdzQ3v77bdZunRpv2uuXLmSmpqaxI5tKBTipptu4rOf/Sznn39+4rzDpcFNTU1T0vbYaDSSl5eXsHzWgqKiIjo6OihbNBe/6bCd9MOHyMROP4SiJ5CWciMOsxlJcoA4dNNOtedSkPMjusNLNNkBKi4upq6uTrNxz2KxYDabNZViJ0mSZHKgKAq/2voPakrdNBS7EZJAFhKdUhRJCDoK3NSUunnoo9enTeqEJEmccsX3OO0L3+fyp3by+Sd3aLKYPKadqVAoxDe+8Q2+9KUvcfrpp4+5M5ON8SzaeySysrJoaGggJydHk9UAl8uF3W4nFAoN+aEpPOFEKrsqkUI9EDk0MxBCRVVjk4LWbj8mnYTXn8fCWVfitEgoig9JsiFoRyVCujMXh/mH7K79DRL/GXYfMzIy2LNnD36/X7OJp9lspra2Nmn3OgjTtWhvX26//XZWr16NxWLhk5/8JOnp6QN2KrVabRvJDpgQgmeeeUaT6w5GTU0N55xzTr9j8e9AVVUVubm5fOtb3+Kkk07iS1/6Ur/zTjzxRBobG6mpqaGgoICXXnqJ6667bshrtbS0DFrjrbKycuxvZIw4nU5CoRDNzc2a7ApIksSMGTPo6OigeOnp7NjwPoWOPrvfiR0qAapKly+EXtbhcs3HZiwiEAxjMYOQUohEmlGUmLGPxWgl1bVMk2BKp9NRXl5OJBJBkiRNduZzc3MJBAJEo9Hjsv7UUJ/l9PT0KbnQkCTJ4fQdJ/SSTKcURo2q2KMSPv30k/nG36+mGxdjefFES2mmM2azmYaGBgoKCjRpTwjB3r17KS8vH9Q9Lz2nkJRLb+avv/0Zuo5tpDviwaOgqzdAKKyS7rCiqip6MRe7KQ1FUVCULiTJgk7nQom2AbHJQYpzGZ3dww+mIFZ5Pe6gpVUQ2dvbm7T5HYTjoWjvhRdeCMC99947qFOVEIKdO3dqcq3DJ8LV1dW0tbWRm5tLWloabW1tNDY2kp6erlkJhKHweDwDZF7xOkQej4c333yTV155hbKyMt566y0Abr75ZpYtW4Ysy/zwhz/kxhtvJBKJcO6557JkyZIhr7V+/fpjLoUeCQaDgZ6eHoxGo2bOdDqdDp3TTlrZfFr2vI1RDy6LERAgVLz+EKEwuKxGJCHo6m5DVWVAJhSOYNDbiIpOJCmUKCLZ69uCKXhk2+zhIssyXV1deDwezT5rRqORnTt3MnPmzGm7+DIU3/72twc9fvPNN/O1r33tGPcmSRLtkCSJW085j6+8+wJBfWyOZNUb6BB+oqjYotAVVvjGGZ9MzqGOwphzpuJSmoULF2rRnyQHSU1NJRgMapb3I0kShYWF1NbWUlpaOug5siyz6FP/xbZNKlU1O7DpoigKuMxG3BYdnb0hAgEwyM0Up52EhA6vX8FujSBLDpRoJxCTl/T63ztqtenD0el0dHR04PV6NQsic3NzaWlpISUlRTML9iRTg9WrVx+znLm1a9cm/v3qq69y7733sn79ek466aTE8a1bt/KNb3xjwhefPvGJTxwxyX3x4sVs2LBhWG1dfvnlg+ZuVVZWDjkJPdYUFxfT1tamWXsOhwO/30+gcA7e2m2Y5AAtngAeX4hQVMFm0GMz6lBVlZbOKKpfoCpSrI5LOIpeD3pdOtFIIxCT2vj8W/Bq2MfU1FR6enrweDya5MMJISgpKaGqqory8nINejh1+OlPfzroPTM9PX2Qs49vktboU4/yvEIuqy5nbedeAAxCplmnogQVbBGZy/LKKcstSCwYJvPQB2fMs8tjKaU53sjJyWH//v2a5VHZ7XbMZjORSGTIwCI9p5BPXPVtdr/3Txo+eI1w2wF8oShd3ihq2IEcmIFO5CCpBoSQ0EsuAoEoFotASKlEoi0oikKn5wPso1DrpaSkJAIqrXZOzGYzNTU1ySTq44yJWjV+6KGHuOWWW/oFUgAnnXQSN998Mw899BCf/OQnx+36DoeDnp6efsfiuUNaG01kZGQkpE6TdSIlyzKZmZkJ6aIW96PMzExsNhtZxeV8uOl59Ae2YzH2YpNkUFW6eyP0dLnJNZ6MbJZpaNtPQUYeMjKBYBiz0YQkuVGUTho7duA0NmLLz6etrY3U1FRNJiyFhYVEIhHNpNNms5kZM2b0K/Z6PJCdnU1hYSEwPc16tGQiTLuSjJ3rTj+HtzbUUk2AvJpO3JEoXmuUtKCO604/J1HcF5hyxXuPFWP+jVx44YXU1dVx7733cs4553DCCScwd+7cxOOEE07Qop/HLWazmbq6Os3ak2WZvXv3HtGKXJZl5p5xHo7M5RjEPKJRF4p/Ju7gMjKNc3HoHdS3xcwiZCGjKIJwOIokOwATta27sZpaiA5iXDEcioqKMJvNmiU82u12LBYL4XBYk/aSJDkSNTU1uN3uQZ9LTU2ltrZ2XK9fVFQ0oOZQVVUVwLjmD072GjNOpzPxe9ACs9lMa2srSz93PeWX3k5Tp4lOb4j6Jh06zxnkm09DlnQIIdHjORRcRsIQVcIIOQVFNdDds4XeUOxWHI1Gj2gWNBLiAVllZaVmY59Op6OlpWXK2eWPhS984QuamfVMZMmGY0HSGn1qYjaZWV12JvnVnZxkTuMMexb+tk5SMaDX6dm4cSNdXV2J4r3TxYxCS8a8M3UspTTHI263G7/fr1nejxCCwsJCampqEoU7ByMQCKDWRch3n0mv7ySivjC6g7tjstDh9fghI96mRCgMeqMRo20muhQ7JSfGZESjSfzW6XR0d3fHEr010vzn5OTQ0dGBzWZLriweR+zcuZNHH32U9957j56eHv73f/+XuXPn8uCDD3LaaacdMR9otOTl5bF+/XqWLl064Lnnn39es7IHQ7F48WKee+65fjsIGzdupKioiPz8/HG77g033MA111wDxIoGT7aAyu12o6qqptLp0tJSent7KSgupXjeSro/aibVZI2dkEijE/i9QXr8XoQQhJUIvVGB1SyhiGyUBbeQmf8/lJSUIMtywo1PCzVCvOhwc3MzeXl5Y24PID8/nz179uByuY6LsfTZZ59l9uzZwNjNeqZ7nnnSGn1qoqoq/tomzrbm4CGMjKDEnU5XSwu/ePoJ7LKeFFtM1RAPqFasWJGc+/dhzMFUMgFz/MnJyaG5uZnU1FRN8n6sVivFxcVHvGGbTCYss5xQrRLxhNFLB887OEHwewP0BA5ODqIR9LKeoBrEYDBiT3P0K/w5GpxOJ21tbXR3dyeS58eK0WikurqasrIyTdpLMrnZsmUL11xzDfn5+Vx44YX9VkqFEDz//PPjEkzdfPPN3HbbbXz6059mxYoVpKam0t7ezsaNG6mqquJnP/vZqNvu6Ohg8+bNAPj9fqqrq9mwYQNmszkRvK1atYq1a9dy6623cvXVV7Nz507Wr18/qAnH8UZKSgqNjY04HA7NajEZDAZqa2txlqbSurkRa1xR16f+lENvp2pPA90BDyaDEW/UxxlXLsbYpnJ60TzkkkOS5oKCAjo6OjCbzZrI82w2G1arlY6ODlJSUsbcnhCCsrIygsEg4XAYvV4/5jaPJ5J55lOPSCTCxx9/PKLXnHDCCVMuTzvdasPn7QLAbDBicsj4I2HalSiOqAWdPLXez7Ek+ZuZImid96PX69m9ezdFRUVD6t9nnD2bbfv+gxRWIR5zHZwgOHR2qnYfmhyYDSbag52cfs58siMpqGEFoR/bTlpRURGqqmq2K2e1WnE4HMed5v945ec//zmLFy/m0UcfJRqN9gum5s6dy8svvzwu1/3Upz6F2+3mV7/6FWvWrEnkKJ544ok89dRTLFq0aNRtV1RUcMsttyR+3rhxIxs3biQ3N5fXX38diAUMTz/9NHfffTfXX389aWlp3H777f0K9o4Hg+VLbN++fUD+1kQTjUapq6sjLy9Ps0CgtbWVfZX72OOrJsPnRpIkTDojTpMdi96CEAKz3kRP2EuqLYWQQyLztCKUDzpR63yoaUaE41BfrFarpkWHhRB0dXUBDBlQxWtTDed6Qgii0Sg1NTWUlZVN6xXqvjusWjj4JfPMpx4ff/wx3pfOwG4ank14T0DwMf/h5JNPHt+OaYQQguXLl7Np0ya8wQDiYFmF3rAXBESESktvD1k2Jy6Xi+XLl0/r7/xo0CSYmggpzfGGw+HA6/Ue0TxipBQWFlJdXZ2QMByOzWHDeWo6npYDfSQrxByAD5scAHSnhYjmGVE6o0g1vYiZY1v5lWUZn8/H/v37NQsis7OzE5OKZEA1vdm5cycPP/wwQogBA7/b7aajo2Pcrn3mmWdy5plnxsxYOjtxu92aTJAWLlzInj17jnre7NmzWbdu3ZivNxIGk/nFyidMLn29EIKsrCxUVSUajWoyKUhNTaWqqooZZ5VT91oFLrMDX9iPPxwg2x7TQ7f62sl0pNMe6mL+qkUISSCVO4i+34Gy24M0PwUhx/oSLzrs8/k02UGD2OJUbW3tkMHUZx/7HwD+fPN/D6s9q9Wa2HVNS0vTpI+TES1lfnBsSzYk0Q67ScVhHn7NpalWnUmSJJYvX87GjRvxeDx4/LE8T0kBJOiKBjFHglyWNKAYlDHPyidKSnMs6OtOFQgEJrg3MblfW1sbTqdTkxVVs9lMSUnJEXd+ys88gbc/akJqjKKT+q9YxicHQGKCkJKeQmBzK1KjH5FjRljH9hGzWCwJy/SRSlSGWmmNy/3Ky8uTqyvHmHfeeYe7776bSCTCeeedx+233z5u1zIajUN+b1tbWzWbpB4JSZJITU0d9+skGRlGoxG/309ra+uYJclxrFYrbf42oimC3m4f8ZGlsecAJf5OLEYzIIiW6sjMzQJA2HRIxVaUql7U6l7EjENyP6fTid/vp6mpSZM+SpJEcXExLS0tpKam9hsX39i6hY2R5sS/l5502rDaTE9PJxKJaCrHnu4k88ynHqqqMtK/mBZFuCcCIQSKqtAe8iELMKiCELHg8D+ttXwh4MdiPpQPpygKQojjPsAaczA1UVKaY8FktPk0m81UV1cf0TxiJBiNRioqKsjLyxtUny/LMnMuPoU3nnkFe5ux303AYjQjCQlFVftNEOQT0wltbkNU9CCd5BrzjaOgoIBwODzixPGhVlrNZjMpKSn4fD6sVuuY+pZk+ESjUX7wgx/wxBNPUFBQwJe+9CXefvttFi9ePC7XO/XUU3nmmWc477zzEsfin58//vGPnHHGGeNy3eOVyTheHgmz2YzH46Grq0uTgr6SJGG320kvy6Lrw1accmxs0Ut60u2xgLox3MrKay7p9zqRb0G0hVAafIg0A8J1aPcjXrxdy2DFZDJRWVnZ7x5y9YaniWRYEv+uGWYwBbF7xP79+9Hr9dPSdEBrmd90zjOfrOURxorf78fC0LtNodi6LYY+qeV+v/8Y9Ew74vbnXV1dtPu8BFGQJBVbVGCMQkAWFFpc/HTtU5SfclIieHr2P68zIyOHBy/7ygS/g4llzKHkzp07WbVq1YRIacabvjaf99xzz0R3B4itftrtdoLBoGZtFhQUUF1dPeRKSnp+Jhd95zLCZpV0e2ri4TDFVvabIm2cd835ifMlp4Eea4hIewC1dez9lCQJVVWpqKgY9mviK60bI828sXXLgOczMzNjDjZTbMCbKLZv3853vvMdli1bRllZGb/4xS8GPW/Xrl1cccUVzJs3j3PPPbff4sr27dvJycmhqKgISZL47Gc/m6hdMR7ceuut7Ny5k8985jM8+uijCCF46aWXuOqqq/joo49YvXr1uF37eGQq2iJnZGRgsVg0kSKazWYMBgOpqamknphJME0hmKZgLLXRMzNKz8woMy8ZmJQuhEAqt4MkUHb3oEb696WkpIRIJDLm/sVxOBy4XC6CwSDRaJRbfvdrGtyHlA4Nbj23/O7XiZ39oyGEoLS0VNPCyJOJZ599NvG5vuGGGya6O5OayV4eYSyIIR7N3TZaw7+hPfokzd22xPGphKqqiUAqFInQGY4pOiICQqqCQYkFC0IIhKrywqsbeHTfO/z8w9d4JdrK2saP+bh638S+iQlmzMHUZJDSjBcGgwGbzYbNZptU+TXZ2dn4fD7NAiqj0XjU+jMGg4GZl5yQmBT0fQw2QXCfnENEjaJWelGjY9/uNplMWCwWWltbh3X+1RueJuK0EHFauHrD04Oeo9frjxhEJjnEBx98wNatW5k/f/6Q3+mOjg6uueYabDYba9as4YorruC+++7jT3/6EwAHDhzoJ1fKzs4e13o15eXlPPvss6SmpvL444+jqirPPfccEJsgjWfNpeORvuPlVNmhEEKg1+upq6sbc8ASL7ZrMpmwpdrJnJ3LzIWzueyrV7Dkqk+y5KpPUnb6nMH7YdEhlVhRA1HUqt5+z8myTEpKCvv27dMs/ywjIwOPx8MPfvADuj/cjdqnJqCqCro/3M2PfvSjI9Yj7IvBYKCgoIADBw5Mu/HUYrEkPtdaWcHv3LmTm2++mYULFzJnzhx27NgBwIMPPsibb76pyTUmgqm4oDIWqjpOwJG2njPKzmPBzHNwpK2npnNq11Zt9ntQRCzA2uZv423vflRVxajExoiQqtAe9lER9PBxVzMRh5leNcTNrzw3wT2fWMYs80tKaSYGk8mUyPvRqr2qqioyMzOHlL6VnT5nyMnA4egsBqTyFEK7uzDU9SKKbUd/0VHIzc2N1b86itzvm889PmCl9ZvPPc6DV97Y7zyj0Uh6ejoejyep9z8KV111FVdffTUA55577qDnrFu3DiEEDz30EGazmUWLFtHQ0MBjjz027k5yQzF37lyeeeYZgsEgXV1dOBwOTeymkwxkMImPJElTQkufnZ1Nc3PzmOpwORwOioqKaG9vx2AwEAwGOfPMMyksLBzW60WuGdEWRNnvj8n9UoyHnhOClJSUmMmFBmY8oVCIX//612RmZZFJFureCp49qPr7wt4op5bEfrjvvvu44447RhRENDY2albTajLg8/nwer1A/zpKo2U655kfT3WmdrV9jpNmfIsMZwbxvahZOeW4rE/wwd4HmUqZsnE3v40bN1LX3Y6KylZ/Gw1Fblr9veRUtlDmykCVVd7obmC3U8UbCRB2mpA9vYTtZrb0tvDrV15m9bLPTPTbmRDGHEzdeuutrFq1is985jOJIl4vvfQSP/7xj9mxYwd//OMftehnksMwm824XC78fr9mk8P8/Hz27t3L7NmztSkQnGsmtK8dqnswZpkR5rFZ/MZXkffu3Ttkraim5gOsqX8fNe1Q8KbqdazZ/xHf3N9IdmZWv8Tr9PR0/H4/Pp9v2g/+fWloaEishvYlPT2djIyMAceH83l4++23Wbp0ab/P48qVK1m3bh319fVkZWXR1NSUeK6pqWnQa2mN1+tl7969NDc3k5WVxcyZM7HZxh7cJ+nPYDlTJ554InPnzp2gHo2MSCRCNBrFaDQe/eRhtjeS0g5CCKQyB9EtHSh7epBO0yfKSyiKgsvlSkiex5KHGo1Gue+++xI7aQiYXzQT9sZk1POLZiJJAtTYbtt9993HXXfdNSzL9KysLBobGzUrZzEZ0DpnajrnmR8PRKOwz3MHi+b+FzbT4fcRQYYzk8Un3sXbb31IdOFCTUobHAskSWLFihW0//EPvNywk4YSN0ISpFutvF8Atto2WkSYbekqUkQiIgC9jOoDFZWIgPt3/JMrTl+C2+We6LdzzBlzMBWX0jzwwAP9pDTz589PSmnGmaysLHp6ejQLqPR6PSUlJZo5DQkhsM7LIPheC8o+L/KJY9/90el02O32IR2uzv9/9/O5VjO0RmMrrQczQgMOMz/66U/IdaYMWGnV6XSaBpFTgYceeoiHHnpowPGxTBZqamo455xz+h2Lf/+rqqpYvHgxjY2N1NTUUFBQwEsvvcR11103qmsNl0ceeYSnn34an8+XkB9ZrVa+/OUv89WvfnXcrvvSSy/xf//3fzQ1NQ2Q4wohePXVV8ft2hPFYNboUwmdTkd9fT1Op1OT4rY6nY5AIJCoFzWccVWYZaQZNpQ9PbExc7YDX6+PpnerEAiyFhZTV1dHSkrKqCX0/XJFD3ZJkkQsoDr478RzaiyRfiTSvdzcXFpaWrDb7dNiF1hra/SJLNmQZOxEVCjIXDpIIHUIm8lGqSOXSCQyZYIpiAVUV37+cjre+hu1XbHFFYFAuGy0+YJkRmXsPbW0phiJK4MVpwVdew/RFDsdXT5uePkp/nD1bRP4LiYGTQoWJaU0E4der6eqqorZs2drEgSZzWbq6upwuVw4HI4xtyenGDHmOYg09SLlmvpJV0ZLPGfscB77v//lpOYo84sP6lUOk66cWDITwUDpil6vJzs7m87OzuPGxvqWW25h6dKlA46np6ePuk2PxzNggheXT3o8HmRZ5oc//CE33ngjkUiEc889d1zlLL/61a949NFH+fznP88FF1xAWloabW1t/PWvf+Xhhx8mGo2Oi7PWr3/9ax5++GFmzpzJ7NmzNcuzmOxMB4lPYWEhe/bswW63a1J+wmQykZ6eTn19PQUFBcN6jcgyIVqDqM0B2lQvgYZuCg2xHdwD/6rFekIqdXV1zJw5c1SfLVmWWbhwIf98+y1mFpcgDgZPiSDqIKqiUlFdxScWnz3iCaHD4aCyslKzosMTSTxnSiumc5758YBehgO9bcDMI57X4eumXKOi4McSIQRfWXAub2+oo0aKLQQGQiHe0Xm5sFlwrrDye1cI5IMLz4rKyX4joj7IB+l6NnbWsuGDd1l56sIJfBfHHm2qv5KU0kwUJpOJtLQ0enp6NAl+IFbPavfu3cyePVuTG6FUaiO6vwf/jg7MZ2Ulbt6jRQiB2Wxmz549zJo1CyEEfr+f9159g/mlZYlJwUikKykpKYRCIXp7e48Lu/S0tLRELocWeQDDZfHixWzYsOGYXOsPf/gD11xzDd/97ncTx2bOnMmiRYuw2+2sX79+XIKpF154gS9+8YvccccdmredZHyRJIny8nICgQBCCE0KpKelpREOhwmFQsP6nsXkfnYa/m8H5hY9WWmHFniyDKl0b+/BmmtCluVRSf6EEFx00UX8fssbUF3VL6CKEw+kGs0qF1100YivYTKZyMvLIxQKJRdWDyOZZz61kQQ0tL7BaSULkKTB50eKEqWmt4nFU1TpYjaZ+drsxdy2YxOKTqK5t5uZLX7SUwrIERINzbW8mRXbrT6tRWFpaiEiEoXOJraaQtz2rxf55Lz5moyfUwVN/tKPPPIIS5cu5corr+Qb3/gGq1atYunSpTz66KNaNJ/kKGRkZKDX6zWr66DT6SgtLdVO7meSMc50o/ZGUOpjfVQUZUzOVJIk4Xa72b9/PxDLA9Arop8laVy6kgik+jCYdEWSJKqrq4dtCTyVueuuuxIWtmvWrNGkTYfDQU9PT79jHo8n8dyxxuv1cvbZZw/63Nlnn51IKteazs7OAXLH44FQKITX68Xr9U7pGjNCCMLhMFVVVZq1qdfrqaysHNbvRVVVqj7ai8vkwGV2QjDar8CN02gndb+OXW9upbq6elT90el0XPmpiwlGwgcvOvCcSCTC2fllo5Y+O51OFEXplyc5FYkbUHi93mG7Gx6J6VyyYbqMAYPRExB4/LGH2/AXKlvqhjy3sqUOR9n45wOPJ2eXncgKez6qqjLnQJCljlz8utj4uMyZz2ktSiyQcuYlJKtLXHmc0i1PO0fP4TDmYOpXv/oVjzzyCBdccAG//e1v+ctf/sLTTz/N+eefz8MPP8zDDz+sRT+THAVZlqmurtbMOtdsNnPgwAE6Ozs1aU8qsGByWQhXeejt6KH6nzup+ecufL2jH3AzMjISk3Sz2Uy7TaKiugpVOfRFliRxKJBSYxOV2tpazjrrrAG7bjqdjry8vGHbr09l7rnnHs1rpxQVFQ2Y3MUnpBOROzlv3jy2b98+6HPbt29n3rx543LdBQsWsGfPnnFpezIznWrMOBwO7Ha7pvkrpaWl1NTUHHWioaoqhnYVs8UCOhFL0jis9pTZYMbpj5XraG9vH3FfAoEAr738f5wwsyxhQtE3oBJCMHvmLGorKvjLX/4y6vuK1WrF6/XS3d09qtdPBr7whS9ouvA0nUs2TKcxoC+zZ8+mXZ7FATX2iJrttPc0D3l+e08zJ51xypQPKlafdh4pIYlUjBhkGSFJhFAxCZnzHPmJQApFRT1Yg0pG8LOzLjmudqVAA5nfRElpkvTHYDCQlZVFV1eXJsnTECtsu3v3bmw225jzB4QkkGbY6HhjH8FNTRRmxaxzD/yrlsBJGaRkji5XyWazsXfvXmbMmMHdN97Kl39xD9RUM7OoeKB0RVWpqa1l6ZIlfPrTnx50583lchGJRPB6vUmZ6ghZvHgxzz33HIFAIFGXbePGjRQVFY3Jcnq0fP/73+fmm29GlmVWrlyZyJn6+9//zgsvvMCjjz7ab5KolfnIHXfcwc0334zL5WLJkiW4XK4B50xHo5OpbkBxONnZ2YTDYXp6ejTJYzEYDJSXlycMg4ba+ZckCVL0EACMMkQjEFRAFjGNUZwUPcXFxUQiEcLh8LDH6Gg0yv33309ZflG/PqiqCuohyZkQgpKiYt566y10Oh0XXHDBqNQKJSUl47YLfCzQ2oACpm+e+XQbA+LodDrKcvTIvfsSX8EtDW/SlTMbDivTq6pRmjobCfz+/5Fy87opnQOX6U7luuL5KIUKuz/cCkBAitWcsiPTJWIqHqEoKLLEvw9Uk11cyPnzjz+p6piDqaNJadatWzfWSyQZJqmpqQSDQc3yfmRZ1tTdb3/bAYzoSDM7Y6utOhHLAfioi/3FPnJmjXzCLYQgNTWV+vp6JFmiPs3AiS3hgSeq8fNh+fLlR5zMCiGoqamhrKxMkyT0ychdd93FXXfdBQzPwa+jo4PNmzcDMYlkdXU1GzZswGw2J4wsVq1axdq1a7n11lu5+uqr2blzJ+vXr+fee+8d3zczBBdddBEQsyL++c9/3u85VVW58MILEz8LIdi5c6cm112xYgUA3/ve9wZ9XstrTSamgwHF4ciyTF1dHaWlpZoUbpckiZ6eHtrb24+4wCClGVHqDtqLm2TwRyGggFkGEZNJS2nGhLxm9+7dwx6vBnPzUxU1satcXNxnIUqNBV9jWWGXZRmHw5FY9JpqCwlaG1DEmY555tNxDIjTG1DRh0CWBKoKVv1+qporkIQMSAihQ1XDqKrCCblZpLi+Sv0HlcxecpJmc6iJ4PPzFwPgO+E0vrbmQQosToKqilGVMKkqASWCIgnebq6mPlXHny/+cr9cznh5CIiNf4cfF0JMuTFhMMYcTMWlNGeeeeaA58ZTSpNkcGRZTljxamEeYTabaW1tRZKkUTvdqapK1ebdZHRbMLtd0BtFDUQQVj2IWA6Av8ZPZecuShYMz0K4L/F6Kf/zj//l/E4zJ8wYPAAUQlBYUMj9999/xEKUsixTWFhIc3PztCo+2Zd77rmHCy64ABjeamtFRQW33HJL4ueNGzeyceNGcnNzef3114GYicfTTz/N3XffzfXXX09aWhq33377hBXsXb169YTcxCbqukm0R5IkSktLaW1t1Wx3NTMzk8rKyiOWtMguyaNx726yLWkxqZ9eQFiFkAJGieZAB7klsYLtOp2OoqIiamtrh1XQV5ZlzjrrLN58882ECU11dTWq1YxFxPJGi4uLgVi5g6KiIs4///wxfaaFEKSlpVFdXU1paemo25kuTFTJhiSjw2azkXPpX2l66UKMJglFUSmxfpIUuxEiQYRsQyenElHaUQlgNToQQuDrFmOuCzfRxPtuNplZmF5AU283QQn0UXCqMkbAQxRJhe/MOpvN78YWXZcvXw7Ahg0bEguxCxYsYOXKlYnj7733HikpKdx0001TXhY45t5PlJQmyeDodDpyc3Npa2sjMzNTkzZTU1PZtWsXdrt9VDKHQzkABycOBgmCUSKBMDpzbCXVbDBjaO8d9cBjt9vRv7OH2YV9AqmDOVJAIi9AIIZViNJutyf0/lN9tVALFi5cOKw8oNmzZ0+a3eiJkhcnZc3TC5PJRH5+Ps3NzZqNqaWlpfj9/iEDqn5SPzgk9wsdlPul6PvdS202GyUlJcOqOSiE4NOf/jQAb775JlFFQdjNGJ12UnVmmkVsl0oIQV5eHjfccIMmC3MpKSkYDIYpP7kcKxNVsiHJ6BFCYLPZsJokbKbY967LsweneTZqVEZIRmTZiqIGUdXY81EVFKc8Lea8iqKwadMmnDojftlItxKiW41iiYBJkjGoEhdkzEBUNtGRkoIkSWzcuJFoNEpVVRVCCJxOJ5WVlfz9739HVWNjTGpqKp2dnTz22GNTPqAac88nSkozUr75zW/yzjvv4HQ6j5k180Shdd6PJEmUlJSMWuoxYGJgkBBhBSmsgFE9lAdw2ARhpBiicS0fiUCq6qB0paS4OCGJUVUVj8eDoihHnSTU1taOup7LZGakMr8kSY5GKBRKuJ1NNycviLnbDVUsfDRIknREFYGUZsSzt4dDHqUqBKIofhWRM3A8kiSJpqYmXC7XUfNmJUni05/+NJIksXnrh4ScFlAUVEmQkp5OCy3opNgOvZZ1DG02G1VVVaSnp0+ZXJK4mx9oU0YimWc+PQiruxMyNdR4asGhKbWiKKjuqRscxFFVlU2bNtHV1YUkSWRY7fR6OhBCEJAUgmoEOzI2RULIgv3795Ofn09dXR1NTU39VE3RaJS9e/fS3d1NWloaQgjcbncioFq9evWUDT7H/JeeKpKWyy+/nC9/+ct861vfmuiuHBPieT/l5eWaRPtms5nOzk66urpGtTrbLwdAAEYJKQBqIIow61DUWA7AaJFlmeKiIqprqikuiklUqqur0ZvN6OVD0hUVlZqaGgoLC48aSEmSRHFxMY2NjQnZy3RhpDK/JCOnqamJpqYmgsHggOcWLVo0AT0aX9asWcMjjzwy0d0YN3Jzc6mvr9dsZ8VoNJKXlzekiiCnNB9vZn/jBrU9CDs9ZPmcqIo6wGSnqKiIvXv34nQ6h7WbJMsyaRnptIR8RPUyYSWWC+HIyUQFGjtaUXep2O12zWSOBQUFI8rxmmj6mihosfCUzDOfHqTaO9jfVUGuqwRVjS0iCQwJU8zGjr3kFJ46cR0cJ3SyjlS9CS8x84lgrw/0MnI0FngFAgEikUgiiIovYkNsvJEkacoGTEdizLPs8V5B2b59O2vXruXDDz+krq6OG2+8kW984xsDztu1axf33HMPH3/8MWlpaVx77bX9BsGFCxfS0NAwrn2dTMiyTEFBAc3NzeTm5mrSpsvlYteuXTidzhEnY/fLAQDQSaBTIawQDoRoUz2JHIDRIEkSq1ev5le/+lUskVoAdjOO1FQsko5GFGpqaoDYzXy4KyAWi4WioqLjpphvkrFTX1/PbbfdxrZt24D+UtP4RHzXrl0T2cVxYbo6efUlLvdzuVwYjaNf/InjdDqx2Wy0t7cPyEkVQgzcvbHbUaImlHofaqUXMbP/8/Giw16vF7PZPGRAFV9tbm5tpVsJo5N1KNEIQSWKQQh0CCICuqIh7L5etm/fTmpqqiamAjqdjpkzZyJJ0pSQ/Gnt5pfMM58eSJIgFN0FlAJRVDWEEAZQY9IYf2TntAgahBAsX748sTsFUJidm8iJ2rhxY6KeZG1tLampqXi93sT4ePhiYmdnJykpKYn7YWdnJy6Xi5tuumlK/74m/R7kBx98wNatW5k/f/6QNY86Ojq45pprmDdvHmvWrGHHjh3cd9992Gy2CUt+nww4HA5sNptmcj8hRGx3ZxRyvwFSv4O7UyKqIodVIq6x59PpdDq+/vWvc/f999IbCWHPzkSNKAgEjsx0Qm1dZLjcrF69esS7dbW1tZSUlGji6DUZSMr8xo8777yT/fv3c8cdd1BSUjIlVt+1YDo7efXF4XBQWVlJeXm5Jjd/WZbp6OhAp9PhdDqPer4osSI8YZRGPzj1SBmxMamvY5aiKFRWVjJr1qwh21FVlRZ/D4qIje1yFN5preMEvYO0tHQiMigCWnw9ZKSmJcwotPjbGo1GOjo68Hg8FBUVjbm98URrN79knvn0IazuxhtchqqEkKR2JMlBVA2hKiECkd0T3T3NkCQpEVBBf0fklStXJo5/7nOf469//Sutra0Eg8HELlQ0GkUIQUdHx5CB1FTOl4IpEExdddVVXH311QCce+65g56zbt06hBA89NBDmM1mFi1aRENDA4899thxHUzF0TLvx2w24/V62b9/Pzk5OSN67cAcAEBRUPxRMESJRqNjTnSWJIlF8xewo7aKHqJEBKCAQa9DyXRjtDpHfHOKB5ENDQ3DcsuaCiRlfuPH9u3buf/++xMW6UmmF2azmezsbILBoGa1gUpKSmhqahpeMCUE0hwHypZOlD09CJsOvxqi6d0qBIKshcU4HA56e3vxeDyJwuaHt7Fs2TL+8usHyDDFAoXtoS62zbBzYq+Thq520g7mXdX4u/jGsmWJpPGysjJN3nNKSgoejycxwTpemCp55hNNZWUlb76/nSXzT5y0DpBpjg46gz8k2l2NXn8STte38EX/QjC6hRT71C7YeziSJCXuaX13k/seV1UVo9GI3W4nGAzi9/uJRCKJ4Gk6M+mDqeFMfN9++22WLl3a78a2cuVK1q1bR319/YQUDJ0sSJJEUVERTU1NCRvcsWKz2WhoaMDtdo9oMjFoDoCqInZ6yO6x07yznpwTi0bdr7jjTHd3N1l2F51dByuUCxlZjf0uOn1e/vq3v/KpCz41oqDKbDYnHLimQ3FFk8mUdCkcJ7Kyso6b3ajjFbfbTU9PDy0tLWRkZIy5PVmWycvLo7Gxkezs7KOOTcIoI81xEN3aRdu/agkqQQqNsX40vV2N78R0snNiAV93d/egQZpOp+Pmz67iv//4dGzRCZWTWqM028LkprjY5mtDUuCivNm89tprLF++nFmzZuHxeLDb7ZrI8woLC1EUhWAwqIlsciowVfLMR4MWJjRX3/80L1f66DE4UPUWxBv/xh7awGdKLTxz+zVadnfMCCGwmQRR1YEa2IvdbMKgzKI3/AHegHL0BqYYQ31uhRCJ+VfcqMJkMiV2p+KvS0lJ6bc71dd8YqrvTk3dnvehpqaGc845p9+xkpISAKqqqkYUTLW0tNDa2jrg+FTOt7JarVgsFk3zfoqLixOD5nAZNAcAUE+xEt3cgb05gr/Ih9k+chnJ4Y4zXb4eZARhJYoiVGQ19mUOCZWaA/vZtGkTK1asGNFNTQhBbW0thYWF0yKgmu589NFHvPXWW3z00Ue0tLQQDAZxu90UFxdz+umn88lPfnJYOwEj5YYbbuCJJ57gjDPOmNZyt+Mdm81GY2OjpjIws9lMVVXVsHbAhdvAAbkLU3OULKcbgEg4grPHRMemOtrmtDDrtDns27cPo9E4qER5TkExi089nX98uJmTLekA7GlrQqQY6cp1cXaHjEEVdHV1sWnTJpYvX47P58Pj8WhSgy8+CauoqNDMLGmyM50l1WM1oTn5679kG7ngTEscU3UGPGYXa/cH2Pr1X/LRr27VoKfaIhkcRPzVRCL70ctFE92dY87h8y+A7u5uAoHAgDmW2+0eMqA6rt38JgPxlbK+xCdJ8cS4G2+8kY8//pjOzk6WLFnCNddck0iW7sv69eunrSOVlnk/RqMRRVFobGwcs8GFMMpIM2yYd6sotUEi5YYx3VQDoRCd4QCSTuYDTwv5QYk57iw4qCDsjARp6+keVdvFxcXU1NRoJnWZKAKBgKZ2v5OJl156id/+9rdUVFRgtVopLy+nqKgIo9FId3c3W7du5eWXX+buu+/m/PPPZ/Xq1ZruXl988cVUV1dz7rnncvLJJw+QWQkh+MlPfqLZ9ZJMDEIIZsyYQW9vr2ZtpqSkEA6Hjyp5ThRC91sw2w0QVgmG/RBSsOhMWFzZdO7r5v39/+KEFafR2dk5qKW7qqqUeMFnySQkYjKcMncmPW0dlHskslJz6Q74cFtsiYBqxYoVVFdXEwqFNBk39Ho9RUVF1NXVJRZBk0xNxmJCc/X9T8cCKcMQ8xODiW2hXK554Gme/s7E7FD1HrbbpCrRg/+SCIcMGHt3YLcvx9trxhPowuHtr8Sx2WzTdlfycBRFob29HUmSEjLeaDSKoij9cgKnC9MimBoOjz/++LDOu/zyywfNzXrjjTd46KGHtO7WMSOe99PY2KiZ/thsNidqcIx1ZVZkmRAtQdRmP01KJ/nzSvolVB/19QcdZzZu3Mj2uiqiqGz1t1Ff7CLaHsLd2oYjPZUo8FGgjUaDhStG4SRlNBqZNWsWgUBgSptRTFcDigsvvJDOzk4+85nP8JOf/GTI+jg9PT384x//4C9/+Quf+tSnuP/++xM5ZGPlxRdfZM2aNciyzI4dOwZI/qbrzXS615kaDJ1Oh91up6KighkzZmjyt83MzKS1tRWTyTRkLaZ+hdD14G/vQSd06OVDwY3b4qSrtZu9//qYeeedNuTCl16nJ91opTEUm/ipskSuOw1JkumIBiEKdqMJSRwah0tKSvB6vUSjUU126W02G1arlZ6enklXf0rrOlPTmbGY0LxY4QV32pFPMph4Yc8Bnh5tB8eAzWZj5lX/SPzs9XqpfP5TWIyx74WKHY93F5J+CT3+C4lGW2n+02fwHFSv9gYUZl71j0n3+daCwRz/CgoKyM3Npaqqivb29kS5hhkzZiTyL4Gkm1+ciZLS9MXhcNDT09PvWHxHarDk2yORkZGR0MD3nRykpR3lSz4FMJvNlJSU4PP5NJMfxW3Dx4oQAqnMjuwJ42rV01zfhLeiPZFQbbEevb+SJCWSqpvUAA1FbiwC2vR+dClO9vW049GpNBS5yRzDl1YIQX19PdnZ2VM272i6GlB87nOf47/+67+Omn9ht9u56KKLuOiii9i9e/eg0t7R8vDDD7Ns2TLuvffeEY8/U5npXmdqKCRJwu12U1tbq5kzndvtZvfu3cyaNWvQ72fCHdUPvZ09mCQ9sjRwJ8ugM5DR5WTz+n+Sc9aMAUWH+06Ceupq8BBGEgJFqAhVOZhLBc09HmYXFLF8+fJEwKjT6RKuhmM1Dor3paWlhXA4PKkMKbSuM5VkIJWVlfiMrmGd6zPE3DSPtSnFYGkK6U4dNtPBYEpx0d1Sjz9k4sS881DULho6c4goL+GwTP/FpcEc/wA2bNjA5s2b6erqYsGCBaxcuTJx/L333iMlJWXK50vBGIKpiZbS9KWoqCgR5capqqoCGJNsYLpODurq6jTL+9Hr9VgsFhoaGsasoRcmGanURmBzB6F3gxSkZiKEoOntGvzzMkjNPnpAq9Pp+NolV/CVd1+IFbRUVbwGAUEBGW4anCqmiMqtp503plXkoqIiKioqmDNnzqjbmEimqwFF3PlzJJSXl1NePvoaZ4fT1dXFFVdccVwFUnB81JkairS0NIxGo2Z1k3Q6HSUlJUQikSEXO6Q0I0ptFJ0iIesGBjOKoiCEwGq04PbGHAibm5sHtnNwEuT985/YfaAxtrAlCVBUhAoKKm/59nNq4aJ+K8cmk4nc3Fy6u7s1C36Ki4uprKzE7XZPmh1cretMJRnIa+98gGoY3gKvYrTyxpZtk87hr6MnnxTXxWS4skGooEKeex4dvRl0eNZhMOyf6C6OO4M5/p1//vmJY33NKOLHY+PN1N2RijOqd3DhhRfy85//nCVLlvDiiy+yZcsWnnvuOR5++GF+9rOf8cQTT/D3v/+dzZs3c88999De3s6nPvUp/va3v2ndfwAWL17MG2+8QSAQSBzbuHEjRUVFYwrgbrjhBt5//33ef/997rnnHi26OuHE5X719fWatWkwGAgEAnR3jy4PqS9NnhZEFLIMqYT9IZSoQkrQiu+NRqq3VQyrjdn5RVyeORtVUcmr7mRGcxAfUWwhFVVV+XzaLGo+3sXGjRtHrd3V6/WUl5cPKEiXZGKJSwyGw1//+tdx6cOpp55KZWXluLQ9mTEYDNhsNmw223FpvGG322Mr7BpJHC0WC0KIRLHxw8kuyaM52IkiDW45fKC7lSx3TGURtKjodDpyc3NpbGwcdNyymSykGS2kGsyEiLWpU2L/VwU8vONt/AF/v9e4XC7sdrtmO7uSJDFz5ky6urqIRqNHf8ExIG4wYrPZksHUODG3JA8RGt73Rgr2Ul4wMP9volBVleaOueS6biDFUYCqBojtU8Sm1ynWLHKcN9DRfcK0tweH2Byz70KIEAJZlpFledDj0yGQglEGU5/73Od47bXX+Pa3v82cOXOGXEGKS2meeOIJ/vCHP4xKK9rR0cGGDRvYsGEDfr+f6upqNmzYwBtvvJE4Z9WqVSiKwq233so777zDU089xfr167nppptG8/YS9J0cTOX8mMMxGo3MnDkTv99/9JOHSVFREZFIZNSvV1WVynd34agDl9sV+0yFFMKeAHpFJtOUin2PwvZXtgxrQLp2/lJOrPZykjmNhbYsvO2d2COQ3hmiyKPQ1dWVSKgebUAlSRINDQ2aBJHHmrgBhdfrHbEr42Tm2muvTeQ3HIkXX3yR73znO+PShzvvvJM//OEP/PnPf6azszORcNv3kWR6UlBQQHV19ZjGwr6YzWaEEIMGKwmpn16gMnBMVFETBTOjGYdEKCkpKVRWViY+h30tjVOsdiKqQlCGKGBUBJIQnGROI9rQzBPvvjbgOnq9nq6uLk3HQUmSjssFieOVU085Gb2/87CjKgxyr9cFujnl5JOOTceGgaqC3bgQi8GCEHIsmFIB9KjE/mk2WHCaF9DT0zPo43gIsqY7o5L5HUspTUVFBbfcckvi540bN7Jx40Zyc3N5/fXXgdjN4emnn+buu+/m+uuvJy0tjdtvv33MBXv75kz13fWaDsTzfnJzczWxS9fpdLhcrlHX9eqXUA2ERQQRBZ2kQxws8+vQW+lq6KJxTx155UPXzFJVlbfefIsz3Xk0hrwIoDglg87WduYaDDQqzaTaY3l8fR2qRiMrKSwsZM+ePTgcjkkjSxkO09WAoqGhgeuuu46nnnpqyM/1+vXr+eEPf8iSJUvGpQ/xXLTvfve7gz5/PBfinO4YDAZKS0sTRSq1GBMKCgrwer2DtielGQm3h/B192KQDxmdKH3Ore1q5IRPn5Z4zmw2k5OTQyQSQa/X97M0jjuhqqgEhIpVldApEJZiAdVb729meemJlOf1H39LSkpoaWnRLD/a6XTi8/k0ze+dLEyGPPPJhtlsZpY5wMehQB83PwGHf31CAXLUrklVmkSSBKHoLiDm8KuoQSRUhKpHiR5aYPB63sTzv7/Gauy/h9EbVDF94ndYrVasVitZWVnTZrfmeGJUwVRXVxcul2tY5/71r3/lU5/61GguA8DChQvZs2fPUc+bPXs269atG/V1BmO65kzFKS4uZt++fQk9+FiRZZlIJDKqivZ9E6qDvgByRCBLEghBbG1HICGQVAnL3jCV3bsoWVB+xMmKzWTGGQnRrYRQJUGuK42gDO3hALawGaN+7JINnU5HeXl5YmIyVZiuBhRPPvkk1157LTfccANPPvnkgB3l3/3ud9x3332cd955/PKXvxyXPkznopxJjo7JZKKtrQ2/369JnrAQApvNxp49eygtLe03zsQLoe99aTNlhkPXkhBk2zKBQxK/vrhcLjo7OwfsSjf7PQkn1KiisMSQgVERhA/O7SIS/OKDV3ks55p+Ez5ZlsnOzqauro68vDxNJoPZ2dn4fL4hiw5PNSZTnvlkZM3qS1l+3/P0ps4a3B49FMDYshvLzHL+s7OKM+ZMHhv9sLobRVFin3sRRVWDSJIDRfGgqgEURSHg+w/OaCNmpf8ulBIU+F5ehA+oiRoRN+0atIxBksnNqIKpa6+9lt/97ndHTWB/8cUXueuuu8YUTE0kfROq//a3vyVW8qcLer2esrIyTavPFxYW0tbWNqrXxhOq1UAUWdYnJqQqIrZdrijoJBkbJloq21FOUwZ1kerrUBWJRuj1hlFRD2p5VaISNPd0k+dKxeVy9XOoGg2yLFNfX4/D4ZhULlRHYroaUMybN4/f/OY3XHfdddx0002sWbMmESw++eST/OxnP2PlypX8/Oc/18SBbDCmyy5fktGTlpZGZWWlZoGAEIK8vDwqKyspKytLjFdxhzFTgYPIgejBPfwY3b4eFFUhmj34bd7lcrFnzx7OPPNM/v3vf9PV1YWqxAKphiI3Kiof7GziNEc2sgLvB2LHMw7uug2GzWajurpaM3MAo9FIdXX1kEWHpwqToWTDZGfR3FLOmVfKKx/uIWqyo5hdKEYrUrAXyd+FHOghr3gm5tQsXtrWMKmCqVR7B/u7KshLKQMhEY22oNPlIcuZRCJ17O/YicvUiCRAPmydQZbAfvCjLcJJud9UZVTLR3EpzZEssdevX8+dd97J4sWLR925iWa65kz1RZIk6uvrE1byWrSXnp4+KoOL7JI8DgQ7YnKWPpMCcfDRdDChWhIS4XD4iAFQ3KEqLTWNVIMZu2RAEaBTY6/xEqEt4GP58uWarKIWFBTQ1NQ0aZKmj2dOPfVUHn/8cT788ENuvvlmwuEwjzzyCD/72c+48MILefDBB8ctkEqSJE5xcTE2m02znESbzUZhYeGgOXfzlswnstRFeKmz3yP6CTfzlswftD0hBKWlpciyzLJly3C5XOS4U2nNdSKkmMPWjlInDZ1tNLbHAilTVGW20c0LH/570DZTUlJwOp2a5QXKskxpaemA0idTjWOZZz5V8fv9tEtOSsrnkJ6ejjnYjbx/B/pAJ+np6ZSUz8GVmQPA23W9+P3+Qd0pJ4JDUr8YqhpGUToRQo8spxLwb0FKihWmNaPamZoMUppjwXTOmepLUVERe/bsOeIgPxLibbS1tY2oPpckSYgUA2ooljzdN6BSAUWNbaMrikLYKQ07CHKaLNSGO0BSYwnVKkSF4L22WlpaW8nKzBzR+xuq72VlZclE0knCggUL+PWvf81NN93Epz/9aerq6vjc5z7HPffcM+4SvC9+8YtHfF4IwTPPPDOufUgy8UiSRCgUoqKiQrNaTGazmbq6Omw2W79dcEmSRiUN0utjCoB9+/Yldug73/47azv3AmA0m6jLhhkhA5aQwgpnAX/31IGnjqWlc8h0pw5oMy0tjaamJmw2mybBgMlkwmAwjDofdzIwGUo2THbaO7sJSkYsLisWF2Slp7OvqR3ZZCYn0504L6e+isLWGtbe+TsynSrN3TKyeQEnLD6dheefOWH9D6u76fH7Yt4T0SCIwMFdKD1KtIXk8t30ZlRL8nEpzc6dO7npppv6rbw9+eST3HfffaxcuZJf/epXUyqP5HDWrFnD/PnzmT9//rST+PUlnvcTDoc1azMvL29U7UlpRvxKkA5vNz1+b+Lh8fUgCQlFVWnqbiF9Ts4R2+nrUNXu9xJEIXTw065XDlrE21P52donNXvfOp2O5ubmUcsck4yd+vr6xKOgoIDbbruN2tpali5dyvXXX09DQ0O/c8YDVVUHPDo7O/nggw+oqamZtgF3KBRKOERqZQ8+1TEYDOTl5Wn6WcvLy+PAgQOaLfDpdDpSUlKor69HCMF1p59DkXJI9t3k1CGEoKQjQk84RKdBpdOg8vDmV4fciU9PT6e2tlazXbl4fZqmpiZN2hsJPp9vWjqfjgdjGQNS3U6MyiHLfslgxOFOJYSeQCS20xnyevlE96usmLGXkwvNZLssnFxoJMv4LptfepyOjg5N389ISHN00Bn6bzoD36e55WpaW79IS/MVRCMVlOReiRDTJzc5yUBGXbQ3LqW5/vrrufnmm/n1r3+dMGy48MIL+clPfjLlHUmme85UX2RZpq6uDpfLhdvtPvoLjoIQguzsbBobG8nNzR3263JK8/Gke9j1/LuUuYsSxyUEObZMhACP2svcGScP2YaqqolAKhSJ0BkOgAAFCKsKBkUiJANCYLfZePYPz/OlK76gyY5FTk4OO3fuxOFwTGpjh7g1OsQmfJO5ryNh2bJlg/4d//nPf/YrpxBn165dA46NlbVr1w56vK6ujtWrV3PjjTdqfs3JwHQ37BktTqcTh8OB1+vVJE9RkiRmzZoFQDQa1WTHKz09Hb/fj6IomE1mvjZ7Mbft2ISqkwkbdTTJIfICMhs9dQhbzEnt0erN/OOBd3n79p8P+M7pdDpKS0s1XTjIy8ubEFlX3+LT4+18+vbbb1NbW0thYeGUTJEYyxhgNps5K8/KP/r8iR0mHZ3+MJ5AmKKej1glvUfpCdZY/nOf16Y7TaQ5VDb97EaKz7uShed9ZmxvZJj0Bo4sZ41GGgn6XsKS8iUstivp7XkagLgHRVL6N30YdTAFEyulORb0nWRO15ypvhQUFLB7924cDoemOSXNzc1kDlNKJ4TA6XRiyLShhvo7o3oDvSiqQovSzdzhXtvvQRGxAGurvw1DIMxCWzZ6RRCSQBWCd1tquaijg9TUgZKVkSKEYNasWZN+IWG6WqP/+Mc/nuguDElBQQFf+cpXeOCBB/jTn/400d3RnL6LT7t27eo3CT3eie+qpKenD9sJ90jodDp6enpoampKBFZjxWw2s3fvXvLy8ji77ERW1O1ig38/qqKS0hMm0Bsky2zigE3F6/fhkRSU3iC//u0TfPWa6waMeWazmd7eXpqamigqKtKkj5mZmdTV1ZGVlXXMFoCeffbZhOPteF0zEAhw0003kZqaykknncSf/vQnfvvb3/LYY49pZg51LBjrGPDZebm8saEG5aDNv0UvI9QoLd1hSnu2MWN2bDHi8NmlABCCkkwbu9955ZgEUzabjZlX/WPAca/XS9NLF2IxqAQ7Kuj2/AmrdRFp7s+gU/6N178Pv7gCgcCkPkesoluSqc6ogqm+koW4lOa+++7jE5/4REJK05epqnM+3pBlmbKyMhRlcJe80ZCTk8P+/ftH/LqMubl4t3UjDhs2FVUl68QCGhoaKCgoGPS1cTe/jRs3UtfdjsohhypfIEBORRs5KWkEBWz1t5FenM/+/ftxOp0DLIRHg16v58CBAwBkZWWNub3xYLpao3/2s5+d6C4ckZSUFGpqaia6G+NC38Wn6VYbSAtKSkqorKzE6XRqsthot9vxer0jWqw6GkVFRezdu5c5c+aw+rTz+M8ra0mr76LAlk3YFCJ6oI19NpUaTxvzO+DsnFL2e2K1+gYz87FarbS2to44f/ZIpKens2/fPsrLy4/JopXFYhl359Nf/vKXLF26lC996UsAXHXVVTz11FP8/Oc/54477hjXa2vJWMeARXNLuaWth4e2tKPIejq8PsIKRJDIU0IIBqaNxAqnHAqwPE3to38DIyDupDkYVpOExaCiM4KkKPT2/BJT2kMohpsQtFOeHjOFqWvNp7frUax67QpeJ5kYRjVznAxSmmPB8WJA0RedTkd9fT0Wi0WznZrc3Fz2799Pdnb2sCcRuTMK8GZ5B32uwGYjEokcUeIiSRIrVqyg/Y9/4OWGnTSUuBGSwGIxUZsJUnMb9VZozXfy49NWkONw4fF4NLM2z8zMZPfu3bhcrkm5qzldrdEnM52dnTz99NPJxaXjFFmWmTVrFp2dnTidTs1qMUWjUc2K2xoMBsrKyohGo6Q73Sz3mjHYzXSrIXSyIN+dxgn7GnBIKkvd+QghiBpktu6L1YIcrPh5YWEhgUDgUB2eMWI2m8nLy5tWuYdvvPEGf//73wkGg/znP//h1FNP5dprr2XlypVTKpjSgiuWnkxJehW/fv1j/tzhQ9KZEJ0tmA397/XqIP8WgKQKTRcYtCAaaaSm6a+kp32ZzBSBEo3lVRekn06L8X/Yf+AhHIZ9E9zLJGNhVMHUZJbSaMnxmgOQm5vLrl27cDgcmhmIyLLM/v37h50/daRVn3h7u3btOqJLliRJXPn5y+l462/UdlXE2kVwwCaYFXGhWqJcnjWbbQdq2XaglotOOJ3Ozk7NcsZmzJiBJEkxq/dpIHudCtx44418/etfZ86cOcM6PxgM8vvf/x6TycSqVas06cO555474O8dDodpb4+tmP7qV7/S5DpJpi5VVVXMmDFDk7aEEInaTlos3Oj1elpaWggGg8zJyufj+moUASEBRkmwwJ1LiYgcLKgOSIKOYHBI+3IhBCaTiV27djFr1ixNdv8dDgetra1AbKdqqhMPMru6uvjRj37Eww8/zNy5wxWzTz/OmFPCi1sbmOE3Ew36qcNNuDsmhzsURA10/FWBSDQ6qYo8qyq0B5dSnLMcu8WMECZUpRdV9QOQas/DYvgRe+vWIPGfCe5tktEyqlFtsktptOJ4MqDoSzzBWUsJRWZmJg0NDZoFFpIkkZOTQ11dHcXFxUOeJ4TgKwvO5e0NddRIMaegsNWIpydKkU+wvGgOX3/3ZQCWFJfTfqAFq9WqifRNr9fT1tZGMBgckQlHktGTl5fHZZddxuzZs7nwwguZP38+ZWVl/SZwzc3NbN++nddff51XXnmFjIwMTReIFixYMOAzbjAYyM3NZeXKlUPKU5McH7jdbnw+H36/H7PZPOb2JEmitLSUxsZGzYrlZmRksG/fPhYtWsT/VXxEhsmGEIJeNYpVyJiFjJ9Y8r2qqrzVUcMrkWY+Lz4/aHtCCAoKChJFh7UgLS2NPXv2YLFYsFqtmrQ5UTidzoT1++uvvw5AbW2tJgt7UxG/38+/GnqR9FYkvREHITzd/XejDk8BEBwMpmQfT73wV1Zfeemx7HI/egMKqqISDAJRgdW6HKPBSjjcgt6QjyRnEA7Xo6KiKGA2WkhxLqOzOxlMTVXGvkQ0jTneDCj6otfraWpqQpZlMjIyNGkzbumbkZGhSaDmdruxWCxHlY8c7k4lhKDepHBqr4Gfv/EXOh2xIfrRD/7B7Wd9mu7ubs1WO+M3fK1kOEmOzPe//32++MUv8swzz/DII4/Q09ODEAKbzYbBYMDj8RAOh1FVlXnz5nHHHXdw0UUXaWq4cv/992vWVpLpSW5uLr29vfT09GhWi6m0tFSznXWI5XgpisJXPnUJ9/3595SZ3USEikWVsaoSfhRUVN5or+WDdAlJivDkK3/humUXDtqezWajuLiYcDisieIhXnRYUZQpv/v/9a9/nW9961s8+OCD5OXl0dDQwLe+9S2+/e1vT3TXJoR4zan4X9Rl1vGhmkZ5SzOF6TYkMfB+r6gKta1eJEnmd29tZ2ePzK9vvPiY9hsOGVN4vV72PLsCXbACEd1CbtqJQBgR7kCnS0WS0glHWmIvUqHD8x7+8NT9DB/vjCqYmgxSmiTjT1ZWVkLup1UwqdPpjmgeMVIMBsOw5CN93akA5qXnIfytBHp9qA4DAsHGnnrOrdnLGSXldHR0aJY/VVJSghBiyt/wpwoFBQXcddddfPe73+Wjjz5i69atCdmS2+2muLiY008/PblbmGRCMRqN7N69m1mzZmlmAuPz+QgEAqMq4Hs4kiQRDofR+cPMNrkJKlGQJHxEsaoyFiR6iSKFI2CxoEiC733wN764dMWQ78dgMFBdXY3T6dRkfNXr9QSDQfbs2UNZWdmUHV/POOMMvvGNb/Dtb3+bjoPOsrfddhsLFy6c6K5NCPGaUyE5dk/XyxI73AvZ0/Ma7d52CtJsZDgO7eq2ePw0tHlJcdgozkgl2mLgmW2dnPq3t/jyBWcf077HUxRsNhuW69+ipaWF9oZWJH/OoUXfsECnmJHN6UR0KoqqoDvrFuaW/WJS5XolGT6jCqYmg5TmWHA8GlD0RQjBzJkzNc37SUtLo66uTrNkZCEEeXl51NTUHDUHYfVp5/Hua88CcP2Cpfy44XlyInq2+YMYzCZUncwX/vYU82QnP12+CovFolkOQldXFz09PUnzgWOIwWBgwYIFLFiwYNyvVV5ePuzvhxCCnTt3jnOPkkx2dDodJSUleDwezZzucnNzqaqq0qz+lF6vp7KykhKLm92eVlQJelEwIWFTZYJqlLMzS1BbGnk/Y3jXKywsZPfu3djt9jHtUMULBhuNRlJTUxOFuqcqixYtYtGiRRPdjUnB4TWnFEWhSXJTHS6l3K3Q6QnQ2tVBisNEm8ePQTKQanWT5khDFoITIxF2SBJPbq7nyxdMzHuIl3lxOp0xGe6G3WSbDn7PjUAwCmEVOQpN0Q4WrDxj0pdUSTI0owqmJoOU5lhwvBpQ9EWv19Pa2ko4HCYnJ0eTNgsKCmhtbSU1NVWTwSNeIPdoAV+mO5UvF50KwMt7PqTH043VDxl6I53mWO2UAw4dBdVt/OOdf+N0OsnLyxtz/wBcLhetra2ayXrGynQt2jtRrF69esquiieZOCwWC0ajccTFzY9ESUkJnZ2dibZHS7z4eSAQwGKxkO4z06IEUQR0EyEFPQ50dIooS5x5iMZarj3j/KOOJZIkUV5eTjgcHnXQFwqFeOGGeQBcumYb6enpBINBIpGIJgYXSSaevjWnItEoqhJljmwkw51GIBSiN+jFH/KRardg1rswGkwxBQgwW9IRQbCzPaSpymS0SJIEKXqIr8kLwCSDrEBAQekNQ50ftdCSvI9MUUY96hwPUprj1YDicNLT09m9ezdut1uThGmIufHV1tYe0TxiJJhMJnbv3k1JSckRb+afn7+YnXXV/O+brzDXnobNDOEDbWxwCOq7YrVTFufOoMnbybZt2zCZTJqtGhcVFaGq6qSQ+03Xor0TRfL3l2S0yLJMJBKhtbVVs1xNk8lEZWWlprWYMuxOOtqbeNXfBMBFtgLMkg4TKn6iZEbkIfOlDkeSJILBILW1tSMuOhwPpE6I7gXghRvmcemabQnZ5GTcnXrnnXdGdH5yh6p/zSmdLCMkmV1KmIVCwmw0YTaaIOrHZAwTUXRElNjnXAC7lAiqxUY01Et1Q9OEB1MAUpoRz96egbUzURB2PUpNL6I7jDTbgTAMkhOmxAxfkrtXk5MxL+EcSynNseZ4NqA4nNLSUk3lfikpKXi9Xk1XEvPz86mpqTnizVlRFH79p+eZa02L1UiRBUXuNGbtrcXdt3aKorKzpoqOjg4uueQSTcwj9Ho9vb29NDY2ahZEjpbpWrQ3SZKpSEFBAS0tLZq1ZzabycrKore3d9Q74fHi55s2baKrqwu9Xk+mwcJHUT9Rg4y+s4aLU0qxqRJvtlTy7E3fG9G9weFw4PV6aW9vH3ZNw76BlCxixkEnRPcmAqqSkhIqKiomXQ2qa665JvG7GapvffNqp2ptTq2J15x6aVsDzc0+XpHTWNTSzqx0Eft9ymYggizCRIipU/a2qGzQZSPCAWQRpThv7PmDWpBTmo83c/DamW6zFfZ5UQ4EUN7viAVUrkP3ZV+vj6Z3qxAIshYWY7EmzawmG8n98CTDQq/X09nZidfr1Szvp6CggI6ODhwOhyYBldVqJT8/f0QBX0hSMQjBme58uqToodcJaAv7ydOn09bWptlqp9VqRVEUuru7J7QWRrJo7/jS0tLC008/zebNmxN/64ULF3LNNddMiro43/zmN3nnnXdwOp1s2LCh33PPPfcc69atQ1EUli1bxje+8Y0J6uXxgxCCzMxMamtrycnJ0cTtLiUlBb/fT1tb26h31yVJSgRUAJdddhl//cWd/MPfxru5ZtwHGpgZNfGJ/HJys0cuA8/JySESieD1eo86Hg0WSAHIQu0XUJWXl/P222+j0+kmXAHQF6vVyvLly1mxYoVmCo/jgTPmlHDGnBLOn7mDb/51D882y6wK9pLhqifVDoqqRxIhur1R6jvyeKrHTGtaFvreDuZkGCbFrhQcvXYm5Q5wGVD29hD9qAupxIbIN9PZ3I5vWyuFhpir8oF/1RI4KYOUzOEtQCQ5NiT3C5MMG7fbjd/vT+TaaIFOp6Ompkaz9sxmM/v27SMYDA76vCzL3PzZVezobUNVVRQgiIJJyMjx7Xcldvyfvv38tOE98vPz6ejo0KyPRUVFyd2gaUx1dTUXX3wxa9euxWKxMG/ePCwWC7/73e+4+OKLNf28j5bLL7+cJ598csDxvXv3snbtWp5//nn+7//+j+rqav7zn2Ttk2NFamoqlZWVmu2smEwm2traxjRmS5LEihUrWLFiBZIk8fsv3UZWWAZJsCFLwWPXM9uZniiiO1KEENTW1h7R5GmoQCpO34AqGo3S29tLW1vbqPozHqxdu5bly5ezceNGvvGNb/DCCy8QjUYTqp7DH0kG8on5c7ltaQktWdnsjqTR4T2bfU1pNHdBfVuIHq+K1V5JuqsdXaAbGYXrFkwtwycpy4Q8342wyChVXho27ELZ2k2W4VDglGVIRf2oi/176we8XlGUhBwwybElGUwlGRHFxcUYjUbNbvYOhwOj0ZhwTdSCvLw8qqurh+zjnIJizp6/gK3+NsLRCD4RG3zM8a9DNMqb3v28nyHzsSnMU6/+H+3t7ZoFkbIcq3VVWVmpSXtJBkdRFCKRSL9jb731Fr/97W/H1U3vZz/7GTabjQ0bNrB27VoefPBB1q5dy8aNG7HZbPzsZz8bddvbt2/nO9/5DsuWLaOsrIxf/OIXg563a9currjiCubNm8e5557Ls88+2+/5hQsXDrozWllZyUknnYTNZkOSJM4666wBO1dJxg+bzUZWVpZmE6J4LSa/3z/mduK7PKmpqfxy0WfReXzovAEuP+tcZFlmy5YtCYe9kSDLMqWlpTQ3Nw/6/FCBlEr/Iq59Ayq73U4oFBpyUe1Yc/rpp3Pffffx73//mx/96Ee0t7dz3XXX8YlPfIKf//znyXvBMLli6cn89tI51GcoPO5p4Ve9mTxdZ8dkEhTn+jE5DVyR08ldjne4Ka+VL604c6K7PGKEVYc41U1NdyMunwlX2AzR/nMZp9GOvUah8t1diXmOr9dH9T93UvPPXfR0ewbc+5KML8lg6giEQiG8Xi9er/e4tEYfjHhdj9raWs3azM/Px+/3Ew6HNWnPbDYfVYr45dPPwaXoCCtRgqhEUbGqMlJUQZUPfS0Ui4HvffA3cnJyNF3pNJlMyLKs6Y5Xkv5885vf5I477kj8vG7dOr7yla/wwAMPcNlll/Hvf/97XK777rvvcssttwxwgszNzeVrX/sa77777qjb/uCDD9i6dSvz588fUjLS0dHBNddcg81mY82aNVxxxRXcd999/OlPfzpq+7NmzWLLli20t7cTCoV49dVXOXDgwKj7m2TkuFwu2traNBsb9Ho9aWlpR1xgGimXnLuCc1Q356gpLFtwFnPmzMHj8Qy6SBE33TkSJpOJwsLCAbtbRwqkxMHHYAHVGz+7JlEcXsuFurFiNBq58MILefLJJ/nHP/7BF7/4Rd544w0+/elPc/fdd09098ZM3zmTz+cbl2ucMaeEP/73F/nhZTP4fMoHXFrmRWexIAkVp1AwE2ZxgYWri32898LDtO7Xbq5yzJDAqDdgtltiH3BfFEJKvw+72WDG0B77bnUcaKPjX7UUShnkRN3UPP8h7z75Cu0tk2d3drqTDKaOwJo1a5g/fz7z588/bp38BsNmsxGJROju7tasTVmWqa6u1qw9q9VKdXX1oCuyiqLw1ptvcaY7L+asI8ArFARgQ4eQJJY485jfEgUlNnrp9XqKioro7OzUrI8FBQVJud84snXrVpYuXZr4+amnnuLzn/88W7ZsYfny5Tz22GPjct1wOIzVah30OavVOqZFg6uuuoqNGzdy//3343A4Bj1n3bp1CCF46KGHWLRoEddddx2XXXbZsN5vaWkpN998M1/5ylf44he/yIwZM6ZcSYvpQHp6OgcOHBjzjlKceOmSuro6TdoDeOmmu/jxOZcSCoWYOXMmra2tbNq0qd8YqSgKGzduZOPGjcPabQsGgzQ1xdwCo9HoEQOpOIMFVCVKA28++GWi0Sj79++flNInl8tFbm4uubm5CCE0vZ9OFH3nTF/4whfG9VozU/RcPC+dkwvSSHXaEALc+iglbjt2WUeoN4jB00ztx9sHff1kXiCPWakbwCCBRY7N1IMK+KMQ7hNUpehpqmhAPSgFDPkDRD1BZmfOoMxeSNX/fkjNjuSu57FgzMHURElpjgU33HAD77//Pu+//z733HPPRHdnUlFUVKSp3M9ms2G1WjWbPEBsJ+Dw1dh47ZSuri6cVhsOdKCq+NUoYSWKWcjIakzSssSZx2mNIe475VDtlPb2ds1uepIkYTQa2bdvnybtJelPe3t7opp8bW0tDQ0NXHnlldhsNi655BL27t07LtedPXs2a9euHTCBU1WV3//+95SXl4+67eHY4r799tssXbq0X5L7ypUrqampob5+oM7+cD772c/y4osv8vzzz5OXlzfhzpPHI5IkMWPGjISDqhakp6drWuPOaDQyc+ZMvF4vr776Ki6XC6vVyrp164hGoyiKkhhru7q62LRp01GDmry8PEKhUGI3K+Ttom+odHggFefwgApUIn5vYldOy0WwsfL+++/zgx/8gLPPPpvbb78di8XCmjVr+OlPfzrRXRszfedMh0uLxwtJEpgtVkBCIoLqDaL6oqg+BdWn0LytsZ/81Nvj4aNXX+D953/C23/8f2x9fQsV/9nV79FaP7jkNM6xCMSkNGPs+yILsOhAJ2Jyv4AC3ghKb5immgYctSpOox2/pxfhVzHKsbmKy+qkPL2Ezn/UsO21LePe3+OdMVuoffOb38RgMPDAAw8AsVXRH/3oR7HGdTp+85vfcOaZU0+3Cklr9COh0+kIh8NUVVVRWlqqSZu5ubn09vYSDAbHVGwyjtFopKCg4IjufkUp6WxvbeT1zjpcQs/ylCLsSHSJ2OB7eO2UoqIiampqNHPi0+v1mEymRI2Z+KCf3A0YOzabja6uLgA2b96M2+1OBDKyLI+b/OerX/0qN954I+effz4XXHAB6ekxR8gNGzZQW1vLmjVrxuW6cWpqajjnnHP6HSspKQGgqqrqqBLYuPtbR0cHzz//PI8++uiQ57a0tAxqPJDMARk7BoMBv99PRUXFiGsxDUVKSgp1dXWkpaVpUu7BbDbzz3/+k7a2NkwmEyaTiUAgwPPPP09qaipdXV2JBYB4QLVixYojuuzF5X4Oh4OyC1bz0Z8e4GSnF0kMHkjFiQdUigoVvWbyz7oYSZISC3U9PT2jGreH+iynp6eTkZExrDZqa2t5+eWX+fOf/0xjYyOnnXYa3/nOd1i5cuWQu9hTkb5zJi0+X8Ml4PUjCTMqvaj0oKJDYEBgwBzQs+ffOyg7cy673/snvZWbscohXEboPbCD9ordtERKyXaegCzF7ruVO1pI+VLagPuwt8fDvndfobfhYyx5c5m5cDk2++AKgbGSXZJH497dZFvSYh9uswwKEFEgotLUdoAM1Y4pqKO324NJNiT6H8dsMJFqdWNvt/Hu8//g9MuWJutUjRNjDqa2bt3Kbbfdlvg5LqX57ne/yw9+8AMee+yxKRtMJTkyZrMZSZI0rTAuSRLV1dVjWr3vS1zakpqaitVqHVA7RRISVp2BnWoPgbw0cpqaOMGVjU6BN5qrWX/THf1u/DqdjhkzZtDV1YXL5dKkj7m5ufT09CTyAwAuXbPtuJUAHsm2eySccsop/OY3v0GWZZ555pl+kr/a2trErpXWLFmyhMcff5xf/vKXPP7444lgfu7cuTz++OMsXrx4XK4bx+PxDNiBiE8iPR4PADfeeCMff/wxnZ2dLFmyhGuuuSZRoPzrX/96YhJ8yy23HDH4Wr9+PY888sg4vZMkZrMZu91OY2Mjubm5mrSZlZXF3r17KS8v16QkRXxyFolEMJvNhMNhvF4vkiSNelHIZrNRWVnJaVd9DxWFD174Cae6/chHmQcqCnzQaSZv8X9RvuKqxNgdl9GN5v1++9vfHvT4SIqdr1ixApvNxrJly/if//mfxN+yo6Nj0Nw4rcqPHA8oUQXFH0XCCKqMqgZBCqEKPyp+IlRy4D8q7bWbcMterHLsMxHw+pEVgdOqoqoVNHbX4TAuxGXJwOEzseffO5hzdux+HI1G+wdiJqBtBzv/XIFtxkLKTluKLMsEAgECgYAmc4OY1E8PfTfBJGLSPwOIYiuiNwIRgQ5pQCAVR0XFbrbhbjejKEoymBonxjySHk1K861vfWvMnUwyeSksLNRUmmc2m3E6nXg8niFzQkZKVlYWFRUVzJ49G0mSBtRO+d7nP0/7ut/wiG8vf8vU4T7QRo8a4fQZc4asndLZ2YmiKJoEkUIIDAYD66+dzclSLG8sXjPleAyoLr/8cr785S+Peez49re/zfXXX89NN91Efn4+N998c+K5v/3tb5xyyilj7eqQLFmyhCVLluD3+xOf5clUW+bxxx8f8rnf//73w27n8ssv59xzzx1wvLKycshJaJKRkZ2dTTAY1KzAucFgSOxUjrUIe3xxauPGjbS3t6PT6bBYLHi9Xvx+f6J2lKIouFwuli9fnihOG3/9YMSLDgeDQfQ6HWlpbj5oUzjVHRwyoIoq8EGnkbQ0N22DBHGjNRH66U9/Oqj6YqT14rxeLy+99NKwjGCSRXuHT9AbQDqYsSIkGTVihogJRBikEFGllai/FVuHIGyyIRvNIKSDAdjB1wlBmjNEd08LLjIQQuDd3on3JC9+bzuVb7+ELdqVCMQAIqEIulAA/7ZNbHr3n3gCAmOwGn8ggDG9lLMuW01mTt6gfR4uUpoRz96eWG53HxRVRS6L3U/UOgllCJGFoiiJ71jQomoyfiQZnDH/ZidKSpNkciBJEnq9nn379jFjxgxN2szOzsbv9+P3+zWZgBoMBgoLC/vlHsRrp0BsIP3FF27i5Qe+Tn16lJ0Zek4LOLjpvM8M2WZhYSH79u3TJJgKhUK8dNPJnCxVER+r+xahnAwB1fbt21m7di0ffvghdXV13HjjjYMWc921axf33HMPH3/8MWlpaVx77bUjTkReuHAhDQ0NY+5zUVFRIiHe7Xb3e+7OO+88JsVzzWbzMQ+iHA4HPT09/Y7Fd6S0WqCIk5GRkZA6hUKhxHg/Xk5exysGg4Fdu3ZRUlKiieTcYrHQ2dlJb2/vANfJkRIfSzdt2kRLSwtGoxGDwUAwGKSjowNJksjPz2f58uVIkpQwpQAStasGw+128+4zP8S190+4CrIQAj5obR80oIoHUunpqczKzyLQ8Cb7XoMZ512RmExKkkRWVhYHDhxIOP0Nh+zsbAoLC4H+MraR8OMf/3jEr0lyZNzZBezda0f2e9BL8amsQJJBVQWqoqet3YpZKSMgKkBpIeL3EAn0oERlJNWAImKekAIJhECNhhO7NzbFzL63dmHJCmBXuqFv4K9C0BNAUgShiA8HPpSAnwyXGdVpo9tXzz8e/w7umWdwzuU3jvoenlOajzdz8JIsKTYbqqrSuHc3Lr0ZNaoOCLoOdLeSlZJBNBolmpEMpMaTMf92J0pKk2TyYDAYMBqNiVwLLRBCUFVVxezZszWpYm+z2di/fz82my0xoTy83adXfJGV//x/vEeIy1Pms23bNrKzswe96UqSxKxZs+jp6RlTUnd/699Dx/vWTJkMAVVfS+6hkrnjltzz5s1jzZo17Nixg/vuuw+bzcbFF198bDvch8MDKYCysrJxu95vfvMbmpubB3UA/Z//+R+ysrK47rrrxu36RUVFA5wxq6qqgEO5U+PBmjVrkpK/cUIIQUlJiaZjotvtpqOjY9DFhtESL51hNpvxer2JflZUVLBs2TIANm7cSH19PaqqsmHDBlauXDlkYKPXG2I7crLMrPwsYGBAdXggJR3ld2MwGKiurh52rm/fxaCRSPv68tnPfnbEr0lyZNJzCkm57BY2/ua3mLoqcVoPLpYKgccniEZmUpBxIpKQaOqKIgxB9EZBNOiLSQE5ZJwWX2cNqVvwhSsAHULoCe+C9qoIbkMvQpJin2chEQlHUSMqwWgvOjmKEAJJOigpBZwWAw6zSkv1O6z7/juo+lNxOwvRWw2ULphF2elzhvUehRBHnF8IISBFj9lvIdjuw6jrP09QUZEkiar2Ok749GnD/dUmGQVjDqYmUkqTZPKQl5c3YDV8LJhMJlJTU+ns7NQsHysjI4Pdu3cze/bsQbX8S086jWVv/RWABafOZ8eOHVRVVR1xx62rq4tgMDiqIHKoGipxJlNAddVVV3H11VcDDCrrgv6W3GazmUWLFtHQ0MBjjz2WCKauuuqqQYOxVatWceWVV45L35uammhqahq0gOeiRYs0v96LL77ItddeO+hz5eXl/Pa3vx3XYGrx4sU899xzBAKBxC7Gxo0bKSoqGtdcjBtuuCGRd7Vr165xt0Y+3jCZTJSVlREMBjUzRCouLiYSiRCNRked39TXtS/eRk9PTyJAiksJH330UUpLS2lsbERRFBRFobKykg0bNnD++ecPCBCFEJyy6nt8oKjod/8RvU43IKAC+KDDgMtuTgRSiqrSW7CUGeeuGjToTElJGZFs8tlnn2X27NkAE76olaQ/siyz5MpVfPjUm7R370VI9ShKPmmWk7DYDxl7BKUw6U4Lkiyht1rxdXkRoQiHSj/HHhIOZDUVVQ2jqhEU1Uek20vUESLhFylAVVSiShSdrCaCqH6osf2uLKcZnQjS095NnppKS2Mbe+q2UXzSDM0+SzEpoJdg0IcpfKhNpY+ENynxG3/G/NudDFKa8aKvbGUy1ySYDAghsFqtmsr9MjMzCYVCmsn9dDodRUVFKIoy5MThpZu+D8QmAJWVlezYsYPCwkL0ev2g5+fl5bFnzx5SU1NHtFp8pGKUcMi1arIEVGOx5F63bh319fXk5+ezdu3a8exmP+rr67ntttvYtm0bQL88jfgEbzxyE5qamhKyoMPJz89n//79o267o6ODzZs3A+D3+6murmbDhg2YzeaEKmDVqlWsXbuWW2+9lauvvpqdO3eyfv167r333lFfN8nkQJZlDhw4gCRJZGdnj7m9eA7p7t27KS8vH3FA1bfURHyMkGUZv9+PdHAlP/5QFIUPP/yQ1NTUhPW5EIL33nuP5cuXDzrZkySJU6+8gw/XgWnb85hNpn4BFapCikGhxBYi0HkAkzsLT9mlzCj+xBH7nZ2dTXt7OwaDQVO7+KG48cYb+frXv86cOcPbkQgGg/z+97/HZDKxatWqce7d1MbmsJFyWi7io1RCkdMw6g/bnVFVDAVWpD7aUJPdQqDdl8iZit9w9bpSzKYTAPAKP7M/M5f6be9B079QIwpKRCEYCKATIFQ/EO7vyX8o3mLg8iikW1Jp7m3jjWdeYdlXPqXJ+49LAXe/9QHZLdZ+Uj+r0UKHt4todjKQGm80+w0faynNsSApWxkZsixjNptpbm7WVN4Zl7Zo4UJjs9lobW1Fp9MN+pntO5k44YQTDupAnwAASJhJREFUeO+999i9ezcnnnhiv/P6TszLy8vxer2JZOujcaRASgzy7/EIqBoaGtixY8eA4yOx+z2csVpya82dd97J/v37ueOOOygpKRkyINYak8lEc/PgdUoOHDgwpr9fRUUFt9xyS+LneEHU3NxcXn/9dSC28v70009z9913c/3115OWlsbtt98+7lLL5Hh5bMjNzWXv3r243W5Ndqh0Oh15eXnU1NRoUuZCURRUVaWhoYHc3NzEuB0PqOK1plRVpbOzE7PZzCuvvMLKlSsHXZCSJIlTVt3Bv3x+Uiv/jMloZFZ+ForfhxTqpcCuIAkVxd/FHusJrLj8O2zZsuWoNa2cTie7d+9m1qxZR/xOaiHzy8vL47LLLmP27NlceOGFzJ8/n7Kysn4BZHNzM9u3b+f111/nlVdeISMjI5lrNUzKzzyB9/a+hdM/0I7dYwlwwicWU/3vdmzRzpgkT5aQzDL4FSC2uNbuMeEwxu59qqpiOclFSl4abc02wp7YvUNVVMKtESQkRDRKTCp4eIWz/vfxvgghMMlGArt7aG48QGZu1pjfe1wKeMbKswfcd+JCxnmZ2rgjJxkazYKpYy2lORb0la387W9/GzQHIkl/cnJyNK3kbjAYyMrKorW1VbMALSUlhV27dmG324+49V1QUMDf/vY3XnnlFUpKShL1QOKyFiCRVN3d3U1vb+9R+xiNRo8aSMGhla3BAqrLntwx5jpUDz30EA899NCA46OdLMDwLLmHw5Fsu0fC9u3buf/++xNGI8eK0047jaeeeoqVK1f2m6SFQiGefvpp5s+fP+q2Fy5cyJ49e4563uzZs1m3bt2orzMakjK/Y8fMmTMJBoOa1eRzOp1YrdYRt3d4qQkAl8vFpZdeyq9//Wv2799PTk4OQoh+JTTigZTJZCI3N/eou/qSJHHWl+/hP/9PJqPmrwQ6D1BiC4EiQInZYzdJGczUt7Jt/QMoxZ84at91Oh0lJSWEQqEjBlNayPy+//3v88UvfpFnnnmGRx55hJ6eHoQQ2Gw2DAYDHo+HcDiMqqrMmzePO+64g4suuihZb3CYyLJM6fLZdDUOtJkvzS0kPS+TtEtv7mdvbrKZ6Q168fZIRCMzyHPF8qsgFoAtOOt0IGZ0UVnpigVikkA2yRAkYUihotLqCWDWx/5Wh9/HExy8obvMDpp7W3l/3TtccJt2uXRa7VYnGR1jDqYmSkpzLEgW7R05QgicTif79u2jtLRUk0Tp1NRUIpGIZnI/WZYTuQJDBVOKovDqq6/idDrp7e3l+eefT0wU+04cNm3axPLly8nJyWHPnj2kpQ0s9NcXVVUJebvAPHQgFefwgApir+3rSjhabrnlln5mMXEmgyz3SLbdIyErK+uY7Ub15Wtf+xr/9V//xYoVK7jooovIyMigpaWFP//5z3R1dXH//fcf8z4lmV7E769VVVWUl5drsmuv0+moqakhPT19RMVtDy81EV9g+upXv8o999xDR0cHQghSUlL63Q9CoRDFxcWkpKQkLNOPdp0FX/wBL33zDWb7YhNbJIloFJrCVoqL05GEwLHnBT6u2k/pEDlTfbFYLAQCAerq6igoKBj2ex4NBQUF3HXXXXz3u9/lo48+YuvWrbS0tBAMBnG73RQXF3P66adrVk/seCM9P5P0/KEXM2VZZu4Z5+Gde3qi8K6aPZfUOSdgsfQvnFyaW5j4TqXnFJLSJxAz2xQCwZhbaVdvkHA0QrrTjCQEqjq0xK8vOqEj1BjQtF5lkollzMHURElpkkxe4tvO+/fv1/TGUFlZOaR5xEixWq0Ja+DU1NR+z/XNAzAajYRCIcLhMH/+858xmUz98gO6urrYtGkTK1asoKysLJH0P9RNXJZlyi5YzUd/eoCTnV4kMXggFSc+MCsqfNRto+zi1Zq8/7S0tDHb/R7OsbTkHg433HADTzzxBGeccQYWy0D5x3hRXl7O7373O37yk5/wxBNPJKx258+fz69+9SvNClJPNgaT+W3fvl1TY5ok/fF4PNTU1Ghm0qMoClu2bKGgoGDEAVo8ANu8eTOKovDee+8RjUYTapXe3t4B19q6dSsXX3xxIg/waH3b99rvMfnaeK3VRYbOC8i0+fRkOGR6Dhwqw9LU/ipVja3kzv8kkiRhsVhITU0ddBwymUwoijKkG60WMr++GAwGFixYwIIFC8bUTpLRYbM7OPmTlxIIfGrYi+SHB2Kdbf/B155OIBIhL82fyFPqF0ipKs3dAbq8Ei7y+t3oI2oEKc+UDKSmEWMOpiZKSpNkcpOZmTloZffRotPpyM3N5cCBA5oFaE6nMyH3O1IwYbFY8Hg8tLe3Y7PZhpxkCCHweDx0dHQM2UchBAuuvhMVhQ9e+Amnuv1DFqGMoyjwQaeZWZfexoKr79Rkt++uu+5KyFa1mCDAxFlyD8XFF19MdXU15557LieffPKAiZQQgp/85Cfjcu158+YlHPW6u7txOp3Tfnd7MJlf3xyZJNpjs9lQFIXu7m7NjBTy8/MJBoMYDIZRjTWKorB582ZaW1sTRUNVVU18DuJtxnOoNm/ezIIFC454LVVV2ffa77HUv4EkJLLT3TS3yyAgzRFCiQYO7tgfasPQ8hEN76vknvpJvF4vvb29FBUVDdp+YWHhkPL0pJvf9GQ043E8EOtdtJLtz7+HrddIfceHhNQtZLhUdAed/bp6g7R7IkS8RcyynYtOf2iq3eX3oOrgtFVTM/0lyeCMOZiaKClNkslPSkoKlZWVlJSUaFYXxel0aib3kyQpIffre5M8PA9AlmUMBgOhUIhoNJqQBiqKgsvl6idRyczMZM+ePUfV4et1OtLS3HzQpgxahDJOvIaK2+1Cr6G16Z133sny5csBhm2ccTQmypJ7KF588UXWrFmDLMvs2LFjwDilxWfyaJhMpmkfRMXpu8N5LHcCj3eEEHR2dqLT6TQZF4UQhEIh2tvbycnJGVUb+/fv72eNrqpqYofSbrf3C6h2797NaaedNuSOe79A6mCwJEsSGSk2FEVFjkDUF0CJhJB0h/K9JATGlq00fgC5p34SgPb29iHfs8vlYs+ePZSWlvaTf1ssFs3GyCTTA6vVmsjRmsE5+HwLqN35D5TO7fj8fgJeNwXSJ3E7BqpeAtEAujk2Tcwnkkwexjw7mygpTZKpgdPppKGhQbPJdNyyvLy8XJO6CRaLhZ6eHlpaWvq52PXNA+ju7sZsNhMKhfD5fIkV4HggJUlSv1zBWbNmEQwGEzmDh/f/o3X346p4EVdBFkIMLEIZp28xypLsNHQVL/LROsEpV3xvzIHAvffem7DKHs7O1FS05H744YdZtmwZ995774TIDI83+paS8Pl8E9yb4wchBDk5ObS3t2sSTEEs4PH7/fh8vlHd17Ozs6moqEgEIT09PRgMBqLRaL9C5z09PRiNRrZs2XLU3anD0ck6QkoYZDPgQQ30gi0WTAkE6iCZK4MZZPUlNzeXyspKZs2alTjm8/nwer2AdpLoJFOfw3O0Tjr3NAKBAD6fjz1//AiqwwNe0+prJ2oRrLjm/GPY0yTHgjHPRidSSpNk8pOWlkZbW5tm7cmyTEFBAY2NjUPW8hkpNpuN+vp6HA7HkLsIkiRhMpkSrkt9cxTi7n6qqrJ8+XJkWcbr9dLa2nrEIFISYkARynhA1TeQihejDASDKKo2kql77rmHCy64ABiedGUyW3IPRVdXF1dccUUykDpGJK3RJw6dTpeQVrvdbk12XTMyMgiHw/12moeDEIIFCxawf//+xG6UwWAgPT0dq9VKfX39gONH6q8QghnnXcG+1+i3OwVg0OtRUVF0BqIhL5LqQggJkx68IZVgxknknvrJRPuH58cejs1mIz8/v5/Jj9Y5U0mmL3Elwozz57LjjW207O+/E6rPNVK2YFaygO40ZMx/0ckgpUkyuUlLS6OmpmZUSc2D4XA4sNlsmsn9hBAUFxcTCoUSk4Z4gNTXbCIUCiFJEtFolJaWFhRFYePGjaiqisfjobu7m0cffZSbbrqJtLQ0KioqBvRRCMHJq27no3Xg2PPCoAEVDAykFFWlq+yzpC24bEK+U5PZknsoTj31VCorK6dsaYapRtIafeKRJImWlhbNykhIkpRQFoxkAihJEp/5zGd4+eWXCYVCpKenY7fbOf300ykqKuKNN95AVdV+x0cbUAEosgkRCaEEe5FNdpxGiQ7XPHJPPS/RriRJnHDCCUftu8Vioa6uLmGek8yZSjJS0vMz+cQXlk10N5IcQ8YcTCWlNEmGg8PhoLa2luLiYs3arKqqYubMmZrc4OIBT3NzMxkZGQMCKY/HQyQSSZwvhKC9vR2Px4PH48HpdBKNRpEkiccee4yvfvWrlJaWEo1GE25ucSRJGjqgaont4rmsRvKsJAIpT9mlnLHqdtra2ga0NxrGw4BisnHnnXdy66234nA4OPvsswe1e9YiuE8SY7CcKUmSkr/jY0hKSgqtra2ANp9tSZLIzc3F4/EM6nR3tNdecsklvPfeewCcfvrpSJJETk4OZ511Fo2NjUiSlDg+HGZ+8kr2vSaw1r0RL/ODQGCw2ImEPBDsAZMdMeMcFi24kM7OToLBIGlpaZxwwgnDVjPk5eWxdetWIJkzlSRJkqMz5mAqKaVJMhxSUlKIRqOD5hGNBkmSKCoqor6+ntLSUg16GAuoamtrB3XFikajtLe3oyhKol6KqqpEIhGCwSDhcEwfraoq3d3dbNy4kfPPPx+v10tXV9eAIHKogEqKqoR72im2BpCDEbztEF50E6esuh1JksjIyKCpqYnU1NQxBZEjlflNReLv77vf/e6gzwsh2Llzp+bXjTvY9V3Jf+utt6ioqOCMM85gzpw5ml9zsnLiiScyd+7cie7GcUdbWxsWi0WzPGZVVUe94xXfGe477p9xxhl4vV70ev2Iiw6fccYZfLTu/sS4GSficBLuacN70tnMv/GXbFv/AOnAyVfdPuLAUpKkca87FWf37t1HfH66llJIkmQ6MeZgajpLafomVAcCgQnuzdQnPT2d+vp6srOzNdEMW61WiouLCQaDI74hD0VxcTG9vb393PwgZhccD2I6OjoSOVPt7e0JHb6qqnR1dZGSkkJVVRWqquJ2u+no6OiXdB1nsIAq1y4QIoKEhKJCs1/GrfQPPh0OBzU1Nf2SpEeKyWSa9qutq1evnhBJ5De/+U0MBgMPPPAAAOvWreNHP/oREMtt+c1vfsOZZ555zPs13iQNKCYPDoeDvXv3ambUI4TA7/fT2to64sLeR6q5FzcTGkmwM9i4CSDMLhq6osw0S2xb/wCOPS8A8NE6OHnVyAOq+O9tvA0ovvrVrw75nBCC1157TdPrJUmSRHs0Kdo7XaU0yYRq7YkHAjNmzNCkPSEElZWVlJaWahJQGY1GhBA0NzcnAiqAZcuWoSgK//nPf/rV0IoHVfFAKjU1Fa/Xy9y5cxOTiOLiYlRVJRqNDrD/jU8MPlynoH/nMfShLlQpVn/lgJxKcW46HHTxi08IrFYrLpeLSCQy6olSIBCY9g5VEyVd3Lp1K7fddlvi56eeeorPf/7zfPe73+UHP/gBjz322LQMppLj5eTBYDBQWFhIMBjULNm9sLCQhoYGTdqCmBIgKysrsQA1Eg4PqAB65v4Xs2fuZ9ebL1GSk4qki41pjj0vjDqggvE3oIgb+CRJkmTqMuYo54ILLmDv3r1897vf5cwzz2Tu3Ln9HsNJ+Jys3HDDDbz//vu8//773HPPPRPdnWmB0+nE4XBoVsgzbh5RW1urSXsQm4j09PTg8/lYsWIFK1asQJZlVq5cSUZGRkLqF5f7xYnXUpk7dy4rV67sl/jc29s7oKBtX1RF0OyXUVRQkGgMGCnMSkESAkmIgxOC+xO/t4yMjEQ+wGi46667mD9/PvPnz2fNmjWjamMyEwqFWL16dSJf41jS3t6ekEPV1tbS0NDAlVdeic1m45JLLmHv3r3HvE/Hgr7j5bPPPjvR3Tnusdv/f3v3HhdVnfcB/HPODHOBYYCBQWC4jJgD6EZeMvNZ0nKlsB5XbXfzUqZkj5j6rJVZpl0sw9xts/Vxu9BlrQ0zd7eknrbEemxzLcvK1lTACxe5X+Q2jDAMzDnPHzQjAwPMDAfOMHzfrxcv5czhN7+5fed8z/n9ft9AsCyLiooKQdpjGAYxMTGorKx0mD86GBqNBoGBgR4VeLclVMaEX8GY8CskL3oYlS0diJY0gbvceGU/J/HTHdnZ2fb3dUZGhtt/TwjxfYM+ZSXWUJrh0P2M/WgpvDkcwsPDUVlZCa1WK0jBZ6VSiXHjxg1YKNcdY8eORVNTk30oHMdx+Oyzz6DValFfX9/rPc8wDEJCQlBfX485c+b0OgOqVqvR0NCAxsZGhISE2LdzHHel7pROi5JKgLe2ITqwFUxnOyDp+oheOSC4coZVpVKhuLgYCQkJbn8GfX3OlEwmw1dffYW777572O9bpVLZh4ceP34cISEh9nkPEonEPhTO11DRXu+jVCphNpsdhiYPllqtttdiEuK7XyqVora2FjKZzO2hxyzLYvLSR8FxHE6++zuEXfoOnVI/cK3NaJcHQf7T97az+OmqoV6AIicnp9/bxSot4Qka6ktGq0EnU764ChgZerbhfuPHjxekPYlEgvPnzyMuLk6Q5dL9/Pyg0WhQWVmJyMhI+/wpk8lkL9LbvVCv7d+wsDBkZWVhzZo1vYb0xcbGOgz3syVS3cf9j43SgrO0obP+IviONkAeYP/7ngcESqUSoaGhsFgsbg9xHA1zpqZMmYKTJ09i+vTpw3q/kydPxquvvgqJRIK33nrLXtQY6LpSJdSy1YS4YuzYsfZlvoWgUqmg1WrR0dEhyIkYhmEwbtw41NbWehSTeJ7HyXd/Z4+jkoAQdBprwXS0gpPJ7InTYBKqofTpp5/a/3/8+HFcd9119t8ZhhlRyRQN9SWj1aCiiZhDacjIplKpEBQUJNhwEaDroKGkpESw9iQSCVpbW9Hc3Gxfpa+jo8OeSDU1NaGxsdGhwGP31fy6bwe6zqK2t7ejsLAQPM87XZGKYRhIZF3JIGfpvehJ9yErtjotly9fRltbm1uPzTZnymQy+eyVkk2bNuHvf/87srOzUV1dbV+mvvvPUNi4cSOamppw3333ob29HevWrbPf9vHHH2Py5MlDcr+EOMOyLIKCgnDu3DlYrVZB2tRoNDCZTB4Nz3PGz88POp0OFRUVveJmf5ydkGL9gwCGAdPeYt/HZrBD/obCiy++aP/R6XQOv4+0xISG+pLRalDJlG0ojbcEJTKyhIeHo76+3uN5Pz3J5XKMHz9e0ARNr9ejra0NqampqK6uBsdxDotNKBQK1NTUOCRY3Vfz68nf3x9KpRKXLl3q+04ZBoyfArylFXDhwCIgIADFxcVuHYT4+pwpAJg3bx5KS0uRmZmJm266CT/72c+GZT6nXq/HoUOHcOzYMXz66aeIjo6237ZlyxZs3LhxSO5XbBaLxZ6g0xAf78IwDMaMGYOioiLB2gwODkZ1dbXbJ3L6I5PJUFpa6tK+fZ6QYqWQKNTgLK2A1YL29naH2NjzhNRAbKv5DceJp5E+ZcI2VFOlUtFQXzKqCLI0uhhDaYhvUKvVKC4uFqyWhlQqxfnz5xEVFYWAgICB/8CF9iIiIlBZWYmpU6fi66+/hlwuR1hYmH3VPtsqfz239/XFGB0dDavViuA7NuLUX9HrYAAAJMpAdBrrwLVfBqu4MvTFVsB30pJN9vblcjnCw8PR1tbm8heYr8+ZAsSfz9l9bpxNQkKCCD0ZHjTEx7sFBQVBKpUKWutv3Lhx9hp7QtBqtaiurh50H9mAEFjbmmFtuQR5cBSsVqvHqxoO9Wp+hJCRb9DJ1KZNm7B27Vr4+/tjzpw50Gq1vYKgt4xNJt6n+7wfoQ7q4+LicP78eUyYMEGQgwaGYWCxWDBjxgwwDIMzZ87YE6a0tDT7Pj2393XfDMOgs7MTJSUlTuulAACrDAKMdbC2NduTqe6JVM/PVFhYGIxGIy5fvuxSEjka5kyJfdBTVVWFqqoqp1defbEuX0ZGBtLT0wEA+fn5DgehxDsEBASgpKQEISEhTsuYuEsul4NlWVy4cEGwchcRERGoqqpCUFBQvyeHGIbpO37KlGCVanBtRkg6WiGVq9DR0QE/Pz+nJ6T6k52djaSkJABDc+Kpe9Fes9mMs2fPOlwxo6K9hHi/QSdT8+bNAwBkZmYiMzOz1+0MwyAvL2+wd0N8mG2FPNsQuMGSyWQwGAzgOK7XIhCeiouLQ1VVFebOnWtPZG655Rb7//va3heFQgG1Wo3a2lrnBSglfmBl/uDMLQDPgQPTZyLVvc3z588jKSmJTmCIqKysDA899BB+/PFHAHBYqMR2xj0/P1/MLg4JWs1vZIiJiUFBQQEUCoUgtfn8/PwQEBCAiooK6HQ6AXoIhIaGulR0uK8CvgAgVY+BxWxCZ3MNZNoAcBwHY10FKtTJuGXRwy7HyKFeza9n0d777rvP/n8q2kvIyEBLoxOvEBAQgKKiIiQlJQnyfvLz80NhYSG0Wi3UavWg22NZFjqdDlVVVQ5Xo7rf7mx7fyIjI+1DZJwdELD+QeCaWtHRasTlyfcMuAKVTCZDZGQkTCbTgI95NBTtFcuWLVtQWVmJzZs3Iz4+XpDl/wkRikQiwfjx4+0rigpx4sUWd4QaQiiTyaDX610qTN5XQsVIpJAGhqHTWItOUz06LB2oaWMxPrQOP+7/vdes6EdFewkZ+WhpdOIVFAoFwsPDYTabBbk6BXRdTSooKMCECRME+9Ls6OhAfX09wsLCet3m7kEEwzBgGAZnz55FYmJirwMCVhEIDtWoZcJxg4tf/BqNBq2trWhpaUFgYGCf+z3++ON4/PHHAdA8AKGdOnUKO3bswC233CJ2VwhxSiaTobm5GZcuXcK4ceMEaVOlUuHcuXOIjY0VpC6jSqWCyWRCeXm5wyIuzvSVUEkCNLC2NsFUX4V6SRjGxUSgs6MDgQV/xw/7eExavEmw0Qv9OXbsmMv7MgyD66+/fgh7QwgR2qCTKUKEEhYWZl+GXIhhQlKpFAaDQYCeXRETE4OysjLB2utez0qn0zkcEIBhUR82FTrZZXCmS2ACtQAGTtpkMhkKCgqQlJTU54HCaFiAQiwRERF0NYp4vaCgIBiNRly6dMnpySFPxMbGorCwULChxiqVCtXV1b2KnTvjNKFiGLTzfqg1SxCntYJlGEilUlgsFki/egmfnDqCtGf+4fHiFK5KT0+3x+2+VhD09WHAhPgySqaIV1EqlYLO+7EttRsYGDjgl7ErGIZBbGwsampqBCu+OmbMGJjNZvA873BAAACTr7kOdX/bBOPJgygpLQcwcMFJqVSK6OhoNDc3Q6PRON1nNCxAIZaMjAy89tpruP7662nuEPFq0dHR4DgOZrNZkKtJCoUCV111lWDDBwEgPj4era2tLg0h7JlQtTZUo7ZDgbhwCWA2gms3gZWr0NlSD/ZyLWJbqvHJltswN3PoE6qAgADcfPPNuOWWWwQbfUEI8Q6UTBGvYpv309raKtjBvk6nQ35+PgIDAwX7wuzs7BQ0oZLJZMjPz0diYiJYlsXkpY923WDtQJ08AD++9wKi1V0HJ//eN3BCFRwcDLPZDKPRKMicsZHC3auGMTExgvdhwYIFKC4uxuzZszFp0qRezz/DMPjd734n+P2KzWKx2OvwUJ2pkcF2NeTChQswGAyCXKWWy+WorKwEwzCIjIwcdHssy8Lf3x8FBQUwGAwDDstjWRbJix5G7mNfQNZWh7E6LRjOCku7CZ1N1eiQ+oO9XAsGHMAAcVWf9ZtQ2epMAZ7PL3377bdx4MAB5Obm4uDBg0hNTcWCBQt8clVPQkajUZFMHTt2DE8//TQ6Ozvxi1/8Aps2bRK7S6QfGo0Gly9fhslkEiShsk24FnKycVRUFC5evChYeyzLYsyYMSgvL0dsbKz9DCzHSlFhVkBr+g5MQDwYqfyngpMDJ1R+fn64cOHCgCti+ZLU1FS35q4NxXCa999/H1lZWZBIJDhz5kyvIX++umAP1ZkamaRSKeLj41FaWirY8uZRUVE4d+4c1Gq1IPX+WJZFZGQkiouLB+wjx3H4cf/vYfCrA6v7qVSLRApJYBhaL1VAAiMY8LB9CiUM129CJUSdqWnTpmHatGl48skncejQIXzwwQe49957odVqMW/ePCxYsECwuWuEkOHn80dYVqsVTzzxBF577TXExsZixYoVOHr0KFJSUsTuGumHXC4fcN6Pu+1VVFRAoVAgNDR00O0xDAO9Xo9Lly4hNDRUkAPk0NBQ+Pv724ezcByHf+/bgTGWUlgZwNraDKk6HCzDuJRQSSQSxMXFoaGhAeHh4YPu30jw7LPPit0F7N69G6mpqcjMzBxVVwWpztTI5e/vj3Hjxgl6JduWHNjqOw1WcHAwFAoFrFZrn98JPM/j3/t2dM2Z6hEX29vbIeE7wTJXEikAYOCYUN26/WOH9oWsMyWXyzFv3jzMmzcPtbW1+Oijj5CTk4PXX38dS5YswRNPPDGo9gkh4vAomRquoTSnTp3C22+/jR9++AGlpaVYvXo1HnjggV775efnY9u2bTh9+jTCwsJwzz332L/IT506haioKOj1egDAwoULcejQIUqmvJxUKoVOp4PRaBRkrhPQtXyvbbifUIsudHZ22hePEIJCoUBBQQGuuuoqnPrrc10HBfIAcBIpuDYjoO5KilxNqAIDA6FQKNDc3OxQpNNXl0ZfuHCh2F1AU1MTli5dOqoSKYDqTI10DMOgoaEB7e3t0Gq1g25PIpGgra0NxcXF9uHLg6VQKFBYWIiwsDC3ig5frq8C01IDpkciZcMAYMCBKT6KE+9sx9Q7t9hvG6o6U8HBwdDpdNDpdLhw4QKam5sFvw9CyPDwKJkarqE0J06cwMmTJzF16lQ0NjY63aehoQHp6elITk5GVlYWzpw5g+3bt0OlUmHBggWorq52GLcdGRmJ3Nxcj/pDhldISAja2toEO1vKsizGjRsn6FK4ERERKCoqEqy+CsMwCA8Px5GszYirPXyl5pQyCFZTPThLK1hZ14GqO1eoysvLHSY909LoQ2fKlCkoLCyk+RBkxImLi8OFCxcQGhoqSPKjVCoRERGBqqoqwU446fV6FBQUwN/f3+kQ2p4r+nUlUtVdyVIfbXI8UNkqQVyAGZZ//gEnGAbya+YL0t+evv/+e3zwwQfIzc2FxWLB7NmzkZWVhZ///OdDcn+EkKHnUTI1XENpli1bhuXLlwMAZs+e7XSfffv2gWEY7Nq1C0qlEjNmzEB5eTlefvllLFiwYFj6SYaOTCZDYWGhYPN+FAoFamtrAUCwoW/x8fFoaGhASEjIoBMqjuNw8WAWYqo/A9st6ZPYkqnWZnsyBbiWULEsC71ej7q6Ovs2X10a3Z05OwzDYO3atYL3YcuWLbj//vuhVqtxww03OD2D7g3FQgnpiWEYjB8/Hk1NTVCpVILEXI1GA47jBJ0Dm5CQAJ7nna4aaFvR74d9PKRfvQSJaeBEqqJVCl1A19LpCqsJ5s+fQ0FV/aD7anPx4kV88MEH+PDDD1FRUYFrr70WDz/8MNLS0gSZU0YIEZdHkXK4htK4csBx9OhRzJo1y+Gse1paGvbt24eysjL7WTGbqqqqUTN/xBdIJBLExsaisbFRkKEnAKDVapGfnw+1Wi3IcsBAVxJUXl4+qNXhHMb7SyQwm82Qy+VdxX395GD8FODMRoAbA3T7bHRPqCYvfdRpQhcQEACFQoG2tjYAvrs0urNkyrZimbPtQ5FM2ZLURx55xOntDMMgLy9P8PslRChSqRSFhYUwGAyCXXG3Fd8VIu5IpVI0NjaioaHB6cINLMsi+Y6H8U7ObkxRcmD7eAhXEimuaxTATyMMZJ0mlB3/eND9tLnlllugUqmQmpqKZ555xn6VrqGhAQ0NDb32H4pVRgkhQ2fEL0BRUlKCm266yWFbfHw8AKCoqAgpKSmoqKhASUkJYmNjceDAAdx77719tldbW+twBt+mvLxc2I4Tl6nValgsll7zfjzFMAzGjRsn6NWBsLAwFBUV9Ts52l1+fn6wWCyQy+UAAElACDqbqmC9XA9JoPuJJcuyTr+4fcmZM2ccfrdarUhOTsZf//pXTJw4cVj6sHbtWp9dsY+MDiqVCiEhIbh8+bIgyY8t5l68eFGwFQNDQkJgMpnQ0NDgtJ6eRCJB8NirkXeuGRPUZkh6fCS7EinJT4mUraMAx/GoaFdAqYkAUC1IXwHAZDLhwIEDyMnJGXBfKtpLyMjiUTLlDUNpbIxGIwIDAx222Q64jUYjJBIJtm7ditWrV6OzsxOzZ8/GzJkz+2xv//79tLyvF5JKpSgvL3c6Tt4TcrkcDQ0NMJvNiIqKEqCHXUl8U1MT1Gq1R4laz/H+XUnZlSMAiX8wrKZ6WE0NYAM0YNiupI3jeRgTfoVJSzb1exBvm4/ly/pKZCUSiaBz5fpD88+ILwgPD0dbWxsaGxsFWQTIz88PV111lWBDooErRYfb2tp6FcJlWRa3bf8E/9g8F3nnjjokVI5XpK78DcczKG+XoT02BT9f9gf88Z+/GXQfAe9YZZQQMnQES6aGeyiNO1JSUnDw4EGX9l20aJHT+VlffPEFdu3aJXTXiIts834uXbokSCFIoGssf0FBAUJCQgSrSM9xHEpLS+2rR7rLNt7/SkLFor29HTKZDAzDQBqoRUdjBaymekjV4eB4Hs0Jt2PS4kdcSuCESERJ3ywWCx544AGsWLEC06ZNE7s7hAyKXC5HcXExFAqFYDHSarWitLQUcXFxg27LdtxhG5LYc/6nVCrtlVAx6CuRAsrNcnToUzBpzWuC1hH0hlVGCSFDx6NkyhuG0tio1Wq0tLQ4bDMajfbb3BUeHu707H1hYaFnHSSCCQgIgFwuF2y4HwCMHTtWkHZsNBoNmpubYbFYPF7YoWdC5efnh/b2digUCrBKNRjTJVgvN4DxD4Fxwm/Ac8DJd383YBFfMvRkMhm++uor3H333WJ3ZdhZLBZYLBYAQGtrq8i9IUKwrYDa3NwsWDKl1WpRWloqWP0pW9HhyspKpyexeiZUamknYvpJpOZmfmwvuA10vZd9sYwEIUQ4Hh152YbMdP/pa/tQD63R6/UoLi522FZUVATgytwpT1ksFphMJphMJpjN5kG1RYQhkUhQUVGB9vZ2QdqTy+WwWCyCzokbO3Ys2tvb0dnZ6XEbtoTKmPArgGEcDjqkgVpwHI9qSRR4jkHw+fd/WoBiBziOE+IhkEGYMmUKTp48KXY3hl1WVhamTp2KqVOnUsFeHyKXy+0JkFBiY2PR2toqWNLt7+8PvV7f55xQW0KlNKQArGMC1zORkkqlYBjGvgjEXXfdZX9fZ2VlCdJfQohvGfELUKSkpGDv3r0wm832ldlyc3Oh1+sHvSJOVlYWzZ/yMgzDYOzYsaitrRVsxaPAwEBUVVUJtnQv0DXcr6SkZFCTrXteobIN94NchdrARHRW5SHCWgFW2nWm1JWaUza+WrS3Z0Fxq9UKAKipqXF6pXooVs3atGkT1q5dC39/f8yZMwdarbbX/BBfvIKYkZGB9PR0AF0T6Cmh8h3MTyd0KioqBKsXpVQqce7cOcHKXgBdo1I4jkNYWFiv26RSKW7d/gk+2XIrykuOIlrRdUKuZyJlY/uMZmdnIykpCYBvlZEghAjHq5OphoYGHD9+HADsldQPHjwIpVKJWbNmAQCWLFmCt99+G/fffz+WL1+OvLw87N+/H5mZmYO+/+4HBx9//LG9yCkRl1KphE6nE3y4X0dHhyBtAV2LoDQ1NTmdGO2O7gmVKv9vaDObYU5eAkVjBdQn/wLe1AkEd80hYxkGgQXv4Yd9HCYv2dzvAbuvFu3tq6B4X/M2h2LVrHnz5gEAMjMzncYhX10avXtS7u/vP8DeZKSJjIy01+gTgkwmQ1xcHFpaWgRZ4ALoKjpcVFSE0NBQp3FAKpVibubH9oQKgNNEqjt/f3+fLCNBCBGOVydT58+fx/r16+2/5+bmIjc3FzqdDocPHwbQNUdlz549ePrpp7Fq1SqEhYVh06ZNVLDXxzEMg8rKSshkMkHG8vv5+aGzsxMXL14UZGI00PXF3tbWNui5Ad0TKrO5DX48D23dcVjl/rC2NkGiCgUjleFyfRXaW+qBivM4wQNTlvadUPlq0V5vWDWLlkYnvio8PBxlZWXQarWC1OgLDAyExWJBVVWVIAsL2ZZgr6+vR1BQkNMEyZZQHdzSFf/6S6QIIcQVHkWQ4RpKM336dJw9e3bA/ZKSkrBv3z6P7qM/NMzPe9mG+1VVVQm2iIRSqURHRweMRqNHi5c4Y7VaUV5ejvHjxw+qHZZlcc3iR/DvfTugPP0u4OcHiToc3KUSdBrrYOFZMC3VUIKDpcMC6+Hf4wT6Tqh8tWivN6ya5StX+QhxRqvVorCwEElJSYIMV5XJZLh8+bJgS7ADXfO8+is6LJVKceuzXSv8+uKQW0LI8PIomfKGoTTDgYb5eTeFQgG9Xi9o8qPX69HW1iZIW0BX8UuFQoGWlpZe9dDcwXEcTr77OwSdex/wk8FiaYdCoQQrV6HNWA8JrGDAgQEgY3lYOkwDJlSEEOIuhUKB2NhYcBwnWFyJj49HfX29IG0BXXFXo9HAbDb3OXKBYiIhRCgeJVPeMJRmOHSfAyDEkAYiPIZhUF1dDYlEgoCAgEG3J5VKIZfLUVJS4nGtqJ5iYmLQ3t7u8XLpPM/j3/t2QH32PbAMAzBdwxJ5noeFAyR8B1jmSnlfZwnV1Du30NAzQoggAgMD0dDQgPb2dkGG57EsC61Wi6KiIsTFxQmyCrBWq4XJZEJDQwM0Gs2g2yOEkL54lEx5w1Ca4dC9bgotje699Ho9SktLB7VyXncymQw8zws67ITjOFy8eBGJiYmCtCeRSNBSVw728iWHRMrGllCZLSac/extXLPoESrYSwgRjEajwblz5xAQECDYyACNRoOioqJBD4u28ff3R2lpKZRKpWB1sgghpCe6zt2P7nVTaIif95LJZLjqqqvsS30LIS4uTtArOUqlEmq1us86KP1hGMZec4rjeQDA5foqsJfrwP40tM8ZngdqzRIEt5bh4GO3DaruFSGE9DRu3DjIZDLB6tsFBwcjLCwM/E9xbrBsRYeFHLpNCCE9UTLVj4yMDHz//ff4/vvvsW3bNrG7QwZQXV0No9EoSFssyyIwMLBXQejBiIyMhFqt9qjgsG1Fv+aEhWi5VAWmpbrfRIrjgYpWKWICOMQq2+FXchSfbLmVivoSQgQjkUggkUhQUFAgWGwJCQlBZWUlmpubBWlPLpcjODhY0FhOCCHd0Xqg/aA5UyOLXq9HYWGhYENObAcKly5dcloE0l0Mw6CzsxNFRUVISkpy+8oXwzDgOB5ldU2IU3Bg+/hzWyKlC7iyT7SiHeUlR3GiTLird+SKniucDmQoigUTIgY/Pz9ERETg4sWLgq2sGhERgYKCAigUCsjl8kG3x7Is5HK5oEWHCSHEhpIp4jOkUikMBgNaW1sFKxoaHR2NpqYmQdoCupLy0NBQ1NXVITw83O2/Z1kGY1RSVBiliPbvtCdLPLrmSXUlUhKHRIoMvb5WOO3LSF3hlBBnNBoNVCrVoGvq2UgkEowbNw4sy4LneUGGXEdFRXk0zJoQQgZCyVQ/aAGKkce2up9Go0FwcPCg22NZFiEhISguLhbsrOuYMWNgtVrR3t7u1llXhmEweclmnOCB0MPPodzYak+oriRS0l6JFMcD5WY5OvQpuGbGGrzz/SOCPI6hUFxcjMceewyNjY1gWRZ33HEH7r77brG7NaCRtsLpgw8+iGPHjiEoKAgHDx50uO2jjz5CVlYWWJaFSqXC9u3bBStkTXyXTCbD2bNnodPpBKlhp1AoYDKZUFpainHjxgnQwysLXERFRdFokz6M1BhMiJgomeoHFe0dmeLi4nDu3DkEBQUJckaTYRjIZDLU1NRgzJgxAvSwq5jvhQsX3C58ybIspizdjBNwTKgA2xUpa9fy6T/pnkjNzfwYH3/8sSD9HyoymQxPPvkkDAYDTCYTfvWrX2H69OlISEgQu2v9GmkrnC5atAgrV67Ehg0bHLZbLBZs27YNn3zyCTQaDbKzs/GnP/0Jzz33nEg9JSNJfHw8zp07J1hBX5VKhcbGRtTW1np0Jd+ZyMhIQYsO+5qRGoMJERNFkn7QAhQjk0QiQWJioqBXE6OiogT94pXJZIiIiEBVVZXbf2tLqJjZGxGq9kd5q/SnK1K8w4IUPRMpqdTzcyenTp3Cww8/jNTUVCQkJOCFF15wul9+fj6WLl2K5ORkzJ49G9nZ2W7dj06ng8FgANB1IDV27FhUV1d73G9fI9TrMH36dAQFBfV5P5cvXwYAtLS0QKvVCvcAiE/z8/NDYmIi2tvbBVuRLzo6GkFBQYKtRqpUKqHX6wXrnzcRIj5QDCbEfXRlqh+0AMXIxTAMamtroVKpEBoaKkh7Wq0WJSUlgi2bHhoaCo7j3B7uBzheoQo7/BwUVlO3oX08OJ4RLJECgBMnTuDkyZOYOnUqGhsbne7T0NCA9PR0JCcnIysrC2fOnMH27duhUqmwYMECt++zrKwMZ86cweTJkwfV9+HgzhVshmGwdu1aj+5nqF8H21npX/7yl1CpVAgODsa7777rUV/J6CSRSGAymVBbWyvI8FCGYeDn54e8vDwYDAaPCp/3FBAQgNraWnAch4iIiEG35y2Ejg8jKQYTIiZKpojPiomJQUFBAUJCQgS7qqRQKFBVVYWoqChB2uM4DhcuXEBiYiIkEolbf9s9oWr/vCuhYsCA43mUtcnQOVaYRAoAli1bhuXLlwMAZs+e7XSfffv2gWEY7Nq1C0qlEjNmzEB5eTlefvll+5f0smXLnH7JL1myBHfeeaf9d5PJhHXr1mHz5s2Crc44lJwlUwzDOD37PZhkSqjXoS8dHR3Yu3cv3nvvPcTHx2PXrl14/vnn8cQTT3jUXzI6abVaFBcXw2QyCTJ/imVZxMfHo7i4WLDhZlqtFufPn0dAQAACAwMFaVNsQsaHkRaDCRETJVPEZ7Esi8TERFgsFsGuLEZERKCmpkaQtoCuFQijoqJQUVGB2NhYt/++e0Jl/vw5yDpNqDAr0KSdjPlP5giSSNnuZyBHjx7FrFmzoFQq7dvS0tKwb98+lJWVISYmBm+//faA7VgsFtx3331YuHAh5s6dO6h+D5czZ844/G61WpGcnIy//vWvmDhxomD3I9Tr0Jf8/HwwDIP4+HgAwG233YaNGzcOvuNk1NHr9ejo6EBbW5vDe9FT/v7+uOqqq2A2mwWJ593f51ar1e2TWd5IqPgwEmMwIWKiZKof3Vfzsy2peuLECTG7RDzQ2NgIiUQi6Nm1hoYGaDQawdrjeR7fffedx8kPH3g1SsJ+herTX0IRFIrEmb/Fhx9+2GuJeNv79/z5870SAKDrbK2nE71LSkpw0003OWyzHawUFRW5VFuJ4zhs2LAB11xzDVasWOFRP8TQ14GYrVbZcBrM6xAREYHCwkL7hP8vv/zS/rfO1NbWoq6urtd229LvhYWFnjwE4iM6OjpQWloKvV4v2OegqqoKSqVSkNVaga7v+YqKCsTFxTkkI7b3bl9lDAYTK8U0UHzQ6XRuxWCKAcSX2d6/7e3t/e5HyVQ/nK3mt2/fPuzbt0+kHhHiinrg+/6HZb366qt49dVXe21ft24d/vu//9ujezUajb2Gy9gWOTAajS61ceTIEXz66adISEjAv/71L3ufUlNTPerTaOTK67B69WqcPn0ajY2NmDlzJtLT05Geno7w8HA88MADWLFiBaRSKTQaDbZv397nfe3fv7/f+WJ0VYuMdFu2bHG6fTCxUkwDxQd3YzDFADIalJSUYMqUKX3eTslUPzIyMpCeng4A+L//+z88/PDDWLVqFcaPHz8s9282m/H4449j27ZtHg9rcLcNV/fvbz93b3N1W3l5OXbt2oX169cjOjrarefBU4N9Dbzt+a+vr8eOHTvw3HPPOa3dIvbKbTfeeCMKCgpE7cNo8Morr/R52x133IE77rjDpXYWLVrkdG7GyZMn8dRTT2H79u1ITEz0uJ/uaG1txV133YXs7GyPi3a724Yr+w+0T1+3u7O957bCwkJs3Lixz8/5UPC157+xsRErV67ESy+95HSRCrFj5VBxNwZTDKAYMFB/h7INV/fvb7/+brPFgWnTpvXfEZ645PTp07zBYOBPnz49bPfZ0tLCGwwGvqWlZdjacHX//vZz9zZXt43E12AkPP/uuummm/idO3f22n799dfzWVlZDttqa2t5g8HA//Of//T4/kaizs5OPiEhYUjfq978OozEz6onbbiy/0D79HW7O9t7bqPn3/V93H3+Rwqx4wO9B13fh2KA5214yzETXZkihAhCr9ejuLjYYVtRUREA9DvvxheUlZU5/G61WgEANTU1TufquTJ/zFOj+XUghPSP4gMhwqNkyovJZDKsW7duUHU13G3D1f3728/d21zdJobB9mMkPP9CSUlJwd69ex1W28rNzYVerx/S5MEbpKamOq091tcS6H1NahfCaH0dvDVeDrRPX7e7s90b4uVoef5HOl+OD6PlPUgxwP39h/qYieF5HywDPgTOnDmD22+/He+//76gSx0T19FrIJ6GhgYcP34cAPDUU09h2rRpuPXWW6FUKjFr1iz7PrfeeismTZqE5cuXIy8vDzt37kRmZqZHRXtHkgMHDri1/8KFCz26n5HyOtBnVVz0/I9O3hQf6D0oLnr+hxddmSKEDOj8+fNYv369/ffc3Fzk5uZCp9Ph8OHDAACNRoM9e/bg6aefxqpVqxAWFoZNmzb5fCIFeJ4cuYteB0JIXyg+ECIOujLlotraWuzfvx+LFi0akbUlfAG9BoSMDPRZFRc9/0Rs9B4UFz3/w4uSKUIIIYQQQgjxADvwLoQQQgghhBBCeqJkihBCCCGEEEI8QMkUIYQQQgghhHiAkimBHDt2DHPnzkVqaip27NghdndGnQcffBAzZsxAWlqa2F0hhPSDYqX4KF4SsVEcEBfFAGFRMiUAq9WKJ554Ai+//DJyc3ORl5eHo0ePit2tUWXRokV4/fXXxe4GIaQfFCu9A8VLIiaKA+KjGCCsUZ9MnTp1Cg8//DBSU1ORkJCAF154wel++fn5WLp0KZKTkzF79mxkZ2c7tBEVFQW9Xg+WZbFw4UIcOnRouB7CiCbE8w8A06dPR1BQ0HB0mZBRiWKl+CheErFRHBAXxQDvNOqTqRMnTuDkyZOYOnUqAgMDne7T0NCA9PR0qFQqZGVlYenSpdi+fTtycnIAANXV1YiMjLTvHxkZidra2uHo/ognxPNPCBl6FCvFR/GSiI3igLgoBngnqdgdENuyZcuwfPlyAMDs2bOd7rNv3z4wDINdu3ZBqVRixowZKC8vx8svv0xVwweJnn9CRgb6rIqPXgMiNnoPiouef+806q9MsezAT8HRo0cxa9YsKJVK+7a0tDSUlJSgrKwMERERqKqqst9WVVVFFaddJMTzTwgZehQrxUfxkoiN4oC4KAZ4p1GfTLmipKQE8fHxDttsvxcVFeHqq69GRUUFSkpKwHEcDhw4gDlz5ojRVZ800PNPCPEOFCvFR/GSiI3igLgoBgw/SqZcYDQae41NtU3cMxqNkEgk2Lp1K1avXo2bb74ZiYmJmDlzphhd9UkDPf8AsHr1aixevBhlZWWYOXMm9uzZM+z9JGS0o1gpPoqXRGwUB8RFMWD4jfo5U0JJSUnBwYMHxe7GqPXKK6+I3QVCiAsoVoqP4iURG8UBcVEMEBZdmXKBWq1GS0uLwzZbdq9Wq8Xo0qhCzz8hIwN9VsVHrwERG70HxUXP//CjZMoFer0excXFDtts4057jkslwqPnn5CRgT6r4qPXgIiN3oPioud/+FEy5YKUlBR88cUXMJvN9m25ubnQ6/WIiYkRsWejAz3/hIwM9FkVH70GRGz0HhQXPf/Db9QnUw0NDTh48CAOHjyItrY2FBcX4+DBg/jiiy/s+yxZsgQcx+H+++/HsWPH8MYbb2D//v247777ROy5b6Dnn5CRgT6r4qPXgIiN3oPiouffOzE8z/Nid0JM33zzDe6+++5e23U6HQ4fPmz/PT8/H08//TROnz6NsLAw3HPPPVi2bNlwdtUn0fNPyMhAn1Xx0WtAxEbvQXHR8++dRn0yRQghhBBCCCGeGPXD/AghhBBCCCHEE5RMEUIIIYQQQogHKJkihBBCCCGEEA9QMkUIIYQQQgghHqBkihBCCCGEEEI8QMkUIYQQQgghhHiAkilCCCGEEEII8QAlU4QQQgghhBDiAUqmCCGEEEIIIcQDlEwR4sUOHToEnuft/xJCCHGO4iUho5tYMYCSKUK8VGdnJ3bt2mX/lxBCiHMULwkZ3cSMAZRMEeKl8vLykJqaivz8fKSmpoJhGLG7RAghXoniJSGjm5gxgJIpQrzUd999h9tvv93+LyGEEOcoXhIyuokZAyiZGkLvv/8+EhIS7D9JSUm44YYbsH79ehQVFYndPbd0fyzFxcW9bj9+/Lj99q+++sqttnfv3o2EhAShuuqSxx57DAkJCdi+ffug2hG678888wwyMjIAABKJBLGxsfZ/bd58803MmzcPHMcJdr+EiI3ipWsoXl5B8dK3UAxwDcWAK7wlBlAyNQx27dqF/fv3Izs7Gxs2bEB+fj5WrFiBlpYWsbvmtoCAAHzwwQe9th84cAABAQEetfmb3/wG+/fvH2zXXGY2m/HJJ58AAD766CN0dnZ63JaQfS8tLcW7776LdevWAQCWL1/u8K/N4sWL0dDQgAMHDghyv4R4E4qX/aN42YXipe+iGNA/igFdvCkGUDI1DJKSkjBp0iRMnToVCxYswNatW1FTU4MTJ06I3TW33Xzzzfjwww8dVkkxm83Izc3FLbfc4lGbERERmDRpkkA9BCwWS7+3f/bZZzCZTJg1axbq6+vxr3/9y+P7ErLvb731FhISEnD11Vf3u59CocD8+fPx5z//WZD7JcSbULzsH8XLLhQvfRfFgP5RDOjiTTGAkikRqFQqAHDI7gsKCrB69WpMmzYNycnJWLx4Mb777juHv7t48SI2btyI2bNnIzk5Gb/4xS/w5JNPorm52WE/22XUwsJCrFy5EpMmTcKNN96I9957DwCQk5ODtLQ0TJ48GcuWLUNpaanLfZ8/fz4qKyvx/fff27d9+umn4HkeN998c6/9XelzX5d9jxw5gkWLFiE5ORlTp07FmjVrel3qt/3tuXPnsHLlSkyePBnr16/v9zEcOHAAQUFB2LFjBxQKRa+zFa2trUhLS8Ovf/1rdHR02LcfPXoUiYmJ2Lt3b599Ly4uxtq1azFjxgxcffXVuPHGG/Hb3/52wDM5FosFH374IebNm9fvfja33XYbLly4MCK/XAhxB8VLipc9UbwcXSgGUAzoydtiACVTw8BqtaKzsxMWiwWFhYXYuXMnQkNDMX36dADAmTNnsHjxYjQ3N2Pbtm3YvXs3goODsWLFCpw+fdreTm1tLSIjI7F582a88cYbWLt2Lb7++musWrXK6f3ef//9mDVrFl588UVMnDgRmzdvxs6dO/Huu+/ioYcewvbt21FcXIwNGza4/FiioqIwbdo0h8vWOTk5mDNnDvz9/Xvt726fbY4cOYKMjAz4+/vjhRdewNatW3H+/HksXboUNTU1vfZfs2YNpk2bhpdeegkrVqzos92amhocO3YMc+fOhUajwZw5c/D55587BCp/f3/s3LkTBQUF9uU1L126hEceeQQ33XQT7rzzzj7bz8jIQE1NDbZu3Yo33ngDGzZsgEwmG3Cs7r///W8YjUZMnTq13/1skpKSEBAQMKgzRIR4I4qXFC8pXo5uFAMoBoy4GMCTIfPee+/xBoOh109KSgp/8uRJ+3533303n5aWxre3t9u3dXZ28mlpafx9993XZ/sdHR38t99+yxsMBv7MmTP27f/zP//DGwwG/sCBA/ZtTU1NfFJSEn/dddfxLS0t9u1vvfUWbzAY+PLycpceS0lJCf+3v/2Nv/baa3mz2czX1NTwSUlJ/NGjR/mvv/6aNxgM/JdffulWn2397W7hwoV8amoq39HRYd9WWlrKT5gwgd++fXuvx/rmm2/223+bV199lTcYDPyJEyd4nuf5I0eO8AaDgX/nnXd67btnzx4+MTGR//LLL/l77rmHT0lJ4evr6x326d73+vp63mAw8J999plLfekuKyuLT0hIcHgPDGTJkiV8enq62/dFiDeieOlanyleUrz0VRQDXOszxQDviwHSoUnRSHcvvvgixowZA57nUVtbi71792LVqlXYu3cvdDodvv32W2RkZIBlWYdLm//xH/+B//3f/7X/brFY8Oc//xk5OTmorKxEe3u7/bbi4mJMmDDB4X5nzpxp/39QUBA0Gg0mTJhgv2QOAPHx8QCAqqoq6HQ6lx5PWloatm3bhsOHD6OyshJhYWGYMWMGvv322177uttnoOuScV5eHjIyMiCVXnmLxsTEYMqUKU7vJzU11aW+5+TkQK/XY/LkyQC6nuPw8HDk5ORgyZIlDvsuX74cX375JTIyMtDR0YE9e/ZAo9H02XZISAhiYmLw/PPPo76+Htdddx30er1L/aqtrYVKpYJMJnNpfwDQaDQoKSlxeX9CRgKKlxQvB0Lx0rdRDKAYMBBviwGUTA2D8ePHIy4uzv57SkoKZs2ahd27d+PRRx+F1WrFSy+9hJdeesnp33McB5ZlsXPnTmRnZ2PNmjWYPHkyAgICUFNTg3Xr1jl84GzUarXD7zKZrNc2Pz8/AANPQOxOpVJhzpw5+OCDD1BRUYF58+aBZZ2PGHW3zwBgNBrB8zzCw8N73RYWFoaKiope27Va7YD9PnXqFC5cuID/+q//gtFotG+/+eabkZ2djeLiYowdO9a+nWEYzJ8/H0eOHEFSUhJmzJjRb/sMw2DPnj3YvXs3nn/+eTQ1NSE6OhorV67E0qVL+/1bi8XiVlAAALlcDrPZ7NbfEOLtKF5SvKR4ObpRDKAYMNJiACVTIlAoFIiJicHZs2cRGBgIlmVx5513Yv78+U73t33o/vGPf2D+/PlYs2aN/bavv/56WPrc0/z585GRkQGO47Bz584+9/Okz2q1GgzDoK6urtdtly5dQnBwcK/trlS6zsnJAQC89tpreO2115ze/sADD9h/r6urQ2ZmJiZOnIi8vDy89dZbvZbc7CkmJga///3vwfM8CgoKkJ2djaeeego6nQ6zZs3q8++Cg4MdgpUrmpubERIS4tbfEDLSULykeNkTxcvRhWIAxYCevC0G0AIUImhra0NZWRk0Gg38/f1x7bXXoqCgABMnTsTVV1/d68fGbDY7XMIFugrDieHnP/855s6di8WLF2P8+PF97udJn/39/TFx4kQcPHgQVqvVvr2iogI//PADrrvuOrf7a7FY8NFHH+Gaa67BX/7yl14/SUlJDsuX8jyPTZs2QSaTYc+ePVi+fDn+8Ic/oKCgwKX7YxgGSUlJePTRRwEA58+f73f/+Ph4dHR0oLq62uXHVF5e7nBWiBBfRPGS4mVPFC9HF4oBFAN68rYYQFemhkF+fj4aGxvB8zzq6uqQnZ2NpqYm3HXXXQCATZs24a677sLKlSvx61//GlqtFo2NjcjLy4PVasVDDz0EALjhhhuQk5MDg8GAuLg4HDp0CD/88IMoj0kikfR7dsXG0z6vX78eGRkZyMjIwNKlS9Ha2ordu3dDpVIhPT3d7f5+8cUXaGpqwqZNm+wrAnW3aNEibN26Fd988w2uv/567NmzB1999RXeeustBAUFYcOGDTh+/Dg2bNiA9957DwqFolcbBQUFyMzMxK233oq4uDhYrVYcOHAAUqkU119/fb/9u/baawEAP/74IyIiIgZ8PEajESUlJVi5cqWLzwAhIwPFS4qXFC9HN4oBFANGWgygZGoYdF/DX6PRYPz48Xj99ddxww03AAAmTpyIv//97/jTn/6EZ555Bi0tLfaJj90n+D322GPgeR5//OMfAXRNlnz++efxm9/8Zlgfjzs87fPMmTORlZWFF198Effffz/8/Pxw3XXXYePGjRgzZozb/bBVG09LS3N6+3/+539ix44dyMnJQWBgIHbu3IlVq1bZz+jIZDI8//zzuP322/Hss8/iqaee6tWGVqtFVFQU3nzzTVRXV0Mul8NgMOCVV17Bz372s377Fx0djeTkZHz++edOa0/09M9//hN+fn6YM2eOC4+ekJGD4iXFS4qXoxvFAIoBIy0GMDzfrSwzISJ49tlnkZOTg2+++Ubsrojq/fffR2ZmJo4ePQqlUtnvvvfeey9CQkLw3HPPDVPvCCHegOJlF4qXZLSiGNDFm2IAzZkiomlqasLhw4fx6aefYtKkSWJ3R3S//OUvER4ejnfeeaff/fLz8/H1119j3bp1w9QzQojYKF46onhJRhuKAY68KQZQMkVE89133+HBBx+ETqfD5s2bxe6O6KRSKZ599lmnY4u7q6urw44dOxyWjiWE+DaKl44oXpLRhmKAI2+KATTMjxBCCCGEEEI8QFemCCGEEEIIIcQDlEwRQgghhBBCiAcomSKEEEIIIYQQD1AyRQghhBBCCCEeoGSKEEIIIYQQQjxAyRQhhBBCCCGEeICSKUIIIYQQQgjxACVThBBCCCGEEOIBSqYIIYQQQgghxAOUTBFCCCGEEEKIByiZIoQQQgghhBAPUDJFCCGEEEIIIR74fw5bFYq4x0RtAAAAAElFTkSuQmCC\n",
      "text/plain": [
       "<Figure size 840x320 with 4 Axes>"
      ]
     },
     "metadata": {},
     "output_type": "display_data"
    }
   ],
   "source": [
    "\n",
    "fig, axs = plt.subplots(1, 3, sharex=True, figsize=(8.4, 3.2),\n",
    "                        layout='constrained')\n",
    "\n",
    "\n",
    "lines = []\n",
    "labels = []\n",
    "\n",
    "rep_vel = 10 # * km/s\n",
    "\n",
    "markers = ['o', 's', 'd', 'D', 'H', 'h', 'p', 'X']\n",
    "\n",
    "for this_config, this_marker in zip(configs + config_combos, markers):\n",
    "\n",
    "    these_major_arcsec = [beams[this_config][this_weight].major.to(u.arcsec).value\n",
    "                          for this_weight in weightings]\n",
    "\n",
    "    these_beam_areas = np.array([beam_phys_size(beams[this_config][this_weight], distance).to(u.pc**2).value\n",
    "                                 for this_weight in weightings]) * u.pc**2\n",
    "    these_rms_K = np.array([rms_K[this_config][this_weight]  \n",
    "                            for this_weight in weightings])\n",
    "\n",
    "    rms_per0p4 = these_rms_K * np.sqrt(chan_width.value / 0.42)\n",
    "    \n",
    "    lines.append(axs[0].loglog(these_major_arcsec, rms_per0p4, f\"{this_marker}-\", label=this_config,\n",
    "                               markersize=8, markeredgecolor='k', markeredgewidth=0.1, alpha=0.8)[0])\n",
    "    labels.append(this_config)\n",
    "\n",
    "    rms_10kms = these_rms_K / np.sqrt(rep_vel / chan_width)\n",
    "    coldens = 1.82e18 * rms_10kms.value * rep_vel * u.cm**-2\n",
    "    axs[1].loglog(these_major_arcsec, coldens, \n",
    "                  f\"{this_marker}-\", label=this_config,\n",
    "                  markersize=8, markeredgecolor='k', markeredgewidth=0.1, alpha=0.8)\n",
    "\n",
    "\n",
    "    hi_mass_sensitivity = c.m_p.to(u.solMass) * (coldens * these_beam_areas).to(u.one)\n",
    "    axs[2].loglog(these_major_arcsec, hi_mass_sensitivity.value, \n",
    "                  f\"{this_marker}-\", label=this_config,\n",
    "                  markersize=8, markeredgecolor='k', markeredgewidth=0.1, alpha=0.8)\n",
    "\n",
    "    \n",
    "# Show the scaling from simply smoothing\n",
    "scaling_beams = np.logspace(0, 2, 10)\n",
    "\n",
    "for noise_scale in np.logspace(np.log10(100), np.log10(5000), 5):\n",
    "    axs[0].loglog(scaling_beams, noise_scale / scaling_beams**2,\n",
    "                  linestyle='--', color='k', alpha=0.25, linewidth=0.5, markersize=8,\n",
    "                  zorder=-1)\n",
    "\n",
    "    rms_10kms = noise_scale / np.sqrt(rep_vel / chan_width)\n",
    "    coldens = 1.82e18 * rms_10kms * rep_vel\n",
    "    \n",
    "    axs[1].loglog(scaling_beams, \n",
    "                  coldens / scaling_beams**2, \n",
    "                  linestyle='--', color='k', alpha=0.25, linewidth=0.5,\n",
    "                  zorder=-1)\n",
    "\n",
    "\n",
    "# Move to outside the panels\n",
    "# axs[0].legend(fontsize=10, ncol=2)\n",
    "\n",
    "# axs[0].set_ylabel(f\"HI rms (K) per {chan_width.value:.1f}\" + r\"km s$^{-1}$\")\n",
    "# axs[0].set_ylabel(\"HI rms (K) per 0.4\" + r\" km s$^{-1}$\")\n",
    "axs[0].set_ylabel(\"HI rms (K) per 0.4 km s$^{-1}$\")\n",
    "\n",
    "# axs[0].text(0.95, 0.9, 'per 0.4 km s$^{-1}$', \n",
    "#         transform=axs[0].transAxes, \n",
    "#         horizontalalignment='right', \n",
    "#         verticalalignment='center',\n",
    "#         bbox=dict(boxstyle=\"round,pad=0.3\", edgecolor='black', facecolor='white', linewidth=1))\n",
    "\n",
    "axs[1].set_ylabel(\"HI rms column density (cm$^{-2}$)\")\n",
    "# over 10 km s$^{-1}$\", nrow=2)\n",
    "axs[1].text(0.95, 0.9, 'per 10 km s$^{-1}$', \n",
    "        transform=axs[1].transAxes, \n",
    "        horizontalalignment='right', \n",
    "        verticalalignment='center',\n",
    "        bbox=dict(boxstyle=\"round,pad=0.3\", edgecolor='black', facecolor='white', linewidth=1))\n",
    "\n",
    "axs[2].set_ylabel(\"M$_\\mathrm{HI}$ (M$_{\\odot}$) per 10 km s$^{-1}$\")\n",
    "# axs[2].text(0.95, 0.9, 'per 10 km s$^{-1}$', \n",
    "#         transform=axs[2].transAxes, \n",
    "#         horizontalalignment='right', \n",
    "#         verticalalignment='center',\n",
    "#         bbox=dict(boxstyle=\"round,pad=0.3\", edgecolor='black', facecolor='white', linewidth=1))\n",
    "\n",
    "axs[0].set_xlabel(\"Beam Major Axis ($^{''}$)\")\n",
    "axs[1].set_xlabel(\"Beam Major Axis ($^{''}$)\")\n",
    "axs[2].set_xlabel(\"Beam Major Axis ($^{''}$)\")\n",
    "\n",
    "axs[0].set_xlim([1, 70])\n",
    "\n",
    "axs[0].set_ylim([0.5, 800])\n",
    "axs[1].set_ylim([1e18, 5e21])\n",
    "axs[2].set_ylim([1e2, 5e3])\n",
    "\n",
    "# axs[1].tick_params(labeltop=True, top=True)\n",
    "axs[1].xaxis.set_tick_params(which='both', top=True)\n",
    "axs[1].yaxis.set_tick_params(which='both', right=True)\n",
    "\n",
    "# axs[0].axvline(60, color='k')\n",
    "# axs[1].axvline(60, color='k')\n",
    "\n",
    "# High-res target is 1e20 @ 7 km/s. Convert to equivalent over 10 km/s\n",
    "# axs[1].axvline(4.5, color='k')\n",
    "# axs[1].axhline(1e20 * (7 / 10), color='k')\n",
    "\n",
    "axs[1].plot([4.5] * 2, [1e20 * (7 / 10), 1e22], 'k', zorder=2, alpha=0.25, linewidth=5)\n",
    "axs[1].plot([1, 4.5], [1e20 * (7 / 10)] * 2, 'k', zorder=2, alpha=0.25, linewidth=5)\n",
    "# axs[1].text(1.1, 5e19, r\"$7\\times10^{19}$ cm$^{-2}$\", va='top', ha='left')\n",
    "axs[1].text(4.5, 1e22, r\"$4.5^{''}$\", va='center', ha='center', rotation=0)\n",
    "\n",
    "\n",
    "# High-res target is 1e20 @ 7 km/s. Convert to equivalent over 10 km/s\n",
    "# axs[1].axvline(48.6, color='k')\n",
    "# axs[1].axhline(3.2e18 * (20 / 10), color='k')\n",
    "\n",
    "axs[1].plot([48.6] * 2, [3.2e18 * (20 / 10), 1e22], 'k', zorder=2, alpha=0.25, linewidth=5)\n",
    "axs[1].plot([1, 48.6], [3.2e18 * (20 / 10)] * 2, 'k', zorder=2, alpha=0.25, linewidth=5)\n",
    "# axs[1].text(1.1, 5e18, r\"$6\\times10^{18}$ cm$^{-2}$\", va='top', ha='left')\n",
    "axs[1].text(48.6, 1e22, r\"$48.6^{''}$\", va='center', ha='center', rotation=0)\n",
    "\n",
    "\n",
    "# Manually give the equivalent rms per 10 km/s\n",
    "scale_factor = np.sqrt(10 / 0.4)\n",
    "ax2 = axs[0].twinx()\n",
    "yticks_ax1 = axs[0].get_yticks()\n",
    "ax2.set_yscale('log')\n",
    "\n",
    "# ax2.set_yticks([val/scale_factor for val in yticks_ax1])\n",
    "ax2.set_ylim([0.5 / scale_factor, 800 / scale_factor])\n",
    "ax2.set_yticks([1.e-2, 1e-1, 1, 1e1, 1e2])\n",
    "\n",
    "print([yticks_ax1[0] / scale_factor, yticks_ax1[-1] / scale_factor])\n",
    "print([yticks_ax1[0], yticks_ax1[-1]])\n",
    "\n",
    "# ax2.set_yticklabels([f\"{val/scale_factor:.1f}\" for val in yticks_ax1])\n",
    "\n",
    "ax2.set_ylabel(\"HI rms (K) per 10 km s$^{-1}$\")\n",
    "\n",
    "\n",
    "fig.legend(lines, labels,\n",
    "           fontsize=11, ncol=4,\n",
    "           bbox_to_anchor=(0.82, 1.2),)\n",
    "\n",
    "# Adjust figure to make room for the legend\n",
    "# plt.subplots_adjust(right=0.85)\n",
    "\n",
    "plt.savefig(\"figures/ic10ctr_beam_vs_noise.pdf\", bbox_inches='tight')\n"
>>>>>>> 24ab4b9 (Long overdue update, including foreground separation, feathering scripts, rms estimation, and cluster imaging)
   ]
  },
  {
   "cell_type": "code",
   "execution_count": null,
<<<<<<< HEAD
   "id": "98356694-3839-4021-9a0e-cdd632a94bcf",
=======
   "id": "cdde6f38-1505-419e-90a2-e87e49ae4a4e",
   "metadata": {},
   "outputs": [],
   "source": []
  },
  {
   "cell_type": "code",
   "execution_count": null,
   "id": "75329878-01d1-4e33-928e-de6cef5c783a",
>>>>>>> 24ab4b9 (Long overdue update, including foreground separation, feathering scripts, rms estimation, and cluster imaging)
   "metadata": {},
   "outputs": [],
   "source": []
  }
 ],
 "metadata": {
  "kernelspec": {
   "display_name": "Python 3 (ipykernel)",
   "language": "python",
   "name": "python3"
  },
  "language_info": {
   "codemirror_mode": {
    "name": "ipython",
    "version": 3
   },
   "file_extension": ".py",
   "mimetype": "text/x-python",
   "name": "python",
   "nbconvert_exporter": "python",
   "pygments_lexer": "ipython3",
   "version": "3.10.8"
  }
 },
 "nbformat": 4,
 "nbformat_minor": 5
}
